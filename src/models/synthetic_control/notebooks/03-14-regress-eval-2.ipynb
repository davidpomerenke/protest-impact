{
 "cells": [
  {
   "cell_type": "code",
   "execution_count": 1,
   "metadata": {},
   "outputs": [],
   "source": [
    "%load_ext autoreload\n",
    "%autoreload complete"
   ]
  },
  {
   "cell_type": "code",
   "execution_count": 2,
   "metadata": {},
   "outputs": [],
   "source": [
    "from src.data.protests.sources.acled import load_acled\n",
    "\n",
    "acled = load_acled()\n",
    "from src.data.news.sources.mediacloud import newspapers_by_region\n",
    "\n",
    "acled = acled[acled[\"admin1\"].isin(newspapers_by_region.keys())]\n",
    "climate_actors = [\n",
    "    \"FFF: Fridays for Future\",\n",
    "    \"FFF: Fridays for Future; Students (Germany)\",\n",
    "    # \"ALG: Uprising of the Last Generation (Germany)\",\n",
    "    # \"Extinction Rebellion\",\n",
    "    # \"Ende Gelaende\",\n",
    "]\n",
    "acled = acled[acled[\"assoc_actor_1\"].isin(climate_actors)]\n",
    "acled = acled[\n",
    "    (acled[\"event_date\"] >= \"2020-07-01\") & (acled[\"event_date\"] < \"2022-07-01\")\n",
    "]"
   ]
  },
  {
   "cell_type": "code",
   "execution_count": 3,
   "metadata": {},
   "outputs": [
    {
     "data": {
      "text/html": [
       "<div>\n",
       "<style scoped>\n",
       "    .dataframe tbody tr th:only-of-type {\n",
       "        vertical-align: middle;\n",
       "    }\n",
       "\n",
       "    .dataframe tbody tr th {\n",
       "        vertical-align: top;\n",
       "    }\n",
       "\n",
       "    .dataframe thead th {\n",
       "        text-align: right;\n",
       "    }\n",
       "</style>\n",
       "<table border=\"1\" class=\"dataframe\">\n",
       "  <thead>\n",
       "    <tr style=\"text-align: right;\">\n",
       "      <th>region</th>\n",
       "      <th>Bayern</th>\n",
       "      <th>Berlin</th>\n",
       "      <th>Brandenburg</th>\n",
       "      <th>Bremen</th>\n",
       "      <th>Hamburg</th>\n",
       "      <th>Hessen</th>\n",
       "      <th>Niedersachsen</th>\n",
       "      <th>Nordrhein-Westfalen</th>\n",
       "      <th>Rheinland-Pfalz</th>\n",
       "      <th>Saarland</th>\n",
       "      <th>Sachsen</th>\n",
       "      <th>Sachsen-Anhalt</th>\n",
       "      <th>Schleswig-Holstein</th>\n",
       "      <th>Thüringen</th>\n",
       "    </tr>\n",
       "    <tr>\n",
       "      <th>date</th>\n",
       "      <th></th>\n",
       "      <th></th>\n",
       "      <th></th>\n",
       "      <th></th>\n",
       "      <th></th>\n",
       "      <th></th>\n",
       "      <th></th>\n",
       "      <th></th>\n",
       "      <th></th>\n",
       "      <th></th>\n",
       "      <th></th>\n",
       "      <th></th>\n",
       "      <th></th>\n",
       "      <th></th>\n",
       "    </tr>\n",
       "  </thead>\n",
       "  <tbody>\n",
       "    <tr>\n",
       "      <th>2022-09-24</th>\n",
       "      <td>15</td>\n",
       "      <td>4</td>\n",
       "      <td>1</td>\n",
       "      <td>0</td>\n",
       "      <td>5</td>\n",
       "      <td>38</td>\n",
       "      <td>5</td>\n",
       "      <td>24</td>\n",
       "      <td>5</td>\n",
       "      <td>2</td>\n",
       "      <td>3</td>\n",
       "      <td>0</td>\n",
       "      <td>2</td>\n",
       "      <td>0</td>\n",
       "    </tr>\n",
       "    <tr>\n",
       "      <th>2022-04-02</th>\n",
       "      <td>10</td>\n",
       "      <td>4</td>\n",
       "      <td>1</td>\n",
       "      <td>0</td>\n",
       "      <td>0</td>\n",
       "      <td>7</td>\n",
       "      <td>14</td>\n",
       "      <td>17</td>\n",
       "      <td>1</td>\n",
       "      <td>0</td>\n",
       "      <td>2</td>\n",
       "      <td>0</td>\n",
       "      <td>2</td>\n",
       "      <td>0</td>\n",
       "    </tr>\n",
       "    <tr>\n",
       "      <th>2022-03-26</th>\n",
       "      <td>47</td>\n",
       "      <td>9</td>\n",
       "      <td>4</td>\n",
       "      <td>1</td>\n",
       "      <td>8</td>\n",
       "      <td>21</td>\n",
       "      <td>33</td>\n",
       "      <td>79</td>\n",
       "      <td>1</td>\n",
       "      <td>1</td>\n",
       "      <td>6</td>\n",
       "      <td>0</td>\n",
       "      <td>5</td>\n",
       "      <td>0</td>\n",
       "    </tr>\n",
       "    <tr>\n",
       "      <th>2022-01-05</th>\n",
       "      <td>0</td>\n",
       "      <td>0</td>\n",
       "      <td>0</td>\n",
       "      <td>0</td>\n",
       "      <td>0</td>\n",
       "      <td>0</td>\n",
       "      <td>0</td>\n",
       "      <td>1</td>\n",
       "      <td>0</td>\n",
       "      <td>0</td>\n",
       "      <td>0</td>\n",
       "      <td>0</td>\n",
       "      <td>0</td>\n",
       "      <td>0</td>\n",
       "    </tr>\n",
       "    <tr>\n",
       "      <th>2022-09-08</th>\n",
       "      <td>38</td>\n",
       "      <td>19</td>\n",
       "      <td>2</td>\n",
       "      <td>3</td>\n",
       "      <td>10</td>\n",
       "      <td>31</td>\n",
       "      <td>14</td>\n",
       "      <td>38</td>\n",
       "      <td>3</td>\n",
       "      <td>0</td>\n",
       "      <td>5</td>\n",
       "      <td>0</td>\n",
       "      <td>2</td>\n",
       "      <td>0</td>\n",
       "    </tr>\n",
       "  </tbody>\n",
       "</table>\n",
       "</div>"
      ],
      "text/plain": [
       "region      Bayern  Berlin  Brandenburg  Bremen  Hamburg  Hessen  \\\n",
       "date                                                               \n",
       "2022-09-24      15       4            1       0        5      38   \n",
       "2022-04-02      10       4            1       0        0       7   \n",
       "2022-03-26      47       9            4       1        8      21   \n",
       "2022-01-05       0       0            0       0        0       0   \n",
       "2022-09-08      38      19            2       3       10      31   \n",
       "\n",
       "region      Niedersachsen  Nordrhein-Westfalen  Rheinland-Pfalz  Saarland  \\\n",
       "date                                                                        \n",
       "2022-09-24              5                   24                5         2   \n",
       "2022-04-02             14                   17                1         0   \n",
       "2022-03-26             33                   79                1         1   \n",
       "2022-01-05              0                    1                0         0   \n",
       "2022-09-08             14                   38                3         0   \n",
       "\n",
       "region      Sachsen  Sachsen-Anhalt  Schleswig-Holstein  Thüringen  \n",
       "date                                                                \n",
       "2022-09-24        3               0                   2          0  \n",
       "2022-04-02        2               0                   2          0  \n",
       "2022-03-26        6               0                   5          0  \n",
       "2022-01-05        0               0                   0          0  \n",
       "2022-09-08        5               0                   2          0  "
      ]
     },
     "execution_count": 3,
     "metadata": {},
     "output_type": "execute_result"
    }
   ],
   "source": [
    "from src.models.synthetic_region import get_regional_counts_for_protest\n",
    "\n",
    "df = get_regional_counts_for_protest(\n",
    "    \"klimaschutz\",\n",
    "    list(acled.itertuples())[0],\n",
    "    acled,\n",
    "    n_days=7 * 4 * 6,\n",
    "    source=\"mediacloud\",\n",
    ")\n",
    "df = df.pivot(index=\"date\", columns=\"region\", values=\"count\")\n",
    "df.sample(5)"
   ]
  },
  {
   "cell_type": "code",
   "execution_count": 4,
   "metadata": {},
   "outputs": [
    {
     "data": {
      "application/vnd.jupyter.widget-view+json": {
       "model_id": "aa5f23e2221c4189b7fd6b5544914e95",
       "version_major": 2,
       "version_minor": 0
      },
      "text/plain": [
       "  0%|          | 0/1366818 [00:00<?, ?it/s]"
      ]
     },
     "metadata": {},
     "output_type": "display_data"
    }
   ],
   "source": [
    "from src.data.news.sources.dereko import get_scraped_entries\n",
    "\n",
    "dereko_entries = get_scraped_entries(\"klimaschutz\")"
   ]
  },
  {
   "cell_type": "code",
   "execution_count": 5,
   "metadata": {},
   "outputs": [
    {
     "data": {
      "text/html": [
       "<div>\n",
       "<style scoped>\n",
       "    .dataframe tbody tr th:only-of-type {\n",
       "        vertical-align: middle;\n",
       "    }\n",
       "\n",
       "    .dataframe tbody tr th {\n",
       "        vertical-align: top;\n",
       "    }\n",
       "\n",
       "    .dataframe thead th {\n",
       "        text-align: right;\n",
       "    }\n",
       "</style>\n",
       "<table border=\"1\" class=\"dataframe\">\n",
       "  <thead>\n",
       "    <tr style=\"text-align: right;\">\n",
       "      <th>region</th>\n",
       "      <th>Baden-Württemberg</th>\n",
       "      <th>Bayern</th>\n",
       "      <th>Berlin</th>\n",
       "      <th>Brandenburg</th>\n",
       "      <th>Bremen</th>\n",
       "      <th>Hamburg</th>\n",
       "      <th>Hessen</th>\n",
       "      <th>Mecklenburg-Vorpommern</th>\n",
       "      <th>Niedersachsen</th>\n",
       "      <th>Nordrhein-Westfalen</th>\n",
       "      <th>Rheinland-Pfalz</th>\n",
       "      <th>Saarland</th>\n",
       "      <th>Sachsen</th>\n",
       "      <th>Sachsen-Anhalt</th>\n",
       "      <th>Schleswig-Holstein</th>\n",
       "      <th>Thüringen</th>\n",
       "    </tr>\n",
       "    <tr>\n",
       "      <th>date</th>\n",
       "      <th></th>\n",
       "      <th></th>\n",
       "      <th></th>\n",
       "      <th></th>\n",
       "      <th></th>\n",
       "      <th></th>\n",
       "      <th></th>\n",
       "      <th></th>\n",
       "      <th></th>\n",
       "      <th></th>\n",
       "      <th></th>\n",
       "      <th></th>\n",
       "      <th></th>\n",
       "      <th></th>\n",
       "      <th></th>\n",
       "      <th></th>\n",
       "    </tr>\n",
       "  </thead>\n",
       "  <tbody>\n",
       "    <tr>\n",
       "      <th>2022-03-27</th>\n",
       "      <td>0.0</td>\n",
       "      <td>0.0</td>\n",
       "      <td>15.0</td>\n",
       "      <td>0.0</td>\n",
       "      <td>0.0</td>\n",
       "      <td>0.0</td>\n",
       "      <td>0.0</td>\n",
       "      <td>0.0</td>\n",
       "      <td>0.0</td>\n",
       "      <td>0.0</td>\n",
       "      <td>0.0</td>\n",
       "      <td>0.0</td>\n",
       "      <td>0.0</td>\n",
       "      <td>0.0</td>\n",
       "      <td>0.0</td>\n",
       "      <td>0.0</td>\n",
       "    </tr>\n",
       "    <tr>\n",
       "      <th>2022-03-28</th>\n",
       "      <td>13.0</td>\n",
       "      <td>17.0</td>\n",
       "      <td>6.0</td>\n",
       "      <td>8.0</td>\n",
       "      <td>0.0</td>\n",
       "      <td>0.0</td>\n",
       "      <td>18.0</td>\n",
       "      <td>11.0</td>\n",
       "      <td>1.0</td>\n",
       "      <td>58.0</td>\n",
       "      <td>36.0</td>\n",
       "      <td>0.0</td>\n",
       "      <td>3.0</td>\n",
       "      <td>0.0</td>\n",
       "      <td>0.0</td>\n",
       "      <td>0.0</td>\n",
       "    </tr>\n",
       "    <tr>\n",
       "      <th>2022-11-01</th>\n",
       "      <td>30.0</td>\n",
       "      <td>111.0</td>\n",
       "      <td>49.0</td>\n",
       "      <td>49.0</td>\n",
       "      <td>0.0</td>\n",
       "      <td>2.0</td>\n",
       "      <td>94.0</td>\n",
       "      <td>7.0</td>\n",
       "      <td>13.0</td>\n",
       "      <td>96.0</td>\n",
       "      <td>18.0</td>\n",
       "      <td>0.0</td>\n",
       "      <td>5.0</td>\n",
       "      <td>0.0</td>\n",
       "      <td>0.0</td>\n",
       "      <td>0.0</td>\n",
       "    </tr>\n",
       "    <tr>\n",
       "      <th>2022-02-20</th>\n",
       "      <td>0.0</td>\n",
       "      <td>0.0</td>\n",
       "      <td>1.0</td>\n",
       "      <td>0.0</td>\n",
       "      <td>0.0</td>\n",
       "      <td>0.0</td>\n",
       "      <td>0.0</td>\n",
       "      <td>0.0</td>\n",
       "      <td>0.0</td>\n",
       "      <td>0.0</td>\n",
       "      <td>0.0</td>\n",
       "      <td>0.0</td>\n",
       "      <td>0.0</td>\n",
       "      <td>0.0</td>\n",
       "      <td>0.0</td>\n",
       "      <td>0.0</td>\n",
       "    </tr>\n",
       "    <tr>\n",
       "      <th>2022-04-11</th>\n",
       "      <td>7.0</td>\n",
       "      <td>31.0</td>\n",
       "      <td>5.0</td>\n",
       "      <td>8.0</td>\n",
       "      <td>0.0</td>\n",
       "      <td>3.0</td>\n",
       "      <td>87.0</td>\n",
       "      <td>11.0</td>\n",
       "      <td>6.0</td>\n",
       "      <td>33.0</td>\n",
       "      <td>23.0</td>\n",
       "      <td>0.0</td>\n",
       "      <td>2.0</td>\n",
       "      <td>0.0</td>\n",
       "      <td>0.0</td>\n",
       "      <td>0.0</td>\n",
       "    </tr>\n",
       "  </tbody>\n",
       "</table>\n",
       "</div>"
      ],
      "text/plain": [
       "region      Baden-Württemberg  Bayern  Berlin  Brandenburg  Bremen  Hamburg  \\\n",
       "date                                                                          \n",
       "2022-03-27                0.0     0.0    15.0          0.0     0.0      0.0   \n",
       "2022-03-28               13.0    17.0     6.0          8.0     0.0      0.0   \n",
       "2022-11-01               30.0   111.0    49.0         49.0     0.0      2.0   \n",
       "2022-02-20                0.0     0.0     1.0          0.0     0.0      0.0   \n",
       "2022-04-11                7.0    31.0     5.0          8.0     0.0      3.0   \n",
       "\n",
       "region      Hessen  Mecklenburg-Vorpommern  Niedersachsen  \\\n",
       "date                                                        \n",
       "2022-03-27     0.0                     0.0            0.0   \n",
       "2022-03-28    18.0                    11.0            1.0   \n",
       "2022-11-01    94.0                     7.0           13.0   \n",
       "2022-02-20     0.0                     0.0            0.0   \n",
       "2022-04-11    87.0                    11.0            6.0   \n",
       "\n",
       "region      Nordrhein-Westfalen  Rheinland-Pfalz  Saarland  Sachsen  \\\n",
       "date                                                                  \n",
       "2022-03-27                  0.0              0.0       0.0      0.0   \n",
       "2022-03-28                 58.0             36.0       0.0      3.0   \n",
       "2022-11-01                 96.0             18.0       0.0      5.0   \n",
       "2022-02-20                  0.0              0.0       0.0      0.0   \n",
       "2022-04-11                 33.0             23.0       0.0      2.0   \n",
       "\n",
       "region      Sachsen-Anhalt  Schleswig-Holstein  Thüringen  \n",
       "date                                                       \n",
       "2022-03-27             0.0                 0.0        0.0  \n",
       "2022-03-28             0.0                 0.0        0.0  \n",
       "2022-11-01             0.0                 0.0        0.0  \n",
       "2022-02-20             0.0                 0.0        0.0  \n",
       "2022-04-11             0.0                 0.0        0.0  "
      ]
     },
     "execution_count": 5,
     "metadata": {},
     "output_type": "execute_result"
    }
   ],
   "source": [
    "from src.models.synthetic_region import get_regional_counts_for_protest\n",
    "\n",
    "df = get_regional_counts_for_protest(\n",
    "    \"klimaschutz\",\n",
    "    list(acled.itertuples())[0],\n",
    "    acled,\n",
    "    n_days=7 * 4 * 6,\n",
    "    source=\"dereko_scrape\",\n",
    "    dereko_entries=dereko_entries,\n",
    ")\n",
    "df = df.pivot(index=\"date\", columns=\"region\", values=\"count\").fillna(0)\n",
    "df.sample(5)"
   ]
  },
  {
   "cell_type": "code",
   "execution_count": 6,
   "metadata": {},
   "outputs": [],
   "source": [
    "import pandas as pd\n",
    "from tqdm.notebook import tqdm\n",
    "\n",
    "from src.models.synthetic_region import synthetic_region\n",
    "\n",
    "\n",
    "def evaluate_multiple_protests(term, protests, source=\"mediacloud\", **kwargs):\n",
    "    metrics_list = []\n",
    "    agg_df = pd.DataFrame()\n",
    "    for protest in tqdm(list(protests.itertuples())):\n",
    "        df = get_regional_counts_for_protest(\n",
    "            term,\n",
    "            protest,\n",
    "            acled,\n",
    "            n_days=7 * 4 * 6,\n",
    "            source=source,\n",
    "            n_protest_free_days=5,\n",
    "            **kwargs\n",
    "        )\n",
    "        if df[\"count\"][df[\"is_protest_region\"]].sum() == 0:\n",
    "            continue\n",
    "        metrics, _, count_df = synthetic_region(df)\n",
    "        metrics_list.append(metrics)\n",
    "        # make date relative to the protest date\n",
    "        count_df[\"date\"] = (count_df[\"date\"] - df[\"date\"].median()).dt.days\n",
    "        agg_df = pd.concat([agg_df, count_df])\n",
    "    metrics = pd.DataFrame(metrics_list)\n",
    "    agg_df = agg_df.groupby(\"date\").mean().reset_index()\n",
    "    return metrics, agg_df"
   ]
  },
  {
   "cell_type": "code",
   "execution_count": 7,
   "metadata": {},
   "outputs": [
    {
     "data": {
      "application/vnd.jupyter.widget-view+json": {
       "model_id": "d30310a393aa4df1b04341121fe5c519",
       "version_major": 2,
       "version_minor": 0
      },
      "text/plain": [
       "  0%|          | 0/350 [00:00<?, ?it/s]"
      ]
     },
     "metadata": {},
     "output_type": "display_data"
    },
    {
     "data": {
      "text/html": [
       "<div>\n",
       "<style scoped>\n",
       "    .dataframe tbody tr th:only-of-type {\n",
       "        vertical-align: middle;\n",
       "    }\n",
       "\n",
       "    .dataframe tbody tr th {\n",
       "        vertical-align: top;\n",
       "    }\n",
       "\n",
       "    .dataframe thead th {\n",
       "        text-align: right;\n",
       "    }\n",
       "</style>\n",
       "<table border=\"1\" class=\"dataframe\">\n",
       "  <thead>\n",
       "    <tr style=\"text-align: right;\">\n",
       "      <th></th>\n",
       "      <th>date</th>\n",
       "      <th>real</th>\n",
       "      <th>synth_mean</th>\n",
       "      <th>synth_lasso</th>\n",
       "    </tr>\n",
       "  </thead>\n",
       "  <tbody>\n",
       "    <tr>\n",
       "      <th>0</th>\n",
       "      <td>-84</td>\n",
       "      <td>0.810325</td>\n",
       "      <td>0.876991</td>\n",
       "      <td>0.616363</td>\n",
       "    </tr>\n",
       "    <tr>\n",
       "      <th>1</th>\n",
       "      <td>-83</td>\n",
       "      <td>0.438764</td>\n",
       "      <td>0.459828</td>\n",
       "      <td>0.442123</td>\n",
       "    </tr>\n",
       "    <tr>\n",
       "      <th>2</th>\n",
       "      <td>-82</td>\n",
       "      <td>0.549971</td>\n",
       "      <td>0.565563</td>\n",
       "      <td>0.501231</td>\n",
       "    </tr>\n",
       "    <tr>\n",
       "      <th>3</th>\n",
       "      <td>-81</td>\n",
       "      <td>0.751000</td>\n",
       "      <td>0.559149</td>\n",
       "      <td>0.636467</td>\n",
       "    </tr>\n",
       "    <tr>\n",
       "      <th>4</th>\n",
       "      <td>-80</td>\n",
       "      <td>0.920429</td>\n",
       "      <td>1.437342</td>\n",
       "      <td>0.959252</td>\n",
       "    </tr>\n",
       "  </tbody>\n",
       "</table>\n",
       "</div>"
      ],
      "text/plain": [
       "   date      real  synth_mean  synth_lasso\n",
       "0   -84  0.810325    0.876991     0.616363\n",
       "1   -83  0.438764    0.459828     0.442123\n",
       "2   -82  0.549971    0.565563     0.501231\n",
       "3   -81  0.751000    0.559149     0.636467\n",
       "4   -80  0.920429    1.437342     0.959252"
      ]
     },
     "execution_count": 7,
     "metadata": {},
     "output_type": "execute_result"
    }
   ],
   "source": [
    "_, mediacloud_agg_df = evaluate_multiple_protests(\n",
    "    \"klimaschutz\", acled, source=\"mediacloud\"\n",
    ")\n",
    "mediacloud_agg_df.head()"
   ]
  },
  {
   "cell_type": "code",
   "execution_count": 8,
   "metadata": {},
   "outputs": [
    {
     "data": {
      "text/plain": [
       "<Axes: >"
      ]
     },
     "execution_count": 8,
     "metadata": {},
     "output_type": "execute_result"
    },
    {
     "data": {
      "image/png": "[encoded data removed]",
      "text/plain": [
       "<Figure size 1000x200 with 1 Axes>"
      ]
     },
     "metadata": {},
     "output_type": "display_data"
    }
   ],
   "source": [
    "import matplotlib.pyplot as plt\n",
    "\n",
    "from src.data.news.visual import plot_coverage_sequence\n",
    "\n",
    "fig, ax = plt.subplots(figsize=(10, 2))\n",
    "plot_coverage_sequence(\n",
    "    mediacloud_agg_df.rename(columns={\"real\": \"count\"}),\n",
    "    relative_dates=True,\n",
    "    ax=ax,\n",
    "    label=\"real\",\n",
    "    alpha=0.5,\n",
    "    show_midpoint=False,\n",
    ")\n",
    "plot_coverage_sequence(\n",
    "    mediacloud_agg_df.rename(columns={\"synth_mean\": \"count\"}),\n",
    "    relative_dates=True,\n",
    "    ax=ax,\n",
    "    label=\"synth_mean\",\n",
    "    alpha=0.5,\n",
    "    show_midpoint=False,\n",
    ")"
   ]
  },
  {
   "cell_type": "code",
   "execution_count": 9,
   "metadata": {},
   "outputs": [
    {
     "data": {
      "text/plain": [
       "<Axes: >"
      ]
     },
     "execution_count": 9,
     "metadata": {},
     "output_type": "execute_result"
    },
    {
     "data": {
      "image/png": "[encoded data removed]",
      "text/plain": [
       "<Figure size 1000x200 with 1 Axes>"
      ]
     },
     "metadata": {},
     "output_type": "display_data"
    }
   ],
   "source": [
    "fig, ax = plt.subplots(figsize=(10, 2))\n",
    "plot_coverage_sequence(\n",
    "    mediacloud_agg_df.rename(columns={\"real\": \"count\"}),\n",
    "    relative_dates=True,\n",
    "    ax=ax,\n",
    "    label=\"real\",\n",
    "    alpha=0.5,\n",
    "    show_midpoint=False,\n",
    ")\n",
    "plot_coverage_sequence(\n",
    "    mediacloud_agg_df.rename(columns={\"synth_lasso\": \"count\"}),\n",
    "    relative_dates=True,\n",
    "    ax=ax,\n",
    "    label=\"synth_lasso\",\n",
    "    alpha=0.5,\n",
    "    show_midpoint=False,\n",
    ")"
   ]
  },
  {
   "cell_type": "code",
   "execution_count": 10,
   "metadata": {},
   "outputs": [
    {
     "data": {
      "application/vnd.jupyter.widget-view+json": {
       "model_id": "7aa41f752b2f4ba4a74ae80af077c503",
       "version_major": 2,
       "version_minor": 0
      },
      "text/plain": [
       "  0%|          | 0/350 [00:00<?, ?it/s]"
      ]
     },
     "metadata": {},
     "output_type": "display_data"
    },
    {
     "name": "stderr",
     "output_type": "stream",
     "text": [
      "/Users/david/Repositories/protest-impact/.venv/lib/python3.10/site-packages/sklearn/linear_model/_coordinate_descent.py:631: ConvergenceWarning: Objective did not converge. You might want to increase the number of iterations, check the scale of the features or consider increasing regularisation. Duality gap: 0.000e+00, tolerance: 0.000e+00\n",
      "  model = cd_fast.enet_coordinate_descent(\n",
      "/Users/david/Repositories/protest-impact/protest_impact/synthetic_region/__init__.py:115: RuntimeWarning: invalid value encountered in divide\n",
      "  model.coef_ = model.coef_ / model.coef_.sum()\n"
     ]
    },
    {
     "ename": "ValueError",
     "evalue": "Input contains NaN.",
     "output_type": "error",
     "traceback": [
      "\u001b[0;31m---------------------------------------------------------------------------\u001b[0m",
      "\u001b[0;31mValueError\u001b[0m                                Traceback (most recent call last)",
      "Cell \u001b[0;32mIn[10], line 1\u001b[0m\n\u001b[0;32m----> 1\u001b[0m _, dereko_agg_df \u001b[39m=\u001b[39m evaluate_multiple_protests(\n\u001b[1;32m      2\u001b[0m     \u001b[39m\"\u001b[39;49m\u001b[39mklimaschutz\u001b[39;49m\u001b[39m\"\u001b[39;49m, acled, \u001b[39m\"\u001b[39;49m\u001b[39mdereko_scrape\u001b[39;49m\u001b[39m\"\u001b[39;49m, dereko_entries\u001b[39m=\u001b[39;49mdereko_entries\n\u001b[1;32m      3\u001b[0m )\n\u001b[1;32m      4\u001b[0m dereko_agg_df\u001b[39m.\u001b[39mhead()\n",
      "Cell \u001b[0;32mIn[6], line 22\u001b[0m, in \u001b[0;36mevaluate_multiple_protests\u001b[0;34m(term, protests, source, **kwargs)\u001b[0m\n\u001b[1;32m     20\u001b[0m \u001b[39mif\u001b[39;00m df[\u001b[39m\"\u001b[39m\u001b[39mcount\u001b[39m\u001b[39m\"\u001b[39m][df[\u001b[39m\"\u001b[39m\u001b[39mis_protest_region\u001b[39m\u001b[39m\"\u001b[39m]]\u001b[39m.\u001b[39msum() \u001b[39m==\u001b[39m \u001b[39m0\u001b[39m:\n\u001b[1;32m     21\u001b[0m     \u001b[39mcontinue\u001b[39;00m\n\u001b[0;32m---> 22\u001b[0m metrics, _, count_df \u001b[39m=\u001b[39m synthetic_region(df)\n\u001b[1;32m     23\u001b[0m metrics_list\u001b[39m.\u001b[39mappend(metrics)\n\u001b[1;32m     24\u001b[0m \u001b[39m# make date relative to the protest date\u001b[39;00m\n",
      "File \u001b[0;32m~/Repositories/protest-impact/protest_impact/synthetic_region/__init__.py:144\u001b[0m, in \u001b[0;36msynthetic_region\u001b[0;34m(df)\u001b[0m\n\u001b[1;32m    142\u001b[0m mse_lasso_dev, _, _ \u001b[39m=\u001b[39m predict_with_lasso(dev, protest_region)\n\u001b[1;32m    143\u001b[0m mse_mean_test, synth_mean, _ \u001b[39m=\u001b[39m predict_with_mean(test, protest_region)\n\u001b[0;32m--> 144\u001b[0m mse_lasso_test, synth_lasso, model \u001b[39m=\u001b[39m predict_with_lasso(test, protest_region)\n\u001b[1;32m    145\u001b[0m metrics \u001b[39m=\u001b[39m {\n\u001b[1;32m    146\u001b[0m     \u001b[39m\"\u001b[39m\u001b[39mmse_mean_dev\u001b[39m\u001b[39m\"\u001b[39m: mse_mean_dev,\n\u001b[1;32m    147\u001b[0m     \u001b[39m\"\u001b[39m\u001b[39mmse_lasso_dev\u001b[39m\u001b[39m\"\u001b[39m: mse_lasso_dev,\n\u001b[0;32m   (...)\u001b[0m\n\u001b[1;32m    162\u001b[0m     \u001b[39m\"\u001b[39m\u001b[39mweights\u001b[39m\u001b[39m\"\u001b[39m: model\u001b[39m.\u001b[39mcoef_,\n\u001b[1;32m    163\u001b[0m }\n\u001b[1;32m    164\u001b[0m _, Y_train, _, Y_test \u001b[39m=\u001b[39m prepare_df(test, protest_region)\n",
      "File \u001b[0;32m~/Repositories/protest-impact/protest_impact/synthetic_region/__init__.py:117\u001b[0m, in \u001b[0;36mpredict_with_lasso\u001b[0;34m(df, protest_region)\u001b[0m\n\u001b[1;32m    115\u001b[0m model\u001b[39m.\u001b[39mcoef_ \u001b[39m=\u001b[39m model\u001b[39m.\u001b[39mcoef_ \u001b[39m/\u001b[39m model\u001b[39m.\u001b[39mcoef_\u001b[39m.\u001b[39msum()\n\u001b[1;32m    116\u001b[0m Y_pred \u001b[39m=\u001b[39m model\u001b[39m.\u001b[39mpredict(X_test)\n\u001b[0;32m--> 117\u001b[0m mse \u001b[39m=\u001b[39m mean_squared_error(Y_test, Y_pred)\n\u001b[1;32m    118\u001b[0m Y_pred_all \u001b[39m=\u001b[39m model\u001b[39m.\u001b[39mpredict(pd\u001b[39m.\u001b[39mconcat([X_train, X_test]))\n\u001b[1;32m    119\u001b[0m \u001b[39mreturn\u001b[39;00m mse, Y_pred_all, model\n",
      "File \u001b[0;32m~/Repositories/protest-impact/.venv/lib/python3.10/site-packages/sklearn/metrics/_regression.py:442\u001b[0m, in \u001b[0;36mmean_squared_error\u001b[0;34m(y_true, y_pred, sample_weight, multioutput, squared)\u001b[0m\n\u001b[1;32m    382\u001b[0m \u001b[39mdef\u001b[39;00m \u001b[39mmean_squared_error\u001b[39m(\n\u001b[1;32m    383\u001b[0m     y_true, y_pred, \u001b[39m*\u001b[39m, sample_weight\u001b[39m=\u001b[39m\u001b[39mNone\u001b[39;00m, multioutput\u001b[39m=\u001b[39m\u001b[39m\"\u001b[39m\u001b[39muniform_average\u001b[39m\u001b[39m\"\u001b[39m, squared\u001b[39m=\u001b[39m\u001b[39mTrue\u001b[39;00m\n\u001b[1;32m    384\u001b[0m ):\n\u001b[1;32m    385\u001b[0m \u001b[39m    \u001b[39m\u001b[39m\"\"\"Mean squared error regression loss.\u001b[39;00m\n\u001b[1;32m    386\u001b[0m \n\u001b[1;32m    387\u001b[0m \u001b[39m    Read more in the :ref:`User Guide <mean_squared_error>`.\u001b[39;00m\n\u001b[0;32m   (...)\u001b[0m\n\u001b[1;32m    440\u001b[0m \u001b[39m    0.825...\u001b[39;00m\n\u001b[1;32m    441\u001b[0m \u001b[39m    \"\"\"\u001b[39;00m\n\u001b[0;32m--> 442\u001b[0m     y_type, y_true, y_pred, multioutput \u001b[39m=\u001b[39m _check_reg_targets(\n\u001b[1;32m    443\u001b[0m         y_true, y_pred, multioutput\n\u001b[1;32m    444\u001b[0m     )\n\u001b[1;32m    445\u001b[0m     check_consistent_length(y_true, y_pred, sample_weight)\n\u001b[1;32m    446\u001b[0m     output_errors \u001b[39m=\u001b[39m np\u001b[39m.\u001b[39maverage((y_true \u001b[39m-\u001b[39m y_pred) \u001b[39m*\u001b[39m\u001b[39m*\u001b[39m \u001b[39m2\u001b[39m, axis\u001b[39m=\u001b[39m\u001b[39m0\u001b[39m, weights\u001b[39m=\u001b[39msample_weight)\n",
      "File \u001b[0;32m~/Repositories/protest-impact/.venv/lib/python3.10/site-packages/sklearn/metrics/_regression.py:102\u001b[0m, in \u001b[0;36m_check_reg_targets\u001b[0;34m(y_true, y_pred, multioutput, dtype)\u001b[0m\n\u001b[1;32m    100\u001b[0m check_consistent_length(y_true, y_pred)\n\u001b[1;32m    101\u001b[0m y_true \u001b[39m=\u001b[39m check_array(y_true, ensure_2d\u001b[39m=\u001b[39m\u001b[39mFalse\u001b[39;00m, dtype\u001b[39m=\u001b[39mdtype)\n\u001b[0;32m--> 102\u001b[0m y_pred \u001b[39m=\u001b[39m check_array(y_pred, ensure_2d\u001b[39m=\u001b[39;49m\u001b[39mFalse\u001b[39;49;00m, dtype\u001b[39m=\u001b[39;49mdtype)\n\u001b[1;32m    104\u001b[0m \u001b[39mif\u001b[39;00m y_true\u001b[39m.\u001b[39mndim \u001b[39m==\u001b[39m \u001b[39m1\u001b[39m:\n\u001b[1;32m    105\u001b[0m     y_true \u001b[39m=\u001b[39m y_true\u001b[39m.\u001b[39mreshape((\u001b[39m-\u001b[39m\u001b[39m1\u001b[39m, \u001b[39m1\u001b[39m))\n",
      "File \u001b[0;32m~/Repositories/protest-impact/.venv/lib/python3.10/site-packages/sklearn/utils/validation.py:921\u001b[0m, in \u001b[0;36mcheck_array\u001b[0;34m(array, accept_sparse, accept_large_sparse, dtype, order, copy, force_all_finite, ensure_2d, allow_nd, ensure_min_samples, ensure_min_features, estimator, input_name)\u001b[0m\n\u001b[1;32m    915\u001b[0m         \u001b[39mraise\u001b[39;00m \u001b[39mValueError\u001b[39;00m(\n\u001b[1;32m    916\u001b[0m             \u001b[39m\"\u001b[39m\u001b[39mFound array with dim \u001b[39m\u001b[39m%d\u001b[39;00m\u001b[39m. \u001b[39m\u001b[39m%s\u001b[39;00m\u001b[39m expected <= 2.\u001b[39m\u001b[39m\"\u001b[39m\n\u001b[1;32m    917\u001b[0m             \u001b[39m%\u001b[39m (array\u001b[39m.\u001b[39mndim, estimator_name)\n\u001b[1;32m    918\u001b[0m         )\n\u001b[1;32m    920\u001b[0m     \u001b[39mif\u001b[39;00m force_all_finite:\n\u001b[0;32m--> 921\u001b[0m         _assert_all_finite(\n\u001b[1;32m    922\u001b[0m             array,\n\u001b[1;32m    923\u001b[0m             input_name\u001b[39m=\u001b[39;49minput_name,\n\u001b[1;32m    924\u001b[0m             estimator_name\u001b[39m=\u001b[39;49mestimator_name,\n\u001b[1;32m    925\u001b[0m             allow_nan\u001b[39m=\u001b[39;49mforce_all_finite \u001b[39m==\u001b[39;49m \u001b[39m\"\u001b[39;49m\u001b[39mallow-nan\u001b[39;49m\u001b[39m\"\u001b[39;49m,\n\u001b[1;32m    926\u001b[0m         )\n\u001b[1;32m    928\u001b[0m \u001b[39mif\u001b[39;00m ensure_min_samples \u001b[39m>\u001b[39m \u001b[39m0\u001b[39m:\n\u001b[1;32m    929\u001b[0m     n_samples \u001b[39m=\u001b[39m _num_samples(array)\n",
      "File \u001b[0;32m~/Repositories/protest-impact/.venv/lib/python3.10/site-packages/sklearn/utils/validation.py:161\u001b[0m, in \u001b[0;36m_assert_all_finite\u001b[0;34m(X, allow_nan, msg_dtype, estimator_name, input_name)\u001b[0m\n\u001b[1;32m    144\u001b[0m \u001b[39mif\u001b[39;00m estimator_name \u001b[39mand\u001b[39;00m input_name \u001b[39m==\u001b[39m \u001b[39m\"\u001b[39m\u001b[39mX\u001b[39m\u001b[39m\"\u001b[39m \u001b[39mand\u001b[39;00m has_nan_error:\n\u001b[1;32m    145\u001b[0m     \u001b[39m# Improve the error message on how to handle missing values in\u001b[39;00m\n\u001b[1;32m    146\u001b[0m     \u001b[39m# scikit-learn.\u001b[39;00m\n\u001b[1;32m    147\u001b[0m     msg_err \u001b[39m+\u001b[39m\u001b[39m=\u001b[39m (\n\u001b[1;32m    148\u001b[0m         \u001b[39mf\u001b[39m\u001b[39m\"\u001b[39m\u001b[39m\\n\u001b[39;00m\u001b[39m{\u001b[39;00mestimator_name\u001b[39m}\u001b[39;00m\u001b[39m does not accept missing values\u001b[39m\u001b[39m\"\u001b[39m\n\u001b[1;32m    149\u001b[0m         \u001b[39m\"\u001b[39m\u001b[39m encoded as NaN natively. For supervised learning, you might want\u001b[39m\u001b[39m\"\u001b[39m\n\u001b[0;32m   (...)\u001b[0m\n\u001b[1;32m    159\u001b[0m         \u001b[39m\"\u001b[39m\u001b[39m#estimators-that-handle-nan-values\u001b[39m\u001b[39m\"\u001b[39m\n\u001b[1;32m    160\u001b[0m     )\n\u001b[0;32m--> 161\u001b[0m \u001b[39mraise\u001b[39;00m \u001b[39mValueError\u001b[39;00m(msg_err)\n",
      "\u001b[0;31mValueError\u001b[0m: Input contains NaN."
     ]
    }
   ],
   "source": [
    "_, dereko_agg_df = evaluate_multiple_protests(\n",
    "    \"klimaschutz\", acled, \"dereko_scrape\", dereko_entries=dereko_entries\n",
    ")\n",
    "dereko_agg_df.head()"
   ]
  },
  {
   "cell_type": "code",
   "execution_count": null,
   "metadata": {},
   "outputs": [
    {
     "data": {
      "text/plain": [
       "<Axes: >"
      ]
     },
     "execution_count": 34,
     "metadata": {},
     "output_type": "execute_result"
    },
    {
     "data": {
      "image/png": "[encoded data removed]",
      "text/plain": [
       "<Figure size 1000x200 with 1 Axes>"
      ]
     },
     "metadata": {},
     "output_type": "display_data"
    }
   ],
   "source": [
    "from src.data.news.visual import plot_coverage_sequence\n",
    "\n",
    "fig, ax = plt.subplots(figsize=(10, 2))\n",
    "plot_coverage_sequence(\n",
    "    dereko_agg_df.rename(columns={\"real\": \"count\"}),\n",
    "    relative_dates=True,\n",
    "    ax=ax,\n",
    "    label=\"real\",\n",
    "    alpha=0.5,\n",
    ")\n",
    "# plot_coverage_sequence(dereko_agg_df.rename(columns={\"synth_mean\": \"count\"}), relative_dates=True, ax=ax, label=\"mean\", alpha=0.5)\n",
    "plot_coverage_sequence(\n",
    "    dereko_agg_df.rename(columns={\"synth_lasso\": \"count\"}),\n",
    "    relative_dates=True,\n",
    "    ax=ax,\n",
    "    label=\"synthetic\",\n",
    "    alpha=0.5,\n",
    ")"
   ]
  },
  {
   "attachments": {},
   "cell_type": "markdown",
   "metadata": {},
   "source": [
    "The problem here is that I only keep regions for comparison when there is no protest around the protest event in the core region. These regions tend to be associated with lower protests overall. Better approach is apply the \"no protests except at the protest event\" criterion to all regions including the core region. This will result in smaller windows."
   ]
  }
 ],
 "metadata": {
  "kernelspec": {
   "display_name": ".venv",
   "language": "python",
   "name": "python3"
  },
  "language_info": {
   "codemirror_mode": {
    "name": "ipython",
    "version": 3
   },
   "file_extension": ".py",
   "mimetype": "text/x-python",
   "name": "python",
   "nbconvert_exporter": "python",
   "pygments_lexer": "ipython3",
   "version": "3.10.9"
  },
  "orig_nbformat": 4
 },
 "nbformat": 4,
 "nbformat_minor": 2
}
