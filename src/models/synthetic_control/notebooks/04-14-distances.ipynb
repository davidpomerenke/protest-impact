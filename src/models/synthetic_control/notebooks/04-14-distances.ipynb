{
 "cells": [
  {
   "cell_type": "code",
   "execution_count": 4,
   "metadata": {},
   "outputs": [
    {
     "data": {
      "text/plain": [
       "('Baden-Württemberg, Deutschland',\n",
       " (48.53775, 9.041169),\n",
       " {'place_id': 298120027,\n",
       "  'licence': 'Data © OpenStreetMap contributors, ODbL 1.0. https://osm.org/copyright',\n",
       "  'osm_type': 'relation',\n",
       "  'osm_id': 62611,\n",
       "  'boundingbox': ['47.5324787', '49.7912941', '7.5117461', '10.4955731'],\n",
       "  'lat': '48.53775',\n",
       "  'lon': '9.041169',\n",
       "  'display_name': 'Baden-Württemberg, Deutschland',\n",
       "  'class': 'boundary',\n",
       "  'type': 'administrative',\n",
       "  'importance': 0.8889406218540863,\n",
       "  'icon': 'https://nominatim.openstreetmap.org/ui/mapicons/poi_boundary_administrative.p.20.png'})"
      ]
     },
     "execution_count": 4,
     "metadata": {},
     "output_type": "execute_result"
    }
   ],
   "source": [
    "from geopy.geocoders import Nominatim\n",
    "\n",
    "geolocator = Nominatim(user_agent=\"protest-impact\")\n",
    "location = geolocator.geocode(\"Baden-Württemberg\")\n",
    "location.address, (location.latitude, location.longitude), location.raw"
   ]
  },
  {
   "cell_type": "code",
   "execution_count": 8,
   "metadata": {},
   "outputs": [
    {
     "data": {
      "text/plain": [
       "{'Baden-Württemberg': Location(Stuttgart, Baden-Württemberg, Deutschland, (48.7784485, 9.1800132, 0.0)),\n",
       " 'Bayern': Location(München, Bayern, Deutschland, (48.1371079, 11.5753822, 0.0)),\n",
       " 'Berlin': Location(Berlin, Deutschland, (52.5170365, 13.3888599, 0.0)),\n",
       " 'Brandenburg': Location(Potsdam, Brandenburg, Deutschland, (52.4009309, 13.0591397, 0.0)),\n",
       " 'Bremen': Location(Bremen, Deutschland, (53.0758196, 8.8071646, 0.0)),\n",
       " 'Hamburg': Location(Hamburg, Deutschland, (53.550341, 10.000654, 0.0)),\n",
       " 'Hessen': Location(Wiesbaden, Hessen, Deutschland, (50.0820384, 8.2416556, 0.0)),\n",
       " 'Mecklenburg-Vorpommern': Location(Schwerin, Mecklenburg-Vorpommern, Deutschland, (53.6288297, 11.4148038, 0.0)),\n",
       " 'Niedersachsen': Location(Hannover, Region Hannover, Niedersachsen, Deutschland, (52.3744779, 9.7385532, 0.0)),\n",
       " 'Nordrhein-Westfalen': Location(Düsseldorf, Nordrhein-Westfalen, Deutschland, (51.2254018, 6.7763137, 0.0)),\n",
       " 'Rheinland-Pfalz': Location(Mainz, Rheinland-Pfalz, Deutschland, (50.0012314, 8.2762513, 0.0)),\n",
       " 'Saarland': Location(Saarbrücken, Regionalverband Saarbrücken, Saarland, Deutschland, (49.234362, 6.996379, 0.0)),\n",
       " 'Sachsen': Location(Dresden, Sachsen, Deutschland, (51.0493286, 13.7381437, 0.0)),\n",
       " 'Sachsen-Anhalt': Location(Magdeburg, Sachsen-Anhalt, Deutschland, (52.1315889, 11.6399609, 0.0)),\n",
       " 'Schleswig-Holstein': Location(Kiel, Schleswig-Holstein, Deutschland, (54.3227085, 10.135555, 0.0)),\n",
       " 'Thüringen': Location(Erfurt, Thüringen, Deutschland, (50.9777974, 11.0287364, 0.0))}"
      ]
     },
     "execution_count": 8,
     "metadata": {},
     "output_type": "execute_result"
    }
   ],
   "source": [
    "from protest_impact.data import german_regions\n",
    "\n",
    "coordinates = {\n",
    "    a[\"name\"]: geolocator.geocode(a[\"capital\"] + \", Germany\") for a in german_regions\n",
    "}\n",
    "coordinates"
   ]
  },
  {
   "cell_type": "code",
   "execution_count": 9,
   "metadata": {},
   "outputs": [
    {
     "data": {
      "text/plain": [
       "{'Baden-Württemberg': (48.7784485, 9.1800132),\n",
       " 'Bayern': (48.1371079, 11.5753822),\n",
       " 'Berlin': (52.5170365, 13.3888599),\n",
       " 'Brandenburg': (52.4009309, 13.0591397),\n",
       " 'Bremen': (53.0758196, 8.8071646),\n",
       " 'Hamburg': (53.550341, 10.000654),\n",
       " 'Hessen': (50.0820384, 8.2416556),\n",
       " 'Mecklenburg-Vorpommern': (53.6288297, 11.4148038),\n",
       " 'Niedersachsen': (52.3744779, 9.7385532),\n",
       " 'Nordrhein-Westfalen': (51.2254018, 6.7763137),\n",
       " 'Rheinland-Pfalz': (50.0012314, 8.2762513),\n",
       " 'Saarland': (49.234362, 6.996379),\n",
       " 'Sachsen': (51.0493286, 13.7381437),\n",
       " 'Sachsen-Anhalt': (52.1315889, 11.6399609),\n",
       " 'Schleswig-Holstein': (54.3227085, 10.135555),\n",
       " 'Thüringen': (50.9777974, 11.0287364)}"
      ]
     },
     "execution_count": 9,
     "metadata": {},
     "output_type": "execute_result"
    }
   ],
   "source": [
    "coordinates = {k: (v.latitude, v.longitude) for k, v in coordinates.items()}\n",
    "coordinates"
   ]
  },
  {
   "cell_type": "code",
   "execution_count": 14,
   "metadata": {},
   "outputs": [
    {
     "data": {
      "text/plain": [
       "{'Baden-Württemberg': 0.0019559762930516297,\n",
       " 'Bayern': 0.001984199049647133,\n",
       " 'Brandenburg': 0.03865571419402733,\n",
       " 'Bremen': 0.003172767587826417,\n",
       " 'Hamburg': 0.003926274354943075,\n",
       " 'Hessen': 0.002224422534152766,\n",
       " 'Mecklenburg-Vorpommern': 0.0055207371081691286,\n",
       " 'Niedersachsen': 0.004021266717007122,\n",
       " 'Nordrhein-Westfalen': 0.002094803669581934,\n",
       " 'Rheinland-Pfalz': 0.0022057139214784285,\n",
       " 'Saarland': 0.0017267897738956527,\n",
       " 'Sachsen': 0.006058012194805484,\n",
       " 'Sachsen-Anhalt': 0.007891658904078336,\n",
       " 'Schleswig-Holstein': 0.0033876943704335945,\n",
       " 'Thüringen': 0.0042300419330770864}"
      ]
     },
     "execution_count": 14,
     "metadata": {},
     "output_type": "execute_result"
    }
   ],
   "source": [
    "from geopy.distance import geodesic\n",
    "\n",
    "inverse_distances = {\n",
    "    a[\"name\"]: {\n",
    "        b[\"name\"]: 1 / geodesic(coordinates[a[\"name\"]], coordinates[b[\"name\"]]).km\n",
    "        for b in german_regions\n",
    "        if a[\"name\"] != b[\"name\"]\n",
    "    }\n",
    "    for a in german_regions\n",
    "}\n",
    "inverse_distances[\"Berlin\"]"
   ]
  },
  {
   "cell_type": "code",
   "execution_count": 15,
   "metadata": {},
   "outputs": [
    {
     "data": {
      "text/plain": [
       "{'Baden-Württemberg': 0.021963424119334034,\n",
       " 'Bayern': 0.02228033408144645,\n",
       " 'Brandenburg': 0.4340603965882384,\n",
       " 'Bremen': 0.03562662820150479,\n",
       " 'Hamburg': 0.044087665669986315,\n",
       " 'Hessen': 0.024977774890092393,\n",
       " 'Mecklenburg-Vorpommern': 0.06199169743969062,\n",
       " 'Niedersachsen': 0.045154323555115866,\n",
       " 'Nordrhein-Westfalen': 0.023522300145051318,\n",
       " 'Rheinland-Pfalz': 0.024767698113441,\n",
       " 'Saarland': 0.01938991607604216,\n",
       " 'Sachsen': 0.0680246952006889,\n",
       " 'Sachsen-Anhalt': 0.08861449503816464,\n",
       " 'Schleswig-Holstein': 0.03804001536666342,\n",
       " 'Thüringen': 0.047498635514539596}"
      ]
     },
     "execution_count": 15,
     "metadata": {},
     "output_type": "execute_result"
    }
   ],
   "source": [
    "weights = {\n",
    "    a[\"name\"]: {\n",
    "        b[\"name\"]: inverse_distances[a[\"name\"]][b[\"name\"]]\n",
    "        / sum(inverse_distances[a[\"name\"]].values())\n",
    "        for b in german_regions\n",
    "        if a[\"name\"] != b[\"name\"]\n",
    "    }\n",
    "    for a in german_regions\n",
    "}\n",
    "weights[\"Berlin\"]"
   ]
  },
  {
   "cell_type": "code",
   "execution_count": 17,
   "metadata": {},
   "outputs": [],
   "source": [
    "import json\n",
    "\n",
    "with open(\"../../data/regions/region-weights.json\", \"w\") as f:\n",
    "    json.dump(weights, f)"
   ]
  }
 ],
 "metadata": {
  "kernelspec": {
   "display_name": ".venv",
   "language": "python",
   "name": "python3"
  },
  "language_info": {
   "codemirror_mode": {
    "name": "ipython",
    "version": 3
   },
   "file_extension": ".py",
   "mimetype": "text/x-python",
   "name": "python",
   "nbconvert_exporter": "python",
   "pygments_lexer": "ipython3",
   "version": "3.10.10"
  },
  "orig_nbformat": 4
 },
 "nbformat": 4,
 "nbformat_minor": 2
}
