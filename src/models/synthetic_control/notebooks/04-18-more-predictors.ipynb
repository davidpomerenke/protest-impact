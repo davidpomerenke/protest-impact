{
  "cells": [
    {
      "cell_type": "code",
      "execution_count": 134,
      "metadata": {},
      "outputs": [
        {
          "name": "stdout",
          "output_type": "stream",
          "text": [
            "The autoreload extension is already loaded. To reload it, use:\n",
            "  %reload_ext autoreload\n"
          ]
        }
      ],
      "source": [
        "%load_ext autoreload\n",
        "%autoreload complete"
      ]
    },
    {
      "cell_type": "code",
      "execution_count": 106,
      "metadata": {},
      "outputs": [],
      "source": [
        "from src.data.news.coverage_filter import filter_protests\n",
        "from src.data.protests.random import get_random_events\n",
        "\n",
        "random_events = get_random_events(200, seed=0)"
      ]
    },
    {
      "cell_type": "code",
      "execution_count": 140,
      "metadata": {},
      "outputs": [],
      "source": [
        "from src.models.synthetic_region import (\n",
        "    evaluate_multiple_protests,\n",
        "    get_regional_counts_for_protest,\n",
        "    metrics,\n",
        "    synthetic_region,\n",
        ")\n",
        "from src.models.synthetic_region.models import models\n",
        "\n",
        "\n",
        "def evaluate(method):\n",
        "    return evaluate_multiple_protests(\n",
        "        \"klimaschutz\",\n",
        "        random_events,\n",
        "        source=\"mediacloud\",\n",
        "        data_kwargs=dict(\n",
        "            n_days_train=7 * 4 * 6,\n",
        "            n_days_predict=7 * 4,\n",
        "            n_days_protest_free_pre=0,\n",
        "            n_days_protest_free_post=0,\n",
        "            min_control_regions=1,\n",
        "            min_count=3,\n",
        "        ),\n",
        "        method_kwargs=dict(\n",
        "            method=method,\n",
        "        ),\n",
        "    )"
      ]
    },
    {
      "cell_type": "code",
      "execution_count": 108,
      "metadata": {},
      "outputs": [
        {
          "data": {
            "application/vnd.jupyter.widget-view+json": {
              "model_id": "0e246eba0ef5492585e26276a719eb6c",
              "version_major": 2,
              "version_minor": 0
            },
            "text/plain": [
              "  0%|          | 0/200 [00:00<?, ?it/s]"
            ]
          },
          "metadata": {},
          "output_type": "display_data"
        },
        {
          "name": "stdout",
          "output_type": "stream",
          "text": [
            "Warning: 96 out of 200 protests were not evaluated due to lack of discourse data.\n"
          ]
        }
      ],
      "source": [
        "results, agg_df = evaluate(models[\"lasso\"])"
      ]
    },
    {
      "cell_type": "code",
      "execution_count": 109,
      "metadata": {},
      "outputs": [
        {
          "data": {
            "text/plain": [
              "0.34737938810092894"
            ]
          },
          "execution_count": 109,
          "metadata": {},
          "output_type": "execute_result"
        }
      ],
      "source": [
        "import numpy as np\n",
        "\n",
        "mae = np.mean(\n",
        "    [\n",
        "        metrics(result[\"df\"], result[\"protest\"][\"event_date\"])[\"mae\"]\n",
        "        for result in results\n",
        "    ]\n",
        ")\n",
        "mae"
      ]
    },
    {
      "cell_type": "code",
      "execution_count": 110,
      "metadata": {},
      "outputs": [
        {
          "data": {
            "text/plain": [
              "event_date    2021-01-03 00:00:00\n",
              "admin1                     Berlin\n",
              "Name: 5, dtype: object"
            ]
          },
          "execution_count": 110,
          "metadata": {},
          "output_type": "execute_result"
        }
      ],
      "source": [
        "protest = random_events.iloc[5]\n",
        "protest"
      ]
    },
    {
      "attachments": {},
      "cell_type": "markdown",
      "metadata": {},
      "source": [
        "## Develop co-term approach"
      ]
    },
    {
      "cell_type": "code",
      "execution_count": 111,
      "metadata": {},
      "outputs": [],
      "source": [
        "term = \"klimaschutz\"\n",
        "co_terms = [\n",
        "    \"klimawandel\",\n",
        "    \"erderwärmung\",\n",
        "    \"klima\",\n",
        "    \"klimakrise\",\n",
        "    \"umweltschutz\",\n",
        "    \"umwelt\",\n",
        "    \"energie\",\n",
        "]\n",
        "df = get_regional_counts_for_protest(\n",
        "    term,\n",
        "    random_events.iloc[5],\n",
        "    random_events,\n",
        "    co_terms=co_terms,\n",
        "    source=\"mediacloud\",\n",
        "    min_count=1,\n",
        ")"
      ]
    },
    {
      "cell_type": "code",
      "execution_count": 112,
      "metadata": {},
      "outputs": [
        {
          "data": {
            "text/html": [
              "<div>\n",
              "<style scoped>\n",
              "    .dataframe tbody tr th:only-of-type {\n",
              "        vertical-align: middle;\n",
              "    }\n",
              "\n",
              "    .dataframe tbody tr th {\n",
              "        vertical-align: top;\n",
              "    }\n",
              "\n",
              "    .dataframe thead th {\n",
              "        text-align: right;\n",
              "    }\n",
              "</style>\n",
              "<table border=\"1\" class=\"dataframe\">\n",
              "  <thead>\n",
              "    <tr style=\"text-align: right;\">\n",
              "      <th></th>\n",
              "      <th>Berlin_klimaschutz</th>\n",
              "      <th>Bayern_klimaschutz</th>\n",
              "      <th>Bayern_klimawandel</th>\n",
              "      <th>Bayern_erderwärmung</th>\n",
              "      <th>Bayern_klima</th>\n",
              "      <th>Bayern_klimakrise</th>\n",
              "      <th>Bayern_umweltschutz</th>\n",
              "      <th>Bayern_umwelt</th>\n",
              "      <th>Bayern_energie</th>\n",
              "      <th>Brandenburg_klimaschutz</th>\n",
              "      <th>...</th>\n",
              "      <th>Sachsen_energie</th>\n",
              "      <th>Sachsen-Anhalt_umwelt</th>\n",
              "      <th>Schleswig-Holstein_klimaschutz</th>\n",
              "      <th>Schleswig-Holstein_klimawandel</th>\n",
              "      <th>Schleswig-Holstein_klima</th>\n",
              "      <th>Schleswig-Holstein_umweltschutz</th>\n",
              "      <th>Schleswig-Holstein_umwelt</th>\n",
              "      <th>Schleswig-Holstein_energie</th>\n",
              "      <th>Thüringen_umwelt</th>\n",
              "      <th>Thüringen_energie</th>\n",
              "    </tr>\n",
              "    <tr>\n",
              "      <th>date</th>\n",
              "      <th></th>\n",
              "      <th></th>\n",
              "      <th></th>\n",
              "      <th></th>\n",
              "      <th></th>\n",
              "      <th></th>\n",
              "      <th></th>\n",
              "      <th></th>\n",
              "      <th></th>\n",
              "      <th></th>\n",
              "      <th></th>\n",
              "      <th></th>\n",
              "      <th></th>\n",
              "      <th></th>\n",
              "      <th></th>\n",
              "      <th></th>\n",
              "      <th></th>\n",
              "      <th></th>\n",
              "      <th></th>\n",
              "      <th></th>\n",
              "      <th></th>\n",
              "    </tr>\n",
              "  </thead>\n",
              "  <tbody>\n",
              "    <tr>\n",
              "      <th>2021-01-26</th>\n",
              "      <td>7</td>\n",
              "      <td>49</td>\n",
              "      <td>12</td>\n",
              "      <td>6</td>\n",
              "      <td>19</td>\n",
              "      <td>6</td>\n",
              "      <td>4</td>\n",
              "      <td>45</td>\n",
              "      <td>58</td>\n",
              "      <td>2</td>\n",
              "      <td>...</td>\n",
              "      <td>17</td>\n",
              "      <td>1</td>\n",
              "      <td>8</td>\n",
              "      <td>5</td>\n",
              "      <td>6</td>\n",
              "      <td>0</td>\n",
              "      <td>8</td>\n",
              "      <td>10</td>\n",
              "      <td>0</td>\n",
              "      <td>0</td>\n",
              "    </tr>\n",
              "    <tr>\n",
              "      <th>2020-10-06</th>\n",
              "      <td>10</td>\n",
              "      <td>41</td>\n",
              "      <td>17</td>\n",
              "      <td>0</td>\n",
              "      <td>20</td>\n",
              "      <td>5</td>\n",
              "      <td>5</td>\n",
              "      <td>49</td>\n",
              "      <td>45</td>\n",
              "      <td>4</td>\n",
              "      <td>...</td>\n",
              "      <td>8</td>\n",
              "      <td>0</td>\n",
              "      <td>5</td>\n",
              "      <td>5</td>\n",
              "      <td>4</td>\n",
              "      <td>2</td>\n",
              "      <td>1</td>\n",
              "      <td>2</td>\n",
              "      <td>1</td>\n",
              "      <td>2</td>\n",
              "    </tr>\n",
              "    <tr>\n",
              "      <th>2020-11-29</th>\n",
              "      <td>5</td>\n",
              "      <td>6</td>\n",
              "      <td>21</td>\n",
              "      <td>0</td>\n",
              "      <td>13</td>\n",
              "      <td>3</td>\n",
              "      <td>17</td>\n",
              "      <td>41</td>\n",
              "      <td>30</td>\n",
              "      <td>0</td>\n",
              "      <td>...</td>\n",
              "      <td>1</td>\n",
              "      <td>0</td>\n",
              "      <td>0</td>\n",
              "      <td>3</td>\n",
              "      <td>0</td>\n",
              "      <td>4</td>\n",
              "      <td>2</td>\n",
              "      <td>0</td>\n",
              "      <td>0</td>\n",
              "      <td>0</td>\n",
              "    </tr>\n",
              "    <tr>\n",
              "      <th>2021-01-27</th>\n",
              "      <td>9</td>\n",
              "      <td>38</td>\n",
              "      <td>48</td>\n",
              "      <td>0</td>\n",
              "      <td>43</td>\n",
              "      <td>10</td>\n",
              "      <td>11</td>\n",
              "      <td>49</td>\n",
              "      <td>54</td>\n",
              "      <td>2</td>\n",
              "      <td>...</td>\n",
              "      <td>3</td>\n",
              "      <td>2</td>\n",
              "      <td>4</td>\n",
              "      <td>3</td>\n",
              "      <td>5</td>\n",
              "      <td>0</td>\n",
              "      <td>1</td>\n",
              "      <td>4</td>\n",
              "      <td>0</td>\n",
              "      <td>0</td>\n",
              "    </tr>\n",
              "    <tr>\n",
              "      <th>2020-08-25</th>\n",
              "      <td>10</td>\n",
              "      <td>10</td>\n",
              "      <td>12</td>\n",
              "      <td>1</td>\n",
              "      <td>4</td>\n",
              "      <td>2</td>\n",
              "      <td>4</td>\n",
              "      <td>34</td>\n",
              "      <td>37</td>\n",
              "      <td>3</td>\n",
              "      <td>...</td>\n",
              "      <td>11</td>\n",
              "      <td>2</td>\n",
              "      <td>1</td>\n",
              "      <td>0</td>\n",
              "      <td>1</td>\n",
              "      <td>1</td>\n",
              "      <td>1</td>\n",
              "      <td>5</td>\n",
              "      <td>0</td>\n",
              "      <td>0</td>\n",
              "    </tr>\n",
              "    <tr>\n",
              "      <th>2020-09-05</th>\n",
              "      <td>2</td>\n",
              "      <td>0</td>\n",
              "      <td>3</td>\n",
              "      <td>0</td>\n",
              "      <td>3</td>\n",
              "      <td>0</td>\n",
              "      <td>2</td>\n",
              "      <td>11</td>\n",
              "      <td>26</td>\n",
              "      <td>0</td>\n",
              "      <td>...</td>\n",
              "      <td>4</td>\n",
              "      <td>1</td>\n",
              "      <td>0</td>\n",
              "      <td>2</td>\n",
              "      <td>2</td>\n",
              "      <td>1</td>\n",
              "      <td>0</td>\n",
              "      <td>3</td>\n",
              "      <td>0</td>\n",
              "      <td>1</td>\n",
              "    </tr>\n",
              "    <tr>\n",
              "      <th>2020-08-29</th>\n",
              "      <td>5</td>\n",
              "      <td>14</td>\n",
              "      <td>5</td>\n",
              "      <td>1</td>\n",
              "      <td>15</td>\n",
              "      <td>0</td>\n",
              "      <td>5</td>\n",
              "      <td>11</td>\n",
              "      <td>9</td>\n",
              "      <td>1</td>\n",
              "      <td>...</td>\n",
              "      <td>5</td>\n",
              "      <td>0</td>\n",
              "      <td>2</td>\n",
              "      <td>0</td>\n",
              "      <td>0</td>\n",
              "      <td>0</td>\n",
              "      <td>3</td>\n",
              "      <td>2</td>\n",
              "      <td>0</td>\n",
              "      <td>0</td>\n",
              "    </tr>\n",
              "    <tr>\n",
              "      <th>2021-01-09</th>\n",
              "      <td>1</td>\n",
              "      <td>3</td>\n",
              "      <td>3</td>\n",
              "      <td>0</td>\n",
              "      <td>5</td>\n",
              "      <td>0</td>\n",
              "      <td>1</td>\n",
              "      <td>16</td>\n",
              "      <td>12</td>\n",
              "      <td>0</td>\n",
              "      <td>...</td>\n",
              "      <td>2</td>\n",
              "      <td>0</td>\n",
              "      <td>2</td>\n",
              "      <td>0</td>\n",
              "      <td>0</td>\n",
              "      <td>0</td>\n",
              "      <td>1</td>\n",
              "      <td>1</td>\n",
              "      <td>0</td>\n",
              "      <td>9</td>\n",
              "    </tr>\n",
              "    <tr>\n",
              "      <th>2020-12-11</th>\n",
              "      <td>13</td>\n",
              "      <td>41</td>\n",
              "      <td>14</td>\n",
              "      <td>28</td>\n",
              "      <td>36</td>\n",
              "      <td>4</td>\n",
              "      <td>10</td>\n",
              "      <td>61</td>\n",
              "      <td>34</td>\n",
              "      <td>4</td>\n",
              "      <td>...</td>\n",
              "      <td>15</td>\n",
              "      <td>0</td>\n",
              "      <td>11</td>\n",
              "      <td>3</td>\n",
              "      <td>4</td>\n",
              "      <td>0</td>\n",
              "      <td>6</td>\n",
              "      <td>7</td>\n",
              "      <td>1</td>\n",
              "      <td>2</td>\n",
              "    </tr>\n",
              "    <tr>\n",
              "      <th>2020-08-13</th>\n",
              "      <td>1</td>\n",
              "      <td>4</td>\n",
              "      <td>18</td>\n",
              "      <td>2</td>\n",
              "      <td>19</td>\n",
              "      <td>5</td>\n",
              "      <td>3</td>\n",
              "      <td>64</td>\n",
              "      <td>38</td>\n",
              "      <td>2</td>\n",
              "      <td>...</td>\n",
              "      <td>9</td>\n",
              "      <td>3</td>\n",
              "      <td>1</td>\n",
              "      <td>2</td>\n",
              "      <td>4</td>\n",
              "      <td>0</td>\n",
              "      <td>2</td>\n",
              "      <td>3</td>\n",
              "      <td>0</td>\n",
              "      <td>0</td>\n",
              "    </tr>\n",
              "  </tbody>\n",
              "</table>\n",
              "<p>10 rows × 73 columns</p>\n",
              "</div>"
            ],
            "text/plain": [
              "            Berlin_klimaschutz  Bayern_klimaschutz  Bayern_klimawandel  \\\n",
              "date                                                                     \n",
              "2021-01-26                   7                  49                  12   \n",
              "2020-10-06                  10                  41                  17   \n",
              "2020-11-29                   5                   6                  21   \n",
              "2021-01-27                   9                  38                  48   \n",
              "2020-08-25                  10                  10                  12   \n",
              "2020-09-05                   2                   0                   3   \n",
              "2020-08-29                   5                  14                   5   \n",
              "2021-01-09                   1                   3                   3   \n",
              "2020-12-11                  13                  41                  14   \n",
              "2020-08-13                   1                   4                  18   \n",
              "\n",
              "            Bayern_erderwärmung  Bayern_klima  Bayern_klimakrise  \\\n",
              "date                                                               \n",
              "2021-01-26                    6            19                  6   \n",
              "2020-10-06                    0            20                  5   \n",
              "2020-11-29                    0            13                  3   \n",
              "2021-01-27                    0            43                 10   \n",
              "2020-08-25                    1             4                  2   \n",
              "2020-09-05                    0             3                  0   \n",
              "2020-08-29                    1            15                  0   \n",
              "2021-01-09                    0             5                  0   \n",
              "2020-12-11                   28            36                  4   \n",
              "2020-08-13                    2            19                  5   \n",
              "\n",
              "            Bayern_umweltschutz  Bayern_umwelt  Bayern_energie  \\\n",
              "date                                                             \n",
              "2021-01-26                    4             45              58   \n",
              "2020-10-06                    5             49              45   \n",
              "2020-11-29                   17             41              30   \n",
              "2021-01-27                   11             49              54   \n",
              "2020-08-25                    4             34              37   \n",
              "2020-09-05                    2             11              26   \n",
              "2020-08-29                    5             11               9   \n",
              "2021-01-09                    1             16              12   \n",
              "2020-12-11                   10             61              34   \n",
              "2020-08-13                    3             64              38   \n",
              "\n",
              "            Brandenburg_klimaschutz  ...  Sachsen_energie  \\\n",
              "date                                 ...                    \n",
              "2021-01-26                        2  ...               17   \n",
              "2020-10-06                        4  ...                8   \n",
              "2020-11-29                        0  ...                1   \n",
              "2021-01-27                        2  ...                3   \n",
              "2020-08-25                        3  ...               11   \n",
              "2020-09-05                        0  ...                4   \n",
              "2020-08-29                        1  ...                5   \n",
              "2021-01-09                        0  ...                2   \n",
              "2020-12-11                        4  ...               15   \n",
              "2020-08-13                        2  ...                9   \n",
              "\n",
              "            Sachsen-Anhalt_umwelt  Schleswig-Holstein_klimaschutz  \\\n",
              "date                                                                \n",
              "2021-01-26                      1                               8   \n",
              "2020-10-06                      0                               5   \n",
              "2020-11-29                      0                               0   \n",
              "2021-01-27                      2                               4   \n",
              "2020-08-25                      2                               1   \n",
              "2020-09-05                      1                               0   \n",
              "2020-08-29                      0                               2   \n",
              "2021-01-09                      0                               2   \n",
              "2020-12-11                      0                              11   \n",
              "2020-08-13                      3                               1   \n",
              "\n",
              "            Schleswig-Holstein_klimawandel  Schleswig-Holstein_klima  \\\n",
              "date                                                                   \n",
              "2021-01-26                               5                         6   \n",
              "2020-10-06                               5                         4   \n",
              "2020-11-29                               3                         0   \n",
              "2021-01-27                               3                         5   \n",
              "2020-08-25                               0                         1   \n",
              "2020-09-05                               2                         2   \n",
              "2020-08-29                               0                         0   \n",
              "2021-01-09                               0                         0   \n",
              "2020-12-11                               3                         4   \n",
              "2020-08-13                               2                         4   \n",
              "\n",
              "            Schleswig-Holstein_umweltschutz  Schleswig-Holstein_umwelt  \\\n",
              "date                                                                     \n",
              "2021-01-26                                0                          8   \n",
              "2020-10-06                                2                          1   \n",
              "2020-11-29                                4                          2   \n",
              "2021-01-27                                0                          1   \n",
              "2020-08-25                                1                          1   \n",
              "2020-09-05                                1                          0   \n",
              "2020-08-29                                0                          3   \n",
              "2021-01-09                                0                          1   \n",
              "2020-12-11                                0                          6   \n",
              "2020-08-13                                0                          2   \n",
              "\n",
              "            Schleswig-Holstein_energie  Thüringen_umwelt  Thüringen_energie  \n",
              "date                                                                         \n",
              "2021-01-26                          10                 0                  0  \n",
              "2020-10-06                           2                 1                  2  \n",
              "2020-11-29                           0                 0                  0  \n",
              "2021-01-27                           4                 0                  0  \n",
              "2020-08-25                           5                 0                  0  \n",
              "2020-09-05                           3                 0                  1  \n",
              "2020-08-29                           2                 0                  0  \n",
              "2021-01-09                           1                 0                  9  \n",
              "2020-12-11                           7                 1                  2  \n",
              "2020-08-13                           3                 0                  0  \n",
              "\n",
              "[10 rows x 73 columns]"
            ]
          },
          "execution_count": 112,
          "metadata": {},
          "output_type": "execute_result"
        }
      ],
      "source": [
        "pivot_df = df.pivot(index=\"date\", columns=[\"region\", \"term\"], values=\"count\").sample(10)\n",
        "pivot_df.columns = [\"_\".join(col) for col in pivot_df.columns]\n",
        "pivot_df"
      ]
    },
    {
      "cell_type": "code",
      "execution_count": 113,
      "metadata": {},
      "outputs": [
        {
          "data": {
            "text/plain": [
              "['Berlin_klimaschutz',\n",
              " 'Bayern_klimaschutz',\n",
              " 'Bayern_klimawandel',\n",
              " 'Bayern_erderwärmung',\n",
              " 'Bayern_klima',\n",
              " 'Bayern_klimakrise',\n",
              " 'Bayern_umweltschutz',\n",
              " 'Bayern_umwelt',\n",
              " 'Bayern_energie',\n",
              " 'Brandenburg_klimaschutz']"
            ]
          },
          "execution_count": 113,
          "metadata": {},
          "output_type": "execute_result"
        }
      ],
      "source": [
        "list(pivot_df.columns)[:10]"
      ]
    },
    {
      "cell_type": "code",
      "execution_count": 114,
      "metadata": {},
      "outputs": [],
      "source": [
        "result = synthetic_region(df, protest, method=models[\"ridge\"])"
      ]
    },
    {
      "cell_type": "code",
      "execution_count": 115,
      "metadata": {},
      "outputs": [
        {
          "data": {
            "text/plain": [
              "{'df':            date      real     synth\n",
              " -168 2020-07-19  0.648649  0.590125\n",
              " -167 2020-07-20  0.908108  0.672452\n",
              " -166 2020-07-21  1.037838  1.042021\n",
              " -165 2020-07-22  1.297297  1.059444\n",
              " -164 2020-07-23  1.297297  1.480653\n",
              " ...         ...       ...       ...\n",
              "  23  2021-01-26  0.908108  1.500248\n",
              "  24  2021-01-27  1.167568  1.068240\n",
              "  25  2021-01-28  1.167568  1.467433\n",
              "  26  2021-01-29  1.037838  0.771684\n",
              "  27  2021-01-30  0.778378  0.569134\n",
              " \n",
              " [196 rows x 3 columns],\n",
              " 'model': Ridge()}"
            ]
          },
          "execution_count": 115,
          "metadata": {},
          "output_type": "execute_result"
        }
      ],
      "source": [
        "result"
      ]
    },
    {
      "cell_type": "code",
      "execution_count": 116,
      "metadata": {},
      "outputs": [
        {
          "data": {
            "text/plain": [
              "0.3866697739594705"
            ]
          },
          "execution_count": 116,
          "metadata": {},
          "output_type": "execute_result"
        }
      ],
      "source": [
        "metrics(result[\"df\"], protest[\"event_date\"])[\"mae\"]"
      ]
    },
    {
      "cell_type": "code",
      "execution_count": 117,
      "metadata": {},
      "outputs": [
        {
          "data": {
            "text/plain": [
              "0.33671392182511334"
            ]
          },
          "execution_count": 117,
          "metadata": {},
          "output_type": "execute_result"
        }
      ],
      "source": [
        "df = get_regional_counts_for_protest(\n",
        "    term,\n",
        "    random_events.iloc[5],\n",
        "    random_events,\n",
        "    co_terms=[],\n",
        "    source=\"mediacloud\",\n",
        "    min_count=1,\n",
        ")\n",
        "result = synthetic_region(df, protest, method=models[\"ridge\"])\n",
        "metrics(result[\"df\"], protest[\"event_date\"])[\"mae\"]"
      ]
    },
    {
      "attachments": {},
      "cell_type": "markdown",
      "metadata": {},
      "source": [
        "## Evaluate it a bit"
      ]
    },
    {
      "cell_type": "code",
      "execution_count": 141,
      "metadata": {},
      "outputs": [],
      "source": [
        "def evaluate(method, co_terms):\n",
        "    return evaluate_multiple_protests(\n",
        "        \"klimaschutz\",\n",
        "        random_events,\n",
        "        co_terms=co_terms,\n",
        "        source=\"mediacloud\",\n",
        "        data_kwargs=dict(\n",
        "            n_days_train=7 * 4 * 6,\n",
        "            n_days_predict=7 * 4,\n",
        "            n_days_protest_free_pre=0,\n",
        "            n_days_protest_free_post=0,\n",
        "            min_control_regions=1,\n",
        "            min_count=3,\n",
        "        ),\n",
        "        method_kwargs=dict(\n",
        "            method=method,\n",
        "        ),\n",
        "    )"
      ]
    },
    {
      "attachments": {},
      "cell_type": "markdown",
      "metadata": {},
      "source": [
        "## Ridge without co-terms"
      ]
    },
    {
      "cell_type": "code",
      "execution_count": 161,
      "metadata": {},
      "outputs": [
        {
          "data": {
            "application/vnd.jupyter.widget-view+json": {
              "model_id": "435838f7667843a9a645a0274460bfd4",
              "version_major": 2,
              "version_minor": 0
            },
            "text/plain": [
              "  0%|          | 0/200 [00:00<?, ?it/s]"
            ]
          },
          "metadata": {},
          "output_type": "display_data"
        },
        {
          "name": "stdout",
          "output_type": "stream",
          "text": [
            "Warning: 96 out of 200 protests were not evaluated due to lack of discourse data.\n"
          ]
        }
      ],
      "source": [
        "results, agg_df = evaluate(models[\"ridge\"], co_terms=[])"
      ]
    },
    {
      "cell_type": "code",
      "execution_count": 162,
      "metadata": {},
      "outputs": [
        {
          "data": {
            "text/plain": [
              "0.3489002474891261"
            ]
          },
          "execution_count": 162,
          "metadata": {},
          "output_type": "execute_result"
        }
      ],
      "source": [
        "np.mean(\n",
        "    [\n",
        "        metrics(result[\"df\"], result[\"protest\"][\"event_date\"])[\"mae\"]\n",
        "        for result in results\n",
        "    ]\n",
        ")"
      ]
    },
    {
      "cell_type": "code",
      "execution_count": 163,
      "metadata": {},
      "outputs": [
        {
          "ename": "KeyError",
          "evalue": "'pivod_df'",
          "output_type": "error",
          "traceback": [
            "\u001b[0;31m---------------------------------------------------------------------------\u001b[0m",
            "\u001b[0;31mKeyError\u001b[0m                                  Traceback (most recent call last)",
            "Cell \u001b[0;32mIn[163], line 5\u001b[0m\n\u001b[1;32m      3\u001b[0m \u001b[39mfor\u001b[39;00m i \u001b[39min\u001b[39;00m \u001b[39mrange\u001b[39m(\u001b[39m3\u001b[39m):\n\u001b[1;32m      4\u001b[0m     coefs \u001b[39m=\u001b[39m results[i][\u001b[39m\"\u001b[39m\u001b[39mmodel\u001b[39m\u001b[39m\"\u001b[39m]\u001b[39m.\u001b[39mcoef_[\u001b[39m1\u001b[39m:]\n\u001b[0;32m----> 5\u001b[0m     coef_keys \u001b[39m=\u001b[39m \u001b[39mlist\u001b[39m(results[i][\u001b[39m\"\u001b[39;49m\u001b[39mpivod_df\u001b[39;49m\u001b[39m\"\u001b[39;49m]\u001b[39m.\u001b[39mcolumns)\n\u001b[1;32m      6\u001b[0m     coef_dict \u001b[39m=\u001b[39m \u001b[39mdict\u001b[39m(intercept\u001b[39m=\u001b[39mresults[i][\u001b[39m\"\u001b[39m\u001b[39mmodel\u001b[39m\u001b[39m\"\u001b[39m]\u001b[39m.\u001b[39mcoef_[\u001b[39m0\u001b[39m], \u001b[39m*\u001b[39m\u001b[39m*\u001b[39m\u001b[39mdict\u001b[39m(\u001b[39mzip\u001b[39m(coef_keys, coefs)))\n\u001b[1;32m      7\u001b[0m     pprint(coef_dict)\n",
            "\u001b[0;31mKeyError\u001b[0m: 'pivod_df'"
          ]
        }
      ],
      "source": [
        "from pprint import pprint\n",
        "\n",
        "for i in range(3):\n",
        "    coefs = results[i][\"model\"].coef_[1:]\n",
        "    coef_keys = list(results[i][\"pivod_df\"].columns)\n",
        "    coef_dict = dict(\n",
        "        intercept=results[i][\"model\"].coef_[0], **dict(zip(coef_keys, coefs))\n",
        "    )\n",
        "    pprint(coef_dict)"
      ]
    },
    {
      "attachments": {},
      "cell_type": "markdown",
      "metadata": {},
      "source": [
        "### Ridge with co-terms"
      ]
    },
    {
      "cell_type": "code",
      "execution_count": null,
      "metadata": {},
      "outputs": [
        {
          "data": {
            "application/vnd.jupyter.widget-view+json": {
              "model_id": "34280f2f94dc4513a75b3647b9dcbf88",
              "version_major": 2,
              "version_minor": 0
            },
            "text/plain": [
              "  0%|          | 0/200 [00:00<?, ?it/s]"
            ]
          },
          "metadata": {},
          "output_type": "display_data"
        },
        {
          "name": "stdout",
          "output_type": "stream",
          "text": [
            "Warning: 96 out of 200 protests were not evaluated due to lack of discourse data.\n"
          ]
        }
      ],
      "source": [
        "result, agg_df = evaluate(models[\"ridge\"], co_terms=co_terms)"
      ]
    },
    {
      "cell_type": "code",
      "execution_count": null,
      "metadata": {},
      "outputs": [
        {
          "data": {
            "text/plain": [
              "0.3489002474891261"
            ]
          },
          "execution_count": 149,
          "metadata": {},
          "output_type": "execute_result"
        }
      ],
      "source": [
        "np.mean(\n",
        "    [\n",
        "        metrics(result[\"df\"], result[\"protest\"][\"event_date\"])[\"mae\"]\n",
        "        for result in results\n",
        "    ]\n",
        ")"
      ]
    },
    {
      "cell_type": "code",
      "execution_count": null,
      "metadata": {},
      "outputs": [
        {
          "name": "stdout",
          "output_type": "stream",
          "text": [
            "{'Bayern_klimaschutz': -0.01104267688345693,\n",
            " 'Berlin_klimaschutz': -0.009068066221370664,\n",
            " 'Brandenburg_klimaschutz': 0.047663823228989925,\n",
            " 'Hamburg_klimaschutz': 0.10797645830280174,\n",
            " 'Hessen_klimaschutz': -0.015731680663638763,\n",
            " 'Niedersachsen_klimaschutz': 0.14249412785196136,\n",
            " 'Nordrhein-Westfalen_klimaschutz': 0.08071721615161516,\n",
            " 'date': 0.04900032235943789}\n",
            "{'Bayern_klimaschutz': 0.03722281351140024,\n",
            " 'Berlin_klimaschutz': 0.5317863933653137,\n",
            " 'Hamburg_klimaschutz': 0.020379163074132452,\n",
            " 'Hessen_klimaschutz': 0.10976177348461812,\n",
            " 'Niedersachsen_klimaschutz': 0.23653712472266128,\n",
            " 'Nordrhein-Westfalen_klimaschutz': -0.07771681162655657,\n",
            " 'date': 0.04086166711944825}\n",
            "{'Bayern_klimaschutz': 0.5081336034968045,\n",
            " 'Berlin_klimaschutz': 0.08257743207045759,\n",
            " 'Hamburg_klimaschutz': 0.1296655246936484,\n",
            " 'Hessen_klimaschutz': 1.2698653873121872,\n",
            " 'Niedersachsen_klimaschutz': 0.5047033951456039,\n",
            " 'date': 0.09883809680874461}\n"
          ]
        }
      ],
      "source": [
        "from pprint import pprint\n",
        "\n",
        "for i in range(3):\n",
        "    coefs = results[i][\"model\"].coef_[1:]\n",
        "    coef_keys = list(results[i][\"pivod_df\"].columns)\n",
        "    coef_dict = dict(\n",
        "        intercept=results[i][\"model\"].coef_[0], **dict(zip(coef_keys, coefs))\n",
        "    )\n",
        "    pprint(coef_dict)"
      ]
    },
    {
      "attachments": {},
      "cell_type": "markdown",
      "metadata": {},
      "source": [
        "### LR without co-terms"
      ]
    },
    {
      "cell_type": "code",
      "execution_count": 164,
      "metadata": {},
      "outputs": [
        {
          "data": {
            "application/vnd.jupyter.widget-view+json": {
              "model_id": "7ad71510d0b44488943ff8082ebd008d",
              "version_major": 2,
              "version_minor": 0
            },
            "text/plain": [
              "  0%|          | 0/200 [00:00<?, ?it/s]"
            ]
          },
          "metadata": {},
          "output_type": "display_data"
        },
        {
          "name": "stdout",
          "output_type": "stream",
          "text": [
            "Warning: 96 out of 200 protests were not evaluated due to lack of discourse data.\n"
          ]
        },
        {
          "data": {
            "text/plain": [
              "0.34891155034747884"
            ]
          },
          "execution_count": 164,
          "metadata": {},
          "output_type": "execute_result"
        }
      ],
      "source": [
        "results, agg_df = evaluate(models[\"linear_regression\"], co_terms=[])\n",
        "np.mean(\n",
        "    [\n",
        "        metrics(result[\"df\"], result[\"protest\"][\"event_date\"])[\"mae\"]\n",
        "        for result in results\n",
        "    ]\n",
        ")"
      ]
    },
    {
      "attachments": {},
      "cell_type": "markdown",
      "metadata": {},
      "source": [
        "### LR with co-terms"
      ]
    },
    {
      "cell_type": "code",
      "execution_count": 165,
      "metadata": {},
      "outputs": [
        {
          "data": {
            "application/vnd.jupyter.widget-view+json": {
              "model_id": "fd25009eaa824f3b9a95b03d42b3eb9f",
              "version_major": 2,
              "version_minor": 0
            },
            "text/plain": [
              "  0%|          | 0/200 [00:00<?, ?it/s]"
            ]
          },
          "metadata": {},
          "output_type": "display_data"
        },
        {
          "name": "stdout",
          "output_type": "stream",
          "text": [
            "Warning: 96 out of 200 protests were not evaluated due to lack of discourse data.\n"
          ]
        },
        {
          "data": {
            "text/plain": [
              "0.42488046546663943"
            ]
          },
          "execution_count": 165,
          "metadata": {},
          "output_type": "execute_result"
        }
      ],
      "source": [
        "results, agg_df = evaluate(models[\"linear_regression\"], co_terms=co_terms)\n",
        "np.mean(\n",
        "    [\n",
        "        metrics(result[\"df\"], result[\"protest\"][\"event_date\"])[\"mae\"]\n",
        "        for result in results\n",
        "    ]\n",
        ")"
      ]
    },
    {
      "cell_type": "code",
      "execution_count": 167,
      "metadata": {},
      "outputs": [
        {
          "name": "stdout",
          "output_type": "stream",
          "text": [
            "{'Bayern_energie': 0.08572986235824859,\n",
            " 'Bayern_klima': -0.04085274388440199,\n",
            " 'Bayern_klimakrise': 0.003794549567738942,\n",
            " 'Bayern_klimaschutz': 0.0245401215794851,\n",
            " 'Bayern_klimawandel': -0.04018567025794976,\n",
            " 'Bayern_umwelt': -0.07035097442629695,\n",
            " 'Bayern_umweltschutz': 0.031674915124234176,\n",
            " 'Berlin_energie': -0.09435461856107613,\n",
            " 'Berlin_klima': -0.005322323655145321,\n",
            " 'Berlin_klimaschutz': -0.01990604069936806,\n",
            " 'Berlin_klimawandel': -0.009160771582237145,\n",
            " 'Berlin_umwelt': 0.1291719794336645,\n",
            " 'Brandenburg_klimaschutz': 0.018886345297489556,\n",
            " 'Hamburg_energie': -0.01901636570630277,\n",
            " 'Hamburg_klima': 0.0010393194464942926,\n",
            " 'Hamburg_klimaschutz': 0.1312327491517297,\n",
            " 'Hamburg_klimawandel': -0.04094856039927591,\n",
            " 'Hamburg_umwelt': -0.005601016279916819,\n",
            " 'Hessen_energie': 0.01812031190311121,\n",
            " 'Hessen_erderwärmung': -0.030471787476502907,\n",
            " 'Hessen_klima': 0.014352746558799047,\n",
            " 'Hessen_klimakrise': -0.02735532676838419,\n",
            " 'Hessen_klimaschutz': 0.010146922136838018,\n",
            " 'Hessen_klimawandel': -0.0161424129362356,\n",
            " 'Hessen_umwelt': 0.005873267875456601,\n",
            " 'Hessen_umweltschutz': 0.10575365334059617,\n",
            " 'Niedersachsen_energie': 0.03760015121653263,\n",
            " 'Niedersachsen_erderwärmung': -0.01805516360614362,\n",
            " 'Niedersachsen_klima': 0.03930094149680393,\n",
            " 'Niedersachsen_klimaschutz': 0.02535790448687375,\n",
            " 'Niedersachsen_klimawandel': -0.005535113173845006,\n",
            " 'Niedersachsen_umwelt': -0.013630751526428418,\n",
            " 'Niedersachsen_umweltschutz': -0.012461053980085752,\n",
            " 'Nordrhein-Westfalen_energie': -0.12303013174522795,\n",
            " 'Nordrhein-Westfalen_klima': -0.026403576757614386,\n",
            " 'Nordrhein-Westfalen_klimaschutz': 0.004891513918772542,\n",
            " 'Nordrhein-Westfalen_klimawandel': 0.030182757909395896,\n",
            " 'Nordrhein-Westfalen_umwelt': -0.12491839574500352,\n",
            " 'Nordrhein-Westfalen_umweltschutz': 0.2468529501750446,\n",
            " 'Sachsen_energie': 0.03109886111055873,\n",
            " 'Sachsen_klima': -0.08289121514197718,\n",
            " 'Sachsen_klimaschutz': 0.01017619746666316,\n",
            " 'Sachsen_umwelt': 0.018557151990925745,\n",
            " 'Schleswig-Holstein_klimaschutz': -0.16156626389815787,\n",
            " 'date': -0.02511519964112316,\n",
            " 'intercept': 0.06470848802529452}\n",
            "{'Bayern_energie': 0.20828041658436394,\n",
            " 'Bayern_klima': 0.04757502571793369,\n",
            " 'Bayern_klimakrise': 0.03565225809148354,\n",
            " 'Bayern_klimaschutz': 0.10161526956224001,\n",
            " 'Bayern_klimawandel': -0.005483160119634812,\n",
            " 'Bayern_umwelt': 0.13205641581858135,\n",
            " 'Bayern_umweltschutz': 0.3463727777256259,\n",
            " 'Berlin_klimaschutz': -0.07636536489463545,\n",
            " 'Hamburg_energie': 0.03232239359537578,\n",
            " 'Hamburg_klima': 0.011403563006930625,\n",
            " 'Hamburg_klimaschutz': -0.19699909952145375,\n",
            " 'Hamburg_klimawandel': 0.06851870155741965,\n",
            " 'Hamburg_umwelt': -0.013670726280611353,\n",
            " 'Hessen_energie': 0.012882671682334373,\n",
            " 'Hessen_klima': 0.01111220208312105,\n",
            " 'Hessen_klimakrise': -0.02145999522803148,\n",
            " 'Hessen_klimaschutz': -0.008165893967828705,\n",
            " 'Hessen_klimawandel': -0.02127639118968837,\n",
            " 'Hessen_umwelt': -0.0026622028315902847,\n",
            " 'Hessen_umweltschutz': 0.046559054392662655,\n",
            " 'Niedersachsen_energie': -0.002028381032469601,\n",
            " 'Niedersachsen_erderwärmung': -0.00010356241921628272,\n",
            " 'Niedersachsen_klima': -0.03839471090216276,\n",
            " 'Niedersachsen_klimakrise': -0.03213122680301463,\n",
            " 'Niedersachsen_klimaschutz': 0.01837172383653453,\n",
            " 'Niedersachsen_klimawandel': -0.03644239821688346,\n",
            " 'Niedersachsen_umwelt': 0.019263251938485493,\n",
            " 'Niedersachsen_umweltschutz': 0.06763780922665145,\n",
            " 'Nordrhein-Westfalen_energie': 0.3142249722602005,\n",
            " 'Nordrhein-Westfalen_klima': -0.03627308459521825,\n",
            " 'Nordrhein-Westfalen_klimakrise': -0.03408155761807025,\n",
            " 'Nordrhein-Westfalen_klimaschutz': 0.14502892298317321,\n",
            " 'Nordrhein-Westfalen_klimawandel': -0.0053110059921917625,\n",
            " 'Nordrhein-Westfalen_umwelt': 0.08976962870467718,\n",
            " 'Nordrhein-Westfalen_umweltschutz': 0.15937023371216075,\n",
            " 'Rheinland-Pfalz_energie': 0.11198674611464673,\n",
            " 'Rheinland-Pfalz_umwelt': 0.014483192775685192,\n",
            " 'Sachsen_energie': 0.20874028165748146,\n",
            " 'Sachsen_klima': -0.336752717904862,\n",
            " 'Sachsen_klimaschutz': -0.02628346755523231,\n",
            " 'Sachsen_klimawandel': -0.013391861242586666,\n",
            " 'Sachsen_umwelt': 0.11704712139648368,\n",
            " 'Schleswig-Holstein_klimaschutz': 0.1635365402605154,\n",
            " 'date': -0.024718370002526566,\n",
            " 'intercept': 0.03088293160696847}\n",
            "{'Bayern_energie': 0.3190592778208471,\n",
            " 'Bayern_klima': -0.008225038371065573,\n",
            " 'Bayern_klimaschutz': 0.018826887304615382,\n",
            " 'Bayern_klimawandel': -0.03375742206397598,\n",
            " 'Bayern_umwelt': -0.1798880650495102,\n",
            " 'Bayern_umweltschutz': 0.49763220654831597,\n",
            " 'Berlin_energie': 0.12193787188241109,\n",
            " 'Berlin_klima': 0.24799543408224556,\n",
            " 'Berlin_klimaschutz': 0.15389329659121315,\n",
            " 'Berlin_klimawandel': -0.2176989924474916,\n",
            " 'Berlin_umwelt': 0.44829769621603827,\n",
            " 'Brandenburg_umwelt': -0.35314959174265637,\n",
            " 'Hamburg_energie': -0.09561774910739769,\n",
            " 'Hamburg_klima': 0.11052030451001833,\n",
            " 'Hamburg_klimaschutz': 0.20235937646406774,\n",
            " 'Hamburg_umwelt': 0.10022542984832797,\n",
            " 'Hessen_energie': 0.05352980565466558,\n",
            " 'Hessen_klima': -0.01994772712957704,\n",
            " 'Hessen_klimaschutz': -0.1714178843115476,\n",
            " 'Hessen_klimawandel': 0.08445340752146661,\n",
            " 'Hessen_umwelt': 0.045697149518369944,\n",
            " 'Hessen_umweltschutz': 0.0938906387920303,\n",
            " 'Niedersachsen_klimaschutz': 0.07349917693480354,\n",
            " 'Nordrhein-Westfalen_energie': 1.2356294666761816,\n",
            " 'Nordrhein-Westfalen_klima': -0.0013318702746844436,\n",
            " 'Nordrhein-Westfalen_klimaschutz': -0.15728674808243173,\n",
            " 'Nordrhein-Westfalen_klimawandel': -0.09186629484614563,\n",
            " 'Nordrhein-Westfalen_umwelt': -0.12046270830734658,\n",
            " 'Nordrhein-Westfalen_umweltschutz': 0.40139503311641495,\n",
            " 'Sachsen_energie': 0.012681031226542886,\n",
            " 'Sachsen_umwelt': 0.11658162360332451,\n",
            " 'date': -0.09009093512241015,\n",
            " 'intercept': 0.10160929538555177}\n"
          ]
        }
      ],
      "source": [
        "for i in range(3):\n",
        "    coefs = results[i][\"model\"].coef_[1:]\n",
        "    coef_keys = list(results[i][\"pivot_df\"].columns)\n",
        "    coef_dict = dict(\n",
        "        intercept=results[i][\"model\"].coef_[0], **dict(zip(coef_keys, coefs))\n",
        "    )\n",
        "    pprint(coef_dict)"
      ]
    },
    {
      "attachments": {},
      "cell_type": "markdown",
      "metadata": {},
      "source": [
        "### Random forest with co-terms"
      ]
    },
    {
      "cell_type": "code",
      "execution_count": 168,
      "metadata": {},
      "outputs": [
        {
          "data": {
            "application/vnd.jupyter.widget-view+json": {
              "model_id": "813796d88c7f40a4b87ded7a1e959bcf",
              "version_major": 2,
              "version_minor": 0
            },
            "text/plain": [
              "  0%|          | 0/200 [00:00<?, ?it/s]"
            ]
          },
          "metadata": {},
          "output_type": "display_data"
        },
        {
          "name": "stdout",
          "output_type": "stream",
          "text": [
            "Warning: 96 out of 200 protests were not evaluated due to lack of discourse data.\n"
          ]
        },
        {
          "data": {
            "text/plain": [
              "0.38429744777418384"
            ]
          },
          "execution_count": 168,
          "metadata": {},
          "output_type": "execute_result"
        }
      ],
      "source": [
        "results, agg_df = evaluate(models[\"random_forest\"], co_terms=co_terms)\n",
        "np.mean(\n",
        "    [\n",
        "        metrics(result[\"df\"], result[\"protest\"][\"event_date\"])[\"mae\"]\n",
        "        for result in results\n",
        "    ]\n",
        ")"
      ]
    },
    {
      "cell_type": "code",
      "execution_count": 170,
      "metadata": {},
      "outputs": [
        {
          "data": {
            "application/vnd.jupyter.widget-view+json": {
              "model_id": "11011cbf85eb432fb4cad693bff8a3d2",
              "version_major": 2,
              "version_minor": 0
            },
            "text/plain": [
              "  0%|          | 0/200 [00:00<?, ?it/s]"
            ]
          },
          "metadata": {},
          "output_type": "display_data"
        },
        {
          "name": "stdout",
          "output_type": "stream",
          "text": [
            "Warning: 96 out of 200 protests were not evaluated due to lack of discourse data.\n"
          ]
        },
        {
          "data": {
            "text/plain": [
              "0.39599639916907337"
            ]
          },
          "execution_count": 170,
          "metadata": {},
          "output_type": "execute_result"
        }
      ],
      "source": [
        "results, agg_df = evaluate(models[\"gradient_boosting\"], co_terms=co_terms)\n",
        "np.mean(\n",
        "    [\n",
        "        metrics(result[\"df\"], result[\"protest\"][\"event_date\"])[\"mae\"]\n",
        "        for result in results\n",
        "    ]\n",
        ")"
      ]
    },
    {
      "cell_type": "code",
      "execution_count": null,
      "metadata": {},
      "outputs": [],
      "source": []
    }
  ],
  "metadata": {
    "kernelspec": {
      "display_name": ".venv",
      "language": "python",
      "name": "python3"
    },
    "language_info": {
      "codemirror_mode": {
        "name": "ipython",
        "version": 3
      },
      "file_extension": ".py",
      "mimetype": "text/x-python",
      "name": "python",
      "nbconvert_exporter": "python",
      "pygments_lexer": "ipython3",
      "version": "3.10.10"
    },
    "orig_nbformat": 4
  },
  "nbformat": 4,
  "nbformat_minor": 2
}
