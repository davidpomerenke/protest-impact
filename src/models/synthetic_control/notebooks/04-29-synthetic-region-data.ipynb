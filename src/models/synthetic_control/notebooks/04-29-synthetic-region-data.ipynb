{
 "cells": [
  {
   "attachments": {},
   "cell_type": "markdown",
   "metadata": {},
   "source": [
    "Generating all the data and putting them into CSVs, rather than using the cached custom functions. Reduces complexity a bit.\n"
   ]
  },
  {
   "cell_type": "code",
   "execution_count": 1,
   "metadata": {},
   "outputs": [],
   "source": [
    "%load_ext autoreload\n",
    "%autoreload complete"
   ]
  },
  {
   "cell_type": "code",
   "execution_count": 2,
   "metadata": {},
   "outputs": [],
   "source": [
    "from protest_impact.data.protests import get_climate_protests, get_climate_queries\n",
    "\n",
    "queries = get_climate_queries()"
   ]
  },
  {
   "cell_type": "code",
   "execution_count": 3,
   "metadata": {},
   "outputs": [
    {
     "name": "stdout",
     "output_type": "stream",
     "text": [
      "(klima OR klimawandel OR erderwärmung OR klimaschutz OR klimagerechtigkeit OR \"hambacher forst\" OR hambi OR lütz* OR klimakrise OR klimakatastrophe OR klimakollaps OR klimanotstand OR klimagerechtigkeit OR klimaneutralität OR klimaneutral OR klimaziel OR klimaschutzpaket OR klimaschutzgesetz* OR kohleausstieg OR \"erneuerbare energie*\" OR bürgerrat OR bürgerräte) AND (protest* OR demo OR demonstr* OR kundgebung OR versamm* OR \"soziale bewegung\" OR hausbesetz* OR streik* OR unterschriften* OR petition OR hasskriminalität OR unruhen OR aufruhr OR aufstand OR rebell* OR blockade OR blockier* OR sitzblock* OR boykott* OR riot OR aktivis* OR bürgerinitiative OR bürgerbegehren OR marsch OR aufmarsch OR parade OR mahnwache OR hungerstreik OR \"ziviler ungehorsam\" OR \"fridays for future\" OR fridaysforfuture OR fridays4future OR \"extinction rebellion\" OR \"just stop oil\" OR \"letzte generation\" OR \"ultima generazione\" OR \"ende gelände\" OR klimabewegung OR klimaaktivis* OR klimastreik*)\n",
      "False\n",
      "False\n",
      "False\n",
      "(klima OR klimawandel OR erderwärmung OR klimaschutz OR klimagerechtigkeit OR \"hambacher forst\" OR hambi OR lütz* OR klimakrise OR klimakatastrophe OR klimakollaps OR klimanotstand OR klimagerechtigkeit OR klimaneutralität OR klimaneutral OR klimaziel OR klimaschutzpaket OR klimaschutzgesetz* OR kohleausstieg OR \"erneuerbare energie*\" OR bürgerrat OR bürgerräte) AND NOT (protest* OR demo OR demonstr* OR kundgebung OR versamm* OR \"soziale bewegung\" OR hausbesetz* OR streik* OR unterschriften* OR petition OR hasskriminalität OR unruhen OR aufruhr OR aufstand OR rebell* OR blockade OR blockier* OR sitzblock* OR boykott* OR riot OR aktivis* OR bürgerinitiative OR bürgerbegehren OR marsch OR aufmarsch OR parade OR mahnwache OR hungerstreik OR \"ziviler ungehorsam\" OR \"fridays for future\" OR fridaysforfuture OR fridays4future OR \"extinction rebellion\" OR \"just stop oil\" OR \"letzte generation\" OR \"ultima generazione\" OR \"ende gelände\" OR klimabewegung OR klimaaktivis* OR klimastreik*)\n",
      "True\n",
      "True\n",
      "False\n",
      "klima OR klimawandel OR erderwärmung OR klimaschutz OR klimagerechtigkeit OR \"hambacher forst\" OR hambi OR lütz* OR klimakrise OR klimakatastrophe OR klimakollaps OR klimanotstand OR klimagerechtigkeit OR klimaneutralität OR klimaneutral OR klimaziel OR klimaschutzpaket OR klimaschutzgesetz* OR kohleausstieg OR \"erneuerbare energie*\" OR bürgerrat OR bürgerräte\n",
      "True\n",
      "True\n",
      "False\n"
     ]
    }
   ],
   "source": [
    "for v in queries.values():\n",
    "    print(v[0])\n",
    "    print(v[1](\"Das Klima ist angenehm.\"))\n",
    "    print(v[1](\"Schon wieder Klimaproteste.\"))\n",
    "    print(v[1](\"Die Proteste sind vorbei.\"))"
   ]
  },
  {
   "cell_type": "code",
   "execution_count": 4,
   "metadata": {},
   "outputs": [
    {
     "data": {
      "application/vnd.jupyter.widget-view+json": {
       "model_id": "b315ad87ed1a40dfbb51b35a2c6383da",
       "version_major": 2,
       "version_minor": 0
      },
      "text/plain": [
       "  0%|          | 0/3 [00:00<?, ?it/s]"
      ]
     },
     "metadata": {},
     "output_type": "display_data"
    },
    {
     "data": {
      "application/vnd.jupyter.widget-view+json": {
       "model_id": "820f613d886447999c04ef0cb06053a4",
       "version_major": 2,
       "version_minor": 0
      },
      "text/plain": [
       "  0%|          | 0/3 [00:00<?, ?it/s]"
      ]
     },
     "metadata": {},
     "output_type": "display_data"
    },
    {
     "data": {
      "application/vnd.jupyter.widget-view+json": {
       "model_id": "bf5664c023eb46fdafeaee5ac7dad93f",
       "version_major": 2,
       "version_minor": 0
      },
      "text/plain": [
       "  0%|          | 0/3 [00:00<?, ?it/s]"
      ]
     },
     "metadata": {},
     "output_type": "display_data"
    },
    {
     "data": {
      "application/vnd.jupyter.widget-view+json": {
       "model_id": "5c5fddb0da87431f95b331694113b511",
       "version_major": 2,
       "version_minor": 0
      },
      "text/plain": [
       "  0%|          | 0/12 [00:00<?, ?it/s]"
      ]
     },
     "metadata": {},
     "output_type": "display_data"
    },
    {
     "data": {
      "application/vnd.jupyter.widget-view+json": {
       "model_id": "57873a870c7948f2a6369bd23945a7fb",
       "version_major": 2,
       "version_minor": 0
      },
      "text/plain": [
       "  0%|          | 0/466 [00:00<?, ?it/s]"
      ]
     },
     "metadata": {},
     "output_type": "display_data"
    },
    {
     "data": {
      "application/vnd.jupyter.widget-view+json": {
       "model_id": "30335ba7ac124234aaa4b6ac4010ac64",
       "version_major": 2,
       "version_minor": 0
      },
      "text/plain": [
       "  0%|          | 0/466 [00:00<?, ?it/s]"
      ]
     },
     "metadata": {},
     "output_type": "display_data"
    },
    {
     "ename": "KeyboardInterrupt",
     "evalue": "",
     "output_type": "error",
     "traceback": [
      "\u001b[0;31m---------------------------------------------------------------------------\u001b[0m",
      "\u001b[0;31mKeyboardInterrupt\u001b[0m                         Traceback (most recent call last)",
      "Cell \u001b[0;32mIn[4], line 92\u001b[0m\n\u001b[1;32m     90\u001b[0m     c \u001b[39m=\u001b[39m \u001b[39mdict\u001b[39m(\u001b[39mzip\u001b[39m(parameters\u001b[39m.\u001b[39mkeys(), combination))\n\u001b[1;32m     91\u001b[0m     evaluated_parameters\u001b[39m.\u001b[39mappend(c)\n\u001b[0;32m---> 92\u001b[0m     a \u001b[39m=\u001b[39m get_data(c)\n\u001b[1;32m     93\u001b[0m     args_list\u001b[39m.\u001b[39mextend(a)\n\u001b[1;32m     94\u001b[0m df \u001b[39m=\u001b[39m pd\u001b[39m.\u001b[39mDataFrame(evaluated_parameters)\n",
      "Cell \u001b[0;32mIn[4], line 45\u001b[0m, in \u001b[0;36mget_data\u001b[0;34m(parameters)\u001b[0m\n\u001b[1;32m     35\u001b[0m json_path \u001b[39m=\u001b[39m (\n\u001b[1;32m     36\u001b[0m     project_root \u001b[39m/\u001b[39m \u001b[39m\"\u001b[39m\u001b[39mdata\u001b[39m\u001b[39m\"\u001b[39m \u001b[39m/\u001b[39m \u001b[39m\"\u001b[39m\u001b[39msynthetic-region\u001b[39m\u001b[39m\"\u001b[39m \u001b[39m/\u001b[39m \u001b[39m\"\u001b[39m\u001b[39mtime-series\u001b[39m\u001b[39m\"\u001b[39m \u001b[39m/\u001b[39m \u001b[39mf\u001b[39m\u001b[39m\"\u001b[39m\u001b[39m{\u001b[39;00mh\u001b[39m}\u001b[39;00m\u001b[39m.json\u001b[39m\u001b[39m\"\u001b[39m\n\u001b[1;32m     37\u001b[0m )\n\u001b[1;32m     38\u001b[0m csv_path \u001b[39m=\u001b[39m (\n\u001b[1;32m     39\u001b[0m     project_root\n\u001b[1;32m     40\u001b[0m     \u001b[39m/\u001b[39m \u001b[39m\"\u001b[39m\u001b[39mdata\u001b[39m\u001b[39m\"\u001b[39m\n\u001b[0;32m   (...)\u001b[0m\n\u001b[1;32m     43\u001b[0m     \u001b[39m/\u001b[39m \u001b[39mf\u001b[39m\u001b[39m\"\u001b[39m\u001b[39m{\u001b[39;00mh\u001b[39m}\u001b[39;00m\u001b[39m_\u001b[39m\u001b[39m{\u001b[39;00mp\u001b[39m.\u001b[39mdiscourse_type[:\u001b[39m-\u001b[39m\u001b[39m8\u001b[39m]\u001b[39m}\u001b[39;00m\u001b[39m.csv\u001b[39m\u001b[39m\"\u001b[39m\n\u001b[1;32m     44\u001b[0m )\n\u001b[0;32m---> 45\u001b[0m df \u001b[39m=\u001b[39m get_regional_counts_for_protest(\n\u001b[1;32m     46\u001b[0m     query_str\u001b[39m=\u001b[39;49mquery[\u001b[39m0\u001b[39;49m],\n\u001b[1;32m     47\u001b[0m     query_func\u001b[39m=\u001b[39;49mquery[\u001b[39m1\u001b[39;49m],\n\u001b[1;32m     48\u001b[0m     region\u001b[39m=\u001b[39;49mevent[\u001b[39m\"\u001b[39;49m\u001b[39madmin1\u001b[39;49m\u001b[39m\"\u001b[39;49m],\n\u001b[1;32m     49\u001b[0m     event_date\u001b[39m=\u001b[39;49mevent[\u001b[39m\"\u001b[39;49m\u001b[39mevent_date\u001b[39;49m\u001b[39m\"\u001b[39;49m],\n\u001b[1;32m     50\u001b[0m     source\u001b[39m=\u001b[39;49mp\u001b[39m.\u001b[39;49msource,\n\u001b[1;32m     51\u001b[0m     n_days_train\u001b[39m=\u001b[39;49m\u001b[39mNone\u001b[39;49;00m,\n\u001b[1;32m     52\u001b[0m     n_days_predict\u001b[39m=\u001b[39;49mp\u001b[39m.\u001b[39;49mprediction_interval,\n\u001b[1;32m     53\u001b[0m     dereko_entries\u001b[39m=\u001b[39;49mdereko_entries[p\u001b[39m.\u001b[39;49mdiscourse_type],\n\u001b[1;32m     54\u001b[0m )\n\u001b[1;32m     55\u001b[0m \u001b[39mif\u001b[39;00m df \u001b[39mis\u001b[39;00m \u001b[39mNone\u001b[39;00m:\n\u001b[1;32m     56\u001b[0m     \u001b[39mcontinue\u001b[39;00m\n",
      "File \u001b[0;32m~/Repositories/protest-impact/protest_impact/synthetic_region/__init__.py:63\u001b[0m, in \u001b[0;36mget_regional_counts_for_protest\u001b[0;34m(region, event_date, query_str, query_func, source, dereko_entries, n_days_train, n_days_predict)\u001b[0m\n\u001b[1;32m     61\u001b[0m \u001b[39mfor\u001b[39;00m _region \u001b[39min\u001b[39;00m regions:\n\u001b[1;32m     62\u001b[0m     is_protest_region \u001b[39m=\u001b[39m _region \u001b[39m==\u001b[39m region\n\u001b[0;32m---> 63\u001b[0m     df \u001b[39m=\u001b[39m get_regional_count_df(\n\u001b[1;32m     64\u001b[0m         query_string\u001b[39m=\u001b[39;49mquery_str,\n\u001b[1;32m     65\u001b[0m         query_func\u001b[39m=\u001b[39;49mquery_func,\n\u001b[1;32m     66\u001b[0m         region\u001b[39m=\u001b[39;49m_region,\n\u001b[1;32m     67\u001b[0m         start_date\u001b[39m=\u001b[39;49mstart_date,\n\u001b[1;32m     68\u001b[0m         end_date\u001b[39m=\u001b[39;49mend_date,\n\u001b[1;32m     69\u001b[0m         source\u001b[39m=\u001b[39;49msource,\n\u001b[1;32m     70\u001b[0m         \u001b[39m*\u001b[39;49m\u001b[39m*\u001b[39;49mkwargs,\n\u001b[1;32m     71\u001b[0m     )\n\u001b[1;32m     72\u001b[0m     \u001b[39mif\u001b[39;00m df \u001b[39mis\u001b[39;00m \u001b[39mNone\u001b[39;00m:\n\u001b[1;32m     73\u001b[0m         \u001b[39mif\u001b[39;00m is_protest_region:\n",
      "File \u001b[0;32m~/Repositories/protest-impact/protest_impact/data/news/__init__.py:39\u001b[0m, in \u001b[0;36mget_regional_count_df\u001b[0;34m(region, start_date, end_date, query_string, query_func, source, **kwargs)\u001b[0m\n\u001b[1;32m     31\u001b[0m     \u001b[39mreturn\u001b[39;00m dereko_get_regional_count_df(\n\u001b[1;32m     32\u001b[0m         query_string\u001b[39m=\u001b[39mquery_string,\n\u001b[1;32m     33\u001b[0m         region\u001b[39m=\u001b[39mregion,\n\u001b[0;32m   (...)\u001b[0m\n\u001b[1;32m     36\u001b[0m         \u001b[39m*\u001b[39m\u001b[39m*\u001b[39mkwargs,\n\u001b[1;32m     37\u001b[0m     )\n\u001b[1;32m     38\u001b[0m \u001b[39melif\u001b[39;00m source \u001b[39m==\u001b[39m \u001b[39m\"\u001b[39m\u001b[39mdereko_scrape\u001b[39m\u001b[39m\"\u001b[39m:\n\u001b[0;32m---> 39\u001b[0m     \u001b[39mreturn\u001b[39;00m dereko_get_scraped_regional_count_df(\n\u001b[1;32m     40\u001b[0m         query_func\u001b[39m=\u001b[39;49mquery_func,\n\u001b[1;32m     41\u001b[0m         region\u001b[39m=\u001b[39;49mregion,\n\u001b[1;32m     42\u001b[0m         start_date\u001b[39m=\u001b[39;49mstart_date,\n\u001b[1;32m     43\u001b[0m         end_date\u001b[39m=\u001b[39;49mend_date,\n\u001b[1;32m     44\u001b[0m         \u001b[39m*\u001b[39;49m\u001b[39m*\u001b[39;49mkwargs,\n\u001b[1;32m     45\u001b[0m     )\n\u001b[1;32m     46\u001b[0m \u001b[39melif\u001b[39;00m source \u001b[39m==\u001b[39m \u001b[39m\"\u001b[39m\u001b[39mmediacloud\u001b[39m\u001b[39m\"\u001b[39m:\n\u001b[1;32m     47\u001b[0m     \u001b[39mreturn\u001b[39;00m mediacloud_get_regional_count_df(\n\u001b[1;32m     48\u001b[0m         query_string\u001b[39m=\u001b[39mquery_string,\n\u001b[1;32m     49\u001b[0m         region\u001b[39m=\u001b[39mregion,\n\u001b[0;32m   (...)\u001b[0m\n\u001b[1;32m     52\u001b[0m         stable\u001b[39m=\u001b[39m\u001b[39mFalse\u001b[39;00m\u001b[39m*\u001b[39m\u001b[39m*\u001b[39mkwargs,\n\u001b[1;32m     53\u001b[0m     )\n",
      "File \u001b[0;32m~/Repositories/protest-impact/protest_impact/data/news/sources/dereko.py:235\u001b[0m, in \u001b[0;36mget_scraped_regional_count_df\u001b[0;34m(query_func, region, start_date, end_date, stable, entries)\u001b[0m\n\u001b[1;32m    233\u001b[0m entries \u001b[39m=\u001b[39m \u001b[39mset\u001b[39m((e[\u001b[39m\"\u001b[39m\u001b[39mdate\u001b[39m\u001b[39m\"\u001b[39m], e[\u001b[39m\"\u001b[39m\u001b[39mtitle\u001b[39m\u001b[39m\"\u001b[39m]) \u001b[39mfor\u001b[39;00m e \u001b[39min\u001b[39;00m entries)\n\u001b[1;32m    234\u001b[0m entries \u001b[39m=\u001b[39m [date_ \u001b[39mfor\u001b[39;00m date_, title \u001b[39min\u001b[39;00m entries]\n\u001b[0;32m--> 235\u001b[0m df \u001b[39m=\u001b[39m pd\u001b[39m.\u001b[39;49mDataFrame(entries, columns\u001b[39m=\u001b[39;49m[\u001b[39m\"\u001b[39;49m\u001b[39mdate\u001b[39;49m\u001b[39m\"\u001b[39;49m])\n\u001b[1;32m    236\u001b[0m df \u001b[39m=\u001b[39m df\u001b[39m.\u001b[39mgroupby(\u001b[39m\"\u001b[39m\u001b[39mdate\u001b[39m\u001b[39m\"\u001b[39m)\u001b[39m.\u001b[39mcount()\u001b[39m.\u001b[39mreset_index()\n\u001b[1;32m    237\u001b[0m \u001b[39m# set missing dates to 0 (without making date the index)\u001b[39;00m\n",
      "File \u001b[0;32m~/Repositories/protest-impact/.venv/lib/python3.10/site-packages/pandas/core/frame.py:762\u001b[0m, in \u001b[0;36mDataFrame.__init__\u001b[0;34m(self, data, index, columns, dtype, copy)\u001b[0m\n\u001b[1;32m    754\u001b[0m         mgr \u001b[39m=\u001b[39m arrays_to_mgr(\n\u001b[1;32m    755\u001b[0m             arrays,\n\u001b[1;32m    756\u001b[0m             columns,\n\u001b[0;32m   (...)\u001b[0m\n\u001b[1;32m    759\u001b[0m             typ\u001b[39m=\u001b[39mmanager,\n\u001b[1;32m    760\u001b[0m         )\n\u001b[1;32m    761\u001b[0m     \u001b[39melse\u001b[39;00m:\n\u001b[0;32m--> 762\u001b[0m         mgr \u001b[39m=\u001b[39m ndarray_to_mgr(\n\u001b[1;32m    763\u001b[0m             data,\n\u001b[1;32m    764\u001b[0m             index,\n\u001b[1;32m    765\u001b[0m             columns,\n\u001b[1;32m    766\u001b[0m             dtype\u001b[39m=\u001b[39;49mdtype,\n\u001b[1;32m    767\u001b[0m             copy\u001b[39m=\u001b[39;49mcopy,\n\u001b[1;32m    768\u001b[0m             typ\u001b[39m=\u001b[39;49mmanager,\n\u001b[1;32m    769\u001b[0m         )\n\u001b[1;32m    770\u001b[0m \u001b[39melse\u001b[39;00m:\n\u001b[1;32m    771\u001b[0m     mgr \u001b[39m=\u001b[39m dict_to_mgr(\n\u001b[1;32m    772\u001b[0m         {},\n\u001b[1;32m    773\u001b[0m         index,\n\u001b[0;32m   (...)\u001b[0m\n\u001b[1;32m    776\u001b[0m         typ\u001b[39m=\u001b[39mmanager,\n\u001b[1;32m    777\u001b[0m     )\n",
      "File \u001b[0;32m~/Repositories/protest-impact/.venv/lib/python3.10/site-packages/pandas/core/internals/construction.py:329\u001b[0m, in \u001b[0;36mndarray_to_mgr\u001b[0;34m(values, index, columns, dtype, copy, typ)\u001b[0m\n\u001b[1;32m    324\u001b[0m         values \u001b[39m=\u001b[39m values\u001b[39m.\u001b[39mreshape(\u001b[39m-\u001b[39m\u001b[39m1\u001b[39m, \u001b[39m1\u001b[39m)\n\u001b[1;32m    326\u001b[0m \u001b[39melse\u001b[39;00m:\n\u001b[1;32m    327\u001b[0m     \u001b[39m# by definition an array here\u001b[39;00m\n\u001b[1;32m    328\u001b[0m     \u001b[39m# the dtypes will be coerced to a single dtype\u001b[39;00m\n\u001b[0;32m--> 329\u001b[0m     values \u001b[39m=\u001b[39m _prep_ndarraylike(values, copy\u001b[39m=\u001b[39;49mcopy_on_sanitize)\n\u001b[1;32m    331\u001b[0m \u001b[39mif\u001b[39;00m dtype \u001b[39mis\u001b[39;00m \u001b[39mnot\u001b[39;00m \u001b[39mNone\u001b[39;00m \u001b[39mand\u001b[39;00m \u001b[39mnot\u001b[39;00m is_dtype_equal(values\u001b[39m.\u001b[39mdtype, dtype):\n\u001b[1;32m    332\u001b[0m     \u001b[39m# GH#40110 see similar check inside sanitize_array\u001b[39;00m\n\u001b[1;32m    333\u001b[0m     rcf \u001b[39m=\u001b[39m \u001b[39mnot\u001b[39;00m (is_integer_dtype(dtype) \u001b[39mand\u001b[39;00m values\u001b[39m.\u001b[39mdtype\u001b[39m.\u001b[39mkind \u001b[39m==\u001b[39m \u001b[39m\"\u001b[39m\u001b[39mf\u001b[39m\u001b[39m\"\u001b[39m)\n",
      "File \u001b[0;32m~/Repositories/protest-impact/.venv/lib/python3.10/site-packages/pandas/core/internals/construction.py:573\u001b[0m, in \u001b[0;36m_prep_ndarraylike\u001b[0;34m(values, copy)\u001b[0m\n\u001b[1;32m    571\u001b[0m         values \u001b[39m=\u001b[39m np\u001b[39m.\u001b[39marray([convert(v) \u001b[39mfor\u001b[39;00m v \u001b[39min\u001b[39;00m values])\n\u001b[1;32m    572\u001b[0m     \u001b[39melse\u001b[39;00m:\n\u001b[0;32m--> 573\u001b[0m         values \u001b[39m=\u001b[39m convert(values)\n\u001b[1;32m    575\u001b[0m \u001b[39melse\u001b[39;00m:\n\u001b[1;32m    576\u001b[0m \n\u001b[1;32m    577\u001b[0m     \u001b[39m# drop subclass info\u001b[39;00m\n\u001b[1;32m    578\u001b[0m     values \u001b[39m=\u001b[39m np\u001b[39m.\u001b[39marray(values, copy\u001b[39m=\u001b[39mcopy)\n",
      "File \u001b[0;32m~/Repositories/protest-impact/.venv/lib/python3.10/site-packages/pandas/core/internals/construction.py:561\u001b[0m, in \u001b[0;36m_prep_ndarraylike.<locals>.convert\u001b[0;34m(v)\u001b[0m\n\u001b[1;32m    558\u001b[0m     \u001b[39mreturn\u001b[39;00m v\n\u001b[1;32m    560\u001b[0m v \u001b[39m=\u001b[39m extract_array(v, extract_numpy\u001b[39m=\u001b[39m\u001b[39mTrue\u001b[39;00m)\n\u001b[0;32m--> 561\u001b[0m res \u001b[39m=\u001b[39m maybe_convert_platform(v)\n\u001b[1;32m    562\u001b[0m \u001b[39mreturn\u001b[39;00m res\n",
      "File \u001b[0;32m~/Repositories/protest-impact/.venv/lib/python3.10/site-packages/pandas/core/dtypes/cast.py:127\u001b[0m, in \u001b[0;36mmaybe_convert_platform\u001b[0;34m(values)\u001b[0m\n\u001b[1;32m    124\u001b[0m arr: ArrayLike\n\u001b[1;32m    126\u001b[0m \u001b[39mif\u001b[39;00m \u001b[39misinstance\u001b[39m(values, (\u001b[39mlist\u001b[39m, \u001b[39mtuple\u001b[39m, \u001b[39mrange\u001b[39m)):\n\u001b[0;32m--> 127\u001b[0m     arr \u001b[39m=\u001b[39m construct_1d_object_array_from_listlike(values)\n\u001b[1;32m    128\u001b[0m \u001b[39melse\u001b[39;00m:\n\u001b[1;32m    129\u001b[0m     \u001b[39m# The caller is responsible for ensuring that we have np.ndarray\u001b[39;00m\n\u001b[1;32m    130\u001b[0m     \u001b[39m#  or ExtensionArray here.\u001b[39;00m\n\u001b[1;32m    131\u001b[0m     arr \u001b[39m=\u001b[39m values\n",
      "\u001b[0;31mKeyboardInterrupt\u001b[0m: "
     ]
    }
   ],
   "source": [
    "import json\n",
    "from datetime import date\n",
    "from itertools import product\n",
    "\n",
    "import numpy as np\n",
    "import pandas as pd\n",
    "from joblib.hashing import hash\n",
    "from protest_impact.data.news.sources.dereko import get_scraped_entries\n",
    "from protest_impact.synthetic_region import (\n",
    "    filter_regions,\n",
    "    get_regional_counts_for_protest,\n",
    ")\n",
    "from protest_impact.util import project_root\n",
    "from tqdm.notebook import tqdm\n",
    "\n",
    "SEED = 20230429\n",
    "rng = np.random.default_rng(SEED)\n",
    "dereko_entries = dict()\n",
    "for t in [\"climate\"]:  # , \"climate_and_protest\", \"climate_not_protest\"]:\n",
    "    dereko_entries[t] = get_scraped_entries(discourse_type=t)\n",
    "\n",
    "\n",
    "def get_data(parameters):\n",
    "    p = type(\n",
    "        \"Parameters\", (object,), parameters\n",
    "    )  # convert to object for better legibility\n",
    "    protests = get_climate_protests(\n",
    "        start_date=p.start_date, end_date=p.end_date, groups=[p.protest_group]\n",
    "    )\n",
    "    query = queries[p.discourse_type]\n",
    "    args_list = []\n",
    "    for event in tqdm(protests.to_dict(orient=\"records\")):\n",
    "        args = dict(**parameters, **event)\n",
    "        h = hash([v for k, v in args.items() if k != \"discourse_type\"])\n",
    "        json_path = (\n",
    "            project_root / \"data\" / \"synthetic-region\" / \"time-series\" / f\"{h}.json\"\n",
    "        )\n",
    "        csv_path = (\n",
    "            project_root\n",
    "            / \"data\"\n",
    "            / \"synthetic-region\"\n",
    "            / \"time-series\"\n",
    "            / f\"{h}_{p.discourse_type[:-8]}.csv\"\n",
    "        )\n",
    "        df = get_regional_counts_for_protest(\n",
    "            query_str=query[0],\n",
    "            query_func=query[1],\n",
    "            region=event[\"admin1\"],\n",
    "            event_date=event[\"event_date\"],\n",
    "            source=p.source,\n",
    "            n_days_train=None,\n",
    "            n_days_predict=p.prediction_interval,\n",
    "            dereko_entries=dereko_entries[p.discourse_type],\n",
    "        )\n",
    "        if df is None:\n",
    "            continue\n",
    "        df = filter_regions(\n",
    "            df=df,\n",
    "            region=event[\"admin1\"],\n",
    "            event_date=event[\"event_date\"],\n",
    "            reference_events=protests,\n",
    "            n_days_protest_free_pre=1,\n",
    "            n_days_protest_free_post=1,\n",
    "            min_control_regions=0,\n",
    "            min_count=0,\n",
    "        )\n",
    "        if df is None:\n",
    "            continue\n",
    "        with open(json_path, \"w\") as f:\n",
    "            for k, v in args.items():\n",
    "                if isinstance(v, date):\n",
    "                    args[k] = v.isoformat()\n",
    "            json.dump(args, f)\n",
    "        df.to_csv(csv_path)\n",
    "        args_list.append(dict(**args, **dict(hash=h, csv=csv_path)))\n",
    "    return args_list\n",
    "\n",
    "\n",
    "parameters = dict(\n",
    "    start_date=[date(2020, 1, 1)],\n",
    "    end_date=[date(2022, 12, 31)],\n",
    "    protest_group=[\"fff\", \"alg\", \"xr\", \"eg\"],\n",
    "    source=[\"dereko_scrape\"],  # \"mediacloud\"],\n",
    "    discourse_type=[\"climate\", \"climate_not_protest\", \"climate_and_protest\"],\n",
    "    prediction_interval=[28],\n",
    ")\n",
    "args_list = []\n",
    "evaluated_parameters = []\n",
    "for combination in tqdm(list(product(*parameters.values()))):\n",
    "    c = dict(zip(parameters.keys(), combination))\n",
    "    evaluated_parameters.append(c)\n",
    "    a = get_data(c)\n",
    "    args_list.extend(a)\n",
    "df = pd.DataFrame(evaluated_parameters)\n",
    "df"
   ]
  },
  {
   "cell_type": "code",
   "execution_count": 7,
   "metadata": {},
   "outputs": [
    {
     "data": {
      "text/html": [
       "<div>\n",
       "<style scoped>\n",
       "    .dataframe tbody tr th:only-of-type {\n",
       "        vertical-align: middle;\n",
       "    }\n",
       "\n",
       "    .dataframe tbody tr th {\n",
       "        vertical-align: top;\n",
       "    }\n",
       "\n",
       "    .dataframe thead th {\n",
       "        text-align: right;\n",
       "    }\n",
       "</style>\n",
       "<table border=\"1\" class=\"dataframe\">\n",
       "  <thead>\n",
       "    <tr style=\"text-align: right;\">\n",
       "      <th></th>\n",
       "      <th>start_date</th>\n",
       "      <th>end_date</th>\n",
       "      <th>protest_group</th>\n",
       "      <th>source</th>\n",
       "      <th>discourse_type</th>\n",
       "      <th>co_terms</th>\n",
       "      <th>prediction_interval</th>\n",
       "      <th>event_date</th>\n",
       "      <th>sub_event_type</th>\n",
       "      <th>assoc_actor_1</th>\n",
       "      <th>admin1</th>\n",
       "      <th>location</th>\n",
       "      <th>notes</th>\n",
       "      <th>weekday</th>\n",
       "      <th>region_code</th>\n",
       "      <th>size</th>\n",
       "      <th>hash</th>\n",
       "      <th>csv</th>\n",
       "    </tr>\n",
       "  </thead>\n",
       "  <tbody>\n",
       "    <tr>\n",
       "      <th>0</th>\n",
       "      <td>2020-01-01</td>\n",
       "      <td>2022-12-31</td>\n",
       "      <td>fff</td>\n",
       "      <td>dereko_scrape</td>\n",
       "      <td>climate</td>\n",
       "      <td></td>\n",
       "      <td>28</td>\n",
       "      <td>2022-11-05T00:00:00</td>\n",
       "      <td>Peaceful protest</td>\n",
       "      <td>FFF: Fridays for Future; Students (Germany)</td>\n",
       "      <td>Sachsen</td>\n",
       "      <td>Dresden</td>\n",
       "      <td>On 5 November 2022, members of FFF (including ...</td>\n",
       "      <td>Saturday</td>\n",
       "      <td>SN</td>\n",
       "      <td>NaN</td>\n",
       "      <td>fddd78e20627fe6c2e8925b266bbe89f</td>\n",
       "      <td>/Users/david/Repositories/protest-impact/data/...</td>\n",
       "    </tr>\n",
       "    <tr>\n",
       "      <th>1</th>\n",
       "      <td>2020-01-01</td>\n",
       "      <td>2022-12-31</td>\n",
       "      <td>fff</td>\n",
       "      <td>dereko_scrape</td>\n",
       "      <td>climate</td>\n",
       "      <td></td>\n",
       "      <td>28</td>\n",
       "      <td>2022-10-12T00:00:00</td>\n",
       "      <td>Peaceful protest</td>\n",
       "      <td>FFF: Fridays for Future; Students (Germany)</td>\n",
       "      <td>Nordrhein-Westfalen</td>\n",
       "      <td>Euskirchen</td>\n",
       "      <td>Around 12 October 2022 (as reported), more tha...</td>\n",
       "      <td>Wednesday</td>\n",
       "      <td>NW</td>\n",
       "      <td>100.0</td>\n",
       "      <td>ab21bbb239a63d784f94eb12098d6e4f</td>\n",
       "      <td>/Users/david/Repositories/protest-impact/data/...</td>\n",
       "    </tr>\n",
       "    <tr>\n",
       "      <th>2</th>\n",
       "      <td>2020-01-01</td>\n",
       "      <td>2022-12-31</td>\n",
       "      <td>fff</td>\n",
       "      <td>dereko_scrape</td>\n",
       "      <td>climate</td>\n",
       "      <td></td>\n",
       "      <td>28</td>\n",
       "      <td>2022-10-07T00:00:00</td>\n",
       "      <td>Peaceful protest</td>\n",
       "      <td>FFF: Fridays for Future; Students (Germany)</td>\n",
       "      <td>Nordrhein-Westfalen</td>\n",
       "      <td>Aachen</td>\n",
       "      <td>On 7 October 2022, about 50 activists affiliat...</td>\n",
       "      <td>Friday</td>\n",
       "      <td>NW</td>\n",
       "      <td>50.0</td>\n",
       "      <td>d18b35a7667f5c5645ac77b7f2115338</td>\n",
       "      <td>/Users/david/Repositories/protest-impact/data/...</td>\n",
       "    </tr>\n",
       "    <tr>\n",
       "      <th>3</th>\n",
       "      <td>2020-01-01</td>\n",
       "      <td>2022-12-31</td>\n",
       "      <td>fff</td>\n",
       "      <td>dereko_scrape</td>\n",
       "      <td>climate</td>\n",
       "      <td></td>\n",
       "      <td>28</td>\n",
       "      <td>2022-10-07T00:00:00</td>\n",
       "      <td>Peaceful protest</td>\n",
       "      <td>FFF: Fridays for Future; Students (Germany)</td>\n",
       "      <td>Berlin</td>\n",
       "      <td>Berlin</td>\n",
       "      <td>On 7 October 2022, activists affiliated with t...</td>\n",
       "      <td>Friday</td>\n",
       "      <td>BE</td>\n",
       "      <td>NaN</td>\n",
       "      <td>46c419fd32d7883f292cbcb2837109bd</td>\n",
       "      <td>/Users/david/Repositories/protest-impact/data/...</td>\n",
       "    </tr>\n",
       "    <tr>\n",
       "      <th>4</th>\n",
       "      <td>2020-01-01</td>\n",
       "      <td>2022-12-31</td>\n",
       "      <td>fff</td>\n",
       "      <td>dereko_scrape</td>\n",
       "      <td>climate</td>\n",
       "      <td></td>\n",
       "      <td>28</td>\n",
       "      <td>2022-10-07T00:00:00</td>\n",
       "      <td>Peaceful protest</td>\n",
       "      <td>FFF: Fridays for Future; Students (Germany)</td>\n",
       "      <td>Sachsen</td>\n",
       "      <td>Dresden</td>\n",
       "      <td>On 7 October 2022, activists affiliated with t...</td>\n",
       "      <td>Friday</td>\n",
       "      <td>SN</td>\n",
       "      <td>NaN</td>\n",
       "      <td>2c55a6c8f4c60db74ed102be264c5d8a</td>\n",
       "      <td>/Users/david/Repositories/protest-impact/data/...</td>\n",
       "    </tr>\n",
       "  </tbody>\n",
       "</table>\n",
       "</div>"
      ],
      "text/plain": [
       "   start_date    end_date protest_group         source discourse_type  \\\n",
       "0  2020-01-01  2022-12-31           fff  dereko_scrape        climate   \n",
       "1  2020-01-01  2022-12-31           fff  dereko_scrape        climate   \n",
       "2  2020-01-01  2022-12-31           fff  dereko_scrape        climate   \n",
       "3  2020-01-01  2022-12-31           fff  dereko_scrape        climate   \n",
       "4  2020-01-01  2022-12-31           fff  dereko_scrape        climate   \n",
       "\n",
       "  co_terms  prediction_interval           event_date    sub_event_type  \\\n",
       "0                            28  2022-11-05T00:00:00  Peaceful protest   \n",
       "1                            28  2022-10-12T00:00:00  Peaceful protest   \n",
       "2                            28  2022-10-07T00:00:00  Peaceful protest   \n",
       "3                            28  2022-10-07T00:00:00  Peaceful protest   \n",
       "4                            28  2022-10-07T00:00:00  Peaceful protest   \n",
       "\n",
       "                                 assoc_actor_1               admin1  \\\n",
       "0  FFF: Fridays for Future; Students (Germany)              Sachsen   \n",
       "1  FFF: Fridays for Future; Students (Germany)  Nordrhein-Westfalen   \n",
       "2  FFF: Fridays for Future; Students (Germany)  Nordrhein-Westfalen   \n",
       "3  FFF: Fridays for Future; Students (Germany)               Berlin   \n",
       "4  FFF: Fridays for Future; Students (Germany)              Sachsen   \n",
       "\n",
       "     location                                              notes    weekday  \\\n",
       "0     Dresden  On 5 November 2022, members of FFF (including ...   Saturday   \n",
       "1  Euskirchen  Around 12 October 2022 (as reported), more tha...  Wednesday   \n",
       "2      Aachen  On 7 October 2022, about 50 activists affiliat...     Friday   \n",
       "3      Berlin  On 7 October 2022, activists affiliated with t...     Friday   \n",
       "4     Dresden  On 7 October 2022, activists affiliated with t...     Friday   \n",
       "\n",
       "  region_code   size                              hash  \\\n",
       "0          SN    NaN  fddd78e20627fe6c2e8925b266bbe89f   \n",
       "1          NW  100.0  ab21bbb239a63d784f94eb12098d6e4f   \n",
       "2          NW   50.0  d18b35a7667f5c5645ac77b7f2115338   \n",
       "3          BE    NaN  46c419fd32d7883f292cbcb2837109bd   \n",
       "4          SN    NaN  2c55a6c8f4c60db74ed102be264c5d8a   \n",
       "\n",
       "                                                 csv  \n",
       "0  /Users/david/Repositories/protest-impact/data/...  \n",
       "1  /Users/david/Repositories/protest-impact/data/...  \n",
       "2  /Users/david/Repositories/protest-impact/data/...  \n",
       "3  /Users/david/Repositories/protest-impact/data/...  \n",
       "4  /Users/david/Repositories/protest-impact/data/...  "
      ]
     },
     "execution_count": 7,
     "metadata": {},
     "output_type": "execute_result"
    }
   ],
   "source": [
    "df = pd.DataFrame(args_list)\n",
    "df.to_csv(project_root / \"data\" / \"synthetic-region\" / \"overview.csv\", index=False)\n",
    "df.head()"
   ]
  },
  {
   "cell_type": "code",
   "execution_count": null,
   "metadata": {},
   "outputs": [],
   "source": []
  }
 ],
 "metadata": {
  "kernelspec": {
   "display_name": ".venv",
   "language": "python",
   "name": "python3"
  },
  "language_info": {
   "codemirror_mode": {
    "name": "ipython",
    "version": 3
   },
   "file_extension": ".py",
   "mimetype": "text/x-python",
   "name": "python",
   "nbconvert_exporter": "python",
   "pygments_lexer": "ipython3",
   "version": "3.10.10"
  },
  "orig_nbformat": 4
 },
 "nbformat": 4,
 "nbformat_minor": 2
}
