{
 "cells": [
  {
   "cell_type": "code",
   "execution_count": 1,
   "metadata": {},
   "outputs": [],
   "source": [
    "%load_ext autoreload\n",
    "%autoreload complete"
   ]
  },
  {
   "attachments": {},
   "cell_type": "markdown",
   "metadata": {},
   "source": [
    "## Prepare datasets\n"
   ]
  },
  {
   "cell_type": "code",
   "execution_count": 2,
   "metadata": {},
   "outputs": [
    {
     "name": "stdout",
     "output_type": "stream",
     "text": [
      "Warning: 59 protests out of 350 were removed due to mediacloud unavailability.\n"
     ]
    }
   ],
   "source": [
    "from src.data.news.coverage_filter import filter_protests\n",
    "from src.data.protests.sources.acled import load_acled\n",
    "\n",
    "acled = load_acled()\n",
    "from src.data.news.sources.mediacloud import newspapers_by_region\n",
    "\n",
    "acled = acled[acled[\"admin1\"].isin(newspapers_by_region.keys())]\n",
    "climate_actors = [\n",
    "    \"FFF: Fridays for Future; Students (Germany)\",\n",
    "    # \"ALG: Uprising of the Last Generation (Germany)\",\n",
    "    # \"Extinction Rebellion\",\n",
    "    # \"Ende Gelaende\",\n",
    "]\n",
    "acled = acled[acled[\"assoc_actor_1\"].isin(climate_actors)]\n",
    "acled = acled[\n",
    "    (acled[\"event_date\"] >= \"2020-07-01\") & (acled[\"event_date\"] < \"2022-07-01\")\n",
    "]\n",
    "acled = filter_protests(acled, source=\"mediacloud\")"
   ]
  },
  {
   "cell_type": "code",
   "execution_count": 72,
   "metadata": {},
   "outputs": [
    {
     "data": {
      "application/vnd.jupyter.widget-view+json": {
       "model_id": "0c68220999694c31ba205a6ebd4b5bc3",
       "version_major": 2,
       "version_minor": 0
      },
      "text/plain": [
       "  0%|          | 0/291 [00:00<?, ?it/s]"
      ]
     },
     "metadata": {},
     "output_type": "display_data"
    },
    {
     "data": {
      "text/plain": [
       "253"
      ]
     },
     "execution_count": 72,
     "metadata": {},
     "output_type": "execute_result"
    }
   ],
   "source": [
    "import pandas as pd\n",
    "from tqdm.auto import tqdm\n",
    "\n",
    "from src.models.synthetic_region import get_regional_counts_for_protest\n",
    "\n",
    "protests = []\n",
    "for protest in tqdm(acled.to_dict(\"records\")):\n",
    "    df = get_regional_counts_for_protest(\n",
    "        \"klima*\",\n",
    "        protest,\n",
    "        acled,\n",
    "        source=\"mediacloud\",\n",
    "        n_days=7 * 4 * 3,\n",
    "        n_protest_free_days=3,\n",
    "        min_control_regions=1,\n",
    "    )\n",
    "    if df is not None:\n",
    "        df = df.pivot(index=\"date\", columns=\"region\", values=\"count\").fillna(0)\n",
    "        protests.append((protest, df))\n",
    "len(protests)"
   ]
  },
  {
   "cell_type": "code",
   "execution_count": 64,
   "metadata": {},
   "outputs": [
    {
     "data": {
      "text/html": [
       "<div>\n",
       "<style scoped>\n",
       "    .dataframe tbody tr th:only-of-type {\n",
       "        vertical-align: middle;\n",
       "    }\n",
       "\n",
       "    .dataframe tbody tr th {\n",
       "        vertical-align: top;\n",
       "    }\n",
       "\n",
       "    .dataframe thead th {\n",
       "        text-align: right;\n",
       "    }\n",
       "</style>\n",
       "<table border=\"1\" class=\"dataframe\">\n",
       "  <thead>\n",
       "    <tr style=\"text-align: right;\">\n",
       "      <th>region</th>\n",
       "      <th>Bayern</th>\n",
       "      <th>Brandenburg</th>\n",
       "      <th>Bremen</th>\n",
       "      <th>Hessen</th>\n",
       "      <th>Nordrhein-Westfalen</th>\n",
       "      <th>Rheinland-Pfalz</th>\n",
       "      <th>Saarland</th>\n",
       "      <th>Sachsen</th>\n",
       "      <th>Schleswig-Holstein</th>\n",
       "      <th>Thüringen</th>\n",
       "    </tr>\n",
       "    <tr>\n",
       "      <th>date</th>\n",
       "      <th></th>\n",
       "      <th></th>\n",
       "      <th></th>\n",
       "      <th></th>\n",
       "      <th></th>\n",
       "      <th></th>\n",
       "      <th></th>\n",
       "      <th></th>\n",
       "      <th></th>\n",
       "      <th></th>\n",
       "    </tr>\n",
       "  </thead>\n",
       "  <tbody>\n",
       "    <tr>\n",
       "      <th>2021-04-30</th>\n",
       "      <td>121</td>\n",
       "      <td>9</td>\n",
       "      <td>4</td>\n",
       "      <td>81</td>\n",
       "      <td>99</td>\n",
       "      <td>19</td>\n",
       "      <td>6</td>\n",
       "      <td>20</td>\n",
       "      <td>16</td>\n",
       "      <td>0</td>\n",
       "    </tr>\n",
       "    <tr>\n",
       "      <th>2021-05-01</th>\n",
       "      <td>100</td>\n",
       "      <td>4</td>\n",
       "      <td>3</td>\n",
       "      <td>50</td>\n",
       "      <td>84</td>\n",
       "      <td>8</td>\n",
       "      <td>4</td>\n",
       "      <td>19</td>\n",
       "      <td>12</td>\n",
       "      <td>3</td>\n",
       "    </tr>\n",
       "    <tr>\n",
       "      <th>2021-05-02</th>\n",
       "      <td>75</td>\n",
       "      <td>2</td>\n",
       "      <td>4</td>\n",
       "      <td>139</td>\n",
       "      <td>48</td>\n",
       "      <td>14</td>\n",
       "      <td>4</td>\n",
       "      <td>15</td>\n",
       "      <td>20</td>\n",
       "      <td>0</td>\n",
       "    </tr>\n",
       "    <tr>\n",
       "      <th>2021-05-03</th>\n",
       "      <td>205</td>\n",
       "      <td>12</td>\n",
       "      <td>6</td>\n",
       "      <td>113</td>\n",
       "      <td>151</td>\n",
       "      <td>23</td>\n",
       "      <td>11</td>\n",
       "      <td>33</td>\n",
       "      <td>24</td>\n",
       "      <td>0</td>\n",
       "    </tr>\n",
       "    <tr>\n",
       "      <th>2021-05-04</th>\n",
       "      <td>161</td>\n",
       "      <td>4</td>\n",
       "      <td>7</td>\n",
       "      <td>119</td>\n",
       "      <td>118</td>\n",
       "      <td>22</td>\n",
       "      <td>8</td>\n",
       "      <td>26</td>\n",
       "      <td>20</td>\n",
       "      <td>0</td>\n",
       "    </tr>\n",
       "    <tr>\n",
       "      <th>...</th>\n",
       "      <td>...</td>\n",
       "      <td>...</td>\n",
       "      <td>...</td>\n",
       "      <td>...</td>\n",
       "      <td>...</td>\n",
       "      <td>...</td>\n",
       "      <td>...</td>\n",
       "      <td>...</td>\n",
       "      <td>...</td>\n",
       "      <td>...</td>\n",
       "    </tr>\n",
       "    <tr>\n",
       "      <th>2021-10-11</th>\n",
       "      <td>218</td>\n",
       "      <td>12</td>\n",
       "      <td>0</td>\n",
       "      <td>195</td>\n",
       "      <td>143</td>\n",
       "      <td>21</td>\n",
       "      <td>10</td>\n",
       "      <td>48</td>\n",
       "      <td>53</td>\n",
       "      <td>0</td>\n",
       "    </tr>\n",
       "    <tr>\n",
       "      <th>2021-10-12</th>\n",
       "      <td>159</td>\n",
       "      <td>10</td>\n",
       "      <td>0</td>\n",
       "      <td>157</td>\n",
       "      <td>143</td>\n",
       "      <td>15</td>\n",
       "      <td>6</td>\n",
       "      <td>35</td>\n",
       "      <td>30</td>\n",
       "      <td>0</td>\n",
       "    </tr>\n",
       "    <tr>\n",
       "      <th>2021-10-13</th>\n",
       "      <td>197</td>\n",
       "      <td>10</td>\n",
       "      <td>0</td>\n",
       "      <td>202</td>\n",
       "      <td>139</td>\n",
       "      <td>26</td>\n",
       "      <td>6</td>\n",
       "      <td>37</td>\n",
       "      <td>38</td>\n",
       "      <td>3</td>\n",
       "    </tr>\n",
       "    <tr>\n",
       "      <th>2021-10-14</th>\n",
       "      <td>253</td>\n",
       "      <td>12</td>\n",
       "      <td>0</td>\n",
       "      <td>238</td>\n",
       "      <td>177</td>\n",
       "      <td>33</td>\n",
       "      <td>12</td>\n",
       "      <td>56</td>\n",
       "      <td>52</td>\n",
       "      <td>0</td>\n",
       "    </tr>\n",
       "    <tr>\n",
       "      <th>2021-10-15</th>\n",
       "      <td>237</td>\n",
       "      <td>14</td>\n",
       "      <td>0</td>\n",
       "      <td>128</td>\n",
       "      <td>163</td>\n",
       "      <td>27</td>\n",
       "      <td>12</td>\n",
       "      <td>60</td>\n",
       "      <td>35</td>\n",
       "      <td>5</td>\n",
       "    </tr>\n",
       "  </tbody>\n",
       "</table>\n",
       "<p>169 rows × 10 columns</p>\n",
       "</div>"
      ],
      "text/plain": [
       "region      Bayern  Brandenburg  Bremen  Hessen  Nordrhein-Westfalen  \\\n",
       "date                                                                   \n",
       "2021-04-30     121            9       4      81                   99   \n",
       "2021-05-01     100            4       3      50                   84   \n",
       "2021-05-02      75            2       4     139                   48   \n",
       "2021-05-03     205           12       6     113                  151   \n",
       "2021-05-04     161            4       7     119                  118   \n",
       "...            ...          ...     ...     ...                  ...   \n",
       "2021-10-11     218           12       0     195                  143   \n",
       "2021-10-12     159           10       0     157                  143   \n",
       "2021-10-13     197           10       0     202                  139   \n",
       "2021-10-14     253           12       0     238                  177   \n",
       "2021-10-15     237           14       0     128                  163   \n",
       "\n",
       "region      Rheinland-Pfalz  Saarland  Sachsen  Schleswig-Holstein  Thüringen  \n",
       "date                                                                           \n",
       "2021-04-30               19         6       20                  16          0  \n",
       "2021-05-01                8         4       19                  12          3  \n",
       "2021-05-02               14         4       15                  20          0  \n",
       "2021-05-03               23        11       33                  24          0  \n",
       "2021-05-04               22         8       26                  20          0  \n",
       "...                     ...       ...      ...                 ...        ...  \n",
       "2021-10-11               21        10       48                  53          0  \n",
       "2021-10-12               15         6       35                  30          0  \n",
       "2021-10-13               26         6       37                  38          3  \n",
       "2021-10-14               33        12       56                  52          0  \n",
       "2021-10-15               27        12       60                  35          5  \n",
       "\n",
       "[169 rows x 10 columns]"
      ]
     },
     "execution_count": 64,
     "metadata": {},
     "output_type": "execute_result"
    }
   ],
   "source": [
    "pd.Series(protests).sample(1).iloc[0][1]"
   ]
  },
  {
   "attachments": {},
   "cell_type": "markdown",
   "metadata": {},
   "source": [
    "## CausalPy\n"
   ]
  },
  {
   "cell_type": "code",
   "execution_count": 65,
   "metadata": {},
   "outputs": [],
   "source": [
    "import causalpy as cp"
   ]
  },
  {
   "cell_type": "code",
   "execution_count": 73,
   "metadata": {},
   "outputs": [
    {
     "data": {
      "text/plain": [
       "('Niedersachsen',\n",
       " ['Brandenburg', 'Bremen', 'Sachsen', 'SachsenAnhalt', 'Thüringen'])"
      ]
     },
     "execution_count": 73,
     "metadata": {},
     "output_type": "execute_result"
    }
   ],
   "source": [
    "protest, df = pd.Series(protests).sample(1).iloc[0]\n",
    "df.columns = [c.replace(\"-\", \"\") for c in df.columns]\n",
    "treatment_time = protest[\"event_date\"]\n",
    "actual = protest[\"admin1\"]\n",
    "predictors = [c for c in df.columns if c != actual]\n",
    "actual, predictors"
   ]
  },
  {
   "cell_type": "code",
   "execution_count": 74,
   "metadata": {},
   "outputs": [
    {
     "name": "stderr",
     "output_type": "stream",
     "text": [
      "Auto-assigning NUTS sampler...\n",
      "Initializing NUTS using jitter+adapt_diag...\n",
      "Initializing NUTS using jitter+adapt_diag...\n",
      "Multiprocess sampling (4 chains in 4 jobs)\n",
      "NUTS: [beta, sigma]\n"
     ]
    },
    {
     "name": "stderr",
     "output_type": "stream",
     "text": [
      "Sampling 4 chains for 1_000 tune and 1_000 draw iterations (4_000 + 4_000 draws total) took 2 seconds.\n",
      "Sampling: [beta, sigma, y_hat]\n",
      "Sampling: [y_hat]\n",
      "Sampling: [y_hat]\n",
      "Sampling: [y_hat]\n",
      "Sampling: [y_hat]\n"
     ]
    }
   ],
   "source": [
    "result = cp.pymc_experiments.SyntheticControl(\n",
    "    df,\n",
    "    treatment_time,\n",
    "    formula=f\"{actual} ~ 0 + {' + '.join(predictors)}\",\n",
    "    model=cp.pymc_models.LinearRegression(),\n",
    ")"
   ]
  },
  {
   "cell_type": "code",
   "execution_count": 75,
   "metadata": {},
   "outputs": [
    {
     "data": {
      "image/png": "[encoded data removed]",
      "text/plain": [
       "<Figure size 1000x500 with 3 Axes>"
      ]
     },
     "metadata": {},
     "output_type": "display_data"
    }
   ],
   "source": [
    "fig, ax = result.plot(plot_predictors=True)\n",
    "# position the legend below the plot\n",
    "ax[0].legend(loc=\"upper center\", bbox_to_anchor=(0.5, -0.15), ncol=3)\n",
    "fig.set_size_inches(10, 5)"
   ]
  },
  {
   "cell_type": "code",
   "execution_count": 101,
   "metadata": {},
   "outputs": [
    {
     "data": {
      "application/vnd.jupyter.widget-view+json": {
       "model_id": "369c54a5864d4ec78b459d9bc7f033da",
       "version_major": 2,
       "version_minor": 0
      },
      "text/plain": [
       "  0%|          | 0/253 [00:00<?, ?it/s]"
      ]
     },
     "metadata": {},
     "output_type": "display_data"
    },
    {
     "name": "stderr",
     "output_type": "stream",
     "text": [
      "Auto-assigning NUTS sampler...\n",
      "Initializing NUTS using jitter+adapt_diag...\n",
      "Initializing NUTS using jitter+adapt_diag...\n",
      "Multiprocess sampling (4 chains in 4 jobs)\n",
      "NUTS: [beta, sigma]\n"
     ]
    },
    {
     "name": "stderr",
     "output_type": "stream",
     "text": [
      "Sampling 4 chains for 1_000 tune and 1_000 draw iterations (4_000 + 4_000 draws total) took 6 seconds.\n",
      "Sampling: [beta, sigma, y_hat]\n",
      "Sampling: [y_hat]\n",
      "Sampling: [y_hat]\n",
      "Sampling: [y_hat]\n",
      "Sampling: [y_hat]\n",
      "Auto-assigning NUTS sampler...\n",
      "Initializing NUTS using jitter+adapt_diag...\n",
      "Multiprocess sampling (4 chains in 4 jobs)\n",
      "NUTS: [beta, sigma]\n"
     ]
    },
    {
     "name": "stderr",
     "output_type": "stream",
     "text": [
      "Sampling 4 chains for 1_000 tune and 1_000 draw iterations (4_000 + 4_000 draws total) took 5 seconds.\n",
      "Sampling: [beta, sigma, y_hat]\n",
      "Sampling: [y_hat]\n",
      "Sampling: [y_hat]\n",
      "Sampling: [y_hat]\n",
      "Sampling: [y_hat]\n",
      "Auto-assigning NUTS sampler...\n",
      "Initializing NUTS using jitter+adapt_diag...\n",
      "Multiprocess sampling (4 chains in 4 jobs)\n",
      "NUTS: [beta, sigma]\n"
     ]
    },
    {
     "name": "stderr",
     "output_type": "stream",
     "text": [
      "Sampling 4 chains for 1_000 tune and 1_000 draw iterations (4_000 + 4_000 draws total) took 5 seconds.\n",
      "Sampling: [beta, sigma, y_hat]\n",
      "Sampling: [y_hat]\n",
      "Sampling: [y_hat]\n",
      "Sampling: [y_hat]\n",
      "Sampling: [y_hat]\n",
      "Auto-assigning NUTS sampler...\n",
      "Initializing NUTS using jitter+adapt_diag...\n",
      "Multiprocess sampling (4 chains in 4 jobs)\n",
      "NUTS: [beta, sigma]\n"
     ]
    },
    {
     "name": "stderr",
     "output_type": "stream",
     "text": [
      "Sampling 4 chains for 1_000 tune and 1_000 draw iterations (4_000 + 4_000 draws total) took 6 seconds.\n",
      "Sampling: [beta, sigma, y_hat]\n",
      "Sampling: [y_hat]\n",
      "Sampling: [y_hat]\n",
      "Sampling: [y_hat]\n",
      "Sampling: [y_hat]\n",
      "Auto-assigning NUTS sampler...\n",
      "Initializing NUTS using jitter+adapt_diag...\n",
      "Multiprocess sampling (4 chains in 4 jobs)\n",
      "NUTS: [beta, sigma]\n"
     ]
    },
    {
     "name": "stderr",
     "output_type": "stream",
     "text": [
      "Sampling 4 chains for 1_000 tune and 1_000 draw iterations (4_000 + 4_000 draws total) took 6 seconds.\n",
      "Sampling: [beta, sigma, y_hat]\n",
      "Sampling: [y_hat]\n",
      "Sampling: [y_hat]\n",
      "Sampling: [y_hat]\n",
      "Sampling: [y_hat]\n",
      "Auto-assigning NUTS sampler...\n",
      "Initializing NUTS using jitter+adapt_diag...\n",
      "Multiprocess sampling (4 chains in 4 jobs)\n",
      "NUTS: [beta, sigma]\n"
     ]
    },
    {
     "name": "stderr",
     "output_type": "stream",
     "text": [
      "Sampling 4 chains for 1_000 tune and 1_000 draw iterations (4_000 + 4_000 draws total) took 6 seconds.\n",
      "Sampling: [beta, sigma, y_hat]\n",
      "Sampling: [y_hat]\n",
      "Sampling: [y_hat]\n",
      "Sampling: [y_hat]\n",
      "Sampling: [y_hat]\n",
      "Auto-assigning NUTS sampler...\n",
      "Initializing NUTS using jitter+adapt_diag...\n",
      "Multiprocess sampling (4 chains in 4 jobs)\n",
      "NUTS: [beta, sigma]\n"
     ]
    },
    {
     "name": "stderr",
     "output_type": "stream",
     "text": [
      "Sampling 4 chains for 1_000 tune and 1_000 draw iterations (4_000 + 4_000 draws total) took 7 seconds.\n",
      "Sampling: [beta, sigma, y_hat]\n",
      "Sampling: [y_hat]\n",
      "Sampling: [y_hat]\n",
      "Sampling: [y_hat]\n",
      "Sampling: [y_hat]\n",
      "Auto-assigning NUTS sampler...\n",
      "Initializing NUTS using jitter+adapt_diag...\n",
      "Multiprocess sampling (4 chains in 4 jobs)\n",
      "NUTS: [beta, sigma]\n"
     ]
    },
    {
     "name": "stderr",
     "output_type": "stream",
     "text": [
      "Sampling 4 chains for 1_000 tune and 1_000 draw iterations (4_000 + 4_000 draws total) took 7 seconds.\n",
      "Sampling: [beta, sigma, y_hat]\n",
      "Sampling: [y_hat]\n",
      "Sampling: [y_hat]\n",
      "Sampling: [y_hat]\n",
      "Sampling: [y_hat]\n",
      "Auto-assigning NUTS sampler...\n",
      "Initializing NUTS using jitter+adapt_diag...\n",
      "Multiprocess sampling (4 chains in 4 jobs)\n",
      "NUTS: [beta, sigma]\n"
     ]
    },
    {
     "name": "stderr",
     "output_type": "stream",
     "text": [
      "Sampling 4 chains for 1_000 tune and 1_000 draw iterations (4_000 + 4_000 draws total) took 6 seconds.\n",
      "Sampling: [beta, sigma, y_hat]\n",
      "Sampling: [y_hat]\n",
      "Sampling: [y_hat]\n",
      "Sampling: [y_hat]\n",
      "Sampling: [y_hat]\n",
      "Auto-assigning NUTS sampler...\n",
      "Initializing NUTS using jitter+adapt_diag...\n",
      "Multiprocess sampling (4 chains in 4 jobs)\n",
      "NUTS: [beta, sigma]\n"
     ]
    },
    {
     "name": "stderr",
     "output_type": "stream",
     "text": [
      "Sampling 4 chains for 1_000 tune and 1_000 draw iterations (4_000 + 4_000 draws total) took 6 seconds.\n",
      "Sampling: [beta, sigma, y_hat]\n",
      "Sampling: [y_hat]\n",
      "Sampling: [y_hat]\n",
      "Sampling: [y_hat]\n",
      "Sampling: [y_hat]\n",
      "Auto-assigning NUTS sampler...\n",
      "Initializing NUTS using jitter+adapt_diag...\n",
      "Multiprocess sampling (4 chains in 4 jobs)\n",
      "NUTS: [beta, sigma]\n"
     ]
    },
    {
     "name": "stderr",
     "output_type": "stream",
     "text": [
      "Sampling 4 chains for 1_000 tune and 1_000 draw iterations (4_000 + 4_000 draws total) took 8 seconds.\n",
      "Sampling: [beta, sigma, y_hat]\n",
      "Sampling: [y_hat]\n",
      "Sampling: [y_hat]\n",
      "Sampling: [y_hat]\n",
      "Sampling: [y_hat]\n",
      "Auto-assigning NUTS sampler...\n",
      "Initializing NUTS using jitter+adapt_diag...\n",
      "Multiprocess sampling (4 chains in 4 jobs)\n",
      "NUTS: [beta, sigma]\n"
     ]
    },
    {
     "name": "stderr",
     "output_type": "stream",
     "text": [
      "Sampling 4 chains for 1_000 tune and 1_000 draw iterations (4_000 + 4_000 draws total) took 7 seconds.\n",
      "Sampling: [beta, sigma, y_hat]\n",
      "Sampling: [y_hat]\n",
      "Sampling: [y_hat]\n",
      "Sampling: [y_hat]\n",
      "Sampling: [y_hat]\n",
      "Auto-assigning NUTS sampler...\n",
      "Initializing NUTS using jitter+adapt_diag...\n",
      "Multiprocess sampling (4 chains in 4 jobs)\n",
      "NUTS: [beta, sigma]\n"
     ]
    },
    {
     "name": "stderr",
     "output_type": "stream",
     "text": [
      "Sampling 4 chains for 1_000 tune and 1_000 draw iterations (4_000 + 4_000 draws total) took 2 seconds.\n",
      "Sampling: [beta, sigma, y_hat]\n",
      "Sampling: [y_hat]\n",
      "Sampling: [y_hat]\n",
      "Sampling: [y_hat]\n",
      "Sampling: [y_hat]\n",
      "Auto-assigning NUTS sampler...\n",
      "Initializing NUTS using jitter+adapt_diag...\n",
      "Multiprocess sampling (4 chains in 4 jobs)\n",
      "NUTS: [beta, sigma]\n"
     ]
    },
    {
     "name": "stderr",
     "output_type": "stream",
     "text": [
      "Sampling 4 chains for 1_000 tune and 1_000 draw iterations (4_000 + 4_000 draws total) took 2 seconds.\n",
      "Sampling: [beta, sigma, y_hat]\n",
      "Sampling: [y_hat]\n",
      "Sampling: [y_hat]\n",
      "Sampling: [y_hat]\n",
      "Sampling: [y_hat]\n",
      "Auto-assigning NUTS sampler...\n",
      "Initializing NUTS using jitter+adapt_diag...\n",
      "Multiprocess sampling (4 chains in 4 jobs)\n",
      "NUTS: [beta, sigma]\n"
     ]
    },
    {
     "name": "stderr",
     "output_type": "stream",
     "text": [
      "Sampling 4 chains for 1_000 tune and 1_000 draw iterations (4_000 + 4_000 draws total) took 3 seconds.\n",
      "Sampling: [beta, sigma, y_hat]\n",
      "Sampling: [y_hat]\n",
      "Sampling: [y_hat]\n",
      "Sampling: [y_hat]\n",
      "Sampling: [y_hat]\n",
      "Auto-assigning NUTS sampler...\n",
      "Initializing NUTS using jitter+adapt_diag...\n",
      "Multiprocess sampling (4 chains in 4 jobs)\n",
      "NUTS: [beta, sigma]\n"
     ]
    },
    {
     "name": "stderr",
     "output_type": "stream",
     "text": [
      "Sampling 4 chains for 1_000 tune and 1_000 draw iterations (4_000 + 4_000 draws total) took 2 seconds.\n",
      "Sampling: [beta, sigma, y_hat]\n",
      "Sampling: [y_hat]\n",
      "Sampling: [y_hat]\n",
      "Sampling: [y_hat]\n",
      "Sampling: [y_hat]\n",
      "Auto-assigning NUTS sampler...\n",
      "Initializing NUTS using jitter+adapt_diag...\n",
      "Multiprocess sampling (4 chains in 4 jobs)\n",
      "NUTS: [beta, sigma]\n"
     ]
    },
    {
     "name": "stderr",
     "output_type": "stream",
     "text": [
      "Sampling 4 chains for 1_000 tune and 1_000 draw iterations (4_000 + 4_000 draws total) took 2 seconds.\n",
      "Sampling: [beta, sigma, y_hat]\n",
      "Sampling: [y_hat]\n",
      "Sampling: [y_hat]\n",
      "Sampling: [y_hat]\n",
      "Sampling: [y_hat]\n",
      "Auto-assigning NUTS sampler...\n",
      "Initializing NUTS using jitter+adapt_diag...\n",
      "Multiprocess sampling (4 chains in 4 jobs)\n",
      "NUTS: [beta, sigma]\n"
     ]
    },
    {
     "name": "stderr",
     "output_type": "stream",
     "text": [
      "Sampling 4 chains for 1_000 tune and 1_000 draw iterations (4_000 + 4_000 draws total) took 2 seconds.\n",
      "Sampling: [beta, sigma, y_hat]\n",
      "Sampling: [y_hat]\n",
      "Sampling: [y_hat]\n",
      "Sampling: [y_hat]\n",
      "Sampling: [y_hat]\n",
      "Auto-assigning NUTS sampler...\n",
      "Initializing NUTS using jitter+adapt_diag...\n",
      "Multiprocess sampling (4 chains in 4 jobs)\n",
      "NUTS: [beta, sigma]\n"
     ]
    },
    {
     "name": "stderr",
     "output_type": "stream",
     "text": [
      "Sampling 4 chains for 1_000 tune and 1_000 draw iterations (4_000 + 4_000 draws total) took 2 seconds.\n",
      "Sampling: [beta, sigma, y_hat]\n",
      "Sampling: [y_hat]\n",
      "Sampling: [y_hat]\n",
      "Sampling: [y_hat]\n",
      "Sampling: [y_hat]\n",
      "Auto-assigning NUTS sampler...\n",
      "Initializing NUTS using jitter+adapt_diag...\n",
      "Multiprocess sampling (4 chains in 4 jobs)\n",
      "NUTS: [beta, sigma]\n"
     ]
    },
    {
     "name": "stderr",
     "output_type": "stream",
     "text": [
      "Sampling 4 chains for 1_000 tune and 1_000 draw iterations (4_000 + 4_000 draws total) took 2 seconds.\n",
      "Sampling: [beta, sigma, y_hat]\n",
      "Sampling: [y_hat]\n",
      "Sampling: [y_hat]\n",
      "Sampling: [y_hat]\n",
      "Sampling: [y_hat]\n",
      "Auto-assigning NUTS sampler...\n",
      "Initializing NUTS using jitter+adapt_diag...\n",
      "Multiprocess sampling (4 chains in 4 jobs)\n",
      "NUTS: [beta, sigma]\n"
     ]
    },
    {
     "name": "stderr",
     "output_type": "stream",
     "text": [
      "Sampling 4 chains for 1_000 tune and 1_000 draw iterations (4_000 + 4_000 draws total) took 2 seconds.\n",
      "Sampling: [beta, sigma, y_hat]\n",
      "Sampling: [y_hat]\n",
      "Sampling: [y_hat]\n",
      "Sampling: [y_hat]\n",
      "Sampling: [y_hat]\n",
      "Auto-assigning NUTS sampler...\n",
      "Initializing NUTS using jitter+adapt_diag...\n",
      "Multiprocess sampling (4 chains in 4 jobs)\n",
      "NUTS: [beta, sigma]\n"
     ]
    },
    {
     "name": "stderr",
     "output_type": "stream",
     "text": [
      "Sampling 4 chains for 1_000 tune and 1_000 draw iterations (4_000 + 4_000 draws total) took 2 seconds.\n",
      "Sampling: [beta, sigma, y_hat]\n",
      "Sampling: [y_hat]\n",
      "Sampling: [y_hat]\n",
      "Sampling: [y_hat]\n",
      "Sampling: [y_hat]\n",
      "Auto-assigning NUTS sampler...\n",
      "Initializing NUTS using jitter+adapt_diag...\n",
      "Multiprocess sampling (4 chains in 4 jobs)\n",
      "NUTS: [beta, sigma]\n"
     ]
    },
    {
     "name": "stderr",
     "output_type": "stream",
     "text": [
      "Sampling 4 chains for 1_000 tune and 1_000 draw iterations (4_000 + 4_000 draws total) took 2 seconds.\n",
      "Sampling: [beta, sigma, y_hat]\n",
      "Sampling: [y_hat]\n",
      "Sampling: [y_hat]\n",
      "Sampling: [y_hat]\n",
      "Sampling: [y_hat]\n",
      "Auto-assigning NUTS sampler...\n",
      "Initializing NUTS using jitter+adapt_diag...\n",
      "Multiprocess sampling (4 chains in 4 jobs)\n",
      "NUTS: [beta, sigma]\n"
     ]
    },
    {
     "name": "stderr",
     "output_type": "stream",
     "text": [
      "Sampling 4 chains for 1_000 tune and 1_000 draw iterations (4_000 + 4_000 draws total) took 2 seconds.\n",
      "Sampling: [beta, sigma, y_hat]\n",
      "Sampling: [y_hat]\n",
      "Sampling: [y_hat]\n",
      "Sampling: [y_hat]\n",
      "Sampling: [y_hat]\n",
      "Auto-assigning NUTS sampler...\n",
      "Initializing NUTS using jitter+adapt_diag...\n",
      "Multiprocess sampling (4 chains in 4 jobs)\n",
      "NUTS: [beta, sigma]\n"
     ]
    },
    {
     "name": "stderr",
     "output_type": "stream",
     "text": [
      "Sampling 4 chains for 1_000 tune and 1_000 draw iterations (4_000 + 4_000 draws total) took 2 seconds.\n",
      "Sampling: [beta, sigma, y_hat]\n",
      "Sampling: [y_hat]\n",
      "Sampling: [y_hat]\n",
      "Sampling: [y_hat]\n",
      "Sampling: [y_hat]\n",
      "Auto-assigning NUTS sampler...\n",
      "Initializing NUTS using jitter+adapt_diag...\n",
      "Multiprocess sampling (4 chains in 4 jobs)\n",
      "NUTS: [beta, sigma]\n"
     ]
    },
    {
     "name": "stderr",
     "output_type": "stream",
     "text": [
      "Sampling 4 chains for 1_000 tune and 1_000 draw iterations (4_000 + 4_000 draws total) took 2 seconds.\n",
      "Sampling: [beta, sigma, y_hat]\n",
      "Sampling: [y_hat]\n",
      "Sampling: [y_hat]\n",
      "Sampling: [y_hat]\n",
      "Sampling: [y_hat]\n",
      "Auto-assigning NUTS sampler...\n",
      "Initializing NUTS using jitter+adapt_diag...\n",
      "Multiprocess sampling (4 chains in 4 jobs)\n",
      "NUTS: [beta, sigma]\n"
     ]
    },
    {
     "name": "stderr",
     "output_type": "stream",
     "text": [
      "Sampling 4 chains for 1_000 tune and 1_000 draw iterations (4_000 + 4_000 draws total) took 2 seconds.\n",
      "Sampling: [beta, sigma, y_hat]\n",
      "Sampling: [y_hat]\n",
      "Sampling: [y_hat]\n",
      "Sampling: [y_hat]\n",
      "Sampling: [y_hat]\n",
      "Auto-assigning NUTS sampler...\n",
      "Initializing NUTS using jitter+adapt_diag...\n",
      "Multiprocess sampling (4 chains in 4 jobs)\n",
      "NUTS: [beta, sigma]\n"
     ]
    },
    {
     "name": "stderr",
     "output_type": "stream",
     "text": [
      "Sampling 4 chains for 1_000 tune and 1_000 draw iterations (4_000 + 4_000 draws total) took 2 seconds.\n",
      "Sampling: [beta, sigma, y_hat]\n",
      "Sampling: [y_hat]\n",
      "Sampling: [y_hat]\n",
      "Sampling: [y_hat]\n",
      "Sampling: [y_hat]\n",
      "Auto-assigning NUTS sampler...\n",
      "Initializing NUTS using jitter+adapt_diag...\n",
      "Multiprocess sampling (4 chains in 4 jobs)\n",
      "NUTS: [beta, sigma]\n"
     ]
    },
    {
     "name": "stderr",
     "output_type": "stream",
     "text": [
      "Sampling 4 chains for 1_000 tune and 1_000 draw iterations (4_000 + 4_000 draws total) took 2 seconds.\n",
      "Sampling: [beta, sigma, y_hat]\n",
      "Sampling: [y_hat]\n",
      "Sampling: [y_hat]\n",
      "Sampling: [y_hat]\n",
      "Sampling: [y_hat]\n",
      "Auto-assigning NUTS sampler...\n",
      "Initializing NUTS using jitter+adapt_diag...\n",
      "Multiprocess sampling (4 chains in 4 jobs)\n",
      "NUTS: [beta, sigma]\n"
     ]
    },
    {
     "name": "stderr",
     "output_type": "stream",
     "text": [
      "Sampling 4 chains for 1_000 tune and 1_000 draw iterations (4_000 + 4_000 draws total) took 2 seconds.\n",
      "Sampling: [beta, sigma, y_hat]\n",
      "Sampling: [y_hat]\n",
      "Sampling: [y_hat]\n",
      "Sampling: [y_hat]\n",
      "Sampling: [y_hat]\n",
      "Auto-assigning NUTS sampler...\n",
      "Initializing NUTS using jitter+adapt_diag...\n",
      "Multiprocess sampling (4 chains in 4 jobs)\n",
      "NUTS: [beta, sigma]\n"
     ]
    },
    {
     "name": "stderr",
     "output_type": "stream",
     "text": [
      "Sampling 4 chains for 1_000 tune and 1_000 draw iterations (4_000 + 4_000 draws total) took 2 seconds.\n",
      "Sampling: [beta, sigma, y_hat]\n",
      "Sampling: [y_hat]\n",
      "Sampling: [y_hat]\n",
      "Sampling: [y_hat]\n",
      "Sampling: [y_hat]\n",
      "Auto-assigning NUTS sampler...\n",
      "Initializing NUTS using jitter+adapt_diag...\n",
      "Multiprocess sampling (4 chains in 4 jobs)\n",
      "NUTS: [beta, sigma]\n"
     ]
    },
    {
     "name": "stderr",
     "output_type": "stream",
     "text": [
      "Sampling 4 chains for 1_000 tune and 1_000 draw iterations (4_000 + 4_000 draws total) took 2 seconds.\n",
      "Sampling: [beta, sigma, y_hat]\n",
      "Sampling: [y_hat]\n",
      "Sampling: [y_hat]\n",
      "Sampling: [y_hat]\n",
      "Sampling: [y_hat]\n",
      "Auto-assigning NUTS sampler...\n",
      "Initializing NUTS using jitter+adapt_diag...\n",
      "Multiprocess sampling (4 chains in 4 jobs)\n",
      "NUTS: [beta, sigma]\n"
     ]
    },
    {
     "name": "stderr",
     "output_type": "stream",
     "text": [
      "Sampling 4 chains for 1_000 tune and 1_000 draw iterations (4_000 + 4_000 draws total) took 2 seconds.\n",
      "Sampling: [beta, sigma, y_hat]\n",
      "Sampling: [y_hat]\n",
      "Sampling: [y_hat]\n",
      "Sampling: [y_hat]\n",
      "Sampling: [y_hat]\n",
      "Auto-assigning NUTS sampler...\n",
      "Initializing NUTS using jitter+adapt_diag...\n",
      "Multiprocess sampling (4 chains in 4 jobs)\n",
      "NUTS: [beta, sigma]\n"
     ]
    },
    {
     "name": "stderr",
     "output_type": "stream",
     "text": [
      "Sampling 4 chains for 1_000 tune and 1_000 draw iterations (4_000 + 4_000 draws total) took 2 seconds.\n",
      "Sampling: [beta, sigma, y_hat]\n",
      "Sampling: [y_hat]\n",
      "Sampling: [y_hat]\n",
      "Sampling: [y_hat]\n",
      "Sampling: [y_hat]\n",
      "Auto-assigning NUTS sampler...\n",
      "Initializing NUTS using jitter+adapt_diag...\n",
      "Multiprocess sampling (4 chains in 4 jobs)\n",
      "NUTS: [beta, sigma]\n"
     ]
    },
    {
     "name": "stderr",
     "output_type": "stream",
     "text": [
      "Sampling 4 chains for 1_000 tune and 1_000 draw iterations (4_000 + 4_000 draws total) took 2 seconds.\n",
      "Sampling: [beta, sigma, y_hat]\n",
      "Sampling: [y_hat]\n",
      "Sampling: [y_hat]\n",
      "Sampling: [y_hat]\n",
      "Sampling: [y_hat]\n",
      "Auto-assigning NUTS sampler...\n",
      "Initializing NUTS using jitter+adapt_diag...\n",
      "Multiprocess sampling (4 chains in 4 jobs)\n",
      "NUTS: [beta, sigma]\n"
     ]
    },
    {
     "name": "stderr",
     "output_type": "stream",
     "text": [
      "Sampling 4 chains for 1_000 tune and 1_000 draw iterations (4_000 + 4_000 draws total) took 2 seconds.\n",
      "Sampling: [beta, sigma, y_hat]\n",
      "Sampling: [y_hat]\n",
      "Sampling: [y_hat]\n",
      "Sampling: [y_hat]\n",
      "Sampling: [y_hat]\n",
      "Auto-assigning NUTS sampler...\n",
      "Initializing NUTS using jitter+adapt_diag...\n",
      "Multiprocess sampling (4 chains in 4 jobs)\n",
      "NUTS: [beta, sigma]\n"
     ]
    },
    {
     "name": "stderr",
     "output_type": "stream",
     "text": [
      "Sampling 4 chains for 1_000 tune and 1_000 draw iterations (4_000 + 4_000 draws total) took 2 seconds.\n",
      "Sampling: [beta, sigma, y_hat]\n",
      "Sampling: [y_hat]\n",
      "Sampling: [y_hat]\n",
      "Sampling: [y_hat]\n",
      "Sampling: [y_hat]\n",
      "Auto-assigning NUTS sampler...\n",
      "Initializing NUTS using jitter+adapt_diag...\n",
      "Multiprocess sampling (4 chains in 4 jobs)\n",
      "NUTS: [beta, sigma]\n"
     ]
    },
    {
     "name": "stderr",
     "output_type": "stream",
     "text": [
      "Sampling 4 chains for 1_000 tune and 1_000 draw iterations (4_000 + 4_000 draws total) took 2 seconds.\n",
      "Sampling: [beta, sigma, y_hat]\n",
      "Sampling: [y_hat]\n",
      "Sampling: [y_hat]\n",
      "Sampling: [y_hat]\n",
      "Sampling: [y_hat]\n",
      "Auto-assigning NUTS sampler...\n",
      "Initializing NUTS using jitter+adapt_diag...\n",
      "Multiprocess sampling (4 chains in 4 jobs)\n",
      "NUTS: [beta, sigma]\n"
     ]
    },
    {
     "name": "stderr",
     "output_type": "stream",
     "text": [
      "Sampling 4 chains for 1_000 tune and 1_000 draw iterations (4_000 + 4_000 draws total) took 2 seconds.\n",
      "Sampling: [beta, sigma, y_hat]\n",
      "Sampling: [y_hat]\n",
      "Sampling: [y_hat]\n",
      "Sampling: [y_hat]\n",
      "Sampling: [y_hat]\n",
      "Auto-assigning NUTS sampler...\n",
      "Initializing NUTS using jitter+adapt_diag...\n",
      "Multiprocess sampling (4 chains in 4 jobs)\n",
      "NUTS: [beta, sigma]\n"
     ]
    },
    {
     "name": "stderr",
     "output_type": "stream",
     "text": [
      "Sampling 4 chains for 1_000 tune and 1_000 draw iterations (4_000 + 4_000 draws total) took 2 seconds.\n",
      "Sampling: [beta, sigma, y_hat]\n",
      "Sampling: [y_hat]\n",
      "Sampling: [y_hat]\n",
      "Sampling: [y_hat]\n",
      "Sampling: [y_hat]\n",
      "Auto-assigning NUTS sampler...\n",
      "Initializing NUTS using jitter+adapt_diag...\n",
      "Multiprocess sampling (4 chains in 4 jobs)\n",
      "NUTS: [beta, sigma]\n"
     ]
    },
    {
     "name": "stderr",
     "output_type": "stream",
     "text": [
      "Sampling 4 chains for 1_000 tune and 1_000 draw iterations (4_000 + 4_000 draws total) took 2 seconds.\n",
      "Sampling: [beta, sigma, y_hat]\n",
      "Sampling: [y_hat]\n",
      "Sampling: [y_hat]\n",
      "Sampling: [y_hat]\n",
      "Sampling: [y_hat]\n",
      "Auto-assigning NUTS sampler...\n",
      "Initializing NUTS using jitter+adapt_diag...\n",
      "Multiprocess sampling (4 chains in 4 jobs)\n",
      "NUTS: [beta, sigma]\n"
     ]
    },
    {
     "name": "stderr",
     "output_type": "stream",
     "text": [
      "Sampling 4 chains for 1_000 tune and 1_000 draw iterations (4_000 + 4_000 draws total) took 2 seconds.\n",
      "Sampling: [beta, sigma, y_hat]\n",
      "Sampling: [y_hat]\n",
      "Sampling: [y_hat]\n",
      "Sampling: [y_hat]\n",
      "Sampling: [y_hat]\n",
      "Auto-assigning NUTS sampler...\n",
      "Initializing NUTS using jitter+adapt_diag...\n",
      "Multiprocess sampling (4 chains in 4 jobs)\n",
      "NUTS: [beta, sigma]\n"
     ]
    },
    {
     "name": "stderr",
     "output_type": "stream",
     "text": [
      "Sampling 4 chains for 1_000 tune and 1_000 draw iterations (4_000 + 4_000 draws total) took 2 seconds.\n",
      "Sampling: [beta, sigma, y_hat]\n",
      "Sampling: [y_hat]\n",
      "Sampling: [y_hat]\n",
      "Sampling: [y_hat]\n",
      "Sampling: [y_hat]\n",
      "Auto-assigning NUTS sampler...\n",
      "Initializing NUTS using jitter+adapt_diag...\n",
      "Multiprocess sampling (4 chains in 4 jobs)\n",
      "NUTS: [beta, sigma]\n"
     ]
    },
    {
     "name": "stderr",
     "output_type": "stream",
     "text": [
      "Sampling 4 chains for 1_000 tune and 1_000 draw iterations (4_000 + 4_000 draws total) took 2 seconds.\n",
      "Sampling: [beta, sigma, y_hat]\n",
      "Sampling: [y_hat]\n",
      "Sampling: [y_hat]\n",
      "Sampling: [y_hat]\n",
      "Sampling: [y_hat]\n",
      "Auto-assigning NUTS sampler...\n",
      "Initializing NUTS using jitter+adapt_diag...\n",
      "Multiprocess sampling (4 chains in 4 jobs)\n",
      "NUTS: [beta, sigma]\n"
     ]
    },
    {
     "name": "stderr",
     "output_type": "stream",
     "text": [
      "Sampling 4 chains for 1_000 tune and 1_000 draw iterations (4_000 + 4_000 draws total) took 2 seconds.\n",
      "Sampling: [beta, sigma, y_hat]\n",
      "Sampling: [y_hat]\n",
      "Sampling: [y_hat]\n",
      "Sampling: [y_hat]\n",
      "Sampling: [y_hat]\n",
      "Auto-assigning NUTS sampler...\n",
      "Initializing NUTS using jitter+adapt_diag...\n",
      "Multiprocess sampling (4 chains in 4 jobs)\n",
      "NUTS: [beta, sigma]\n"
     ]
    },
    {
     "name": "stderr",
     "output_type": "stream",
     "text": [
      "Sampling 4 chains for 1_000 tune and 1_000 draw iterations (4_000 + 4_000 draws total) took 2 seconds.\n",
      "Sampling: [beta, sigma, y_hat]\n",
      "Sampling: [y_hat]\n",
      "Sampling: [y_hat]\n",
      "Sampling: [y_hat]\n",
      "Sampling: [y_hat]\n",
      "Auto-assigning NUTS sampler...\n",
      "Initializing NUTS using jitter+adapt_diag...\n",
      "Multiprocess sampling (4 chains in 4 jobs)\n",
      "NUTS: [beta, sigma]\n"
     ]
    },
    {
     "name": "stderr",
     "output_type": "stream",
     "text": [
      "Sampling 4 chains for 1_000 tune and 1_000 draw iterations (4_000 + 4_000 draws total) took 2 seconds.\n",
      "Sampling: [beta, sigma, y_hat]\n",
      "Sampling: [y_hat]\n",
      "Sampling: [y_hat]\n",
      "Sampling: [y_hat]\n",
      "Sampling: [y_hat]\n",
      "Auto-assigning NUTS sampler...\n",
      "Initializing NUTS using jitter+adapt_diag...\n",
      "Multiprocess sampling (4 chains in 4 jobs)\n",
      "NUTS: [beta, sigma]\n"
     ]
    },
    {
     "name": "stderr",
     "output_type": "stream",
     "text": [
      "Sampling 4 chains for 1_000 tune and 1_000 draw iterations (4_000 + 4_000 draws total) took 2 seconds.\n",
      "Sampling: [beta, sigma, y_hat]\n",
      "Sampling: [y_hat]\n",
      "Sampling: [y_hat]\n",
      "Sampling: [y_hat]\n",
      "Sampling: [y_hat]\n",
      "Auto-assigning NUTS sampler...\n",
      "Initializing NUTS using jitter+adapt_diag...\n",
      "Multiprocess sampling (4 chains in 4 jobs)\n",
      "NUTS: [beta, sigma]\n"
     ]
    },
    {
     "name": "stderr",
     "output_type": "stream",
     "text": [
      "Sampling 4 chains for 1_000 tune and 1_000 draw iterations (4_000 + 4_000 draws total) took 2 seconds.\n",
      "Sampling: [beta, sigma, y_hat]\n",
      "Sampling: [y_hat]\n",
      "Sampling: [y_hat]\n",
      "Sampling: [y_hat]\n",
      "Sampling: [y_hat]\n",
      "Auto-assigning NUTS sampler...\n",
      "Initializing NUTS using jitter+adapt_diag...\n",
      "Multiprocess sampling (4 chains in 4 jobs)\n",
      "NUTS: [beta, sigma]\n"
     ]
    },
    {
     "name": "stderr",
     "output_type": "stream",
     "text": [
      "Sampling 4 chains for 1_000 tune and 1_000 draw iterations (4_000 + 4_000 draws total) took 2 seconds.\n",
      "Sampling: [beta, sigma, y_hat]\n",
      "Sampling: [y_hat]\n",
      "Sampling: [y_hat]\n",
      "Sampling: [y_hat]\n",
      "Sampling: [y_hat]\n",
      "Auto-assigning NUTS sampler...\n",
      "Initializing NUTS using jitter+adapt_diag...\n",
      "Multiprocess sampling (4 chains in 4 jobs)\n",
      "NUTS: [beta, sigma]\n"
     ]
    },
    {
     "name": "stderr",
     "output_type": "stream",
     "text": [
      "Sampling 4 chains for 1_000 tune and 1_000 draw iterations (4_000 + 4_000 draws total) took 2 seconds.\n",
      "Sampling: [beta, sigma, y_hat]\n",
      "Sampling: [y_hat]\n",
      "Sampling: [y_hat]\n",
      "Sampling: [y_hat]\n",
      "Sampling: [y_hat]\n",
      "Auto-assigning NUTS sampler...\n",
      "Initializing NUTS using jitter+adapt_diag...\n",
      "Multiprocess sampling (4 chains in 4 jobs)\n",
      "NUTS: [beta, sigma]\n"
     ]
    },
    {
     "name": "stderr",
     "output_type": "stream",
     "text": [
      "Sampling 4 chains for 1_000 tune and 1_000 draw iterations (4_000 + 4_000 draws total) took 2 seconds.\n",
      "Sampling: [beta, sigma, y_hat]\n",
      "Sampling: [y_hat]\n",
      "Sampling: [y_hat]\n",
      "Sampling: [y_hat]\n",
      "Sampling: [y_hat]\n",
      "Auto-assigning NUTS sampler...\n",
      "Initializing NUTS using jitter+adapt_diag...\n",
      "Multiprocess sampling (4 chains in 4 jobs)\n",
      "NUTS: [beta, sigma]\n"
     ]
    },
    {
     "name": "stderr",
     "output_type": "stream",
     "text": [
      "Sampling 4 chains for 1_000 tune and 1_000 draw iterations (4_000 + 4_000 draws total) took 2 seconds.\n",
      "Sampling: [beta, sigma, y_hat]\n",
      "Sampling: [y_hat]\n",
      "Sampling: [y_hat]\n",
      "Sampling: [y_hat]\n",
      "Sampling: [y_hat]\n",
      "Auto-assigning NUTS sampler...\n",
      "Initializing NUTS using jitter+adapt_diag...\n",
      "Multiprocess sampling (4 chains in 4 jobs)\n",
      "NUTS: [beta, sigma]\n"
     ]
    },
    {
     "name": "stderr",
     "output_type": "stream",
     "text": [
      "Sampling 4 chains for 1_000 tune and 1_000 draw iterations (4_000 + 4_000 draws total) took 2 seconds.\n",
      "Sampling: [beta, sigma, y_hat]\n",
      "Sampling: [y_hat]\n",
      "Sampling: [y_hat]\n",
      "Sampling: [y_hat]\n",
      "Sampling: [y_hat]\n",
      "Auto-assigning NUTS sampler...\n",
      "Initializing NUTS using jitter+adapt_diag...\n",
      "Multiprocess sampling (4 chains in 4 jobs)\n",
      "NUTS: [beta, sigma]\n"
     ]
    },
    {
     "name": "stderr",
     "output_type": "stream",
     "text": [
      "Sampling 4 chains for 1_000 tune and 1_000 draw iterations (4_000 + 4_000 draws total) took 2 seconds.\n",
      "Sampling: [beta, sigma, y_hat]\n",
      "Sampling: [y_hat]\n",
      "Sampling: [y_hat]\n",
      "Sampling: [y_hat]\n",
      "Sampling: [y_hat]\n",
      "Auto-assigning NUTS sampler...\n",
      "Initializing NUTS using jitter+adapt_diag...\n",
      "Multiprocess sampling (4 chains in 4 jobs)\n",
      "NUTS: [beta, sigma]\n"
     ]
    },
    {
     "name": "stderr",
     "output_type": "stream",
     "text": [
      "Sampling 4 chains for 1_000 tune and 1_000 draw iterations (4_000 + 4_000 draws total) took 2 seconds.\n",
      "Sampling: [beta, sigma, y_hat]\n",
      "Sampling: [y_hat]\n",
      "Sampling: [y_hat]\n",
      "Sampling: [y_hat]\n",
      "Sampling: [y_hat]\n",
      "Auto-assigning NUTS sampler...\n",
      "Initializing NUTS using jitter+adapt_diag...\n",
      "Multiprocess sampling (4 chains in 4 jobs)\n",
      "NUTS: [beta, sigma]\n"
     ]
    },
    {
     "name": "stderr",
     "output_type": "stream",
     "text": [
      "Sampling 4 chains for 1_000 tune and 1_000 draw iterations (4_000 + 4_000 draws total) took 2 seconds.\n",
      "Sampling: [beta, sigma, y_hat]\n",
      "Sampling: [y_hat]\n",
      "Sampling: [y_hat]\n",
      "Sampling: [y_hat]\n",
      "Sampling: [y_hat]\n",
      "Auto-assigning NUTS sampler...\n",
      "Initializing NUTS using jitter+adapt_diag...\n",
      "Multiprocess sampling (4 chains in 4 jobs)\n",
      "NUTS: [beta, sigma]\n"
     ]
    },
    {
     "name": "stderr",
     "output_type": "stream",
     "text": [
      "Sampling 4 chains for 1_000 tune and 1_000 draw iterations (4_000 + 4_000 draws total) took 2 seconds.\n",
      "Sampling: [beta, sigma, y_hat]\n",
      "Sampling: [y_hat]\n",
      "Sampling: [y_hat]\n",
      "Sampling: [y_hat]\n",
      "Sampling: [y_hat]\n",
      "Auto-assigning NUTS sampler...\n",
      "Initializing NUTS using jitter+adapt_diag...\n",
      "Multiprocess sampling (4 chains in 4 jobs)\n",
      "NUTS: [beta, sigma]\n"
     ]
    },
    {
     "name": "stderr",
     "output_type": "stream",
     "text": [
      "Sampling 4 chains for 1_000 tune and 1_000 draw iterations (4_000 + 4_000 draws total) took 2 seconds.\n",
      "Sampling: [beta, sigma, y_hat]\n",
      "Sampling: [y_hat]\n",
      "Sampling: [y_hat]\n",
      "Sampling: [y_hat]\n",
      "Sampling: [y_hat]\n",
      "Auto-assigning NUTS sampler...\n",
      "Initializing NUTS using jitter+adapt_diag...\n",
      "Multiprocess sampling (4 chains in 4 jobs)\n",
      "NUTS: [beta, sigma]\n"
     ]
    },
    {
     "name": "stderr",
     "output_type": "stream",
     "text": [
      "Sampling 4 chains for 1_000 tune and 1_000 draw iterations (4_000 + 4_000 draws total) took 2 seconds.\n",
      "Sampling: [beta, sigma, y_hat]\n",
      "Sampling: [y_hat]\n",
      "Sampling: [y_hat]\n",
      "Sampling: [y_hat]\n",
      "Sampling: [y_hat]\n",
      "Auto-assigning NUTS sampler...\n",
      "Initializing NUTS using jitter+adapt_diag...\n",
      "Multiprocess sampling (4 chains in 4 jobs)\n",
      "NUTS: [beta, sigma]\n"
     ]
    },
    {
     "name": "stderr",
     "output_type": "stream",
     "text": [
      "Sampling 4 chains for 1_000 tune and 1_000 draw iterations (4_000 + 4_000 draws total) took 2 seconds.\n",
      "Sampling: [beta, sigma, y_hat]\n",
      "Sampling: [y_hat]\n",
      "Sampling: [y_hat]\n",
      "Sampling: [y_hat]\n",
      "Sampling: [y_hat]\n",
      "Auto-assigning NUTS sampler...\n",
      "Initializing NUTS using jitter+adapt_diag...\n",
      "Multiprocess sampling (4 chains in 4 jobs)\n",
      "NUTS: [beta, sigma]\n"
     ]
    },
    {
     "name": "stderr",
     "output_type": "stream",
     "text": [
      "Sampling 4 chains for 1_000 tune and 1_000 draw iterations (4_000 + 4_000 draws total) took 2 seconds.\n",
      "Sampling: [beta, sigma, y_hat]\n",
      "Sampling: [y_hat]\n",
      "Sampling: [y_hat]\n",
      "Sampling: [y_hat]\n",
      "Sampling: [y_hat]\n",
      "Auto-assigning NUTS sampler...\n",
      "Initializing NUTS using jitter+adapt_diag...\n",
      "Multiprocess sampling (4 chains in 4 jobs)\n",
      "NUTS: [beta, sigma]\n"
     ]
    },
    {
     "name": "stderr",
     "output_type": "stream",
     "text": [
      "Sampling 4 chains for 1_000 tune and 1_000 draw iterations (4_000 + 4_000 draws total) took 2 seconds.\n",
      "Sampling: [beta, sigma, y_hat]\n",
      "Sampling: [y_hat]\n",
      "Sampling: [y_hat]\n",
      "Sampling: [y_hat]\n",
      "Sampling: [y_hat]\n",
      "Auto-assigning NUTS sampler...\n",
      "Initializing NUTS using jitter+adapt_diag...\n",
      "Multiprocess sampling (4 chains in 4 jobs)\n",
      "NUTS: [beta, sigma]\n"
     ]
    },
    {
     "name": "stderr",
     "output_type": "stream",
     "text": [
      "Sampling 4 chains for 1_000 tune and 1_000 draw iterations (4_000 + 4_000 draws total) took 2 seconds.\n",
      "Sampling: [beta, sigma, y_hat]\n",
      "Sampling: [y_hat]\n",
      "Sampling: [y_hat]\n",
      "Sampling: [y_hat]\n",
      "Sampling: [y_hat]\n",
      "Auto-assigning NUTS sampler...\n",
      "Initializing NUTS using jitter+adapt_diag...\n",
      "Multiprocess sampling (4 chains in 4 jobs)\n",
      "NUTS: [beta, sigma]\n"
     ]
    },
    {
     "name": "stderr",
     "output_type": "stream",
     "text": [
      "Sampling 4 chains for 1_000 tune and 1_000 draw iterations (4_000 + 4_000 draws total) took 2 seconds.\n",
      "Sampling: [beta, sigma, y_hat]\n",
      "Sampling: [y_hat]\n",
      "Sampling: [y_hat]\n",
      "Sampling: [y_hat]\n",
      "Sampling: [y_hat]\n",
      "Auto-assigning NUTS sampler...\n",
      "Initializing NUTS using jitter+adapt_diag...\n",
      "Multiprocess sampling (4 chains in 4 jobs)\n",
      "NUTS: [beta, sigma]\n"
     ]
    },
    {
     "name": "stderr",
     "output_type": "stream",
     "text": [
      "Sampling 4 chains for 1_000 tune and 1_000 draw iterations (4_000 + 4_000 draws total) took 2 seconds.\n",
      "Sampling: [beta, sigma, y_hat]\n",
      "Sampling: [y_hat]\n",
      "Sampling: [y_hat]\n",
      "Sampling: [y_hat]\n",
      "Sampling: [y_hat]\n",
      "Auto-assigning NUTS sampler...\n",
      "Initializing NUTS using jitter+adapt_diag...\n",
      "Multiprocess sampling (4 chains in 4 jobs)\n",
      "NUTS: [beta, sigma]\n"
     ]
    },
    {
     "name": "stderr",
     "output_type": "stream",
     "text": [
      "Sampling 4 chains for 1_000 tune and 1_000 draw iterations (4_000 + 4_000 draws total) took 2 seconds.\n",
      "Sampling: [beta, sigma, y_hat]\n",
      "Sampling: [y_hat]\n",
      "Sampling: [y_hat]\n",
      "Sampling: [y_hat]\n",
      "Sampling: [y_hat]\n",
      "Auto-assigning NUTS sampler...\n",
      "Initializing NUTS using jitter+adapt_diag...\n",
      "Multiprocess sampling (4 chains in 4 jobs)\n",
      "NUTS: [beta, sigma]\n"
     ]
    },
    {
     "name": "stderr",
     "output_type": "stream",
     "text": [
      "Sampling 4 chains for 1_000 tune and 1_000 draw iterations (4_000 + 4_000 draws total) took 2 seconds.\n",
      "Sampling: [beta, sigma, y_hat]\n",
      "Sampling: [y_hat]\n",
      "Sampling: [y_hat]\n",
      "Sampling: [y_hat]\n",
      "Sampling: [y_hat]\n",
      "Auto-assigning NUTS sampler...\n",
      "Initializing NUTS using jitter+adapt_diag...\n",
      "Multiprocess sampling (4 chains in 4 jobs)\n",
      "NUTS: [beta, sigma]\n"
     ]
    },
    {
     "name": "stderr",
     "output_type": "stream",
     "text": [
      "Sampling 4 chains for 1_000 tune and 1_000 draw iterations (4_000 + 4_000 draws total) took 2 seconds.\n",
      "Sampling: [beta, sigma, y_hat]\n",
      "Sampling: [y_hat]\n",
      "Sampling: [y_hat]\n",
      "Sampling: [y_hat]\n",
      "Sampling: [y_hat]\n",
      "Auto-assigning NUTS sampler...\n",
      "Initializing NUTS using jitter+adapt_diag...\n",
      "Multiprocess sampling (4 chains in 4 jobs)\n",
      "NUTS: [beta, sigma]\n"
     ]
    },
    {
     "name": "stderr",
     "output_type": "stream",
     "text": [
      "Sampling 4 chains for 1_000 tune and 1_000 draw iterations (4_000 + 4_000 draws total) took 3 seconds.\n",
      "Sampling: [beta, sigma, y_hat]\n",
      "Sampling: [y_hat]\n",
      "Sampling: [y_hat]\n",
      "Sampling: [y_hat]\n",
      "Sampling: [y_hat]\n",
      "Auto-assigning NUTS sampler...\n",
      "Initializing NUTS using jitter+adapt_diag...\n",
      "Multiprocess sampling (4 chains in 4 jobs)\n",
      "NUTS: [beta, sigma]\n"
     ]
    },
    {
     "name": "stderr",
     "output_type": "stream",
     "text": [
      "Sampling 4 chains for 1_000 tune and 1_000 draw iterations (4_000 + 4_000 draws total) took 2 seconds.\n",
      "Sampling: [beta, sigma, y_hat]\n",
      "Sampling: [y_hat]\n",
      "Sampling: [y_hat]\n",
      "Sampling: [y_hat]\n",
      "Sampling: [y_hat]\n",
      "Auto-assigning NUTS sampler...\n",
      "Initializing NUTS using jitter+adapt_diag...\n",
      "Multiprocess sampling (4 chains in 4 jobs)\n",
      "NUTS: [beta, sigma]\n"
     ]
    },
    {
     "name": "stderr",
     "output_type": "stream",
     "text": [
      "Sampling 4 chains for 1_000 tune and 1_000 draw iterations (4_000 + 4_000 draws total) took 2 seconds.\n",
      "Sampling: [beta, sigma, y_hat]\n",
      "Sampling: [y_hat]\n",
      "Sampling: [y_hat]\n",
      "Sampling: [y_hat]\n",
      "Sampling: [y_hat]\n",
      "Auto-assigning NUTS sampler...\n",
      "Initializing NUTS using jitter+adapt_diag...\n",
      "Multiprocess sampling (4 chains in 4 jobs)\n",
      "NUTS: [beta, sigma]\n"
     ]
    },
    {
     "name": "stderr",
     "output_type": "stream",
     "text": [
      "Sampling 4 chains for 1_000 tune and 1_000 draw iterations (4_000 + 4_000 draws total) took 2 seconds.\n",
      "Sampling: [beta, sigma, y_hat]\n",
      "Sampling: [y_hat]\n",
      "Sampling: [y_hat]\n",
      "Sampling: [y_hat]\n",
      "Sampling: [y_hat]\n",
      "Auto-assigning NUTS sampler...\n",
      "Initializing NUTS using jitter+adapt_diag...\n",
      "Multiprocess sampling (4 chains in 4 jobs)\n",
      "NUTS: [beta, sigma]\n"
     ]
    },
    {
     "name": "stderr",
     "output_type": "stream",
     "text": [
      "Sampling 4 chains for 1_000 tune and 1_000 draw iterations (4_000 + 4_000 draws total) took 6 seconds.\n",
      "Sampling: [beta, sigma, y_hat]\n",
      "Sampling: [y_hat]\n",
      "Sampling: [y_hat]\n",
      "Sampling: [y_hat]\n",
      "Sampling: [y_hat]\n",
      "Auto-assigning NUTS sampler...\n",
      "Initializing NUTS using jitter+adapt_diag...\n",
      "Multiprocess sampling (4 chains in 4 jobs)\n",
      "NUTS: [beta, sigma]\n"
     ]
    },
    {
     "name": "stderr",
     "output_type": "stream",
     "text": [
      "Sampling 4 chains for 1_000 tune and 1_000 draw iterations (4_000 + 4_000 draws total) took 6 seconds.\n",
      "Sampling: [beta, sigma, y_hat]\n",
      "Sampling: [y_hat]\n",
      "Sampling: [y_hat]\n",
      "Sampling: [y_hat]\n",
      "Sampling: [y_hat]\n",
      "Auto-assigning NUTS sampler...\n",
      "Initializing NUTS using jitter+adapt_diag...\n",
      "Multiprocess sampling (4 chains in 4 jobs)\n",
      "NUTS: [beta, sigma]\n"
     ]
    },
    {
     "name": "stderr",
     "output_type": "stream",
     "text": [
      "Sampling 4 chains for 1_000 tune and 1_000 draw iterations (4_000 + 4_000 draws total) took 6 seconds.\n",
      "Sampling: [beta, sigma, y_hat]\n",
      "Sampling: [y_hat]\n",
      "Sampling: [y_hat]\n",
      "Sampling: [y_hat]\n",
      "Sampling: [y_hat]\n",
      "Auto-assigning NUTS sampler...\n",
      "Initializing NUTS using jitter+adapt_diag...\n",
      "Multiprocess sampling (4 chains in 4 jobs)\n",
      "NUTS: [beta, sigma]\n"
     ]
    },
    {
     "name": "stderr",
     "output_type": "stream",
     "text": [
      "Sampling 4 chains for 1_000 tune and 1_000 draw iterations (4_000 + 4_000 draws total) took 6 seconds.\n",
      "Sampling: [beta, sigma, y_hat]\n",
      "Sampling: [y_hat]\n",
      "Sampling: [y_hat]\n",
      "Sampling: [y_hat]\n",
      "Sampling: [y_hat]\n",
      "Auto-assigning NUTS sampler...\n",
      "Initializing NUTS using jitter+adapt_diag...\n",
      "Multiprocess sampling (4 chains in 4 jobs)\n",
      "NUTS: [beta, sigma]\n"
     ]
    },
    {
     "name": "stderr",
     "output_type": "stream",
     "text": [
      "Sampling 4 chains for 1_000 tune and 1_000 draw iterations (4_000 + 4_000 draws total) took 8 seconds.\n",
      "Sampling: [beta, sigma, y_hat]\n",
      "Sampling: [y_hat]\n",
      "Sampling: [y_hat]\n",
      "Sampling: [y_hat]\n",
      "Sampling: [y_hat]\n",
      "Auto-assigning NUTS sampler...\n",
      "Initializing NUTS using jitter+adapt_diag...\n",
      "Multiprocess sampling (4 chains in 4 jobs)\n",
      "NUTS: [beta, sigma]\n"
     ]
    },
    {
     "name": "stderr",
     "output_type": "stream",
     "text": [
      "Sampling 4 chains for 1_000 tune and 1_000 draw iterations (4_000 + 4_000 draws total) took 7 seconds.\n",
      "Sampling: [beta, sigma, y_hat]\n",
      "Sampling: [y_hat]\n",
      "Sampling: [y_hat]\n",
      "Sampling: [y_hat]\n",
      "Sampling: [y_hat]\n",
      "Auto-assigning NUTS sampler...\n",
      "Initializing NUTS using jitter+adapt_diag...\n",
      "Multiprocess sampling (4 chains in 4 jobs)\n",
      "NUTS: [beta, sigma]\n"
     ]
    },
    {
     "name": "stderr",
     "output_type": "stream",
     "text": [
      "Sampling 4 chains for 1_000 tune and 1_000 draw iterations (4_000 + 4_000 draws total) took 7 seconds.\n",
      "Sampling: [beta, sigma, y_hat]\n",
      "Sampling: [y_hat]\n",
      "Sampling: [y_hat]\n",
      "Sampling: [y_hat]\n",
      "Sampling: [y_hat]\n",
      "Auto-assigning NUTS sampler...\n",
      "Initializing NUTS using jitter+adapt_diag...\n",
      "Multiprocess sampling (4 chains in 4 jobs)\n",
      "NUTS: [beta, sigma]\n"
     ]
    },
    {
     "name": "stderr",
     "output_type": "stream",
     "text": [
      "Sampling 4 chains for 1_000 tune and 1_000 draw iterations (4_000 + 4_000 draws total) took 8 seconds.\n",
      "Sampling: [beta, sigma, y_hat]\n",
      "Sampling: [y_hat]\n",
      "Sampling: [y_hat]\n",
      "Sampling: [y_hat]\n",
      "Sampling: [y_hat]\n",
      "Auto-assigning NUTS sampler...\n",
      "Initializing NUTS using jitter+adapt_diag...\n",
      "Multiprocess sampling (4 chains in 4 jobs)\n",
      "NUTS: [beta, sigma]\n"
     ]
    },
    {
     "name": "stderr",
     "output_type": "stream",
     "text": [
      "Sampling 4 chains for 1_000 tune and 1_000 draw iterations (4_000 + 4_000 draws total) took 5 seconds.\n",
      "Sampling: [beta, sigma, y_hat]\n",
      "Sampling: [y_hat]\n",
      "Sampling: [y_hat]\n",
      "Sampling: [y_hat]\n",
      "Sampling: [y_hat]\n",
      "Auto-assigning NUTS sampler...\n",
      "Initializing NUTS using jitter+adapt_diag...\n",
      "Multiprocess sampling (4 chains in 4 jobs)\n",
      "NUTS: [beta, sigma]\n"
     ]
    },
    {
     "name": "stderr",
     "output_type": "stream",
     "text": [
      "Sampling 4 chains for 1_000 tune and 1_000 draw iterations (4_000 + 4_000 draws total) took 5 seconds.\n",
      "Sampling: [beta, sigma, y_hat]\n",
      "Sampling: [y_hat]\n",
      "Sampling: [y_hat]\n",
      "Sampling: [y_hat]\n",
      "Sampling: [y_hat]\n",
      "Auto-assigning NUTS sampler...\n",
      "Initializing NUTS using jitter+adapt_diag...\n",
      "Multiprocess sampling (4 chains in 4 jobs)\n",
      "NUTS: [beta, sigma]\n"
     ]
    },
    {
     "name": "stderr",
     "output_type": "stream",
     "text": [
      "Sampling 4 chains for 1_000 tune and 1_000 draw iterations (4_000 + 4_000 draws total) took 5 seconds.\n",
      "Sampling: [beta, sigma, y_hat]\n",
      "Sampling: [y_hat]\n",
      "Sampling: [y_hat]\n",
      "Sampling: [y_hat]\n",
      "Sampling: [y_hat]\n",
      "Auto-assigning NUTS sampler...\n",
      "Initializing NUTS using jitter+adapt_diag...\n",
      "Multiprocess sampling (4 chains in 4 jobs)\n",
      "NUTS: [beta, sigma]\n"
     ]
    },
    {
     "name": "stderr",
     "output_type": "stream",
     "text": [
      "Sampling 4 chains for 1_000 tune and 1_000 draw iterations (4_000 + 4_000 draws total) took 5 seconds.\n",
      "Sampling: [beta, sigma, y_hat]\n",
      "Sampling: [y_hat]\n",
      "Sampling: [y_hat]\n",
      "Sampling: [y_hat]\n",
      "Sampling: [y_hat]\n",
      "Auto-assigning NUTS sampler...\n",
      "Initializing NUTS using jitter+adapt_diag...\n",
      "Multiprocess sampling (4 chains in 4 jobs)\n",
      "NUTS: [beta, sigma]\n"
     ]
    },
    {
     "name": "stderr",
     "output_type": "stream",
     "text": [
      "Sampling 4 chains for 1_000 tune and 1_000 draw iterations (4_000 + 4_000 draws total) took 5 seconds.\n",
      "Sampling: [beta, sigma, y_hat]\n",
      "Sampling: [y_hat]\n",
      "Sampling: [y_hat]\n",
      "Sampling: [y_hat]\n",
      "Sampling: [y_hat]\n",
      "Auto-assigning NUTS sampler...\n",
      "Initializing NUTS using jitter+adapt_diag...\n",
      "Multiprocess sampling (4 chains in 4 jobs)\n",
      "NUTS: [beta, sigma]\n"
     ]
    },
    {
     "name": "stderr",
     "output_type": "stream",
     "text": [
      "Sampling 4 chains for 1_000 tune and 1_000 draw iterations (4_000 + 4_000 draws total) took 6 seconds.\n",
      "Sampling: [beta, sigma, y_hat]\n",
      "Sampling: [y_hat]\n",
      "Sampling: [y_hat]\n",
      "Sampling: [y_hat]\n",
      "Sampling: [y_hat]\n",
      "Auto-assigning NUTS sampler...\n",
      "Initializing NUTS using jitter+adapt_diag...\n",
      "Multiprocess sampling (4 chains in 4 jobs)\n",
      "NUTS: [beta, sigma]\n"
     ]
    },
    {
     "name": "stderr",
     "output_type": "stream",
     "text": [
      "Sampling 4 chains for 1_000 tune and 1_000 draw iterations (4_000 + 4_000 draws total) took 8 seconds.\n",
      "Sampling: [beta, sigma, y_hat]\n",
      "Sampling: [y_hat]\n",
      "Sampling: [y_hat]\n",
      "Sampling: [y_hat]\n",
      "Sampling: [y_hat]\n",
      "Auto-assigning NUTS sampler...\n",
      "Initializing NUTS using jitter+adapt_diag...\n",
      "Multiprocess sampling (4 chains in 4 jobs)\n",
      "NUTS: [beta, sigma]\n"
     ]
    },
    {
     "name": "stderr",
     "output_type": "stream",
     "text": [
      "Sampling 4 chains for 1_000 tune and 1_000 draw iterations (4_000 + 4_000 draws total) took 7 seconds.\n",
      "Sampling: [beta, sigma, y_hat]\n",
      "Sampling: [y_hat]\n",
      "Sampling: [y_hat]\n",
      "Sampling: [y_hat]\n",
      "Sampling: [y_hat]\n",
      "Auto-assigning NUTS sampler...\n",
      "Initializing NUTS using jitter+adapt_diag...\n",
      "Multiprocess sampling (4 chains in 4 jobs)\n",
      "NUTS: [beta, sigma]\n"
     ]
    },
    {
     "name": "stderr",
     "output_type": "stream",
     "text": [
      "Sampling 4 chains for 1_000 tune and 1_000 draw iterations (4_000 + 4_000 draws total) took 7 seconds.\n",
      "Sampling: [beta, sigma, y_hat]\n",
      "Sampling: [y_hat]\n",
      "Sampling: [y_hat]\n",
      "Sampling: [y_hat]\n",
      "Sampling: [y_hat]\n",
      "Auto-assigning NUTS sampler...\n",
      "Initializing NUTS using jitter+adapt_diag...\n",
      "Multiprocess sampling (4 chains in 4 jobs)\n",
      "NUTS: [beta, sigma]\n"
     ]
    },
    {
     "name": "stderr",
     "output_type": "stream",
     "text": [
      "Sampling 4 chains for 1_000 tune and 1_000 draw iterations (4_000 + 4_000 draws total) took 7 seconds.\n",
      "Sampling: [beta, sigma, y_hat]\n",
      "Sampling: [y_hat]\n",
      "Sampling: [y_hat]\n",
      "Sampling: [y_hat]\n",
      "Sampling: [y_hat]\n",
      "Auto-assigning NUTS sampler...\n",
      "Initializing NUTS using jitter+adapt_diag...\n",
      "Multiprocess sampling (4 chains in 4 jobs)\n",
      "NUTS: [beta, sigma]\n"
     ]
    },
    {
     "name": "stderr",
     "output_type": "stream",
     "text": [
      "Sampling 4 chains for 1_000 tune and 1_000 draw iterations (4_000 + 4_000 draws total) took 7 seconds.\n",
      "Sampling: [beta, sigma, y_hat]\n",
      "Sampling: [y_hat]\n",
      "Sampling: [y_hat]\n",
      "Sampling: [y_hat]\n",
      "Sampling: [y_hat]\n",
      "Auto-assigning NUTS sampler...\n",
      "Initializing NUTS using jitter+adapt_diag...\n",
      "Multiprocess sampling (4 chains in 4 jobs)\n",
      "NUTS: [beta, sigma]\n"
     ]
    },
    {
     "name": "stderr",
     "output_type": "stream",
     "text": [
      "Sampling 4 chains for 1_000 tune and 1_000 draw iterations (4_000 + 4_000 draws total) took 7 seconds.\n",
      "Sampling: [beta, sigma, y_hat]\n",
      "Sampling: [y_hat]\n",
      "Sampling: [y_hat]\n",
      "Sampling: [y_hat]\n",
      "Sampling: [y_hat]\n",
      "Auto-assigning NUTS sampler...\n",
      "Initializing NUTS using jitter+adapt_diag...\n",
      "Multiprocess sampling (4 chains in 4 jobs)\n",
      "NUTS: [beta, sigma]\n"
     ]
    },
    {
     "name": "stderr",
     "output_type": "stream",
     "text": [
      "Sampling 4 chains for 1_000 tune and 1_000 draw iterations (4_000 + 4_000 draws total) took 6 seconds.\n",
      "Sampling: [beta, sigma, y_hat]\n",
      "Sampling: [y_hat]\n",
      "Sampling: [y_hat]\n",
      "Sampling: [y_hat]\n",
      "Sampling: [y_hat]\n",
      "Auto-assigning NUTS sampler...\n",
      "Initializing NUTS using jitter+adapt_diag...\n",
      "Multiprocess sampling (4 chains in 4 jobs)\n",
      "NUTS: [beta, sigma]\n"
     ]
    },
    {
     "name": "stderr",
     "output_type": "stream",
     "text": [
      "Sampling 4 chains for 1_000 tune and 1_000 draw iterations (4_000 + 4_000 draws total) took 7 seconds.\n",
      "Sampling: [beta, sigma, y_hat]\n",
      "Sampling: [y_hat]\n",
      "Sampling: [y_hat]\n",
      "Sampling: [y_hat]\n",
      "Sampling: [y_hat]\n",
      "Auto-assigning NUTS sampler...\n",
      "Initializing NUTS using jitter+adapt_diag...\n",
      "Multiprocess sampling (4 chains in 4 jobs)\n",
      "NUTS: [beta, sigma]\n"
     ]
    },
    {
     "name": "stderr",
     "output_type": "stream",
     "text": [
      "Sampling 4 chains for 1_000 tune and 1_000 draw iterations (4_000 + 4_000 draws total) took 5 seconds.\n",
      "Sampling: [beta, sigma, y_hat]\n",
      "Sampling: [y_hat]\n",
      "Sampling: [y_hat]\n",
      "Sampling: [y_hat]\n",
      "Sampling: [y_hat]\n",
      "Auto-assigning NUTS sampler...\n",
      "Initializing NUTS using jitter+adapt_diag...\n",
      "Multiprocess sampling (4 chains in 4 jobs)\n",
      "NUTS: [beta, sigma]\n"
     ]
    },
    {
     "name": "stderr",
     "output_type": "stream",
     "text": [
      "Sampling 4 chains for 1_000 tune and 1_000 draw iterations (4_000 + 4_000 draws total) took 5 seconds.\n",
      "Sampling: [beta, sigma, y_hat]\n",
      "Sampling: [y_hat]\n",
      "Sampling: [y_hat]\n",
      "Sampling: [y_hat]\n",
      "Sampling: [y_hat]\n",
      "Auto-assigning NUTS sampler...\n",
      "Initializing NUTS using jitter+adapt_diag...\n",
      "Multiprocess sampling (4 chains in 4 jobs)\n",
      "NUTS: [beta, sigma]\n"
     ]
    },
    {
     "name": "stderr",
     "output_type": "stream",
     "text": [
      "Sampling 4 chains for 1_000 tune and 1_000 draw iterations (4_000 + 4_000 draws total) took 5 seconds.\n",
      "Sampling: [beta, sigma, y_hat]\n",
      "Sampling: [y_hat]\n",
      "Sampling: [y_hat]\n",
      "Sampling: [y_hat]\n",
      "Sampling: [y_hat]\n",
      "Auto-assigning NUTS sampler...\n",
      "Initializing NUTS using jitter+adapt_diag...\n",
      "Multiprocess sampling (4 chains in 4 jobs)\n",
      "NUTS: [beta, sigma]\n"
     ]
    },
    {
     "name": "stderr",
     "output_type": "stream",
     "text": [
      "Sampling 4 chains for 1_000 tune and 1_000 draw iterations (4_000 + 4_000 draws total) took 5 seconds.\n",
      "Sampling: [beta, sigma, y_hat]\n",
      "Sampling: [y_hat]\n",
      "Sampling: [y_hat]\n",
      "Sampling: [y_hat]\n",
      "Sampling: [y_hat]\n",
      "Auto-assigning NUTS sampler...\n",
      "Initializing NUTS using jitter+adapt_diag...\n",
      "Multiprocess sampling (4 chains in 4 jobs)\n",
      "NUTS: [beta, sigma]\n"
     ]
    },
    {
     "name": "stderr",
     "output_type": "stream",
     "text": [
      "Sampling 4 chains for 1_000 tune and 1_000 draw iterations (4_000 + 4_000 draws total) took 5 seconds.\n",
      "Sampling: [beta, sigma, y_hat]\n",
      "Sampling: [y_hat]\n",
      "Sampling: [y_hat]\n",
      "Sampling: [y_hat]\n",
      "Sampling: [y_hat]\n",
      "Auto-assigning NUTS sampler...\n",
      "Initializing NUTS using jitter+adapt_diag...\n",
      "Multiprocess sampling (4 chains in 4 jobs)\n",
      "NUTS: [beta, sigma]\n"
     ]
    },
    {
     "name": "stderr",
     "output_type": "stream",
     "text": [
      "Sampling 4 chains for 1_000 tune and 1_000 draw iterations (4_000 + 4_000 draws total) took 5 seconds.\n",
      "Sampling: [beta, sigma, y_hat]\n",
      "Sampling: [y_hat]\n",
      "Sampling: [y_hat]\n",
      "Sampling: [y_hat]\n",
      "Sampling: [y_hat]\n",
      "Auto-assigning NUTS sampler...\n",
      "Initializing NUTS using jitter+adapt_diag...\n",
      "Multiprocess sampling (4 chains in 4 jobs)\n",
      "NUTS: [beta, sigma]\n"
     ]
    },
    {
     "name": "stderr",
     "output_type": "stream",
     "text": [
      "Sampling 4 chains for 1_000 tune and 1_000 draw iterations (4_000 + 4_000 draws total) took 6 seconds.\n",
      "Sampling: [beta, sigma, y_hat]\n",
      "Sampling: [y_hat]\n",
      "Sampling: [y_hat]\n",
      "Sampling: [y_hat]\n",
      "Sampling: [y_hat]\n",
      "Auto-assigning NUTS sampler...\n",
      "Initializing NUTS using jitter+adapt_diag...\n",
      "Multiprocess sampling (4 chains in 4 jobs)\n",
      "NUTS: [beta, sigma]\n"
     ]
    },
    {
     "name": "stderr",
     "output_type": "stream",
     "text": [
      "Sampling 4 chains for 1_000 tune and 1_000 draw iterations (4_000 + 4_000 draws total) took 6 seconds.\n",
      "Sampling: [beta, sigma, y_hat]\n",
      "Sampling: [y_hat]\n",
      "Sampling: [y_hat]\n",
      "Sampling: [y_hat]\n",
      "Sampling: [y_hat]\n",
      "Auto-assigning NUTS sampler...\n",
      "Initializing NUTS using jitter+adapt_diag...\n",
      "Multiprocess sampling (4 chains in 4 jobs)\n",
      "NUTS: [beta, sigma]\n"
     ]
    },
    {
     "name": "stderr",
     "output_type": "stream",
     "text": [
      "Sampling 4 chains for 1_000 tune and 1_000 draw iterations (4_000 + 4_000 draws total) took 8 seconds.\n",
      "Sampling: [beta, sigma, y_hat]\n",
      "Sampling: [y_hat]\n",
      "Sampling: [y_hat]\n",
      "Sampling: [y_hat]\n",
      "Sampling: [y_hat]\n",
      "Auto-assigning NUTS sampler...\n",
      "Initializing NUTS using jitter+adapt_diag...\n",
      "Multiprocess sampling (4 chains in 4 jobs)\n",
      "NUTS: [beta, sigma]\n"
     ]
    },
    {
     "name": "stderr",
     "output_type": "stream",
     "text": [
      "Sampling 4 chains for 1_000 tune and 1_000 draw iterations (4_000 + 4_000 draws total) took 8 seconds.\n",
      "Sampling: [beta, sigma, y_hat]\n",
      "Sampling: [y_hat]\n",
      "Sampling: [y_hat]\n",
      "Sampling: [y_hat]\n",
      "Sampling: [y_hat]\n",
      "Auto-assigning NUTS sampler...\n",
      "Initializing NUTS using jitter+adapt_diag...\n",
      "Multiprocess sampling (4 chains in 4 jobs)\n",
      "NUTS: [beta, sigma]\n"
     ]
    },
    {
     "name": "stderr",
     "output_type": "stream",
     "text": [
      "Sampling 4 chains for 1_000 tune and 1_000 draw iterations (4_000 + 4_000 draws total) took 7 seconds.\n",
      "Sampling: [beta, sigma, y_hat]\n",
      "Sampling: [y_hat]\n",
      "Sampling: [y_hat]\n",
      "Sampling: [y_hat]\n",
      "Sampling: [y_hat]\n",
      "Auto-assigning NUTS sampler...\n",
      "Initializing NUTS using jitter+adapt_diag...\n",
      "Multiprocess sampling (4 chains in 4 jobs)\n",
      "NUTS: [beta, sigma]\n"
     ]
    },
    {
     "name": "stderr",
     "output_type": "stream",
     "text": [
      "Sampling 4 chains for 1_000 tune and 1_000 draw iterations (4_000 + 4_000 draws total) took 8 seconds.\n",
      "Sampling: [beta, sigma, y_hat]\n",
      "Sampling: [y_hat]\n",
      "Sampling: [y_hat]\n",
      "Sampling: [y_hat]\n",
      "Sampling: [y_hat]\n",
      "Auto-assigning NUTS sampler...\n",
      "Initializing NUTS using jitter+adapt_diag...\n",
      "Multiprocess sampling (4 chains in 4 jobs)\n",
      "NUTS: [beta, sigma]\n"
     ]
    },
    {
     "name": "stderr",
     "output_type": "stream",
     "text": [
      "Sampling 4 chains for 1_000 tune and 1_000 draw iterations (4_000 + 4_000 draws total) took 8 seconds.\n",
      "Sampling: [beta, sigma, y_hat]\n",
      "Sampling: [y_hat]\n",
      "Sampling: [y_hat]\n",
      "Sampling: [y_hat]\n",
      "Sampling: [y_hat]\n",
      "Auto-assigning NUTS sampler...\n",
      "Initializing NUTS using jitter+adapt_diag...\n",
      "Multiprocess sampling (4 chains in 4 jobs)\n",
      "NUTS: [beta, sigma]\n"
     ]
    },
    {
     "name": "stderr",
     "output_type": "stream",
     "text": [
      "Sampling 4 chains for 1_000 tune and 1_000 draw iterations (4_000 + 4_000 draws total) took 6 seconds.\n",
      "Sampling: [beta, sigma, y_hat]\n",
      "Sampling: [y_hat]\n",
      "Sampling: [y_hat]\n",
      "Sampling: [y_hat]\n",
      "Sampling: [y_hat]\n",
      "Auto-assigning NUTS sampler...\n",
      "Initializing NUTS using jitter+adapt_diag...\n",
      "Multiprocess sampling (4 chains in 4 jobs)\n",
      "NUTS: [beta, sigma]\n"
     ]
    },
    {
     "name": "stderr",
     "output_type": "stream",
     "text": [
      "Sampling 4 chains for 1_000 tune and 1_000 draw iterations (4_000 + 4_000 draws total) took 6 seconds.\n",
      "Sampling: [beta, sigma, y_hat]\n",
      "Sampling: [y_hat]\n",
      "Sampling: [y_hat]\n",
      "Sampling: [y_hat]\n",
      "Sampling: [y_hat]\n",
      "Auto-assigning NUTS sampler...\n",
      "Initializing NUTS using jitter+adapt_diag...\n",
      "Multiprocess sampling (4 chains in 4 jobs)\n",
      "NUTS: [beta, sigma]\n"
     ]
    },
    {
     "name": "stderr",
     "output_type": "stream",
     "text": [
      "Sampling 4 chains for 1_000 tune and 1_000 draw iterations (4_000 + 4_000 draws total) took 5 seconds.\n",
      "Sampling: [beta, sigma, y_hat]\n",
      "Sampling: [y_hat]\n",
      "Sampling: [y_hat]\n",
      "Sampling: [y_hat]\n",
      "Sampling: [y_hat]\n",
      "Auto-assigning NUTS sampler...\n",
      "Initializing NUTS using jitter+adapt_diag...\n",
      "Multiprocess sampling (4 chains in 4 jobs)\n",
      "NUTS: [beta, sigma]\n"
     ]
    },
    {
     "name": "stderr",
     "output_type": "stream",
     "text": [
      "Sampling 4 chains for 1_000 tune and 1_000 draw iterations (4_000 + 4_000 draws total) took 7 seconds.\n",
      "Sampling: [beta, sigma, y_hat]\n",
      "Sampling: [y_hat]\n",
      "Sampling: [y_hat]\n",
      "Sampling: [y_hat]\n",
      "Sampling: [y_hat]\n",
      "Auto-assigning NUTS sampler...\n",
      "Initializing NUTS using jitter+adapt_diag...\n",
      "Multiprocess sampling (4 chains in 4 jobs)\n",
      "NUTS: [beta, sigma]\n"
     ]
    },
    {
     "name": "stderr",
     "output_type": "stream",
     "text": [
      "Sampling 4 chains for 1_000 tune and 1_000 draw iterations (4_000 + 4_000 draws total) took 6 seconds.\n",
      "Sampling: [beta, sigma, y_hat]\n",
      "Sampling: [y_hat]\n",
      "Sampling: [y_hat]\n",
      "Sampling: [y_hat]\n",
      "Sampling: [y_hat]\n",
      "Auto-assigning NUTS sampler...\n",
      "Initializing NUTS using jitter+adapt_diag...\n",
      "Multiprocess sampling (4 chains in 4 jobs)\n",
      "NUTS: [beta, sigma]\n"
     ]
    },
    {
     "name": "stderr",
     "output_type": "stream",
     "text": [
      "Sampling 4 chains for 1_000 tune and 1_000 draw iterations (4_000 + 4_000 draws total) took 6 seconds.\n",
      "Sampling: [beta, sigma, y_hat]\n",
      "Sampling: [y_hat]\n",
      "Sampling: [y_hat]\n",
      "Sampling: [y_hat]\n",
      "Sampling: [y_hat]\n",
      "Auto-assigning NUTS sampler...\n",
      "Initializing NUTS using jitter+adapt_diag...\n",
      "Multiprocess sampling (4 chains in 4 jobs)\n",
      "NUTS: [beta, sigma]\n"
     ]
    },
    {
     "name": "stderr",
     "output_type": "stream",
     "text": [
      "Sampling 4 chains for 1_000 tune and 1_000 draw iterations (4_000 + 4_000 draws total) took 5 seconds.\n",
      "Sampling: [beta, sigma, y_hat]\n",
      "Sampling: [y_hat]\n",
      "Sampling: [y_hat]\n",
      "Sampling: [y_hat]\n",
      "Sampling: [y_hat]\n",
      "Auto-assigning NUTS sampler...\n",
      "Initializing NUTS using jitter+adapt_diag...\n",
      "Multiprocess sampling (4 chains in 4 jobs)\n",
      "NUTS: [beta, sigma]\n"
     ]
    },
    {
     "name": "stderr",
     "output_type": "stream",
     "text": [
      "Sampling 4 chains for 1_000 tune and 1_000 draw iterations (4_000 + 4_000 draws total) took 6 seconds.\n",
      "Sampling: [beta, sigma, y_hat]\n",
      "Sampling: [y_hat]\n",
      "Sampling: [y_hat]\n",
      "Sampling: [y_hat]\n",
      "Sampling: [y_hat]\n",
      "Auto-assigning NUTS sampler...\n",
      "Initializing NUTS using jitter+adapt_diag...\n",
      "Multiprocess sampling (4 chains in 4 jobs)\n",
      "NUTS: [beta, sigma]\n"
     ]
    },
    {
     "name": "stderr",
     "output_type": "stream",
     "text": [
      "Sampling 4 chains for 1_000 tune and 1_000 draw iterations (4_000 + 4_000 draws total) took 7 seconds.\n",
      "Sampling: [beta, sigma, y_hat]\n",
      "Sampling: [y_hat]\n",
      "Sampling: [y_hat]\n",
      "Sampling: [y_hat]\n",
      "Sampling: [y_hat]\n",
      "Auto-assigning NUTS sampler...\n",
      "Initializing NUTS using jitter+adapt_diag...\n",
      "Multiprocess sampling (4 chains in 4 jobs)\n",
      "NUTS: [beta, sigma]\n"
     ]
    },
    {
     "name": "stderr",
     "output_type": "stream",
     "text": [
      "Sampling 4 chains for 1_000 tune and 1_000 draw iterations (4_000 + 4_000 draws total) took 6 seconds.\n",
      "Sampling: [beta, sigma, y_hat]\n",
      "Sampling: [y_hat]\n",
      "Sampling: [y_hat]\n",
      "Sampling: [y_hat]\n",
      "Sampling: [y_hat]\n",
      "Auto-assigning NUTS sampler...\n",
      "Initializing NUTS using jitter+adapt_diag...\n",
      "Multiprocess sampling (4 chains in 4 jobs)\n",
      "NUTS: [beta, sigma]\n"
     ]
    },
    {
     "name": "stderr",
     "output_type": "stream",
     "text": [
      "Sampling 4 chains for 1_000 tune and 1_000 draw iterations (4_000 + 4_000 draws total) took 6 seconds.\n",
      "Sampling: [beta, sigma, y_hat]\n",
      "Sampling: [y_hat]\n",
      "Sampling: [y_hat]\n",
      "Sampling: [y_hat]\n",
      "Sampling: [y_hat]\n",
      "Auto-assigning NUTS sampler...\n",
      "Initializing NUTS using jitter+adapt_diag...\n",
      "Multiprocess sampling (4 chains in 4 jobs)\n",
      "NUTS: [beta, sigma]\n"
     ]
    },
    {
     "name": "stderr",
     "output_type": "stream",
     "text": [
      "Sampling 4 chains for 1_000 tune and 1_000 draw iterations (4_000 + 4_000 draws total) took 7 seconds.\n",
      "Sampling: [beta, sigma, y_hat]\n",
      "Sampling: [y_hat]\n",
      "Sampling: [y_hat]\n",
      "Sampling: [y_hat]\n",
      "Sampling: [y_hat]\n",
      "Auto-assigning NUTS sampler...\n",
      "Initializing NUTS using jitter+adapt_diag...\n",
      "Multiprocess sampling (4 chains in 4 jobs)\n",
      "NUTS: [beta, sigma]\n"
     ]
    },
    {
     "name": "stderr",
     "output_type": "stream",
     "text": [
      "Sampling 4 chains for 1_000 tune and 1_000 draw iterations (4_000 + 4_000 draws total) took 3 seconds.\n",
      "Sampling: [beta, sigma, y_hat]\n",
      "Sampling: [y_hat]\n",
      "Sampling: [y_hat]\n",
      "Sampling: [y_hat]\n",
      "Sampling: [y_hat]\n",
      "Auto-assigning NUTS sampler...\n",
      "Initializing NUTS using jitter+adapt_diag...\n",
      "Multiprocess sampling (4 chains in 4 jobs)\n",
      "NUTS: [beta, sigma]\n"
     ]
    },
    {
     "name": "stderr",
     "output_type": "stream",
     "text": [
      "Sampling 4 chains for 1_000 tune and 1_000 draw iterations (4_000 + 4_000 draws total) took 2 seconds.\n",
      "Sampling: [beta, sigma, y_hat]\n",
      "Sampling: [y_hat]\n",
      "Sampling: [y_hat]\n",
      "Sampling: [y_hat]\n",
      "Sampling: [y_hat]\n",
      "Auto-assigning NUTS sampler...\n",
      "Initializing NUTS using jitter+adapt_diag...\n",
      "Multiprocess sampling (4 chains in 4 jobs)\n",
      "NUTS: [beta, sigma]\n"
     ]
    },
    {
     "name": "stderr",
     "output_type": "stream",
     "text": [
      "Sampling 4 chains for 1_000 tune and 1_000 draw iterations (4_000 + 4_000 draws total) took 2 seconds.\n",
      "Sampling: [beta, sigma, y_hat]\n",
      "Sampling: [y_hat]\n",
      "Sampling: [y_hat]\n",
      "Sampling: [y_hat]\n",
      "Sampling: [y_hat]\n",
      "Auto-assigning NUTS sampler...\n",
      "Initializing NUTS using jitter+adapt_diag...\n",
      "Multiprocess sampling (4 chains in 4 jobs)\n",
      "NUTS: [beta, sigma]\n"
     ]
    },
    {
     "name": "stderr",
     "output_type": "stream",
     "text": [
      "Sampling 4 chains for 1_000 tune and 1_000 draw iterations (4_000 + 4_000 draws total) took 2 seconds.\n",
      "Sampling: [beta, sigma, y_hat]\n",
      "Sampling: [y_hat]\n",
      "Sampling: [y_hat]\n",
      "Sampling: [y_hat]\n",
      "Sampling: [y_hat]\n",
      "Auto-assigning NUTS sampler...\n",
      "Initializing NUTS using jitter+adapt_diag...\n",
      "Multiprocess sampling (4 chains in 4 jobs)\n",
      "NUTS: [beta, sigma]\n"
     ]
    },
    {
     "name": "stderr",
     "output_type": "stream",
     "text": [
      "Sampling 4 chains for 1_000 tune and 1_000 draw iterations (4_000 + 4_000 draws total) took 2 seconds.\n",
      "Sampling: [beta, sigma, y_hat]\n",
      "Sampling: [y_hat]\n",
      "Sampling: [y_hat]\n",
      "Sampling: [y_hat]\n",
      "Sampling: [y_hat]\n",
      "Auto-assigning NUTS sampler...\n",
      "Initializing NUTS using jitter+adapt_diag...\n",
      "Multiprocess sampling (4 chains in 4 jobs)\n",
      "NUTS: [beta, sigma]\n"
     ]
    },
    {
     "name": "stderr",
     "output_type": "stream",
     "text": [
      "Sampling 4 chains for 1_000 tune and 1_000 draw iterations (4_000 + 4_000 draws total) took 2 seconds.\n",
      "Sampling: [beta, sigma, y_hat]\n",
      "Sampling: [y_hat]\n",
      "Sampling: [y_hat]\n",
      "Sampling: [y_hat]\n",
      "Sampling: [y_hat]\n",
      "Auto-assigning NUTS sampler...\n",
      "Initializing NUTS using jitter+adapt_diag...\n",
      "Multiprocess sampling (4 chains in 4 jobs)\n",
      "NUTS: [beta, sigma]\n"
     ]
    },
    {
     "name": "stderr",
     "output_type": "stream",
     "text": [
      "Sampling 4 chains for 1_000 tune and 1_000 draw iterations (4_000 + 4_000 draws total) took 2 seconds.\n",
      "Sampling: [beta, sigma, y_hat]\n",
      "Sampling: [y_hat]\n",
      "Sampling: [y_hat]\n",
      "Sampling: [y_hat]\n",
      "Sampling: [y_hat]\n",
      "Auto-assigning NUTS sampler...\n",
      "Initializing NUTS using jitter+adapt_diag...\n",
      "Multiprocess sampling (4 chains in 4 jobs)\n",
      "NUTS: [beta, sigma]\n"
     ]
    },
    {
     "name": "stderr",
     "output_type": "stream",
     "text": [
      "Sampling 4 chains for 1_000 tune and 1_000 draw iterations (4_000 + 4_000 draws total) took 2 seconds.\n",
      "Sampling: [beta, sigma, y_hat]\n",
      "Sampling: [y_hat]\n",
      "Sampling: [y_hat]\n",
      "Sampling: [y_hat]\n",
      "Sampling: [y_hat]\n",
      "Auto-assigning NUTS sampler...\n",
      "Initializing NUTS using jitter+adapt_diag...\n",
      "Multiprocess sampling (4 chains in 4 jobs)\n",
      "NUTS: [beta, sigma]\n"
     ]
    },
    {
     "name": "stderr",
     "output_type": "stream",
     "text": [
      "Sampling 4 chains for 1_000 tune and 1_000 draw iterations (4_000 + 4_000 draws total) took 2 seconds.\n",
      "Sampling: [beta, sigma, y_hat]\n",
      "Sampling: [y_hat]\n",
      "Sampling: [y_hat]\n",
      "Sampling: [y_hat]\n",
      "Sampling: [y_hat]\n",
      "Auto-assigning NUTS sampler...\n",
      "Initializing NUTS using jitter+adapt_diag...\n",
      "Multiprocess sampling (4 chains in 4 jobs)\n",
      "NUTS: [beta, sigma]\n"
     ]
    },
    {
     "name": "stderr",
     "output_type": "stream",
     "text": [
      "Sampling 4 chains for 1_000 tune and 1_000 draw iterations (4_000 + 4_000 draws total) took 2 seconds.\n",
      "Sampling: [beta, sigma, y_hat]\n",
      "Sampling: [y_hat]\n",
      "Sampling: [y_hat]\n",
      "Sampling: [y_hat]\n",
      "Sampling: [y_hat]\n",
      "Auto-assigning NUTS sampler...\n",
      "Initializing NUTS using jitter+adapt_diag...\n",
      "Multiprocess sampling (4 chains in 4 jobs)\n",
      "NUTS: [beta, sigma]\n"
     ]
    },
    {
     "name": "stderr",
     "output_type": "stream",
     "text": [
      "Sampling 4 chains for 1_000 tune and 1_000 draw iterations (4_000 + 4_000 draws total) took 3 seconds.\n",
      "Sampling: [beta, sigma, y_hat]\n",
      "Sampling: [y_hat]\n",
      "Sampling: [y_hat]\n",
      "Sampling: [y_hat]\n",
      "Sampling: [y_hat]\n",
      "Auto-assigning NUTS sampler...\n",
      "Initializing NUTS using jitter+adapt_diag...\n",
      "Multiprocess sampling (4 chains in 4 jobs)\n",
      "NUTS: [beta, sigma]\n"
     ]
    },
    {
     "name": "stderr",
     "output_type": "stream",
     "text": [
      "Sampling 4 chains for 1_000 tune and 1_000 draw iterations (4_000 + 4_000 draws total) took 3 seconds.\n",
      "Sampling: [beta, sigma, y_hat]\n",
      "Sampling: [y_hat]\n",
      "Sampling: [y_hat]\n",
      "Sampling: [y_hat]\n",
      "Sampling: [y_hat]\n",
      "Auto-assigning NUTS sampler...\n",
      "Initializing NUTS using jitter+adapt_diag...\n",
      "Multiprocess sampling (4 chains in 4 jobs)\n",
      "NUTS: [beta, sigma]\n"
     ]
    },
    {
     "name": "stderr",
     "output_type": "stream",
     "text": [
      "Sampling 4 chains for 1_000 tune and 1_000 draw iterations (4_000 + 4_000 draws total) took 2 seconds.\n",
      "Sampling: [beta, sigma, y_hat]\n",
      "Sampling: [y_hat]\n",
      "Sampling: [y_hat]\n",
      "Sampling: [y_hat]\n",
      "Sampling: [y_hat]\n",
      "Auto-assigning NUTS sampler...\n",
      "Initializing NUTS using jitter+adapt_diag...\n",
      "Multiprocess sampling (4 chains in 4 jobs)\n",
      "NUTS: [beta, sigma]\n"
     ]
    },
    {
     "name": "stderr",
     "output_type": "stream",
     "text": [
      "Sampling 4 chains for 1_000 tune and 1_000 draw iterations (4_000 + 4_000 draws total) took 2 seconds.\n",
      "Sampling: [beta, sigma, y_hat]\n",
      "Sampling: [y_hat]\n",
      "Sampling: [y_hat]\n",
      "Sampling: [y_hat]\n",
      "Sampling: [y_hat]\n",
      "Auto-assigning NUTS sampler...\n",
      "Initializing NUTS using jitter+adapt_diag...\n",
      "Multiprocess sampling (4 chains in 4 jobs)\n",
      "NUTS: [beta, sigma]\n"
     ]
    },
    {
     "name": "stderr",
     "output_type": "stream",
     "text": [
      "Sampling 4 chains for 1_000 tune and 1_000 draw iterations (4_000 + 4_000 draws total) took 2 seconds.\n",
      "Sampling: [beta, sigma, y_hat]\n",
      "Sampling: [y_hat]\n",
      "Sampling: [y_hat]\n",
      "Sampling: [y_hat]\n",
      "Sampling: [y_hat]\n",
      "Auto-assigning NUTS sampler...\n",
      "Initializing NUTS using jitter+adapt_diag...\n",
      "Multiprocess sampling (4 chains in 4 jobs)\n",
      "NUTS: [beta, sigma]\n"
     ]
    },
    {
     "name": "stderr",
     "output_type": "stream",
     "text": [
      "Sampling 4 chains for 1_000 tune and 1_000 draw iterations (4_000 + 4_000 draws total) took 2 seconds.\n",
      "Sampling: [beta, sigma, y_hat]\n",
      "Sampling: [y_hat]\n",
      "Sampling: [y_hat]\n",
      "Sampling: [y_hat]\n",
      "Sampling: [y_hat]\n",
      "Auto-assigning NUTS sampler...\n",
      "Initializing NUTS using jitter+adapt_diag...\n",
      "Multiprocess sampling (4 chains in 4 jobs)\n",
      "NUTS: [beta, sigma]\n"
     ]
    },
    {
     "name": "stderr",
     "output_type": "stream",
     "text": [
      "Sampling 4 chains for 1_000 tune and 1_000 draw iterations (4_000 + 4_000 draws total) took 2 seconds.\n",
      "Sampling: [beta, sigma, y_hat]\n",
      "Sampling: [y_hat]\n",
      "Sampling: [y_hat]\n",
      "Sampling: [y_hat]\n",
      "Sampling: [y_hat]\n",
      "Auto-assigning NUTS sampler...\n",
      "Initializing NUTS using jitter+adapt_diag...\n",
      "Multiprocess sampling (4 chains in 4 jobs)\n",
      "NUTS: [beta, sigma]\n"
     ]
    },
    {
     "name": "stderr",
     "output_type": "stream",
     "text": [
      "Sampling 4 chains for 1_000 tune and 1_000 draw iterations (4_000 + 4_000 draws total) took 2 seconds.\n",
      "Sampling: [beta, sigma, y_hat]\n",
      "Sampling: [y_hat]\n",
      "Sampling: [y_hat]\n",
      "Sampling: [y_hat]\n",
      "Sampling: [y_hat]\n",
      "Auto-assigning NUTS sampler...\n",
      "Initializing NUTS using jitter+adapt_diag...\n",
      "Multiprocess sampling (4 chains in 4 jobs)\n",
      "NUTS: [beta, sigma]\n"
     ]
    },
    {
     "name": "stderr",
     "output_type": "stream",
     "text": [
      "Sampling 4 chains for 1_000 tune and 1_000 draw iterations (4_000 + 4_000 draws total) took 2 seconds.\n",
      "Sampling: [beta, sigma, y_hat]\n",
      "Sampling: [y_hat]\n",
      "Sampling: [y_hat]\n",
      "Sampling: [y_hat]\n",
      "Sampling: [y_hat]\n",
      "Auto-assigning NUTS sampler...\n",
      "Initializing NUTS using jitter+adapt_diag...\n",
      "Multiprocess sampling (4 chains in 4 jobs)\n",
      "NUTS: [beta, sigma]\n"
     ]
    },
    {
     "name": "stderr",
     "output_type": "stream",
     "text": [
      "Sampling 4 chains for 1_000 tune and 1_000 draw iterations (4_000 + 4_000 draws total) took 2 seconds.\n",
      "Sampling: [beta, sigma, y_hat]\n",
      "Sampling: [y_hat]\n",
      "Sampling: [y_hat]\n",
      "Sampling: [y_hat]\n",
      "Sampling: [y_hat]\n",
      "Auto-assigning NUTS sampler...\n",
      "Initializing NUTS using jitter+adapt_diag...\n",
      "Multiprocess sampling (4 chains in 4 jobs)\n",
      "NUTS: [beta, sigma]\n"
     ]
    },
    {
     "name": "stderr",
     "output_type": "stream",
     "text": [
      "Sampling 4 chains for 1_000 tune and 1_000 draw iterations (4_000 + 4_000 draws total) took 2 seconds.\n",
      "Sampling: [beta, sigma, y_hat]\n",
      "Sampling: [y_hat]\n",
      "Sampling: [y_hat]\n",
      "Sampling: [y_hat]\n",
      "Sampling: [y_hat]\n",
      "Auto-assigning NUTS sampler...\n",
      "Initializing NUTS using jitter+adapt_diag...\n",
      "Multiprocess sampling (4 chains in 4 jobs)\n",
      "NUTS: [beta, sigma]\n"
     ]
    },
    {
     "name": "stderr",
     "output_type": "stream",
     "text": [
      "Sampling 4 chains for 1_000 tune and 1_000 draw iterations (4_000 + 4_000 draws total) took 2 seconds.\n",
      "Sampling: [beta, sigma, y_hat]\n",
      "Sampling: [y_hat]\n",
      "Sampling: [y_hat]\n",
      "Sampling: [y_hat]\n",
      "Sampling: [y_hat]\n",
      "Auto-assigning NUTS sampler...\n",
      "Initializing NUTS using jitter+adapt_diag...\n",
      "Multiprocess sampling (4 chains in 4 jobs)\n",
      "NUTS: [beta, sigma]\n"
     ]
    },
    {
     "name": "stderr",
     "output_type": "stream",
     "text": [
      "Sampling 4 chains for 1_000 tune and 1_000 draw iterations (4_000 + 4_000 draws total) took 2 seconds.\n",
      "Sampling: [beta, sigma, y_hat]\n",
      "Sampling: [y_hat]\n",
      "Sampling: [y_hat]\n",
      "Sampling: [y_hat]\n",
      "Sampling: [y_hat]\n",
      "Auto-assigning NUTS sampler...\n",
      "Initializing NUTS using jitter+adapt_diag...\n",
      "Multiprocess sampling (4 chains in 4 jobs)\n",
      "NUTS: [beta, sigma]\n"
     ]
    },
    {
     "name": "stderr",
     "output_type": "stream",
     "text": [
      "Sampling 4 chains for 1_000 tune and 1_000 draw iterations (4_000 + 4_000 draws total) took 2 seconds.\n",
      "Sampling: [beta, sigma, y_hat]\n",
      "Sampling: [y_hat]\n",
      "Sampling: [y_hat]\n",
      "Sampling: [y_hat]\n",
      "Sampling: [y_hat]\n",
      "Auto-assigning NUTS sampler...\n",
      "Initializing NUTS using jitter+adapt_diag...\n",
      "Multiprocess sampling (4 chains in 4 jobs)\n",
      "NUTS: [beta, sigma]\n"
     ]
    },
    {
     "name": "stderr",
     "output_type": "stream",
     "text": [
      "Sampling 4 chains for 1_000 tune and 1_000 draw iterations (4_000 + 4_000 draws total) took 2 seconds.\n",
      "Sampling: [beta, sigma, y_hat]\n",
      "Sampling: [y_hat]\n",
      "Sampling: [y_hat]\n",
      "Sampling: [y_hat]\n",
      "Sampling: [y_hat]\n",
      "Auto-assigning NUTS sampler...\n",
      "Initializing NUTS using jitter+adapt_diag...\n",
      "Multiprocess sampling (4 chains in 4 jobs)\n",
      "NUTS: [beta, sigma]\n"
     ]
    },
    {
     "name": "stderr",
     "output_type": "stream",
     "text": [
      "Sampling 4 chains for 1_000 tune and 1_000 draw iterations (4_000 + 4_000 draws total) took 2 seconds.\n",
      "Sampling: [beta, sigma, y_hat]\n",
      "Sampling: [y_hat]\n",
      "Sampling: [y_hat]\n",
      "Sampling: [y_hat]\n",
      "Sampling: [y_hat]\n",
      "Auto-assigning NUTS sampler...\n",
      "Initializing NUTS using jitter+adapt_diag...\n",
      "Multiprocess sampling (4 chains in 4 jobs)\n",
      "NUTS: [beta, sigma]\n"
     ]
    },
    {
     "name": "stderr",
     "output_type": "stream",
     "text": [
      "Sampling 4 chains for 1_000 tune and 1_000 draw iterations (4_000 + 4_000 draws total) took 2 seconds.\n",
      "Sampling: [beta, sigma, y_hat]\n",
      "Sampling: [y_hat]\n",
      "Sampling: [y_hat]\n",
      "Sampling: [y_hat]\n",
      "Sampling: [y_hat]\n",
      "Auto-assigning NUTS sampler...\n",
      "Initializing NUTS using jitter+adapt_diag...\n",
      "Multiprocess sampling (4 chains in 4 jobs)\n",
      "NUTS: [beta, sigma]\n"
     ]
    },
    {
     "name": "stderr",
     "output_type": "stream",
     "text": [
      "Sampling 4 chains for 1_000 tune and 1_000 draw iterations (4_000 + 4_000 draws total) took 2 seconds.\n",
      "Sampling: [beta, sigma, y_hat]\n",
      "Sampling: [y_hat]\n",
      "Sampling: [y_hat]\n",
      "Sampling: [y_hat]\n",
      "Sampling: [y_hat]\n",
      "Auto-assigning NUTS sampler...\n",
      "Initializing NUTS using jitter+adapt_diag...\n",
      "Multiprocess sampling (4 chains in 4 jobs)\n",
      "NUTS: [beta, sigma]\n"
     ]
    },
    {
     "name": "stderr",
     "output_type": "stream",
     "text": [
      "Sampling 4 chains for 1_000 tune and 1_000 draw iterations (4_000 + 4_000 draws total) took 2 seconds.\n",
      "Sampling: [beta, sigma, y_hat]\n",
      "Sampling: [y_hat]\n",
      "Sampling: [y_hat]\n",
      "Sampling: [y_hat]\n",
      "Sampling: [y_hat]\n",
      "Auto-assigning NUTS sampler...\n",
      "Initializing NUTS using jitter+adapt_diag...\n",
      "Multiprocess sampling (4 chains in 4 jobs)\n",
      "NUTS: [beta, sigma]\n"
     ]
    },
    {
     "name": "stderr",
     "output_type": "stream",
     "text": [
      "Sampling 4 chains for 1_000 tune and 1_000 draw iterations (4_000 + 4_000 draws total) took 2 seconds.\n",
      "Sampling: [beta, sigma, y_hat]\n",
      "Sampling: [y_hat]\n",
      "Sampling: [y_hat]\n",
      "Sampling: [y_hat]\n",
      "Sampling: [y_hat]\n",
      "Auto-assigning NUTS sampler...\n",
      "Initializing NUTS using jitter+adapt_diag...\n",
      "Multiprocess sampling (4 chains in 4 jobs)\n",
      "NUTS: [beta, sigma]\n"
     ]
    },
    {
     "name": "stderr",
     "output_type": "stream",
     "text": [
      "Sampling 4 chains for 1_000 tune and 1_000 draw iterations (4_000 + 4_000 draws total) took 2 seconds.\n",
      "Sampling: [beta, sigma, y_hat]\n",
      "Sampling: [y_hat]\n",
      "Sampling: [y_hat]\n",
      "Sampling: [y_hat]\n",
      "Sampling: [y_hat]\n",
      "Auto-assigning NUTS sampler...\n",
      "Initializing NUTS using jitter+adapt_diag...\n",
      "Multiprocess sampling (4 chains in 4 jobs)\n",
      "NUTS: [beta, sigma]\n"
     ]
    },
    {
     "name": "stderr",
     "output_type": "stream",
     "text": [
      "Sampling 4 chains for 1_000 tune and 1_000 draw iterations (4_000 + 4_000 draws total) took 3 seconds.\n",
      "Sampling: [beta, sigma, y_hat]\n",
      "Sampling: [y_hat]\n",
      "Sampling: [y_hat]\n",
      "Sampling: [y_hat]\n",
      "Sampling: [y_hat]\n",
      "Auto-assigning NUTS sampler...\n",
      "Initializing NUTS using jitter+adapt_diag...\n",
      "Multiprocess sampling (4 chains in 4 jobs)\n",
      "NUTS: [beta, sigma]\n"
     ]
    },
    {
     "name": "stderr",
     "output_type": "stream",
     "text": [
      "Sampling 4 chains for 1_000 tune and 1_000 draw iterations (4_000 + 4_000 draws total) took 2 seconds.\n",
      "Sampling: [beta, sigma, y_hat]\n",
      "Sampling: [y_hat]\n",
      "Sampling: [y_hat]\n",
      "Sampling: [y_hat]\n",
      "Sampling: [y_hat]\n",
      "Auto-assigning NUTS sampler...\n",
      "Initializing NUTS using jitter+adapt_diag...\n",
      "Multiprocess sampling (4 chains in 4 jobs)\n",
      "NUTS: [beta, sigma]\n"
     ]
    },
    {
     "name": "stderr",
     "output_type": "stream",
     "text": [
      "Sampling 4 chains for 1_000 tune and 1_000 draw iterations (4_000 + 4_000 draws total) took 2 seconds.\n",
      "Sampling: [beta, sigma, y_hat]\n",
      "Sampling: [y_hat]\n",
      "Sampling: [y_hat]\n",
      "Sampling: [y_hat]\n",
      "Sampling: [y_hat]\n",
      "Auto-assigning NUTS sampler...\n",
      "Initializing NUTS using jitter+adapt_diag...\n",
      "Multiprocess sampling (4 chains in 4 jobs)\n",
      "NUTS: [beta, sigma]\n"
     ]
    },
    {
     "name": "stderr",
     "output_type": "stream",
     "text": [
      "Sampling 4 chains for 1_000 tune and 1_000 draw iterations (4_000 + 4_000 draws total) took 2 seconds.\n",
      "Sampling: [beta, sigma, y_hat]\n",
      "Sampling: [y_hat]\n",
      "Sampling: [y_hat]\n",
      "Sampling: [y_hat]\n",
      "Sampling: [y_hat]\n",
      "Auto-assigning NUTS sampler...\n",
      "Initializing NUTS using jitter+adapt_diag...\n",
      "Multiprocess sampling (4 chains in 4 jobs)\n",
      "NUTS: [beta, sigma]\n"
     ]
    },
    {
     "name": "stderr",
     "output_type": "stream",
     "text": [
      "Sampling 4 chains for 1_000 tune and 1_000 draw iterations (4_000 + 4_000 draws total) took 2 seconds.\n",
      "Sampling: [beta, sigma, y_hat]\n",
      "Sampling: [y_hat]\n",
      "Sampling: [y_hat]\n",
      "Sampling: [y_hat]\n",
      "Sampling: [y_hat]\n",
      "Auto-assigning NUTS sampler...\n",
      "Initializing NUTS using jitter+adapt_diag...\n",
      "Multiprocess sampling (4 chains in 4 jobs)\n",
      "NUTS: [beta, sigma]\n"
     ]
    },
    {
     "name": "stderr",
     "output_type": "stream",
     "text": [
      "Sampling 4 chains for 1_000 tune and 1_000 draw iterations (4_000 + 4_000 draws total) took 2 seconds.\n",
      "Sampling: [beta, sigma, y_hat]\n",
      "Sampling: [y_hat]\n",
      "Sampling: [y_hat]\n",
      "Sampling: [y_hat]\n",
      "Sampling: [y_hat]\n",
      "Auto-assigning NUTS sampler...\n",
      "Initializing NUTS using jitter+adapt_diag...\n",
      "Multiprocess sampling (4 chains in 4 jobs)\n",
      "NUTS: [beta, sigma]\n"
     ]
    },
    {
     "name": "stderr",
     "output_type": "stream",
     "text": [
      "Sampling 4 chains for 1_000 tune and 1_000 draw iterations (4_000 + 4_000 draws total) took 2 seconds.\n",
      "Sampling: [beta, sigma, y_hat]\n",
      "Sampling: [y_hat]\n",
      "Sampling: [y_hat]\n",
      "Sampling: [y_hat]\n",
      "Sampling: [y_hat]\n",
      "Auto-assigning NUTS sampler...\n",
      "Initializing NUTS using jitter+adapt_diag...\n",
      "Multiprocess sampling (4 chains in 4 jobs)\n",
      "NUTS: [beta, sigma]\n"
     ]
    },
    {
     "name": "stderr",
     "output_type": "stream",
     "text": [
      "Sampling 4 chains for 1_000 tune and 1_000 draw iterations (4_000 + 4_000 draws total) took 2 seconds.\n",
      "Sampling: [beta, sigma, y_hat]\n",
      "Sampling: [y_hat]\n",
      "Sampling: [y_hat]\n",
      "Sampling: [y_hat]\n",
      "Sampling: [y_hat]\n",
      "Auto-assigning NUTS sampler...\n",
      "Initializing NUTS using jitter+adapt_diag...\n",
      "Multiprocess sampling (4 chains in 4 jobs)\n",
      "NUTS: [beta, sigma]\n"
     ]
    },
    {
     "name": "stderr",
     "output_type": "stream",
     "text": [
      "Sampling 4 chains for 1_000 tune and 1_000 draw iterations (4_000 + 4_000 draws total) took 2 seconds.\n",
      "Sampling: [beta, sigma, y_hat]\n",
      "Sampling: [y_hat]\n",
      "Sampling: [y_hat]\n",
      "Sampling: [y_hat]\n",
      "Sampling: [y_hat]\n",
      "Auto-assigning NUTS sampler...\n",
      "Initializing NUTS using jitter+adapt_diag...\n",
      "Multiprocess sampling (4 chains in 4 jobs)\n",
      "NUTS: [beta, sigma]\n"
     ]
    },
    {
     "name": "stderr",
     "output_type": "stream",
     "text": [
      "Sampling 4 chains for 1_000 tune and 1_000 draw iterations (4_000 + 4_000 draws total) took 2 seconds.\n",
      "Sampling: [beta, sigma, y_hat]\n",
      "Sampling: [y_hat]\n",
      "Sampling: [y_hat]\n",
      "Sampling: [y_hat]\n",
      "Sampling: [y_hat]\n",
      "Auto-assigning NUTS sampler...\n",
      "Initializing NUTS using jitter+adapt_diag...\n",
      "Multiprocess sampling (4 chains in 4 jobs)\n",
      "NUTS: [beta, sigma]\n"
     ]
    },
    {
     "name": "stderr",
     "output_type": "stream",
     "text": [
      "Sampling 4 chains for 1_000 tune and 1_000 draw iterations (4_000 + 4_000 draws total) took 7 seconds.\n",
      "Sampling: [beta, sigma, y_hat]\n",
      "Sampling: [y_hat]\n",
      "Sampling: [y_hat]\n",
      "Sampling: [y_hat]\n",
      "Sampling: [y_hat]\n",
      "Auto-assigning NUTS sampler...\n",
      "Initializing NUTS using jitter+adapt_diag...\n",
      "Multiprocess sampling (4 chains in 4 jobs)\n",
      "NUTS: [beta, sigma]\n"
     ]
    },
    {
     "name": "stderr",
     "output_type": "stream",
     "text": [
      "Sampling 4 chains for 1_000 tune and 1_000 draw iterations (4_000 + 4_000 draws total) took 7 seconds.\n",
      "Sampling: [beta, sigma, y_hat]\n",
      "Sampling: [y_hat]\n",
      "Sampling: [y_hat]\n",
      "Sampling: [y_hat]\n",
      "Sampling: [y_hat]\n",
      "Auto-assigning NUTS sampler...\n",
      "Initializing NUTS using jitter+adapt_diag...\n",
      "Multiprocess sampling (4 chains in 4 jobs)\n",
      "NUTS: [beta, sigma]\n"
     ]
    },
    {
     "name": "stderr",
     "output_type": "stream",
     "text": [
      "Sampling 4 chains for 1_000 tune and 1_000 draw iterations (4_000 + 4_000 draws total) took 7 seconds.\n",
      "Sampling: [beta, sigma, y_hat]\n",
      "Sampling: [y_hat]\n",
      "Sampling: [y_hat]\n",
      "Sampling: [y_hat]\n",
      "Sampling: [y_hat]\n",
      "Auto-assigning NUTS sampler...\n",
      "Initializing NUTS using jitter+adapt_diag...\n",
      "Multiprocess sampling (4 chains in 4 jobs)\n",
      "NUTS: [beta, sigma]\n"
     ]
    },
    {
     "name": "stderr",
     "output_type": "stream",
     "text": [
      "Sampling 4 chains for 1_000 tune and 1_000 draw iterations (4_000 + 4_000 draws total) took 6 seconds.\n",
      "Sampling: [beta, sigma, y_hat]\n",
      "Sampling: [y_hat]\n",
      "Sampling: [y_hat]\n",
      "Sampling: [y_hat]\n",
      "Sampling: [y_hat]\n",
      "Auto-assigning NUTS sampler...\n",
      "Initializing NUTS using jitter+adapt_diag...\n",
      "Multiprocess sampling (4 chains in 4 jobs)\n",
      "NUTS: [beta, sigma]\n"
     ]
    },
    {
     "name": "stderr",
     "output_type": "stream",
     "text": [
      "Sampling 4 chains for 1_000 tune and 1_000 draw iterations (4_000 + 4_000 draws total) took 6 seconds.\n",
      "Sampling: [beta, sigma, y_hat]\n",
      "Sampling: [y_hat]\n",
      "Sampling: [y_hat]\n",
      "Sampling: [y_hat]\n",
      "Sampling: [y_hat]\n",
      "Auto-assigning NUTS sampler...\n",
      "Initializing NUTS using jitter+adapt_diag...\n",
      "Multiprocess sampling (4 chains in 4 jobs)\n",
      "NUTS: [beta, sigma]\n"
     ]
    },
    {
     "name": "stderr",
     "output_type": "stream",
     "text": [
      "Sampling 4 chains for 1_000 tune and 1_000 draw iterations (4_000 + 4_000 draws total) took 6 seconds.\n",
      "Sampling: [beta, sigma, y_hat]\n",
      "Sampling: [y_hat]\n",
      "Sampling: [y_hat]\n",
      "Sampling: [y_hat]\n",
      "Sampling: [y_hat]\n",
      "Auto-assigning NUTS sampler...\n",
      "Initializing NUTS using jitter+adapt_diag...\n",
      "Multiprocess sampling (4 chains in 4 jobs)\n",
      "NUTS: [beta, sigma]\n"
     ]
    },
    {
     "name": "stderr",
     "output_type": "stream",
     "text": [
      "Sampling 4 chains for 1_000 tune and 1_000 draw iterations (4_000 + 4_000 draws total) took 7 seconds.\n",
      "Sampling: [beta, sigma, y_hat]\n",
      "Sampling: [y_hat]\n",
      "Sampling: [y_hat]\n",
      "Sampling: [y_hat]\n",
      "Sampling: [y_hat]\n",
      "Auto-assigning NUTS sampler...\n",
      "Initializing NUTS using jitter+adapt_diag...\n",
      "Multiprocess sampling (4 chains in 4 jobs)\n",
      "NUTS: [beta, sigma]\n"
     ]
    },
    {
     "name": "stderr",
     "output_type": "stream",
     "text": [
      "Sampling 4 chains for 1_000 tune and 1_000 draw iterations (4_000 + 4_000 draws total) took 7 seconds.\n",
      "Sampling: [beta, sigma, y_hat]\n",
      "Sampling: [y_hat]\n",
      "Sampling: [y_hat]\n",
      "Sampling: [y_hat]\n",
      "Sampling: [y_hat]\n",
      "Auto-assigning NUTS sampler...\n",
      "Initializing NUTS using jitter+adapt_diag...\n",
      "Multiprocess sampling (4 chains in 4 jobs)\n",
      "NUTS: [beta, sigma]\n"
     ]
    },
    {
     "name": "stderr",
     "output_type": "stream",
     "text": [
      "Sampling 4 chains for 1_000 tune and 1_000 draw iterations (4_000 + 4_000 draws total) took 6 seconds.\n",
      "Sampling: [beta, sigma, y_hat]\n",
      "Sampling: [y_hat]\n",
      "Sampling: [y_hat]\n",
      "Sampling: [y_hat]\n",
      "Sampling: [y_hat]\n",
      "Auto-assigning NUTS sampler...\n",
      "Initializing NUTS using jitter+adapt_diag...\n",
      "Multiprocess sampling (4 chains in 4 jobs)\n",
      "NUTS: [beta, sigma]\n"
     ]
    },
    {
     "name": "stderr",
     "output_type": "stream",
     "text": [
      "Sampling 4 chains for 1_000 tune and 1_000 draw iterations (4_000 + 4_000 draws total) took 6 seconds.\n",
      "Sampling: [beta, sigma, y_hat]\n",
      "Sampling: [y_hat]\n",
      "Sampling: [y_hat]\n",
      "Sampling: [y_hat]\n",
      "Sampling: [y_hat]\n",
      "Auto-assigning NUTS sampler...\n",
      "Initializing NUTS using jitter+adapt_diag...\n",
      "Multiprocess sampling (4 chains in 4 jobs)\n",
      "NUTS: [beta, sigma]\n"
     ]
    },
    {
     "name": "stderr",
     "output_type": "stream",
     "text": [
      "Sampling 4 chains for 1_000 tune and 1_000 draw iterations (4_000 + 4_000 draws total) took 6 seconds.\n",
      "Sampling: [beta, sigma, y_hat]\n",
      "Sampling: [y_hat]\n",
      "Sampling: [y_hat]\n",
      "Sampling: [y_hat]\n",
      "Sampling: [y_hat]\n",
      "Auto-assigning NUTS sampler...\n",
      "Initializing NUTS using jitter+adapt_diag...\n",
      "Multiprocess sampling (4 chains in 4 jobs)\n",
      "NUTS: [beta, sigma]\n"
     ]
    },
    {
     "name": "stderr",
     "output_type": "stream",
     "text": [
      "Sampling 4 chains for 1_000 tune and 1_000 draw iterations (4_000 + 4_000 draws total) took 7 seconds.\n",
      "Sampling: [beta, sigma, y_hat]\n",
      "Sampling: [y_hat]\n",
      "Sampling: [y_hat]\n",
      "Sampling: [y_hat]\n",
      "Sampling: [y_hat]\n",
      "Auto-assigning NUTS sampler...\n",
      "Initializing NUTS using jitter+adapt_diag...\n",
      "Multiprocess sampling (4 chains in 4 jobs)\n",
      "NUTS: [beta, sigma]\n"
     ]
    },
    {
     "name": "stderr",
     "output_type": "stream",
     "text": [
      "Sampling 4 chains for 1_000 tune and 1_000 draw iterations (4_000 + 4_000 draws total) took 7 seconds.\n",
      "Sampling: [beta, sigma, y_hat]\n",
      "Sampling: [y_hat]\n",
      "Sampling: [y_hat]\n",
      "Sampling: [y_hat]\n",
      "Sampling: [y_hat]\n",
      "Auto-assigning NUTS sampler...\n",
      "Initializing NUTS using jitter+adapt_diag...\n",
      "Multiprocess sampling (4 chains in 4 jobs)\n",
      "NUTS: [beta, sigma]\n"
     ]
    },
    {
     "name": "stderr",
     "output_type": "stream",
     "text": [
      "Sampling 4 chains for 1_000 tune and 1_000 draw iterations (4_000 + 4_000 draws total) took 7 seconds.\n",
      "Sampling: [beta, sigma, y_hat]\n",
      "Sampling: [y_hat]\n",
      "Sampling: [y_hat]\n",
      "Sampling: [y_hat]\n",
      "Sampling: [y_hat]\n",
      "Auto-assigning NUTS sampler...\n",
      "Initializing NUTS using jitter+adapt_diag...\n",
      "Multiprocess sampling (4 chains in 4 jobs)\n",
      "NUTS: [beta, sigma]\n"
     ]
    },
    {
     "name": "stderr",
     "output_type": "stream",
     "text": [
      "Sampling 4 chains for 1_000 tune and 1_000 draw iterations (4_000 + 4_000 draws total) took 8 seconds.\n",
      "Sampling: [beta, sigma, y_hat]\n",
      "Sampling: [y_hat]\n",
      "Sampling: [y_hat]\n",
      "Sampling: [y_hat]\n",
      "Sampling: [y_hat]\n",
      "Auto-assigning NUTS sampler...\n",
      "Initializing NUTS using jitter+adapt_diag...\n",
      "Multiprocess sampling (4 chains in 4 jobs)\n",
      "NUTS: [beta, sigma]\n"
     ]
    },
    {
     "name": "stderr",
     "output_type": "stream",
     "text": [
      "Sampling 4 chains for 1_000 tune and 1_000 draw iterations (4_000 + 4_000 draws total) took 9 seconds.\n",
      "Sampling: [beta, sigma, y_hat]\n",
      "Sampling: [y_hat]\n",
      "Sampling: [y_hat]\n",
      "Sampling: [y_hat]\n",
      "Sampling: [y_hat]\n",
      "Auto-assigning NUTS sampler...\n",
      "Initializing NUTS using jitter+adapt_diag...\n",
      "Multiprocess sampling (4 chains in 4 jobs)\n",
      "NUTS: [beta, sigma]\n"
     ]
    },
    {
     "name": "stderr",
     "output_type": "stream",
     "text": [
      "Sampling 4 chains for 1_000 tune and 1_000 draw iterations (4_000 + 4_000 draws total) took 8 seconds.\n",
      "Sampling: [beta, sigma, y_hat]\n",
      "Sampling: [y_hat]\n",
      "Sampling: [y_hat]\n",
      "Sampling: [y_hat]\n",
      "Sampling: [y_hat]\n",
      "Auto-assigning NUTS sampler...\n",
      "Initializing NUTS using jitter+adapt_diag...\n",
      "Multiprocess sampling (4 chains in 4 jobs)\n",
      "NUTS: [beta, sigma]\n"
     ]
    },
    {
     "name": "stderr",
     "output_type": "stream",
     "text": [
      "Sampling 4 chains for 1_000 tune and 1_000 draw iterations (4_000 + 4_000 draws total) took 8 seconds.\n",
      "Sampling: [beta, sigma, y_hat]\n",
      "Sampling: [y_hat]\n",
      "Sampling: [y_hat]\n",
      "Sampling: [y_hat]\n",
      "Sampling: [y_hat]\n",
      "Auto-assigning NUTS sampler...\n",
      "Initializing NUTS using jitter+adapt_diag...\n",
      "Multiprocess sampling (4 chains in 4 jobs)\n",
      "NUTS: [beta, sigma]\n"
     ]
    },
    {
     "name": "stderr",
     "output_type": "stream",
     "text": [
      "Sampling 4 chains for 1_000 tune and 1_000 draw iterations (4_000 + 4_000 draws total) took 9 seconds.\n",
      "Sampling: [beta, sigma, y_hat]\n",
      "Sampling: [y_hat]\n",
      "Sampling: [y_hat]\n",
      "Sampling: [y_hat]\n",
      "Sampling: [y_hat]\n",
      "Auto-assigning NUTS sampler...\n",
      "Initializing NUTS using jitter+adapt_diag...\n",
      "Multiprocess sampling (4 chains in 4 jobs)\n",
      "NUTS: [beta, sigma]\n"
     ]
    },
    {
     "name": "stderr",
     "output_type": "stream",
     "text": [
      "Sampling 4 chains for 1_000 tune and 1_000 draw iterations (4_000 + 4_000 draws total) took 7 seconds.\n",
      "Sampling: [beta, sigma, y_hat]\n",
      "Sampling: [y_hat]\n",
      "Sampling: [y_hat]\n",
      "Sampling: [y_hat]\n",
      "Sampling: [y_hat]\n",
      "Auto-assigning NUTS sampler...\n",
      "Initializing NUTS using jitter+adapt_diag...\n",
      "Multiprocess sampling (4 chains in 4 jobs)\n",
      "NUTS: [beta, sigma]\n"
     ]
    },
    {
     "name": "stderr",
     "output_type": "stream",
     "text": [
      "Sampling 4 chains for 1_000 tune and 1_000 draw iterations (4_000 + 4_000 draws total) took 3 seconds.\n",
      "Sampling: [beta, sigma, y_hat]\n",
      "Sampling: [y_hat]\n",
      "Sampling: [y_hat]\n",
      "Sampling: [y_hat]\n",
      "Sampling: [y_hat]\n",
      "Auto-assigning NUTS sampler...\n",
      "Initializing NUTS using jitter+adapt_diag...\n",
      "Multiprocess sampling (4 chains in 4 jobs)\n",
      "NUTS: [beta, sigma]\n"
     ]
    },
    {
     "name": "stderr",
     "output_type": "stream",
     "text": [
      "Sampling 4 chains for 1_000 tune and 1_000 draw iterations (4_000 + 4_000 draws total) took 3 seconds.\n",
      "Sampling: [beta, sigma, y_hat]\n",
      "Sampling: [y_hat]\n",
      "Sampling: [y_hat]\n",
      "Sampling: [y_hat]\n",
      "Sampling: [y_hat]\n",
      "Auto-assigning NUTS sampler...\n",
      "Initializing NUTS using jitter+adapt_diag...\n",
      "Multiprocess sampling (4 chains in 4 jobs)\n",
      "NUTS: [beta, sigma]\n"
     ]
    },
    {
     "name": "stderr",
     "output_type": "stream",
     "text": [
      "Sampling 4 chains for 1_000 tune and 1_000 draw iterations (4_000 + 4_000 draws total) took 3 seconds.\n",
      "Sampling: [beta, sigma, y_hat]\n",
      "Sampling: [y_hat]\n",
      "Sampling: [y_hat]\n",
      "Sampling: [y_hat]\n",
      "Sampling: [y_hat]\n",
      "Auto-assigning NUTS sampler...\n",
      "Initializing NUTS using jitter+adapt_diag...\n",
      "Multiprocess sampling (4 chains in 4 jobs)\n",
      "NUTS: [beta, sigma]\n"
     ]
    },
    {
     "name": "stderr",
     "output_type": "stream",
     "text": [
      "Sampling 4 chains for 1_000 tune and 1_000 draw iterations (4_000 + 4_000 draws total) took 3 seconds.\n",
      "Sampling: [beta, sigma, y_hat]\n",
      "Sampling: [y_hat]\n",
      "Sampling: [y_hat]\n",
      "Sampling: [y_hat]\n",
      "Sampling: [y_hat]\n",
      "Auto-assigning NUTS sampler...\n",
      "Initializing NUTS using jitter+adapt_diag...\n",
      "Multiprocess sampling (4 chains in 4 jobs)\n",
      "NUTS: [beta, sigma]\n"
     ]
    },
    {
     "name": "stderr",
     "output_type": "stream",
     "text": [
      "Sampling 4 chains for 1_000 tune and 1_000 draw iterations (4_000 + 4_000 draws total) took 3 seconds.\n",
      "Sampling: [beta, sigma, y_hat]\n",
      "Sampling: [y_hat]\n",
      "Sampling: [y_hat]\n",
      "Sampling: [y_hat]\n",
      "Sampling: [y_hat]\n",
      "Auto-assigning NUTS sampler...\n",
      "Initializing NUTS using jitter+adapt_diag...\n",
      "Multiprocess sampling (4 chains in 4 jobs)\n",
      "NUTS: [beta, sigma]\n"
     ]
    },
    {
     "name": "stderr",
     "output_type": "stream",
     "text": [
      "Sampling 4 chains for 1_000 tune and 1_000 draw iterations (4_000 + 4_000 draws total) took 3 seconds.\n",
      "Sampling: [beta, sigma, y_hat]\n",
      "Sampling: [y_hat]\n",
      "Sampling: [y_hat]\n",
      "Sampling: [y_hat]\n",
      "Sampling: [y_hat]\n",
      "Auto-assigning NUTS sampler...\n",
      "Initializing NUTS using jitter+adapt_diag...\n",
      "Multiprocess sampling (4 chains in 4 jobs)\n",
      "NUTS: [beta, sigma]\n"
     ]
    },
    {
     "name": "stderr",
     "output_type": "stream",
     "text": [
      "Sampling 4 chains for 1_000 tune and 1_000 draw iterations (4_000 + 4_000 draws total) took 3 seconds.\n",
      "Sampling: [beta, sigma, y_hat]\n",
      "Sampling: [y_hat]\n",
      "Sampling: [y_hat]\n",
      "Sampling: [y_hat]\n",
      "Sampling: [y_hat]\n",
      "Auto-assigning NUTS sampler...\n",
      "Initializing NUTS using jitter+adapt_diag...\n",
      "Multiprocess sampling (4 chains in 4 jobs)\n",
      "NUTS: [beta, sigma]\n"
     ]
    },
    {
     "name": "stderr",
     "output_type": "stream",
     "text": [
      "Sampling 4 chains for 1_000 tune and 1_000 draw iterations (4_000 + 4_000 draws total) took 3 seconds.\n",
      "Sampling: [beta, sigma, y_hat]\n",
      "Sampling: [y_hat]\n",
      "Sampling: [y_hat]\n",
      "Sampling: [y_hat]\n",
      "Sampling: [y_hat]\n",
      "Auto-assigning NUTS sampler...\n",
      "Initializing NUTS using jitter+adapt_diag...\n",
      "Multiprocess sampling (4 chains in 4 jobs)\n",
      "NUTS: [beta, sigma]\n"
     ]
    },
    {
     "name": "stderr",
     "output_type": "stream",
     "text": [
      "Sampling 4 chains for 1_000 tune and 1_000 draw iterations (4_000 + 4_000 draws total) took 3 seconds.\n",
      "Sampling: [beta, sigma, y_hat]\n",
      "Sampling: [y_hat]\n",
      "Sampling: [y_hat]\n",
      "Sampling: [y_hat]\n",
      "Sampling: [y_hat]\n",
      "Auto-assigning NUTS sampler...\n",
      "Initializing NUTS using jitter+adapt_diag...\n",
      "Multiprocess sampling (4 chains in 4 jobs)\n",
      "NUTS: [beta, sigma]\n"
     ]
    },
    {
     "name": "stderr",
     "output_type": "stream",
     "text": [
      "Sampling 4 chains for 1_000 tune and 1_000 draw iterations (4_000 + 4_000 draws total) took 3 seconds.\n",
      "Sampling: [beta, sigma, y_hat]\n",
      "Sampling: [y_hat]\n",
      "Sampling: [y_hat]\n",
      "Sampling: [y_hat]\n",
      "Sampling: [y_hat]\n",
      "Auto-assigning NUTS sampler...\n",
      "Initializing NUTS using jitter+adapt_diag...\n",
      "Multiprocess sampling (4 chains in 4 jobs)\n",
      "NUTS: [beta, sigma]\n"
     ]
    },
    {
     "name": "stderr",
     "output_type": "stream",
     "text": [
      "Sampling 4 chains for 1_000 tune and 1_000 draw iterations (4_000 + 4_000 draws total) took 3 seconds.\n",
      "Sampling: [beta, sigma, y_hat]\n",
      "Sampling: [y_hat]\n",
      "Sampling: [y_hat]\n",
      "Sampling: [y_hat]\n",
      "Sampling: [y_hat]\n",
      "Auto-assigning NUTS sampler...\n",
      "Initializing NUTS using jitter+adapt_diag...\n",
      "Multiprocess sampling (4 chains in 4 jobs)\n",
      "NUTS: [beta, sigma]\n"
     ]
    },
    {
     "name": "stderr",
     "output_type": "stream",
     "text": [
      "Sampling 4 chains for 1_000 tune and 1_000 draw iterations (4_000 + 4_000 draws total) took 3 seconds.\n",
      "Sampling: [beta, sigma, y_hat]\n",
      "Sampling: [y_hat]\n",
      "Sampling: [y_hat]\n",
      "Sampling: [y_hat]\n",
      "Sampling: [y_hat]\n",
      "Auto-assigning NUTS sampler...\n",
      "Initializing NUTS using jitter+adapt_diag...\n",
      "Multiprocess sampling (4 chains in 4 jobs)\n",
      "NUTS: [beta, sigma]\n"
     ]
    },
    {
     "name": "stderr",
     "output_type": "stream",
     "text": [
      "Sampling 4 chains for 1_000 tune and 1_000 draw iterations (4_000 + 4_000 draws total) took 3 seconds.\n",
      "Sampling: [beta, sigma, y_hat]\n",
      "Sampling: [y_hat]\n",
      "Sampling: [y_hat]\n",
      "Sampling: [y_hat]\n",
      "Sampling: [y_hat]\n",
      "Auto-assigning NUTS sampler...\n",
      "Initializing NUTS using jitter+adapt_diag...\n",
      "Multiprocess sampling (4 chains in 4 jobs)\n",
      "NUTS: [beta, sigma]\n"
     ]
    },
    {
     "name": "stderr",
     "output_type": "stream",
     "text": [
      "Sampling 4 chains for 1_000 tune and 1_000 draw iterations (4_000 + 4_000 draws total) took 3 seconds.\n",
      "Sampling: [beta, sigma, y_hat]\n",
      "Sampling: [y_hat]\n",
      "Sampling: [y_hat]\n",
      "Sampling: [y_hat]\n",
      "Sampling: [y_hat]\n",
      "Auto-assigning NUTS sampler...\n",
      "Initializing NUTS using jitter+adapt_diag...\n",
      "Multiprocess sampling (4 chains in 4 jobs)\n",
      "NUTS: [beta, sigma]\n"
     ]
    },
    {
     "name": "stderr",
     "output_type": "stream",
     "text": [
      "Sampling 4 chains for 1_000 tune and 1_000 draw iterations (4_000 + 4_000 draws total) took 3 seconds.\n",
      "Sampling: [beta, sigma, y_hat]\n",
      "Sampling: [y_hat]\n",
      "Sampling: [y_hat]\n",
      "Sampling: [y_hat]\n",
      "Sampling: [y_hat]\n",
      "Auto-assigning NUTS sampler...\n",
      "Initializing NUTS using jitter+adapt_diag...\n",
      "Multiprocess sampling (4 chains in 4 jobs)\n",
      "NUTS: [beta, sigma]\n"
     ]
    },
    {
     "name": "stderr",
     "output_type": "stream",
     "text": [
      "Sampling 4 chains for 1_000 tune and 1_000 draw iterations (4_000 + 4_000 draws total) took 3 seconds.\n",
      "Sampling: [beta, sigma, y_hat]\n",
      "Sampling: [y_hat]\n",
      "Sampling: [y_hat]\n",
      "Sampling: [y_hat]\n",
      "Sampling: [y_hat]\n",
      "Auto-assigning NUTS sampler...\n",
      "Initializing NUTS using jitter+adapt_diag...\n",
      "Multiprocess sampling (4 chains in 4 jobs)\n",
      "NUTS: [beta, sigma]\n"
     ]
    },
    {
     "name": "stderr",
     "output_type": "stream",
     "text": [
      "Sampling 4 chains for 1_000 tune and 1_000 draw iterations (4_000 + 4_000 draws total) took 3 seconds.\n",
      "Sampling: [beta, sigma, y_hat]\n",
      "Sampling: [y_hat]\n",
      "Sampling: [y_hat]\n",
      "Sampling: [y_hat]\n",
      "Sampling: [y_hat]\n",
      "Auto-assigning NUTS sampler...\n",
      "Initializing NUTS using jitter+adapt_diag...\n",
      "Multiprocess sampling (4 chains in 4 jobs)\n",
      "NUTS: [beta, sigma]\n"
     ]
    },
    {
     "name": "stderr",
     "output_type": "stream",
     "text": [
      "Sampling 4 chains for 1_000 tune and 1_000 draw iterations (4_000 + 4_000 draws total) took 3 seconds.\n",
      "Sampling: [beta, sigma, y_hat]\n",
      "Sampling: [y_hat]\n",
      "Sampling: [y_hat]\n",
      "Sampling: [y_hat]\n",
      "Sampling: [y_hat]\n",
      "Auto-assigning NUTS sampler...\n",
      "Initializing NUTS using jitter+adapt_diag...\n",
      "Multiprocess sampling (4 chains in 4 jobs)\n",
      "NUTS: [beta, sigma]\n"
     ]
    },
    {
     "name": "stderr",
     "output_type": "stream",
     "text": [
      "Sampling 4 chains for 1_000 tune and 1_000 draw iterations (4_000 + 4_000 draws total) took 3 seconds.\n",
      "Sampling: [beta, sigma, y_hat]\n",
      "Sampling: [y_hat]\n",
      "Sampling: [y_hat]\n",
      "Sampling: [y_hat]\n",
      "Sampling: [y_hat]\n",
      "Auto-assigning NUTS sampler...\n",
      "Initializing NUTS using jitter+adapt_diag...\n",
      "Multiprocess sampling (4 chains in 4 jobs)\n",
      "NUTS: [beta, sigma]\n"
     ]
    },
    {
     "name": "stderr",
     "output_type": "stream",
     "text": [
      "Sampling 4 chains for 1_000 tune and 1_000 draw iterations (4_000 + 4_000 draws total) took 3 seconds.\n",
      "Sampling: [beta, sigma, y_hat]\n",
      "Sampling: [y_hat]\n",
      "Sampling: [y_hat]\n",
      "Sampling: [y_hat]\n",
      "Sampling: [y_hat]\n",
      "Auto-assigning NUTS sampler...\n",
      "Initializing NUTS using jitter+adapt_diag...\n",
      "Multiprocess sampling (4 chains in 4 jobs)\n",
      "NUTS: [beta, sigma]\n"
     ]
    },
    {
     "name": "stderr",
     "output_type": "stream",
     "text": [
      "Sampling 4 chains for 1_000 tune and 1_000 draw iterations (4_000 + 4_000 draws total) took 3 seconds.\n",
      "Sampling: [beta, sigma, y_hat]\n",
      "Sampling: [y_hat]\n",
      "Sampling: [y_hat]\n",
      "Sampling: [y_hat]\n",
      "Sampling: [y_hat]\n",
      "Auto-assigning NUTS sampler...\n",
      "Initializing NUTS using jitter+adapt_diag...\n",
      "Multiprocess sampling (4 chains in 4 jobs)\n",
      "NUTS: [beta, sigma]\n"
     ]
    },
    {
     "name": "stderr",
     "output_type": "stream",
     "text": [
      "Sampling 4 chains for 1_000 tune and 1_000 draw iterations (4_000 + 4_000 draws total) took 3 seconds.\n",
      "Sampling: [beta, sigma, y_hat]\n",
      "Sampling: [y_hat]\n",
      "Sampling: [y_hat]\n",
      "Sampling: [y_hat]\n",
      "Sampling: [y_hat]\n",
      "Auto-assigning NUTS sampler...\n",
      "Initializing NUTS using jitter+adapt_diag...\n",
      "Multiprocess sampling (4 chains in 4 jobs)\n",
      "NUTS: [beta, sigma]\n"
     ]
    },
    {
     "name": "stderr",
     "output_type": "stream",
     "text": [
      "Sampling 4 chains for 1_000 tune and 1_000 draw iterations (4_000 + 4_000 draws total) took 3 seconds.\n",
      "Sampling: [beta, sigma, y_hat]\n",
      "Sampling: [y_hat]\n",
      "Sampling: [y_hat]\n",
      "Sampling: [y_hat]\n",
      "Sampling: [y_hat]\n",
      "Auto-assigning NUTS sampler...\n",
      "Initializing NUTS using jitter+adapt_diag...\n",
      "Multiprocess sampling (4 chains in 4 jobs)\n",
      "NUTS: [beta, sigma]\n"
     ]
    },
    {
     "name": "stderr",
     "output_type": "stream",
     "text": [
      "Sampling 4 chains for 1_000 tune and 1_000 draw iterations (4_000 + 4_000 draws total) took 3 seconds.\n",
      "Sampling: [beta, sigma, y_hat]\n",
      "Sampling: [y_hat]\n",
      "Sampling: [y_hat]\n",
      "Sampling: [y_hat]\n",
      "Sampling: [y_hat]\n",
      "Auto-assigning NUTS sampler...\n",
      "Initializing NUTS using jitter+adapt_diag...\n",
      "Multiprocess sampling (4 chains in 4 jobs)\n",
      "NUTS: [beta, sigma]\n"
     ]
    },
    {
     "name": "stderr",
     "output_type": "stream",
     "text": [
      "Sampling 4 chains for 1_000 tune and 1_000 draw iterations (4_000 + 4_000 draws total) took 3 seconds.\n",
      "Sampling: [beta, sigma, y_hat]\n",
      "Sampling: [y_hat]\n",
      "Sampling: [y_hat]\n",
      "Sampling: [y_hat]\n",
      "Sampling: [y_hat]\n",
      "Auto-assigning NUTS sampler...\n",
      "Initializing NUTS using jitter+adapt_diag...\n",
      "Multiprocess sampling (4 chains in 4 jobs)\n",
      "NUTS: [beta, sigma]\n"
     ]
    },
    {
     "name": "stderr",
     "output_type": "stream",
     "text": [
      "Sampling 4 chains for 1_000 tune and 1_000 draw iterations (4_000 + 4_000 draws total) took 3 seconds.\n",
      "Sampling: [beta, sigma, y_hat]\n",
      "Sampling: [y_hat]\n",
      "Sampling: [y_hat]\n",
      "Sampling: [y_hat]\n",
      "Sampling: [y_hat]\n",
      "Auto-assigning NUTS sampler...\n",
      "Initializing NUTS using jitter+adapt_diag...\n",
      "Multiprocess sampling (4 chains in 4 jobs)\n",
      "NUTS: [beta, sigma]\n"
     ]
    },
    {
     "name": "stderr",
     "output_type": "stream",
     "text": [
      "Sampling 4 chains for 1_000 tune and 1_000 draw iterations (4_000 + 4_000 draws total) took 3 seconds.\n",
      "Sampling: [beta, sigma, y_hat]\n",
      "Sampling: [y_hat]\n",
      "Sampling: [y_hat]\n",
      "Sampling: [y_hat]\n",
      "Sampling: [y_hat]\n",
      "Auto-assigning NUTS sampler...\n",
      "Initializing NUTS using jitter+adapt_diag...\n",
      "Multiprocess sampling (4 chains in 4 jobs)\n",
      "NUTS: [beta, sigma]\n"
     ]
    },
    {
     "name": "stderr",
     "output_type": "stream",
     "text": [
      "Sampling 4 chains for 1_000 tune and 1_000 draw iterations (4_000 + 4_000 draws total) took 3 seconds.\n",
      "Sampling: [beta, sigma, y_hat]\n",
      "Sampling: [y_hat]\n",
      "Sampling: [y_hat]\n",
      "Sampling: [y_hat]\n",
      "Sampling: [y_hat]\n",
      "Auto-assigning NUTS sampler...\n",
      "Initializing NUTS using jitter+adapt_diag...\n",
      "Multiprocess sampling (4 chains in 4 jobs)\n",
      "NUTS: [beta, sigma]\n"
     ]
    },
    {
     "name": "stderr",
     "output_type": "stream",
     "text": [
      "Sampling 4 chains for 1_000 tune and 1_000 draw iterations (4_000 + 4_000 draws total) took 3 seconds.\n",
      "Sampling: [beta, sigma, y_hat]\n",
      "Sampling: [y_hat]\n",
      "Sampling: [y_hat]\n",
      "Sampling: [y_hat]\n",
      "Sampling: [y_hat]\n",
      "Auto-assigning NUTS sampler...\n",
      "Initializing NUTS using jitter+adapt_diag...\n",
      "Multiprocess sampling (4 chains in 4 jobs)\n",
      "NUTS: [beta, sigma]\n"
     ]
    },
    {
     "name": "stderr",
     "output_type": "stream",
     "text": [
      "Sampling 4 chains for 1_000 tune and 1_000 draw iterations (4_000 + 4_000 draws total) took 3 seconds.\n",
      "Sampling: [beta, sigma, y_hat]\n",
      "Sampling: [y_hat]\n",
      "Sampling: [y_hat]\n",
      "Sampling: [y_hat]\n",
      "Sampling: [y_hat]\n",
      "Auto-assigning NUTS sampler...\n",
      "Initializing NUTS using jitter+adapt_diag...\n",
      "Multiprocess sampling (4 chains in 4 jobs)\n",
      "NUTS: [beta, sigma]\n"
     ]
    },
    {
     "name": "stderr",
     "output_type": "stream",
     "text": [
      "Sampling 4 chains for 1_000 tune and 1_000 draw iterations (4_000 + 4_000 draws total) took 3 seconds.\n",
      "Sampling: [beta, sigma, y_hat]\n",
      "Sampling: [y_hat]\n",
      "Sampling: [y_hat]\n",
      "Sampling: [y_hat]\n",
      "Sampling: [y_hat]\n",
      "Auto-assigning NUTS sampler...\n",
      "Initializing NUTS using jitter+adapt_diag...\n",
      "Multiprocess sampling (4 chains in 4 jobs)\n",
      "NUTS: [beta, sigma]\n"
     ]
    },
    {
     "name": "stderr",
     "output_type": "stream",
     "text": [
      "Sampling 4 chains for 1_000 tune and 1_000 draw iterations (4_000 + 4_000 draws total) took 3 seconds.\n",
      "Sampling: [beta, sigma, y_hat]\n",
      "Sampling: [y_hat]\n",
      "Sampling: [y_hat]\n",
      "Sampling: [y_hat]\n",
      "Sampling: [y_hat]\n",
      "Auto-assigning NUTS sampler...\n",
      "Initializing NUTS using jitter+adapt_diag...\n",
      "Multiprocess sampling (4 chains in 4 jobs)\n",
      "NUTS: [beta, sigma]\n"
     ]
    },
    {
     "name": "stderr",
     "output_type": "stream",
     "text": [
      "Sampling 4 chains for 1_000 tune and 1_000 draw iterations (4_000 + 4_000 draws total) took 3 seconds.\n",
      "Sampling: [beta, sigma, y_hat]\n",
      "Sampling: [y_hat]\n",
      "Sampling: [y_hat]\n",
      "Sampling: [y_hat]\n",
      "Sampling: [y_hat]\n",
      "Auto-assigning NUTS sampler...\n",
      "Initializing NUTS using jitter+adapt_diag...\n",
      "Multiprocess sampling (4 chains in 4 jobs)\n",
      "NUTS: [beta, sigma]\n"
     ]
    },
    {
     "name": "stderr",
     "output_type": "stream",
     "text": [
      "Sampling 4 chains for 1_000 tune and 1_000 draw iterations (4_000 + 4_000 draws total) took 3 seconds.\n",
      "Sampling: [beta, sigma, y_hat]\n",
      "Sampling: [y_hat]\n",
      "Sampling: [y_hat]\n",
      "Sampling: [y_hat]\n",
      "Sampling: [y_hat]\n",
      "Auto-assigning NUTS sampler...\n",
      "Initializing NUTS using jitter+adapt_diag...\n",
      "Multiprocess sampling (4 chains in 4 jobs)\n",
      "NUTS: [beta, sigma]\n"
     ]
    },
    {
     "name": "stderr",
     "output_type": "stream",
     "text": [
      "Sampling 4 chains for 1_000 tune and 1_000 draw iterations (4_000 + 4_000 draws total) took 3 seconds.\n",
      "Sampling: [beta, sigma, y_hat]\n",
      "Sampling: [y_hat]\n",
      "Sampling: [y_hat]\n",
      "Sampling: [y_hat]\n",
      "Sampling: [y_hat]\n",
      "Auto-assigning NUTS sampler...\n",
      "Initializing NUTS using jitter+adapt_diag...\n",
      "Multiprocess sampling (4 chains in 4 jobs)\n",
      "NUTS: [beta, sigma]\n"
     ]
    },
    {
     "name": "stderr",
     "output_type": "stream",
     "text": [
      "Sampling 4 chains for 1_000 tune and 1_000 draw iterations (4_000 + 4_000 draws total) took 3 seconds.\n",
      "Sampling: [beta, sigma, y_hat]\n",
      "Sampling: [y_hat]\n",
      "Sampling: [y_hat]\n",
      "Sampling: [y_hat]\n",
      "Sampling: [y_hat]\n",
      "Auto-assigning NUTS sampler...\n",
      "Initializing NUTS using jitter+adapt_diag...\n",
      "Multiprocess sampling (4 chains in 4 jobs)\n",
      "NUTS: [beta, sigma]\n"
     ]
    },
    {
     "name": "stderr",
     "output_type": "stream",
     "text": [
      "Sampling 4 chains for 1_000 tune and 1_000 draw iterations (4_000 + 4_000 draws total) took 3 seconds.\n",
      "Sampling: [beta, sigma, y_hat]\n",
      "Sampling: [y_hat]\n",
      "Sampling: [y_hat]\n",
      "Sampling: [y_hat]\n",
      "Sampling: [y_hat]\n",
      "Auto-assigning NUTS sampler...\n",
      "Initializing NUTS using jitter+adapt_diag...\n",
      "Multiprocess sampling (4 chains in 4 jobs)\n",
      "NUTS: [beta, sigma]\n"
     ]
    },
    {
     "name": "stderr",
     "output_type": "stream",
     "text": [
      "Sampling 4 chains for 1_000 tune and 1_000 draw iterations (4_000 + 4_000 draws total) took 3 seconds.\n",
      "Sampling: [beta, sigma, y_hat]\n",
      "Sampling: [y_hat]\n",
      "Sampling: [y_hat]\n",
      "Sampling: [y_hat]\n",
      "Sampling: [y_hat]\n",
      "Auto-assigning NUTS sampler...\n",
      "Initializing NUTS using jitter+adapt_diag...\n",
      "Multiprocess sampling (4 chains in 4 jobs)\n",
      "NUTS: [beta, sigma]\n"
     ]
    },
    {
     "name": "stderr",
     "output_type": "stream",
     "text": [
      "Sampling 4 chains for 1_000 tune and 1_000 draw iterations (4_000 + 4_000 draws total) took 3 seconds.\n",
      "Sampling: [beta, sigma, y_hat]\n",
      "Sampling: [y_hat]\n",
      "Sampling: [y_hat]\n",
      "Sampling: [y_hat]\n",
      "Sampling: [y_hat]\n",
      "Auto-assigning NUTS sampler...\n",
      "Initializing NUTS using jitter+adapt_diag...\n",
      "Multiprocess sampling (4 chains in 4 jobs)\n",
      "NUTS: [beta, sigma]\n"
     ]
    },
    {
     "name": "stderr",
     "output_type": "stream",
     "text": [
      "Sampling 4 chains for 1_000 tune and 1_000 draw iterations (4_000 + 4_000 draws total) took 3 seconds.\n",
      "Sampling: [beta, sigma, y_hat]\n",
      "Sampling: [y_hat]\n",
      "Sampling: [y_hat]\n",
      "Sampling: [y_hat]\n",
      "Sampling: [y_hat]\n",
      "Auto-assigning NUTS sampler...\n",
      "Initializing NUTS using jitter+adapt_diag...\n",
      "Multiprocess sampling (4 chains in 4 jobs)\n",
      "NUTS: [beta, sigma]\n"
     ]
    },
    {
     "name": "stderr",
     "output_type": "stream",
     "text": [
      "Sampling 4 chains for 1_000 tune and 1_000 draw iterations (4_000 + 4_000 draws total) took 3 seconds.\n",
      "Sampling: [beta, sigma, y_hat]\n",
      "Sampling: [y_hat]\n",
      "Sampling: [y_hat]\n",
      "Sampling: [y_hat]\n",
      "Sampling: [y_hat]\n",
      "Auto-assigning NUTS sampler...\n",
      "Initializing NUTS using jitter+adapt_diag...\n",
      "Multiprocess sampling (4 chains in 4 jobs)\n",
      "NUTS: [beta, sigma]\n"
     ]
    },
    {
     "name": "stderr",
     "output_type": "stream",
     "text": [
      "Sampling 4 chains for 1_000 tune and 1_000 draw iterations (4_000 + 4_000 draws total) took 3 seconds.\n",
      "Sampling: [beta, sigma, y_hat]\n",
      "Sampling: [y_hat]\n",
      "Sampling: [y_hat]\n",
      "Sampling: [y_hat]\n",
      "Sampling: [y_hat]\n",
      "Auto-assigning NUTS sampler...\n",
      "Initializing NUTS using jitter+adapt_diag...\n",
      "Multiprocess sampling (4 chains in 4 jobs)\n",
      "NUTS: [beta, sigma]\n"
     ]
    },
    {
     "name": "stderr",
     "output_type": "stream",
     "text": [
      "Sampling 4 chains for 1_000 tune and 1_000 draw iterations (4_000 + 4_000 draws total) took 3 seconds.\n",
      "Sampling: [beta, sigma, y_hat]\n",
      "Sampling: [y_hat]\n",
      "Sampling: [y_hat]\n",
      "Sampling: [y_hat]\n",
      "Sampling: [y_hat]\n",
      "Auto-assigning NUTS sampler...\n",
      "Initializing NUTS using jitter+adapt_diag...\n",
      "Multiprocess sampling (4 chains in 4 jobs)\n",
      "NUTS: [beta, sigma]\n"
     ]
    },
    {
     "name": "stderr",
     "output_type": "stream",
     "text": [
      "Sampling 4 chains for 1_000 tune and 1_000 draw iterations (4_000 + 4_000 draws total) took 3 seconds.\n",
      "Sampling: [beta, sigma, y_hat]\n",
      "Sampling: [y_hat]\n",
      "Sampling: [y_hat]\n",
      "Sampling: [y_hat]\n",
      "Sampling: [y_hat]\n",
      "Auto-assigning NUTS sampler...\n",
      "Initializing NUTS using jitter+adapt_diag...\n",
      "Multiprocess sampling (4 chains in 4 jobs)\n",
      "NUTS: [beta, sigma]\n"
     ]
    },
    {
     "name": "stderr",
     "output_type": "stream",
     "text": [
      "Sampling 4 chains for 1_000 tune and 1_000 draw iterations (4_000 + 4_000 draws total) took 3 seconds.\n",
      "Sampling: [beta, sigma, y_hat]\n",
      "Sampling: [y_hat]\n",
      "Sampling: [y_hat]\n",
      "Sampling: [y_hat]\n",
      "Sampling: [y_hat]\n",
      "Auto-assigning NUTS sampler...\n",
      "Initializing NUTS using jitter+adapt_diag...\n",
      "Multiprocess sampling (4 chains in 4 jobs)\n",
      "NUTS: [beta, sigma]\n"
     ]
    },
    {
     "name": "stderr",
     "output_type": "stream",
     "text": [
      "Sampling 4 chains for 1_000 tune and 1_000 draw iterations (4_000 + 4_000 draws total) took 3 seconds.\n",
      "Sampling: [beta, sigma, y_hat]\n",
      "Sampling: [y_hat]\n",
      "Sampling: [y_hat]\n",
      "Sampling: [y_hat]\n",
      "Sampling: [y_hat]\n",
      "Auto-assigning NUTS sampler...\n",
      "Initializing NUTS using jitter+adapt_diag...\n",
      "Multiprocess sampling (4 chains in 4 jobs)\n",
      "NUTS: [beta, sigma]\n"
     ]
    },
    {
     "name": "stderr",
     "output_type": "stream",
     "text": [
      "Sampling 4 chains for 1_000 tune and 1_000 draw iterations (4_000 + 4_000 draws total) took 3 seconds.\n",
      "Sampling: [beta, sigma, y_hat]\n",
      "Sampling: [y_hat]\n",
      "Sampling: [y_hat]\n",
      "Sampling: [y_hat]\n",
      "Sampling: [y_hat]\n",
      "Auto-assigning NUTS sampler...\n",
      "Initializing NUTS using jitter+adapt_diag...\n",
      "Multiprocess sampling (4 chains in 4 jobs)\n",
      "NUTS: [beta, sigma]\n"
     ]
    },
    {
     "name": "stderr",
     "output_type": "stream",
     "text": [
      "Sampling 4 chains for 1_000 tune and 1_000 draw iterations (4_000 + 4_000 draws total) took 3 seconds.\n",
      "Sampling: [beta, sigma, y_hat]\n",
      "Sampling: [y_hat]\n",
      "Sampling: [y_hat]\n",
      "Sampling: [y_hat]\n",
      "Sampling: [y_hat]\n",
      "Auto-assigning NUTS sampler...\n",
      "Initializing NUTS using jitter+adapt_diag...\n",
      "Multiprocess sampling (4 chains in 4 jobs)\n",
      "NUTS: [beta, sigma]\n"
     ]
    },
    {
     "name": "stderr",
     "output_type": "stream",
     "text": [
      "Sampling 4 chains for 1_000 tune and 1_000 draw iterations (4_000 + 4_000 draws total) took 3 seconds.\n",
      "Sampling: [beta, sigma, y_hat]\n",
      "Sampling: [y_hat]\n",
      "Sampling: [y_hat]\n",
      "Sampling: [y_hat]\n",
      "Sampling: [y_hat]\n",
      "Auto-assigning NUTS sampler...\n",
      "Initializing NUTS using jitter+adapt_diag...\n",
      "Multiprocess sampling (4 chains in 4 jobs)\n",
      "NUTS: [beta, sigma]\n"
     ]
    },
    {
     "name": "stderr",
     "output_type": "stream",
     "text": [
      "Sampling 4 chains for 1_000 tune and 1_000 draw iterations (4_000 + 4_000 draws total) took 7 seconds.\n",
      "Sampling: [beta, sigma, y_hat]\n",
      "Sampling: [y_hat]\n",
      "Sampling: [y_hat]\n",
      "Sampling: [y_hat]\n",
      "Sampling: [y_hat]\n",
      "Auto-assigning NUTS sampler...\n",
      "Initializing NUTS using jitter+adapt_diag...\n",
      "Multiprocess sampling (4 chains in 4 jobs)\n",
      "NUTS: [beta, sigma]\n"
     ]
    },
    {
     "name": "stderr",
     "output_type": "stream",
     "text": [
      "Sampling 4 chains for 1_000 tune and 1_000 draw iterations (4_000 + 4_000 draws total) took 5 seconds.\n",
      "Sampling: [beta, sigma, y_hat]\n",
      "Sampling: [y_hat]\n",
      "Sampling: [y_hat]\n",
      "Sampling: [y_hat]\n",
      "Sampling: [y_hat]\n",
      "Auto-assigning NUTS sampler...\n",
      "Initializing NUTS using jitter+adapt_diag...\n",
      "Multiprocess sampling (4 chains in 4 jobs)\n",
      "NUTS: [beta, sigma]\n"
     ]
    },
    {
     "name": "stderr",
     "output_type": "stream",
     "text": [
      "Sampling 4 chains for 1_000 tune and 1_000 draw iterations (4_000 + 4_000 draws total) took 6 seconds.\n",
      "Sampling: [beta, sigma, y_hat]\n",
      "Sampling: [y_hat]\n",
      "Sampling: [y_hat]\n",
      "Sampling: [y_hat]\n",
      "Sampling: [y_hat]\n",
      "Auto-assigning NUTS sampler...\n",
      "Initializing NUTS using jitter+adapt_diag...\n",
      "Multiprocess sampling (4 chains in 4 jobs)\n",
      "NUTS: [beta, sigma]\n"
     ]
    },
    {
     "name": "stderr",
     "output_type": "stream",
     "text": [
      "Sampling 4 chains for 1_000 tune and 1_000 draw iterations (4_000 + 4_000 draws total) took 5 seconds.\n",
      "Sampling: [beta, sigma, y_hat]\n",
      "Sampling: [y_hat]\n",
      "Sampling: [y_hat]\n",
      "Sampling: [y_hat]\n",
      "Sampling: [y_hat]\n",
      "Auto-assigning NUTS sampler...\n",
      "Initializing NUTS using jitter+adapt_diag...\n",
      "Multiprocess sampling (4 chains in 4 jobs)\n",
      "NUTS: [beta, sigma]\n"
     ]
    },
    {
     "name": "stderr",
     "output_type": "stream",
     "text": [
      "Sampling 4 chains for 1_000 tune and 1_000 draw iterations (4_000 + 4_000 draws total) took 4 seconds.\n",
      "Sampling: [beta, sigma, y_hat]\n",
      "Sampling: [y_hat]\n",
      "Sampling: [y_hat]\n",
      "Sampling: [y_hat]\n",
      "Sampling: [y_hat]\n",
      "Auto-assigning NUTS sampler...\n",
      "Initializing NUTS using jitter+adapt_diag...\n",
      "Multiprocess sampling (4 chains in 4 jobs)\n",
      "NUTS: [beta, sigma]\n"
     ]
    },
    {
     "name": "stderr",
     "output_type": "stream",
     "text": [
      "Sampling 4 chains for 1_000 tune and 1_000 draw iterations (4_000 + 4_000 draws total) took 5 seconds.\n",
      "Sampling: [beta, sigma, y_hat]\n",
      "Sampling: [y_hat]\n",
      "Sampling: [y_hat]\n",
      "Sampling: [y_hat]\n",
      "Sampling: [y_hat]\n",
      "Auto-assigning NUTS sampler...\n",
      "Initializing NUTS using jitter+adapt_diag...\n",
      "Multiprocess sampling (4 chains in 4 jobs)\n",
      "NUTS: [beta, sigma]\n"
     ]
    },
    {
     "name": "stderr",
     "output_type": "stream",
     "text": [
      "Sampling 4 chains for 1_000 tune and 1_000 draw iterations (4_000 + 4_000 draws total) took 5 seconds.\n",
      "Sampling: [beta, sigma, y_hat]\n",
      "Sampling: [y_hat]\n",
      "Sampling: [y_hat]\n",
      "Sampling: [y_hat]\n",
      "Sampling: [y_hat]\n",
      "Auto-assigning NUTS sampler...\n",
      "Initializing NUTS using jitter+adapt_diag...\n",
      "Multiprocess sampling (4 chains in 4 jobs)\n",
      "NUTS: [beta, sigma]\n"
     ]
    },
    {
     "name": "stderr",
     "output_type": "stream",
     "text": [
      "Sampling 4 chains for 1_000 tune and 1_000 draw iterations (4_000 + 4_000 draws total) took 5 seconds.\n",
      "Sampling: [beta, sigma, y_hat]\n",
      "Sampling: [y_hat]\n",
      "Sampling: [y_hat]\n",
      "Sampling: [y_hat]\n",
      "Sampling: [y_hat]\n",
      "Auto-assigning NUTS sampler...\n",
      "Initializing NUTS using jitter+adapt_diag...\n",
      "Multiprocess sampling (4 chains in 4 jobs)\n",
      "NUTS: [beta, sigma]\n"
     ]
    },
    {
     "name": "stderr",
     "output_type": "stream",
     "text": [
      "Sampling 4 chains for 1_000 tune and 1_000 draw iterations (4_000 + 4_000 draws total) took 5 seconds.\n",
      "Sampling: [beta, sigma, y_hat]\n",
      "Sampling: [y_hat]\n",
      "Sampling: [y_hat]\n",
      "Sampling: [y_hat]\n",
      "Sampling: [y_hat]\n",
      "Auto-assigning NUTS sampler...\n",
      "Initializing NUTS using jitter+adapt_diag...\n",
      "Multiprocess sampling (4 chains in 4 jobs)\n",
      "NUTS: [beta, sigma]\n"
     ]
    },
    {
     "name": "stderr",
     "output_type": "stream",
     "text": [
      "Sampling 4 chains for 1_000 tune and 1_000 draw iterations (4_000 + 4_000 draws total) took 5 seconds.\n",
      "Sampling: [beta, sigma, y_hat]\n",
      "Sampling: [y_hat]\n",
      "Sampling: [y_hat]\n",
      "Sampling: [y_hat]\n",
      "Sampling: [y_hat]\n",
      "Auto-assigning NUTS sampler...\n",
      "Initializing NUTS using jitter+adapt_diag...\n",
      "Multiprocess sampling (4 chains in 4 jobs)\n",
      "NUTS: [beta, sigma]\n"
     ]
    },
    {
     "name": "stderr",
     "output_type": "stream",
     "text": [
      "Sampling 4 chains for 1_000 tune and 1_000 draw iterations (4_000 + 4_000 draws total) took 5 seconds.\n",
      "Sampling: [beta, sigma, y_hat]\n",
      "Sampling: [y_hat]\n",
      "Sampling: [y_hat]\n",
      "Sampling: [y_hat]\n",
      "Sampling: [y_hat]\n",
      "Auto-assigning NUTS sampler...\n",
      "Initializing NUTS using jitter+adapt_diag...\n",
      "Multiprocess sampling (4 chains in 4 jobs)\n",
      "NUTS: [beta, sigma]\n"
     ]
    },
    {
     "name": "stderr",
     "output_type": "stream",
     "text": [
      "Sampling 4 chains for 1_000 tune and 1_000 draw iterations (4_000 + 4_000 draws total) took 5 seconds.\n",
      "Sampling: [beta, sigma, y_hat]\n",
      "Sampling: [y_hat]\n",
      "Sampling: [y_hat]\n",
      "Sampling: [y_hat]\n",
      "Sampling: [y_hat]\n",
      "Auto-assigning NUTS sampler...\n",
      "Initializing NUTS using jitter+adapt_diag...\n",
      "Multiprocess sampling (4 chains in 4 jobs)\n",
      "NUTS: [beta, sigma]\n"
     ]
    },
    {
     "name": "stderr",
     "output_type": "stream",
     "text": [
      "Sampling 4 chains for 1_000 tune and 1_000 draw iterations (4_000 + 4_000 draws total) took 6 seconds.\n",
      "Sampling: [beta, sigma, y_hat]\n",
      "Sampling: [y_hat]\n",
      "Sampling: [y_hat]\n",
      "Sampling: [y_hat]\n",
      "Sampling: [y_hat]\n",
      "Auto-assigning NUTS sampler...\n",
      "Initializing NUTS using jitter+adapt_diag...\n",
      "Multiprocess sampling (4 chains in 4 jobs)\n",
      "NUTS: [beta, sigma]\n"
     ]
    },
    {
     "name": "stderr",
     "output_type": "stream",
     "text": [
      "Sampling 4 chains for 1_000 tune and 1_000 draw iterations (4_000 + 4_000 draws total) took 6 seconds.\n",
      "Sampling: [beta, sigma, y_hat]\n",
      "Sampling: [y_hat]\n",
      "Sampling: [y_hat]\n",
      "Sampling: [y_hat]\n",
      "Sampling: [y_hat]\n",
      "Auto-assigning NUTS sampler...\n",
      "Initializing NUTS using jitter+adapt_diag...\n",
      "Multiprocess sampling (4 chains in 4 jobs)\n",
      "NUTS: [beta, sigma]\n"
     ]
    },
    {
     "data": {
      "text/html": [
       "\n",
       "<style>\n",
       "    /* Turns off some styling */\n",
       "    progress {\n",
       "        /* gets rid of default border in Firefox and Opera. */\n",
       "        border: none;\n",
       "        /* Needs to be in here for Safari polyfill so background images work as expected. */\n",
       "        background-size: auto;\n",
       "    }\n",
       "    progress:not([value]), progress:not([value])::-webkit-progress-bar {\n",
       "        background: repeating-linear-gradient(45deg, #7e7e7e, #7e7e7e 10px, #5c5c5c 10px, #5c5c5c 20px);\n",
       "    }\n",
       "    .progress-bar-interrupted, .progress-bar-interrupted::-webkit-progress-bar {\n",
       "        background: #F44336;\n",
       "    }\n",
       "</style>\n"
      ],
      "text/plain": [
       "<IPython.core.display.HTML object>"
      ]
     },
     "metadata": {},
     "output_type": "display_data"
    },
    {
     "data": {
      "text/html": [
       "\n",
       "    <div>\n",
       "      <progress value='0' class='' max='8000' style='width:300px; height:20px; vertical-align: middle;'></progress>\n",
       "      \n",
       "    </div>\n",
       "    "
      ],
      "text/plain": [
       "<IPython.core.display.HTML object>"
      ]
     },
     "metadata": {},
     "output_type": "display_data"
    },
    {
     "name": "stderr",
     "output_type": "stream",
     "text": [
      "Sampling 4 chains for 1_000 tune and 1_000 draw iterations (4_000 + 4_000 draws total) took 6 seconds.\n",
      "Sampling: [beta, sigma, y_hat]\n",
      "Sampling: [y_hat]\n",
      "Sampling: [y_hat]\n",
      "Sampling: [y_hat]\n",
      "Sampling: [y_hat]\n",
      "Auto-assigning NUTS sampler...\n",
      "Initializing NUTS using jitter+adapt_diag...\n",
      "Multiprocess sampling (4 chains in 4 jobs)\n",
      "NUTS: [beta, sigma]\n"
     ]
    },
    {
     "name": "stderr",
     "output_type": "stream",
     "text": [
      "Sampling 4 chains for 1_000 tune and 1_000 draw iterations (4_000 + 4_000 draws total) took 5 seconds.\n",
      "Sampling: [beta, sigma, y_hat]\n",
      "Sampling: [y_hat]\n",
      "Sampling: [y_hat]\n",
      "Sampling: [y_hat]\n",
      "Sampling: [y_hat]\n",
      "Auto-assigning NUTS sampler...\n",
      "Initializing NUTS using jitter+adapt_diag...\n",
      "Multiprocess sampling (4 chains in 4 jobs)\n",
      "NUTS: [beta, sigma]\n"
     ]
    },
    {
     "name": "stderr",
     "output_type": "stream",
     "text": [
      "Sampling 4 chains for 1_000 tune and 1_000 draw iterations (4_000 + 4_000 draws total) took 5 seconds.\n",
      "Sampling: [beta, sigma, y_hat]\n",
      "Sampling: [y_hat]\n",
      "Sampling: [y_hat]\n",
      "Sampling: [y_hat]\n",
      "Sampling: [y_hat]\n",
      "Auto-assigning NUTS sampler...\n",
      "Initializing NUTS using jitter+adapt_diag...\n",
      "Multiprocess sampling (4 chains in 4 jobs)\n",
      "NUTS: [beta, sigma]\n"
     ]
    },
    {
     "name": "stderr",
     "output_type": "stream",
     "text": [
      "Sampling 4 chains for 1_000 tune and 1_000 draw iterations (4_000 + 4_000 draws total) took 5 seconds.\n",
      "Sampling: [beta, sigma, y_hat]\n",
      "Sampling: [y_hat]\n",
      "Sampling: [y_hat]\n",
      "Sampling: [y_hat]\n",
      "Sampling: [y_hat]\n",
      "Auto-assigning NUTS sampler...\n",
      "Initializing NUTS using jitter+adapt_diag...\n",
      "Multiprocess sampling (4 chains in 4 jobs)\n",
      "NUTS: [beta, sigma]\n"
     ]
    },
    {
     "name": "stderr",
     "output_type": "stream",
     "text": [
      "Sampling 4 chains for 1_000 tune and 1_000 draw iterations (4_000 + 4_000 draws total) took 5 seconds.\n",
      "Sampling: [beta, sigma, y_hat]\n",
      "Sampling: [y_hat]\n",
      "Sampling: [y_hat]\n",
      "Sampling: [y_hat]\n",
      "Sampling: [y_hat]\n",
      "Auto-assigning NUTS sampler...\n",
      "Initializing NUTS using jitter+adapt_diag...\n",
      "Multiprocess sampling (4 chains in 4 jobs)\n",
      "NUTS: [beta, sigma]\n"
     ]
    },
    {
     "name": "stderr",
     "output_type": "stream",
     "text": [
      "Sampling 4 chains for 1_000 tune and 1_000 draw iterations (4_000 + 4_000 draws total) took 5 seconds.\n",
      "Sampling: [beta, sigma, y_hat]\n",
      "Sampling: [y_hat]\n",
      "Sampling: [y_hat]\n",
      "Sampling: [y_hat]\n",
      "Sampling: [y_hat]\n",
      "Auto-assigning NUTS sampler...\n",
      "Initializing NUTS using jitter+adapt_diag...\n",
      "Multiprocess sampling (4 chains in 4 jobs)\n",
      "NUTS: [beta, sigma]\n"
     ]
    },
    {
     "name": "stderr",
     "output_type": "stream",
     "text": [
      "Sampling 4 chains for 1_000 tune and 1_000 draw iterations (4_000 + 4_000 draws total) took 5 seconds.\n",
      "Sampling: [beta, sigma, y_hat]\n",
      "Sampling: [y_hat]\n",
      "Sampling: [y_hat]\n",
      "Sampling: [y_hat]\n",
      "Sampling: [y_hat]\n",
      "Auto-assigning NUTS sampler...\n",
      "Initializing NUTS using jitter+adapt_diag...\n",
      "Multiprocess sampling (4 chains in 4 jobs)\n",
      "NUTS: [beta, sigma]\n"
     ]
    },
    {
     "name": "stderr",
     "output_type": "stream",
     "text": [
      "Sampling 4 chains for 1_000 tune and 1_000 draw iterations (4_000 + 4_000 draws total) took 4 seconds.\n",
      "Sampling: [beta, sigma, y_hat]\n",
      "Sampling: [y_hat]\n",
      "Sampling: [y_hat]\n",
      "Sampling: [y_hat]\n",
      "Sampling: [y_hat]\n",
      "Auto-assigning NUTS sampler...\n",
      "Initializing NUTS using jitter+adapt_diag...\n",
      "Multiprocess sampling (4 chains in 4 jobs)\n",
      "NUTS: [beta, sigma]\n"
     ]
    },
    {
     "name": "stderr",
     "output_type": "stream",
     "text": [
      "Sampling 4 chains for 1_000 tune and 1_000 draw iterations (4_000 + 4_000 draws total) took 5 seconds.\n",
      "Sampling: [beta, sigma, y_hat]\n",
      "Sampling: [y_hat]\n",
      "Sampling: [y_hat]\n",
      "Sampling: [y_hat]\n",
      "Sampling: [y_hat]\n"
     ]
    }
   ],
   "source": [
    "results = []\n",
    "for protest, df in tqdm(protests):\n",
    "    df.columns = [c.replace(\"-\", \"\") for c in df.columns]\n",
    "    treatment_time = protest[\"event_date\"]\n",
    "    actual = protest[\"admin1\"].replace(\"-\", \"\")\n",
    "    predictors = [c for c in df.columns if c != actual]\n",
    "    result = cp.pymc_experiments.SyntheticControl(\n",
    "        df,\n",
    "        treatment_time,\n",
    "        formula=f\"{actual} ~ 0 + {' + '.join(predictors)}\",\n",
    "        model=cp.pymc_models.LinearRegression(),\n",
    "    )\n",
    "    results.append((protest, result))"
   ]
  },
  {
   "cell_type": "code",
   "execution_count": 83,
   "metadata": {},
   "outputs": [
    {
     "data": {
      "text/plain": [
       "78.51764705882353"
      ]
     },
     "execution_count": 83,
     "metadata": {},
     "output_type": "execute_result"
    }
   ],
   "source": [
    "results[0][1].pre_y.mean()"
   ]
  },
  {
   "cell_type": "code",
   "execution_count": 113,
   "metadata": {},
   "outputs": [
    {
     "data": {
      "text/plain": [
       "<matplotlib.collections.PathCollection at 0x36722ddb0>"
      ]
     },
     "execution_count": 113,
     "metadata": {},
     "output_type": "execute_result"
    },
    {
     "data": {
      "image/png": "[encoded data removed]",
      "text/plain": [
       "<Figure size 720x480 with 1 Axes>"
      ]
     },
     "metadata": {},
     "output_type": "display_data"
    }
   ],
   "source": [
    "import matplotlib.pyplot as plt\n",
    "import numpy as np\n",
    "\n",
    "r2, size, impact_1_week = tuple(\n",
    "    zip(\n",
    "        *[\n",
    "            (\n",
    "                r[1].score.r2,\n",
    "                r[0][\"size\"],\n",
    "                float(r[1].post_impact.mean(axis=1).mean(axis=0)[7]),\n",
    "            )\n",
    "            for r in results\n",
    "        ]\n",
    "    )\n",
    ")\n",
    "plt.scatter(r2, impact_1_week, s=np.sqrt(size), alpha=0.5)"
   ]
  },
  {
   "cell_type": "code",
   "execution_count": 115,
   "metadata": {},
   "outputs": [
    {
     "data": {
      "text/plain": [
       "<matplotlib.lines.Line2D at 0x3626449d0>"
      ]
     },
     "execution_count": 115,
     "metadata": {},
     "output_type": "execute_result"
    },
    {
     "data": {
      "image/png": "[encoded data removed]",
      "text/plain": [
       "<Figure size 720x480 with 1 Axes>"
      ]
     },
     "metadata": {},
     "output_type": "display_data"
    }
   ],
   "source": [
    "plt.hist(impact_1_week, bins=50)\n",
    "plt.axvline(x=0, color=\"r\")"
   ]
  },
  {
   "cell_type": "code",
   "execution_count": 116,
   "metadata": {},
   "outputs": [
    {
     "name": "stderr",
     "output_type": "stream",
     "text": [
      "/Users/david/Repositories/protest-impact/.venv/lib/python3.10/site-packages/xarray/core/computation.py:769: RuntimeWarning: invalid value encountered in log2\n",
      "  result_data = func(*input_data)\n"
     ]
    },
    {
     "data": {
      "text/plain": [
       "<matplotlib.collections.PathCollection at 0x363972e60>"
      ]
     },
     "execution_count": 116,
     "metadata": {},
     "output_type": "execute_result"
    },
    {
     "data": {
      "image/png": "[encoded data removed]",
      "text/plain": [
       "<Figure size 720x480 with 1 Axes>"
      ]
     },
     "metadata": {},
     "output_type": "display_data"
    }
   ],
   "source": [
    "import matplotlib.pyplot as plt\n",
    "import numpy as np\n",
    "\n",
    "r2, size, region, impact_1_week = tuple(\n",
    "    zip(\n",
    "        *[\n",
    "            (\n",
    "                r[1].score.r2,\n",
    "                r[0][\"size\"],\n",
    "                r[0][\"admin1\"],\n",
    "                np.log2(\n",
    "                    (r[1].post_impact.mean(axis=1).mean(axis=0)[7] + r[1].pre_y.mean())\n",
    "                    / r[1].pre_y.mean()\n",
    "                ),\n",
    "            )\n",
    "            for r in results\n",
    "        ]\n",
    "    )\n",
    ")\n",
    "region_colors = {r: i for i, r in enumerate(set(region))}\n",
    "plt.scatter(\n",
    "    r2, impact_1_week, s=np.sqrt(size), alpha=0.5, c=[region_colors[r] for r in region]\n",
    ")"
   ]
  },
  {
   "cell_type": "code",
   "execution_count": 117,
   "metadata": {},
   "outputs": [
    {
     "data": {
      "text/plain": [
       "<matplotlib.lines.Line2D at 0x362644c70>"
      ]
     },
     "execution_count": 117,
     "metadata": {},
     "output_type": "execute_result"
    },
    {
     "data": {
      "image/png": "[encoded data removed]",
      "text/plain": [
       "<Figure size 720x480 with 1 Axes>"
      ]
     },
     "metadata": {},
     "output_type": "display_data"
    }
   ],
   "source": [
    "plt.hist(impact_1_week, bins=50)\n",
    "plt.axvline(x=0, color=\"r\")"
   ]
  },
  {
   "cell_type": "code",
   "execution_count": null,
   "metadata": {},
   "outputs": [],
   "source": []
  }
 ],
 "metadata": {
  "kernelspec": {
   "display_name": ".venv",
   "language": "python",
   "name": "python3"
  },
  "language_info": {
   "codemirror_mode": {
    "name": "ipython",
    "version": 3
   },
   "file_extension": ".py",
   "mimetype": "text/x-python",
   "name": "python",
   "nbconvert_exporter": "python",
   "pygments_lexer": "ipython3",
   "version": "3.10.9"
  },
  "orig_nbformat": 4
 },
 "nbformat": 4,
 "nbformat_minor": 2
}
