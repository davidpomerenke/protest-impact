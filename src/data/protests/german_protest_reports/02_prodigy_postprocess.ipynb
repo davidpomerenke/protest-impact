{
 "cells": [
  {
   "attachments": {},
   "cell_type": "markdown",
   "metadata": {},
   "source": [
    "Making sense of the protest news data that was annotated via Prodigy's active learning (`textcat.teach`)."
   ]
  },
  {
   "cell_type": "code",
   "execution_count": 1,
   "metadata": {
    "vscode": {
     "languageId": "python"
    }
   },
   "outputs": [],
   "source": [
    "import json\n",
    "\n",
    "with open(project_root / \"data\" / \"protest\" / \"protest_news_wip.jsonl\") as f:\n",
    "    items = [json.loads(line) for line in f]"
   ]
  },
  {
   "cell_type": "code",
   "execution_count": 2,
   "metadata": {
    "vscode": {
     "languageId": "python"
    }
   },
   "outputs": [
    {
     "data": {
      "text/plain": [
       "1129"
      ]
     },
     "execution_count": 2,
     "metadata": {},
     "output_type": "execute_result"
    }
   ],
   "source": [
    "len(items)"
   ]
  },
  {
   "cell_type": "code",
   "execution_count": 3,
   "metadata": {
    "vscode": {
     "languageId": "python"
    }
   },
   "outputs": [
    {
     "data": {
      "text/plain": [
       "{'text': 'Tel Aviv\\n\\nAngesichts steigender Infektionszahlen will Israel als erstes Land Über-60-Jährigen eine dritte Impfdosis gegen das Coronavirus geben. Es gilt zudem wieder der sogenannte Grüne Pass.\\n\\nRegierungschef Naftali Bennett teilte am Donnerstagabend mit, dies gelte für Patienten, die vor mindestens fünf Monaten ihre zweite Impfdosis erhalten haben. Ein Expertenteam in Israel hatte zuvor eine solche Auffrischungsimpfung mit dem Biontech-Pfizer-Präparat empfohlen, obwohl es noch keine entsprechende FDA-Vorgabe gibt. Bennett sagte, der 60 Jahre alte Staatspräsident Izchak Herzog werde sich am Freitagmorgen als Erster mit der dritten Dosis impfen lassen.\\n\\nDie allgemeine Impfkampagne in den Krankenkassen solle binnen weniger Tage beginnen. \"Ich rufe ältere Menschen, die schon die zweite Dosis erhalten haben, sich auch zum dritten Mal impfen zu lassen\", so Bennett. \"Dies schützt vor schwerer Erkrankung und Tod.\" Nach Angaben des Regierungschefs haben in Israel bereits 2000 Menschen mit Immunschwäche eine solche dritte Dosis erhalten, ohne dass es schwere Nebenwirkungen gegeben hätte.\\n\\nDer Hintergrund dafür sind Zahlen des Ministeriums, wonach die Effektivität der in Israel verwendeten Biontech/Pfizer-Impfung seit Anfang Juni stark nachgelassen habe. Nach Angaben des Ministeriums verhindert die Impfung eine Corona-Infektion nur noch zu 39 Prozent und schwere Erkrankungen zu 91 Prozent. Gleichzeitig verbreite sich im Land die ansteckendere Delta-Variante, hieß es. Allerdings kritisieren auch Experten der Regierung, dass die Zahlen zur Effektivität nicht wissenschaftlich erhoben seien.\\n\\nIm Frühjahr hatte es dabei noch geheißen, die Impfung verhindere eine Corona- Erkrankung zu 95,8 Prozent. Krankenhausaufenthalte, schwere Erkrankungen und Tod würden zu rund 99 Prozent verhindert.\\n\\nDie Zahl der innerhalb eines Tages gemeldeten Corona-Neuinfektionen in Israel hat bereits an drei Tagen in Folge die 2000er-Marke überschritten. Am Donnerstagmorgen meldete das Gesundheitsministerium 2165 neue Infektionen für den Vortag. 159 Corona-Patienten sind schwer erkrankt. Mehr als 57 Prozent der Bevölkerung sind vollständig geimpft.\\n\\nWegen der steigenden Corona-Infektionszahlen gilt in Israel seit Donnerstag wieder der Grüne Pass. Bei Versammlungen von mehr als 100 Menschen müssen Teilnehmer, die älter als zwölf Jahre alt sind, eine Bescheinigung für Geimpfte oder Genesene vorzeigen oder ein negatives Corona-Testergebnis. Dies gilt unter anderem für Sport- und Kulturveranstaltungen sowie Fitnessstudios, Restaurants, Konferenzen und Gebetshäuser.\\n\\nDer Grüne Pass, der Erleichterungen für Geimpfte und Genesene brachte, war in Israel im Februar eingeführt worden. Nach einem deutlichen Rückgang der Infektionszahlen waren die meisten Beschränkungen jedoch wieder aufgehoben worden.\\n\\n© dpa-infocom, dpa:210729-99-595025/5',\n",
       " 'meta': {'date': '2021-07-29T04:29:04',\n",
       "  'title': 'Israel will Über-60-Jährigen dritte Corona-Impfung geben | Abendzeitung München',\n",
       "  'url': 'https://www.abendzeitung-muenchen.de/politik/israel-gruener-pass-soll-steigende-corona-zahlen-bremsen-art-745845',\n",
       "  'homepage': 'abendzeitung-muenchen.de',\n",
       "  'crawl_engine': 'mediacloud',\n",
       "  'crawl_query': 'protest',\n",
       "  'pattern': '0, 0'},\n",
       " '_input_hash': 1664542755,\n",
       " '_task_hash': -118727931,\n",
       " 'spans': [{'text': 'Impfkampagne',\n",
       "   'start': 676,\n",
       "   'end': 688,\n",
       "   'pattern': -1937064617},\n",
       "  {'text': 'Versammlungen',\n",
       "   'start': 2251,\n",
       "   'end': 2264,\n",
       "   'pattern': -1937064617}],\n",
       " 'label': 'relevant',\n",
       " '_view_id': 'classification',\n",
       " 'answer': 'reject',\n",
       " '_timestamp': 1675464559}"
      ]
     },
     "execution_count": 3,
     "metadata": {},
     "output_type": "execute_result"
    }
   ],
   "source": [
    "items[1]"
   ]
  },
  {
   "cell_type": "code",
   "execution_count": 4,
   "metadata": {
    "vscode": {
     "languageId": "python"
    }
   },
   "outputs": [
    {
     "name": "stdout",
     "output_type": "stream",
     "text": [
      "2\\. Dezember 2020 um 05:45 Uhr\n",
      "\n",
      "##  Schutz : Bannmeile für den Bundestag\n",
      "\n",
      "„Jedes Landesparlament ist\n",
      "relevant\n",
      "reject\n",
      "\n",
      "Tel Aviv\n",
      "\n",
      "Angesichts steigender Infektionszahlen will Israel als erstes Land Über-60-Jährigen eine d\n",
      "relevant\n",
      "reject\n",
      "\n",
      "Eine Erde reicht der Menschheit nicht mehr zum Leben: So wurde errechnet, dass wir bereits am 2. Aug\n",
      "relevant\n",
      "reject\n",
      "\n",
      "Für mich war es immer die Sendung des Jahres!» - Mit diesen Worten hat sich Moderator Günther Jauch \n",
      "relevant\n",
      "reject\n",
      "\n",
      "Tausende Menschen protestieren in Caracas gegen die venezolanische Regierung.\n",
      "\n",
      "Bild: Rafael Hernande\n",
      "relevant\n",
      "reject\n",
      "\n",
      "Diesen Tag wird Gerhard Deutschmann nicht so schnell vergessen. Schließlich wird das 61. Weihnachtsk\n",
      "relevant\n",
      "reject\n",
      "\n",
      "Als zwei Polizisten im Mai 2020 wegen Maskenverweigerer in einen Troisdorfer Supermarkt gerufen werd\n",
      "relevant\n",
      "reject\n",
      "\n",
      "##  Nun doch Suedlink-Trasse durch Thüringen\n",
      "\n",
      "31.10.2020, 20:03 | Lesedauer: 2 Minuten\n",
      "\n",
      "Protest gege\n",
      "relevant\n",
      "reject\n",
      "\n",
      "Barcelona (dpa) - Die von einer Entmachtung bedrohte Regierung von Katalonien spielt im Konflikt mit\n",
      "relevant\n",
      "reject\n",
      "\n",
      "2. Events\n",
      "\n",
      "# So erhalten Hurricane-Besucher schnelle Hilfe in bedrohlichen Situationen\n",
      "\n",
      "Erstellt: 20\n",
      "relevant\n",
      "reject\n",
      "\n"
     ]
    }
   ],
   "source": [
    "for item in items[:10]:\n",
    "    print(item[\"text\"][:100])\n",
    "    print(item[\"label\"])\n",
    "    print(item[\"answer\"])\n",
    "    print()"
   ]
  },
  {
   "cell_type": "code",
   "execution_count": 5,
   "metadata": {
    "vscode": {
     "languageId": "python"
    }
   },
   "outputs": [
    {
     "name": "stdout",
     "output_type": "stream",
     "text": [
      "846\n",
      "283\n",
      "358\n",
      "771\n"
     ]
    },
    {
     "data": {
      "text/plain": [
       "array([[107, 739],\n",
       "       [251,  32]])"
      ]
     },
     "execution_count": 5,
     "metadata": {},
     "output_type": "execute_result"
    }
   ],
   "source": [
    "print(len([item for item in items if item[\"label\"] == \"relevant\"]))\n",
    "print(len([item for item in items if item[\"label\"] == \"irrelevant\"]))\n",
    "print(len([item for item in items if item[\"answer\"] == \"accept\"]))\n",
    "print(len([item for item in items if item[\"answer\"] == \"reject\"]))\n",
    "\n",
    "import numpy as np\n",
    "\n",
    "confusion = np.zeros((2, 2), dtype=int)\n",
    "for item in items:\n",
    "    confusion[int(item[\"label\"] != \"relevant\"), int(item[\"answer\"] != \"accept\")] += 1\n",
    "confusion  # y: pred relevant/irrelevant, x: accept/reject"
   ]
  },
  {
   "cell_type": "code",
   "execution_count": 6,
   "metadata": {
    "vscode": {
     "languageId": "python"
    }
   },
   "outputs": [],
   "source": [
    "def opposite_label(label):\n",
    "    return \"irrelevant\" if label == \"relevant\" else \"relevant\"\n",
    "\n",
    "\n",
    "for item in items:\n",
    "    item[\"true_label\"] = (\n",
    "        item[\"label\"] if item[\"answer\"] == \"accept\" else opposite_label(item[\"label\"])\n",
    "    )"
   ]
  },
  {
   "cell_type": "code",
   "execution_count": 7,
   "metadata": {
    "vscode": {
     "languageId": "python"
    }
   },
   "outputs": [
    {
     "data": {
      "text/plain": [
       "(139, 990)"
      ]
     },
     "execution_count": 7,
     "metadata": {},
     "output_type": "execute_result"
    }
   ],
   "source": [
    "n_relevant = len([item for item in items if item[\"true_label\"] == \"relevant\"])\n",
    "n_irrelevant = len([item for item in items if item[\"true_label\"] == \"irrelevant\"])\n",
    "n_relevant, n_irrelevant"
   ]
  },
  {
   "cell_type": "code",
   "execution_count": 8,
   "metadata": {
    "vscode": {
     "languageId": "python"
    }
   },
   "outputs": [
    {
     "data": {
      "text/plain": [
       "0.12311780336581045"
      ]
     },
     "execution_count": 8,
     "metadata": {},
     "output_type": "execute_result"
    }
   ],
   "source": [
    "ratio_relevant = n_relevant / (n_relevant + n_irrelevant)\n",
    "ratio_relevant"
   ]
  },
  {
   "cell_type": "code",
   "execution_count": 9,
   "metadata": {
    "vscode": {
     "languageId": "python"
    }
   },
   "outputs": [
    {
     "data": {
      "text/plain": [
       "[('infranken.de', 1488.0),\n",
       " ('wn.de', 1008.0),\n",
       " ('zeit.de', 816.0),\n",
       " ('azonline.de', 624.0),\n",
       " ('op-online.de', 480.0),\n",
       " ('dzonline.de', 384.0),\n",
       " ('tz.de', 240.0),\n",
       " ('sauerlandkurier.de', 192.0),\n",
       " ('lz.de', 192.0),\n",
       " ('kreiszeitung.de', 144.0),\n",
       " ('muensterschezeitung.de', 144.0),\n",
       " ('bz-berlin.de', 144.0),\n",
       " ('nw.de', 96.0),\n",
       " ('nordbayern.de', 96.0),\n",
       " ('wz.de', 96.0),\n",
       " ('wa.de', 96.0),\n",
       " ('waz-online.de', 96.0),\n",
       " ('otz.de', 48.0),\n",
       " ('weser-kurier.de', 48.0),\n",
       " ('idowa.de', 48.0),\n",
       " ('nn.de', 48.0),\n",
       " ('aachener-nachrichten.de', 48.0),\n",
       " ('onetz.de', 48.0),\n",
       " ('augsburger-allgemeine.de', 48.0)]"
      ]
     },
     "execution_count": 9,
     "metadata": {},
     "output_type": "execute_result"
    }
   ],
   "source": [
    "newspaper_counts = {}\n",
    "for item in items:\n",
    "    if item[\"true_label\"] != \"relevant\":\n",
    "        continue\n",
    "    medium = item[\"meta\"][\"homepage\"]\n",
    "    newspaper_counts[medium] = newspaper_counts.get(medium, 0) + 240 / 5\n",
    "sorted(newspaper_counts.items(), key=lambda x: x[1], reverse=True)"
   ]
  },
  {
   "cell_type": "code",
   "execution_count": 10,
   "metadata": {
    "vscode": {
     "languageId": "python"
    }
   },
   "outputs": [
    {
     "name": "stderr",
     "output_type": "stream",
     "text": [
      "\u001b[32m[I 2023-02-04 12:53:40,703]\u001b[0m Using an existing study with name 'glpn-3' instead of creating a new one.\u001b[0m\n"
     ]
    },
    {
     "data": {
      "text/plain": [
       "{'classifier': 'XGBClassifier',\n",
       " 'feature_extraction': 'bow',\n",
       " 'max_depth': 9,\n",
       " 'max_features': 210,\n",
       " 'max_ngram': 5,\n",
       " 'n_estimators': 14}"
      ]
     },
     "execution_count": 10,
     "metadata": {},
     "output_type": "execute_result"
    }
   ],
   "source": [
    "import optuna\n",
    "\n",
    "study = optuna.create_study(\n",
    "    direction=\"maximize\",\n",
    "    storage=\"sqlite:///db.sqlite3\",\n",
    "    study_name=\"glpn-3\",\n",
    "    load_if_exists=True,\n",
    ")\n",
    "study.best_params"
   ]
  },
  {
   "cell_type": "code",
   "execution_count": 15,
   "metadata": {
    "vscode": {
     "languageId": "python"
    }
   },
   "outputs": [
    {
     "name": "stdout",
     "output_type": "stream",
     "text": [
      "              precision    recall  f1-score   support\n",
      "\n",
      "           0     0.9596    0.8394    0.8955       990\n",
      "           1     0.3954    0.7482    0.5174       139\n",
      "\n",
      "    accuracy                         0.8282      1129\n",
      "   macro avg     0.6775    0.7938    0.7064      1129\n",
      "weighted avg     0.8901    0.8282    0.8489      1129\n",
      "\n"
     ]
    }
   ],
   "source": [
    "from src.data.protests.detection.simple_classification import objective\n",
    "\n",
    "model = objective(study.best_trial, return_model=True)\n",
    "\n",
    "# predict\n",
    "y_pred = model.predict([item[\"text\"] for item in items])\n",
    "y_true = [(1 if item[\"true_label\"] == \"relevant\" else 0) for item in items]\n",
    "\n",
    "# compute metrics\n",
    "from sklearn.metrics import classification_report\n",
    "\n",
    "print(classification_report(y_true, y_pred, digits=4))"
   ]
  },
  {
   "cell_type": "code",
   "execution_count": 16,
   "metadata": {
    "vscode": {
     "languageId": "python"
    }
   },
   "outputs": [
    {
     "data": {
      "text/html": [
       "<div>\n",
       "<style scoped>\n",
       "    .dataframe tbody tr th:only-of-type {\n",
       "        vertical-align: middle;\n",
       "    }\n",
       "\n",
       "    .dataframe tbody tr th {\n",
       "        vertical-align: top;\n",
       "    }\n",
       "\n",
       "    .dataframe thead th {\n",
       "        text-align: right;\n",
       "    }\n",
       "</style>\n",
       "<table border=\"1\" class=\"dataframe\">\n",
       "  <thead>\n",
       "    <tr style=\"text-align: right;\">\n",
       "      <th></th>\n",
       "      <th>text</th>\n",
       "      <th>label</th>\n",
       "    </tr>\n",
       "  </thead>\n",
       "  <tbody>\n",
       "    <tr>\n",
       "      <th>0</th>\n",
       "      <td>2\\. Dezember 2020 um 05:45 Uhr\\n\\n##  Schutz :...</td>\n",
       "      <td>0</td>\n",
       "    </tr>\n",
       "    <tr>\n",
       "      <th>1</th>\n",
       "      <td>Tel Aviv\\n\\nAngesichts steigender Infektionsza...</td>\n",
       "      <td>0</td>\n",
       "    </tr>\n",
       "    <tr>\n",
       "      <th>2</th>\n",
       "      <td>Eine Erde reicht der Menschheit nicht mehr zum...</td>\n",
       "      <td>0</td>\n",
       "    </tr>\n",
       "    <tr>\n",
       "      <th>3</th>\n",
       "      <td>Für mich war es immer die Sendung des Jahres!»...</td>\n",
       "      <td>0</td>\n",
       "    </tr>\n",
       "    <tr>\n",
       "      <th>4</th>\n",
       "      <td>Tausende Menschen protestieren in Caracas gege...</td>\n",
       "      <td>0</td>\n",
       "    </tr>\n",
       "  </tbody>\n",
       "</table>\n",
       "</div>"
      ],
      "text/plain": [
       "                                                text  label\n",
       "0  2\\. Dezember 2020 um 05:45 Uhr\\n\\n##  Schutz :...      0\n",
       "1  Tel Aviv\\n\\nAngesichts steigender Infektionsza...      0\n",
       "2  Eine Erde reicht der Menschheit nicht mehr zum...      0\n",
       "3  Für mich war es immer die Sendung des Jahres!»...      0\n",
       "4  Tausende Menschen protestieren in Caracas gege...      0"
      ]
     },
     "execution_count": 16,
     "metadata": {},
     "output_type": "execute_result"
    }
   ],
   "source": [
    "import pandas as pd\n",
    "\n",
    "df = pd.DataFrame({\"text\": [item[\"text\"] for item in items], \"label\": y_true})\n",
    "df.head()"
   ]
  },
  {
   "cell_type": "code",
   "execution_count": 18,
   "metadata": {
    "vscode": {
     "languageId": "python"
    }
   },
   "outputs": [
    {
     "name": "stdout",
     "output_type": "stream",
     "text": [
      "              precision    recall  f1-score   support\n",
      "\n",
      "           0     0.9337    0.9801    0.9564       503\n",
      "           1     0.7297    0.4355    0.5455        62\n",
      "\n",
      "    accuracy                         0.9204       565\n",
      "   macro avg     0.8317    0.7078    0.7509       565\n",
      "weighted avg     0.9113    0.9204    0.9113       565\n",
      "\n"
     ]
    }
   ],
   "source": [
    "from sklearn.model_selection import train_test_split\n",
    "\n",
    "train, test = train_test_split(df, test_size=0.5, random_state=20230204)\n",
    "\n",
    "# train on my data\n",
    "model.fit(train[\"text\"], train[\"label\"])\n",
    "\n",
    "# predict\n",
    "y_pred = model.predict(test[\"text\"])\n",
    "y_true = test[\"label\"]\n",
    "\n",
    "# compute metrics\n",
    "print(classification_report(y_true, y_pred, digits=4))"
   ]
  }
 ],
 "metadata": {
  "kernelspec": {
   "display_name": "Python 3 (ipykernel)",
   "language": "python",
   "name": "python3"
  },
  "orig_nbformat": 4,
  "vscode": {
   "interpreter": {
    "hash": "e27e7985cfd7a2f05ee384dd2e763b9bd85732f0bd4717d57390031cb93ad33a"
   }
  }
 },
 "nbformat": 4,
 "nbformat_minor": 2
}
