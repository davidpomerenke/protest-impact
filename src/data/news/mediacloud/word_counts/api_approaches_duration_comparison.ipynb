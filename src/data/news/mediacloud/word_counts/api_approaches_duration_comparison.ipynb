{
 "cells": [
  {
   "cell_type": "code",
   "execution_count": 23,
   "metadata": {},
   "outputs": [],
   "source": [
    "%load_ext autoreload\n",
    "%autoreload complete"
   ]
  },
  {
   "attachments": {},
   "cell_type": "markdown",
   "metadata": {},
   "source": [
    "Getting time-series data for many words from MediaCloud. See also previous notebook on different MediaCloud approaches.\n"
   ]
  },
  {
   "attachments": {},
   "cell_type": "markdown",
   "metadata": {},
   "source": [
    "## Approach 1\n"
   ]
  },
  {
   "cell_type": "code",
   "execution_count": 12,
   "metadata": {},
   "outputs": [],
   "source": [
    "from os import environ\n",
    "\n",
    "from requests import get\n",
    "\n",
    "from src.util.cache import get_cached\n",
    "\n",
    "response = get_cached(\n",
    "    \"https://api.mediacloud.org/api/v2/stories_public/word_matrix/\",\n",
    "    params={\n",
    "        \"q\": \"media_id:69752\",\n",
    "        \"fq\": \"publish_date:[2020-01-01T00:00:00Z TO 2023-01-01T00:00:00Z]\",\n",
    "        \"key\": environ[\"MEDIACLOUD_API_KEY\"],\n",
    "    },\n",
    "    headers={\"Accept\": \"application/json\"},\n",
    ")\n",
    "result = response.json()"
   ]
  },
  {
   "cell_type": "code",
   "execution_count": 3,
   "metadata": {},
   "outputs": [
    {
     "data": {
      "text/plain": [
       "[('1483914825',\n",
       "  {'11417': 1,\n",
       "   '12954': 1,\n",
       "   '13035': 1,\n",
       "   '14218': 1,\n",
       "   '1460': 2,\n",
       "   '14808': 1,\n",
       "   '1563': 1,\n",
       "   '157': 1,\n",
       "   '18367': 1,\n",
       "   '19429': 1,\n",
       "   '19430': 1,\n",
       "   '19431': 3,\n",
       "   '19432': 1,\n",
       "   '19433': 1,\n",
       "   '19434': 1,\n",
       "   '19435': 1,\n",
       "   '19436': 2,\n",
       "   '19437': 1,\n",
       "   '19438': 2,\n",
       "   '19439': 1,\n",
       "   '19440': 1,\n",
       "   '19441': 1,\n",
       "   '19442': 1,\n",
       "   '196': 1,\n",
       "   '2762': 1,\n",
       "   '2972': 3,\n",
       "   '3135': 1,\n",
       "   '3605': 1,\n",
       "   '4167': 1,\n",
       "   '4437': 1,\n",
       "   '5539': 2,\n",
       "   '6059': 1,\n",
       "   '6442': 1,\n",
       "   '6825': 1,\n",
       "   '93': 1,\n",
       "   '9973': 1}),\n",
       " ('1483945263',\n",
       "  {'0': 1,\n",
       "   '1': 1,\n",
       "   '10': 1,\n",
       "   '100': 3,\n",
       "   '101': 4,\n",
       "   '102': 1,\n",
       "   '103': 1,\n",
       "   '104': 1,\n",
       "   '105': 1,\n",
       "   '106': 1,\n",
       "   '107': 1,\n",
       "   '108': 1,\n",
       "   '109': 1,\n",
       "   '11': 1,\n",
       "   '110': 1,\n",
       "   '111': 1,\n",
       "   '112': 5,\n",
       "   '12': 1,\n",
       "   '13': 1,\n",
       "   '14': 1,\n",
       "   '15': 1,\n",
       "   '16': 1,\n",
       "   '17': 1,\n",
       "   '18': 1,\n",
       "   '19': 1,\n",
       "   '2': 1,\n",
       "   '20': 1,\n",
       "   '21': 1,\n",
       "   '22': 2,\n",
       "   '23': 1,\n",
       "   '24': 1,\n",
       "   '25': 1,\n",
       "   '26': 1,\n",
       "   '27': 1,\n",
       "   '28': 1,\n",
       "   '29': 1,\n",
       "   '3': 1,\n",
       "   '30': 1,\n",
       "   '31': 1,\n",
       "   '32': 1,\n",
       "   '33': 1,\n",
       "   '34': 1,\n",
       "   '35': 1,\n",
       "   '36': 4,\n",
       "   '37': 1,\n",
       "   '38': 1,\n",
       "   '39': 4,\n",
       "   '4': 2,\n",
       "   '40': 1,\n",
       "   '41': 1,\n",
       "   '42': 1,\n",
       "   '43': 1,\n",
       "   '44': 1,\n",
       "   '45': 1,\n",
       "   '46': 1,\n",
       "   '47': 1,\n",
       "   '48': 1,\n",
       "   '49': 1,\n",
       "   '5': 1,\n",
       "   '50': 2,\n",
       "   '51': 1,\n",
       "   '52': 2,\n",
       "   '53': 1,\n",
       "   '54': 1,\n",
       "   '55': 1,\n",
       "   '56': 1,\n",
       "   '57': 1,\n",
       "   '58': 1,\n",
       "   '59': 2,\n",
       "   '6': 1,\n",
       "   '60': 1,\n",
       "   '61': 1,\n",
       "   '62': 1,\n",
       "   '63': 1,\n",
       "   '64': 1,\n",
       "   '65': 1,\n",
       "   '66': 1,\n",
       "   '67': 2,\n",
       "   '68': 1,\n",
       "   '69': 1,\n",
       "   '7': 1,\n",
       "   '70': 2,\n",
       "   '71': 1,\n",
       "   '72': 1,\n",
       "   '73': 1,\n",
       "   '74': 1,\n",
       "   '75': 1,\n",
       "   '76': 1,\n",
       "   '77': 1,\n",
       "   '78': 1,\n",
       "   '79': 1,\n",
       "   '8': 1,\n",
       "   '80': 2,\n",
       "   '81': 1,\n",
       "   '82': 1,\n",
       "   '83': 1,\n",
       "   '84': 1,\n",
       "   '85': 3,\n",
       "   '86': 1,\n",
       "   '87': 1,\n",
       "   '88': 1,\n",
       "   '89': 1,\n",
       "   '9': 1,\n",
       "   '90': 1,\n",
       "   '91': 1,\n",
       "   '92': 1,\n",
       "   '93': 1,\n",
       "   '94': 1,\n",
       "   '95': 1,\n",
       "   '96': 1,\n",
       "   '97': 2,\n",
       "   '98': 2,\n",
       "   '99': 2})]"
      ]
     },
     "execution_count": 3,
     "metadata": {},
     "output_type": "execute_result"
    }
   ],
   "source": [
    "list(result[\"word_matrix\"].items())[:2]"
   ]
  },
  {
   "cell_type": "code",
   "execution_count": 4,
   "metadata": {},
   "outputs": [
    {
     "data": {
      "text/plain": [
       "[('zoo', 3),\n",
       " ('tiere', 3),\n",
       " ('folgen', 2),\n",
       " ('silvesterfeuerwerke', 2),\n",
       " ('tierschutzbund', 2),\n",
       " ('brand', 2),\n",
       " ('negativen', 1),\n",
       " ('dramatischen', 1),\n",
       " ('verursacht', 1),\n",
       " ('tierschützer', 1),\n",
       " ('orten', 1),\n",
       " ('deutsche', 1),\n",
       " ('dpa', 1),\n",
       " ('bonn', 1),\n",
       " ('feuerwerkskörper', 1),\n",
       " ('belege', 1),\n",
       " ('sicherheitszonen', 1),\n",
       " ('tragödie', 1),\n",
       " ('böllerei', 1),\n",
       " ('schutzzonen', 1),\n",
       " ('lebten', 1),\n",
       " ('brückner', 1),\n",
       " ('krefeld', 1),\n",
       " ('unkontrollierte', 1),\n",
       " ('schrecklich', 1),\n",
       " ('deutschen', 1),\n",
       " ('private', 1),\n",
       " ('kritisiert', 1),\n",
       " ('landwirtschaftliche', 1),\n",
       " ('james', 1),\n",
       " ('betrieb', 1),\n",
       " ('gefordert', 1),\n",
       " ('tierheim', 1),\n",
       " ('fordern', 1),\n",
       " ('min', 1),\n",
       " ('untersagt', 1)]"
      ]
     },
     "execution_count": 4,
     "metadata": {},
     "output_type": "execute_result"
    }
   ],
   "source": [
    "from collections import Counter\n",
    "\n",
    "\n",
    "def transform_list(list_):\n",
    "    return Counter(\n",
    "        {result[\"word_list\"][int(k)][1]: v for k, v in list_.items()}\n",
    "    ).most_common()\n",
    "\n",
    "\n",
    "transform_list(list(result[\"word_matrix\"].values())[0])"
   ]
  },
  {
   "cell_type": "code",
   "execution_count": 5,
   "metadata": {},
   "outputs": [
    {
     "data": {
      "text/plain": [
       "[('1483914825',\n",
       "  [('zoo', 3),\n",
       "   ('tiere', 3),\n",
       "   ('folgen', 2),\n",
       "   ('silvesterfeuerwerke', 2),\n",
       "   ('tierschutzbund', 2),\n",
       "   ('brand', 2),\n",
       "   ('negativen', 1),\n",
       "   ('dramatischen', 1),\n",
       "   ('verursacht', 1),\n",
       "   ('tierschützer', 1),\n",
       "   ('orten', 1),\n",
       "   ('deutsche', 1),\n",
       "   ('dpa', 1),\n",
       "   ('bonn', 1),\n",
       "   ('feuerwerkskörper', 1),\n",
       "   ('belege', 1),\n",
       "   ('sicherheitszonen', 1),\n",
       "   ('tragödie', 1),\n",
       "   ('böllerei', 1),\n",
       "   ('schutzzonen', 1),\n",
       "   ('lebten', 1),\n",
       "   ('brückner', 1),\n",
       "   ('krefeld', 1),\n",
       "   ('unkontrollierte', 1),\n",
       "   ('schrecklich', 1),\n",
       "   ('deutschen', 1),\n",
       "   ('private', 1),\n",
       "   ('kritisiert', 1),\n",
       "   ('landwirtschaftliche', 1),\n",
       "   ('james', 1),\n",
       "   ('betrieb', 1),\n",
       "   ('gefordert', 1),\n",
       "   ('tierheim', 1),\n",
       "   ('fordern', 1),\n",
       "   ('min', 1),\n",
       "   ('untersagt', 1)]),\n",
       " ('1483945263',\n",
       "  [('eis', 5),\n",
       "   ('eisfläche', 4),\n",
       "   ('dlrg', 4),\n",
       "   ('betreten', 4),\n",
       "   ('mönchsdeggingen', 3),\n",
       "   ('warnt', 3),\n",
       "   ('tragfähige', 2),\n",
       "   ('eingebrochenen', 2),\n",
       "   ('sicher', 2),\n",
       "   ('minuten', 2),\n",
       "   ('verunfallten', 2),\n",
       "   ('lebensgefahr', 2),\n",
       "   ('person', 2),\n",
       "   ('trägt', 2),\n",
       "   ('mitteilung', 2),\n",
       "   ('ufer', 2),\n",
       "   ('vorsicht', 2),\n",
       "   ('eisschicht', 1),\n",
       "   ('leiter', 1),\n",
       "   ('einsatzkräfte', 1),\n",
       "   ('aufmerksam', 1),\n",
       "   ('niemals', 1),\n",
       "   ('binnen', 1),\n",
       "   ('mindestens', 1),\n",
       "   ('richtung', 1),\n",
       "   ('eisflächen', 1),\n",
       "   ('gesorgt', 1),\n",
       "   ('dünnen', 1),\n",
       "   ('gereicht', 1),\n",
       "   ('wasser', 1),\n",
       "   ('eisrettungsschlitten', 1),\n",
       "   ('techniken', 1),\n",
       "   ('äußerst', 1),\n",
       "   ('situation', 1),\n",
       "   ('misslichen', 1),\n",
       "   ('abzusetzen', 1),\n",
       "   ('gelangen', 1),\n",
       "   ('dünne', 1),\n",
       "   ('speziellen', 1),\n",
       "   ('ruhe', 1),\n",
       "   ('bewegt', 1),\n",
       "   ('eisdecke', 1),\n",
       "   ('pm', 1),\n",
       "   ('meist', 1),\n",
       "   ('spezielle', 1),\n",
       "   ('körpergewicht', 1),\n",
       "   ('möglichst', 1),\n",
       "   ('zogen', 1),\n",
       "   ('eintreffen', 1),\n",
       "   ('flach', 1),\n",
       "   ('heißt', 1),\n",
       "   ('bewahren', 1),\n",
       "   ('knistern', 1),\n",
       "   ('gewässern', 1),\n",
       "   ('brach', 1),\n",
       "   ('knacken', 1),\n",
       "   ('erfahren', 1),\n",
       "   ('schal', 1),\n",
       "   ('entsteht', 1),\n",
       "   ('lage', 1),\n",
       "   ('weiher', 1),\n",
       "   ('metern', 1),\n",
       "   ('rettungsschwimmer', 1),\n",
       "   ('panik', 1),\n",
       "   ('notruf', 1),\n",
       "   ('cm', 1),\n",
       "   ('stark', 1),\n",
       "   ('rettung', 1),\n",
       "   ('hinweis', 1),\n",
       "   ('seil', 1),\n",
       "   ('einzubrechen', 1),\n",
       "   ('hält', 1),\n",
       "   ('brüchige', 1),\n",
       "   ('jahres', 1),\n",
       "   ('silvester', 1),\n",
       "   ('dauert', 1),\n",
       "   ('dünnsten', 1),\n",
       "   ('passanten', 1),\n",
       "   ('überlebensanzug', 1),\n",
       "   ('erkennbar', 1),\n",
       "   ('ausreichend', 1),\n",
       "   ('letzte', 1),\n",
       "   ('wenigen', 1),\n",
       "   ('stelle', 1),\n",
       "   ('ausgerüstet', 1),\n",
       "   ('trügerisch', 1),\n",
       "   ('landkreis', 1),\n",
       "   ('verbleibt', 1),\n",
       "   ('retten', 1),\n",
       "   ('ausdrücklich', 1),\n",
       "   ('eindrucksvoll', 1),\n",
       "   ('frost', 1),\n",
       "   ('frostigen', 1),\n",
       "   ('personen', 1),\n",
       "   ('legt', 1),\n",
       "   ('langsam', 1),\n",
       "   ('letzter', 1),\n",
       "   ('befreien', 1),\n",
       "   ('vermeiden', 1),\n",
       "   ('ausrüstung', 1),\n",
       "   ('drohe', 1),\n",
       "   ('zeigt', 1),\n",
       "   ('sicherheit', 1),\n",
       "   ('lief', 1),\n",
       "   ('verteilt', 1),\n",
       "   ('sofort', 1),\n",
       "   ('wichtig', 1),\n",
       "   ('unterkühlung', 1),\n",
       "   ('ast', 1),\n",
       "   ('min', 1),\n",
       "   ('wasserretter', 1),\n",
       "   ('übung', 1),\n",
       "   ('rettungsmittel', 1)])]"
      ]
     },
     "execution_count": 5,
     "metadata": {},
     "output_type": "execute_result"
    }
   ],
   "source": [
    "def transform_matrix(matrix):\n",
    "    return {\n",
    "        media_id: transform_list(list_)\n",
    "        for media_id, list_ in result[\"word_matrix\"].items()\n",
    "    }\n",
    "\n",
    "\n",
    "word_matrix = transform_matrix(result[\"word_matrix\"])\n",
    "list(word_matrix.items())[:2]"
   ]
  },
  {
   "cell_type": "code",
   "execution_count": 6,
   "metadata": {},
   "outputs": [
    {
     "data": {
      "text/plain": [
       "(55070, 1718)"
      ]
     },
     "execution_count": 6,
     "metadata": {},
     "output_type": "execute_result"
    }
   ],
   "source": [
    "len(result[\"word_list\"]), len(result[\"word_matrix\"])"
   ]
  },
  {
   "cell_type": "code",
   "execution_count": 7,
   "metadata": {},
   "outputs": [
    {
     "data": {
      "text/plain": [
       "{'germany_national': 34412409,\n",
       " 'germany_regional': 38379816,\n",
       " 'baden-württemberg': 262985085,\n",
       " 'bayern': 38379825,\n",
       " 'berlin': 38379823,\n",
       " 'brandenburg': 38379827,\n",
       " 'bremen': 38379829,\n",
       " 'hamburg': 38379819,\n",
       " 'hessen': 38379821,\n",
       " 'mecklenburg-vorpommern': 262985084,\n",
       " 'niedersachsen': 38379831,\n",
       " 'nordrhein-westfalen': 38379817,\n",
       " 'rheinland-pfalz': 38379833,\n",
       " 'saarland': 38379835,\n",
       " 'sachsen': 38379837,\n",
       " 'sachsen-anhalt': 38379839,\n",
       " 'schleswig-holstein': 38379841,\n",
       " 'thüringen': 38379843}"
      ]
     },
     "execution_count": 7,
     "metadata": {},
     "output_type": "execute_result"
    }
   ],
   "source": [
    "from src.data.news.config import region_tags\n",
    "\n",
    "region_tags"
   ]
  },
  {
   "cell_type": "code",
   "execution_count": 15,
   "metadata": {},
   "outputs": [],
   "source": [
    "response = get(\n",
    "    \"https://api.mediacloud.org/api/v2/stories_public/word_matrix/\",\n",
    "    params={\n",
    "        \"q\": f\"tags_id_media:{region_tags['berlin']}\",\n",
    "        \"fq\": \"publish_date:[2020-01-04T00:00:00Z TO 2020-01-05T00:00:00Z]\",\n",
    "        \"key\": environ[\"MEDIACLOUD_API_KEY\"],\n",
    "    },\n",
    "    headers={\"Accept\": \"application/json\"},\n",
    ")\n",
    "result = response.json()"
   ]
  },
  {
   "cell_type": "code",
   "execution_count": 14,
   "metadata": {},
   "outputs": [
    {
     "data": {
      "text/plain": [
       "(0, 0)"
      ]
     },
     "execution_count": 14,
     "metadata": {},
     "output_type": "execute_result"
    }
   ],
   "source": [
    "word_list, word_matrix = result[\"word_list\"], result[\"word_matrix\"]\n",
    "len(word_list), len(word_matrix)"
   ]
  },
  {
   "attachments": {},
   "cell_type": "markdown",
   "metadata": {},
   "source": [
    "This is nice, but it would take many requests:\n"
   ]
  },
  {
   "cell_type": "code",
   "execution_count": 10,
   "metadata": {},
   "outputs": [
    {
     "data": {
      "text/plain": [
       "23360"
      ]
     },
     "execution_count": 10,
     "metadata": {},
     "output_type": "execute_result"
    }
   ],
   "source": [
    "16 * 365 * (2022 - 2019 + 1)"
   ]
  },
  {
   "attachments": {},
   "cell_type": "markdown",
   "metadata": {},
   "source": [
    "The rate limit is 10.000, so it would take 2 weeks to get the complete data. How long roughly?\n"
   ]
  },
  {
   "cell_type": "code",
   "execution_count": 16,
   "metadata": {},
   "outputs": [
    {
     "data": {
      "text/plain": [
       "5.407407407407407"
      ]
     },
     "execution_count": 16,
     "metadata": {},
     "output_type": "execute_result"
    }
   ],
   "source": [
    "seconds = 16 * 365 * (2022 - 2019 + 1) * 20\n",
    "hours = seconds / 3600\n",
    "days = hours / 24\n",
    "days"
   ]
  },
  {
   "attachments": {},
   "cell_type": "markdown",
   "metadata": {},
   "source": [
    "That's a lot, but might be feasible. Also, other regions than Berlin are probably smaller and faster.\n"
   ]
  },
  {
   "cell_type": "code",
   "execution_count": 17,
   "metadata": {},
   "outputs": [],
   "source": [
    "response = get(\n",
    "    \"https://api.mediacloud.org/api/v2/stories_public/word_matrix/\",\n",
    "    params={\n",
    "        \"q\": f\"tags_id_media:{region_tags['niedersachsen']}\",\n",
    "        \"fq\": \"publish_date:[2020-01-04T00:00:00Z TO 2020-01-05T00:00:00Z]\",\n",
    "        \"key\": environ[\"MEDIACLOUD_API_KEY\"],\n",
    "    },\n",
    "    headers={\"Accept\": \"application/json\"},\n",
    ")\n",
    "result = response.json()"
   ]
  },
  {
   "cell_type": "code",
   "execution_count": null,
   "metadata": {},
   "outputs": [],
   "source": [
    "word_list, word_matrix = result[\"word_list\"], result[\"word_matrix\"]\n",
    "len(word_list), len(word_matrix)"
   ]
  },
  {
   "cell_type": "code",
   "execution_count": 20,
   "metadata": {},
   "outputs": [],
   "source": [
    "response = get(\n",
    "    \"https://api.mediacloud.org/api/v2/stories_public/word_matrix/\",\n",
    "    params={\n",
    "        \"q\": f\"tags_id_media:{region_tags['hessen']}\",\n",
    "        \"fq\": \"publish_date:[2020-01-04T00:00:00Z TO 2020-01-05T00:00:00Z]\",\n",
    "        \"rows\": 100_000,\n",
    "        \"key\": environ[\"MEDIACLOUD_API_KEY\"],\n",
    "    },\n",
    "    headers={\"Accept\": \"application/json\"},\n",
    ")\n",
    "result = response.json()"
   ]
  },
  {
   "cell_type": "code",
   "execution_count": 21,
   "metadata": {},
   "outputs": [
    {
     "data": {
      "text/plain": [
       "(20867, 1129)"
      ]
     },
     "execution_count": 21,
     "metadata": {},
     "output_type": "execute_result"
    }
   ],
   "source": [
    "word_list, word_matrix = result[\"word_list\"], result[\"word_matrix\"]\n",
    "len(word_list), len(word_matrix)"
   ]
  },
  {
   "attachments": {},
   "cell_type": "markdown",
   "metadata": {},
   "source": [
    "That took rather long ...\n"
   ]
  },
  {
   "attachments": {},
   "cell_type": "markdown",
   "metadata": {},
   "source": [
    "## Approach 2\n"
   ]
  },
  {
   "cell_type": "code",
   "execution_count": 8,
   "metadata": {},
   "outputs": [],
   "source": [
    "from datetime import date\n",
    "from os import environ\n",
    "\n",
    "from src.cache import get_cached\n",
    "from src.data.news.config import region_tags\n",
    "from src.data.news.sources.mediacloud import search\n",
    "\n",
    "response = get_cached(\n",
    "    \"https://api.mediacloud.org/api/v2/stories_public/list/\",\n",
    "    params={\n",
    "        \"last_processed_stories_id\": 0,\n",
    "        \"rows\": 1000,\n",
    "        \"q\": f\"tags_id_media:{region_tags['berlin']}\",\n",
    "        \"fq\": \"publish_date:[2020-01-01T00:00:00Z TO 2020-02-01T00:00:00Z]\",\n",
    "        \"wc\": 1,\n",
    "        \"key\": environ[\"MEDIACLOUD_API_KEY\"],\n",
    "    },\n",
    "    headers={\"Accept\": \"application/json\"},\n",
    ")\n",
    "result = response.json()"
   ]
  },
  {
   "cell_type": "code",
   "execution_count": 12,
   "metadata": {},
   "outputs": [
    {
     "data": {
      "text/plain": [
       "(1000,\n",
       " {'ap_syndicated': False,\n",
       "  'collect_date': '2020-01-01 01:03:48.026433',\n",
       "  'feeds': None,\n",
       "  'guid': 'https://www.rbb24.de/kultur/berlinale/beitraege/2020/gruetters-berlinale-jubilaeum-70-glamour-berlin-filmfestival.html',\n",
       "  'language': 'de',\n",
       "  'media_id': 385507,\n",
       "  'media_name': 'radioBERLIN 88,8',\n",
       "  'media_url': 'http://www.radioberlin.de/',\n",
       "  'processed_stories_id': 1880312907,\n",
       "  'publish_date': '2020-01-01 01:03:46',\n",
       "  'stories_id': 1483758545,\n",
       "  'story_tags': [],\n",
       "  'title': 'Gr&#252;tters: Berlinale geht nicht ohne \"Glamourfaktor\"',\n",
       "  'url': 'https://www.rbb24.de/kultur/berlinale/beitraege/2020/gruetters-berlinale-jubilaeum-70-glamour-berlin-filmfestival.html',\n",
       "  'word_count': [{'count': 5, 'stem': 'festiv', 'term': 'festival'},\n",
       "   {'count': 1, 'stem': 'sieht', 'term': 'sieht'},\n",
       "   {'count': 1, 'stem': 'zusätzlichen', 'term': 'zusätzlichen'},\n",
       "   {'count': 1, 'stem': 'ungewöhnlicher', 'term': 'ungewöhnlichere'},\n",
       "   {'count': 2, 'stem': 'zudem', 'term': 'zudem'},\n",
       "   {'count': 1, 'stem': 'begeistert', 'term': 'begeistert'},\n",
       "   {'count': 1, 'stem': 'neubesetzung', 'term': 'neubesetzung'},\n",
       "   {'count': 1, 'stem': 'lebenswerk', 'term': 'lebenswerk'},\n",
       "   {'count': 1, 'stem': 'gehört', 'term': 'gehört'},\n",
       "   {'count': 1, 'stem': 'programmatisch', 'term': 'programmatisch'},\n",
       "   {'count': 2, 'stem': 'erwartet', 'term': 'erwartet'},\n",
       "   {'count': 2, 'stem': 'doppelspitz', 'term': 'doppelspitze'},\n",
       "   {'count': 2, 'stem': 'beginnt', 'term': 'beginnt'},\n",
       "   {'count': 1, 'stem': 'weiterhin', 'term': 'weiterhin'},\n",
       "   {'count': 1, 'stem': 'ehrenbären', 'term': 'ehrenbären'},\n",
       "   {'count': 3, 'stem': 'leiter', 'term': 'leiter'},\n",
       "   {'count': 1, 'stem': 'künstlerisch', 'term': 'künstlerische'},\n",
       "   {'count': 1, 'stem': 'note', 'term': 'note'},\n",
       "   {'count': 1, 'stem': 'queen', 'term': 'queen'},\n",
       "   {'count': 1, 'stem': 'umfassend', 'term': 'umfassend'},\n",
       "   {'count': 1, 'stem': 'domin', 'term': 'dominator'},\n",
       "   {'count': 1, 'stem': 'encount', 'term': 'encounters'},\n",
       "   {'count': 1, 'stem': 'zeigt', 'term': 'zeigt'},\n",
       "   {'count': 2, 'stem': 'schon', 'term': 'schon'},\n",
       "   {'count': 1, 'stem': 'fundament', 'term': 'fundamental'},\n",
       "   {'count': 3, 'stem': 'wettbewerb', 'term': 'wettbewerb'},\n",
       "   {'count': 1, 'stem': 'gleichzeitig', 'term': 'gleichzeitig'},\n",
       "   {'count': 3, 'stem': 'setzen', 'term': 'setzen'},\n",
       "   {'count': 1, 'stem': 'erwartungen', 'term': 'erwartungen'},\n",
       "   {'count': 1, 'stem': 'auflag', 'term': 'auflage'},\n",
       "   {'count': 1, 'stem': 'verbunden', 'term': 'verbunden'},\n",
       "   {'count': 3, 'stem': 'star-faktor', 'term': 'star-faktor'},\n",
       "   {'count': 1, 'stem': 'programm', 'term': 'programm'},\n",
       "   {'count': 1, 'stem': 'mariett', 'term': 'mariette'},\n",
       "   {'count': 2, 'stem': 'berlin', 'term': 'berlin'},\n",
       "   {'count': 2,\n",
       "    'stem': 'kulturstaatsministerin',\n",
       "    'term': 'kulturstaatsministerin'},\n",
       "   {'count': 1, 'stem': 'glamour-maschin', 'term': 'glamour-maschine'},\n",
       "   {'count': 1, 'stem': 'berlinale-leitern', 'term': 'berlinale-leitern'},\n",
       "   {'count': 1, 'stem': 'veränderungen', 'term': 'veränderungen'},\n",
       "   {'count': 2, 'stem': 'carlo', 'term': 'carlos'},\n",
       "   {'count': 1, 'stem': 'zuversichtlich', 'term': 'zuversichtlich'},\n",
       "   {'count': 1, 'stem': 'glamour', 'term': 'glamour'},\n",
       "   {'count': 3, 'stem': 'euro', 'term': 'euro'},\n",
       "   {'count': 1, 'stem': 'schauspielerin', 'term': 'schauspielerin'},\n",
       "   {'count': 1, 'stem': 'wichtigsten', 'term': 'wichtigsten'},\n",
       "   {'count': 1, 'stem': 'version', 'term': 'version'},\n",
       "   {'count': 3, 'stem': 'distanz', 'term': 'distanz'},\n",
       "   {'count': 8, 'stem': 'berlinal', 'term': 'berlinale'},\n",
       "   {'count': 2, 'stem': 'venedig', 'term': 'venedig'},\n",
       "   {'count': 1, 'stem': 'dauerhaft', 'term': 'dauerhafte'},\n",
       "   {'count': 3, 'stem': 'größere', 'term': 'größere'},\n",
       "   {'count': 1, 'stem': 'britisch', 'term': 'britische'},\n",
       "   {'count': 1, 'stem': 'geschaffen', 'term': 'geschaffen'},\n",
       "   {'count': 1, 'stem': 'dpa', 'term': 'dpa'},\n",
       "   {'count': 1, 'stem': 'artikuliert', 'term': 'artikuliert'},\n",
       "   {'count': 1, 'stem': 'insofern', 'term': 'insofern'},\n",
       "   {'count': 1, 'stem': 'druck', 'term': 'druck'},\n",
       "   {'count': 5, 'stem': 'kosslick', 'term': 'kosslick'},\n",
       "   {'count': 1, 'stem': 'bleibt', 'term': 'bleibt'},\n",
       "   {'count': 1, 'stem': 'berlinale-direkt', 'term': 'berlinale-direktion'},\n",
       "   {'count': 2, 'stem': 'glamourfaktor', 'term': 'glamourfaktor'},\n",
       "   {'count': 1, 'stem': 'etat', 'term': 'etat'},\n",
       "   {'count': 1, 'stem': 'großen', 'term': 'großen'},\n",
       "   {'count': 2, 'stem': 'februar', 'term': 'februar'},\n",
       "   {'count': 3, 'stem': 'celebr', 'term': 'celebritys'},\n",
       "   {'count': 2, 'stem': 'publikum', 'term': 'publikum'},\n",
       "   {'count': 4, 'stem': 'film', 'term': 'film'},\n",
       "   {'count': 1, 'stem': 'publikumsresonanz', 'term': 'publikumsresonanz'},\n",
       "   {'count': 2, 'stem': 'märz', 'term': 'märz'},\n",
       "   {'count': 1, 'stem': 'filmen', 'term': 'filmen'},\n",
       "   {'count': 1, 'stem': 'verschaffen', 'term': 'verschaffen'},\n",
       "   {'count': 1, 'stem': 'unterstützt', 'term': 'unterstützt'},\n",
       "   {'count': 1, 'stem': 'monika', 'term': 'monika'},\n",
       "   {'count': 2, 'stem': 'filmfestiv', 'term': 'filmfestivals'},\n",
       "   {'count': 1, 'stem': 'showeffekt', 'term': 'showeffekt'},\n",
       "   {'count': 2, 'stem': 'setzt', 'term': 'setzt'},\n",
       "   {'count': 1, 'stem': 'karten', 'term': 'karten'},\n",
       "   {'count': 1, 'stem': 'rahmen', 'term': 'rahmen'},\n",
       "   {'count': 1, 'stem': '200.000', 'term': '200.000'},\n",
       "   {'count': 1, 'stem': 'oscar-preisträgerin', 'term': 'oscar-preisträgerin'},\n",
       "   {'count': 1, 'stem': 'cdu', 'term': 'cdu'},\n",
       "   {'count': 1, 'stem': 'verkauft', 'term': 'verkauft'},\n",
       "   {'count': 1, 'stem': 'mirren', 'term': 'mirren'},\n",
       "   {'count': 1, 'stem': 'publikumsträchtig', 'term': 'publikumsträchtig'},\n",
       "   {'count': 1, 'stem': 'sektionen', 'term': 'sektionen'},\n",
       "   {'count': 7, 'stem': 'grütter', 'term': 'grütters'},\n",
       "   {'count': 1, 'stem': 'gehe', 'term': 'gehe'},\n",
       "   {'count': 1, 'stem': 'änderungen', 'term': 'änderungen'},\n",
       "   {'count': 1, 'stem': 'geplanten', 'term': 'geplanten'},\n",
       "   {'count': 1, 'stem': 'draufgelegt', 'term': 'draufgelegt'},\n",
       "   {'count': 1,\n",
       "    'stem': 'kuratorisch-künstlerisch',\n",
       "    'term': 'kuratorisch-künstlerische'},\n",
       "   {'count': 1, 'stem': 'helen', 'term': 'helen'},\n",
       "   {'count': 1, 'stem': 'goldenen', 'term': 'goldenen'},\n",
       "   {'count': 1, 'stem': 'jubiläum', 'term': 'jubiläum'},\n",
       "   {'count': 1, 'stem': '10,4', 'term': '10,4'},\n",
       "   {'count': 1, 'stem': 'solid', 'term': 'solide'},\n",
       "   {'count': 7, 'stem': 'rissenbeek', 'term': 'rissenbeek'},\n",
       "   {'count': 2, 'stem': 'millionen', 'term': 'millionen'},\n",
       "   {'count': 1, 'stem': 'getan', 'term': 'getan'},\n",
       "   {'count': 2, 'stem': 'bisherigen', 'term': 'bisherigen'},\n",
       "   {'count': 1, 'stem': 'filmwelt', 'term': 'filmwelt'},\n",
       "   {'count': 1, 'stem': 'amtszeit', 'term': 'amtszeit'},\n",
       "   {'count': 1, 'stem': 'berlinale-leitung', 'term': 'berlinale-leitung'},\n",
       "   {'count': 3, 'stem': 'bund', 'term': 'bund'},\n",
       "   {'count': 1, 'stem': 'geben', 'term': 'geben'},\n",
       "   {'count': 3, 'stem': 'pflegen', 'term': 'pflegen'},\n",
       "   {'count': 1, 'stem': 'rechn', 'term': 'rechne'},\n",
       "   {'count': 1, 'stem': 'richtig', 'term': 'richtig'},\n",
       "   {'count': 2, 'stem': 'cann', 'term': 'cannes'},\n",
       "   {'count': 2, 'stem': 'dieter', 'term': 'dieter'},\n",
       "   {'count': 1, 'stem': 'verleihung', 'term': 'verleihung'},\n",
       "   {'count': 1, 'stem': 'geflossen', 'term': 'geflossen'},\n",
       "   {'count': 1, 'stem': 'start', 'term': 'start'},\n",
       "   {'count': 1, 'stem': 'hoher', 'term': 'hoher'},\n",
       "   {'count': 1, 'stem': 'gilt', 'term': 'gilt'},\n",
       "   {'count': 1, 'stem': 'erwarten', 'term': 'erwarten'},\n",
       "   {'count': 1, 'stem': 'atmosphärisch', 'term': 'atmosphärische'},\n",
       "   {'count': 1, 'stem': '330.000', 'term': '330.000'},\n",
       "   {'count': 3, 'stem': 'unterstellt', 'term': 'unterstellt'},\n",
       "   {'count': 9, 'stem': 'chatrian', 'term': 'chatrian'},\n",
       "   {'count': 1, 'stem': 'ausgestattet', 'term': 'ausgestattet'},\n",
       "   {'count': 1, 'stem': 'erhoffen', 'term': 'erhoffen'},\n",
       "   {'count': 1, 'stem': 'leitungsteam', 'term': 'leitungsteam'},\n",
       "   {'count': 1, 'stem': 'gewürdigt', 'term': 'gewürdigt'},\n",
       "   {'count': 1, 'stem': 'konzeptionell', 'term': 'konzeptionelle'},\n",
       "   {'count': 1, 'stem': 'signal', 'term': 'signal'},\n",
       "   {'count': 1, 'stem': 'europäischen', 'term': 'europäischen'},\n",
       "   {'count': 1, 'stem': 'hommag', 'term': 'hommage'}]})"
      ]
     },
     "execution_count": 12,
     "metadata": {},
     "output_type": "execute_result"
    }
   ],
   "source": [
    "len(result), result[1]"
   ]
  },
  {
   "cell_type": "code",
   "execution_count": 15,
   "metadata": {},
   "outputs": [
    {
     "data": {
      "text/plain": [
       "{'2020-01-01', '2020-01-02', '2020-01-03'}"
      ]
     },
     "execution_count": 15,
     "metadata": {},
     "output_type": "execute_result"
    }
   ],
   "source": [
    "{a[\"publish_date\"][:10] for a in result}"
   ]
  },
  {
   "cell_type": "code",
   "execution_count": 19,
   "metadata": {},
   "outputs": [
    {
     "data": {
      "text/plain": [
       "{'2020-01-01', '2020-01-02'}"
      ]
     },
     "execution_count": 19,
     "metadata": {},
     "output_type": "execute_result"
    }
   ],
   "source": [
    "response = get_cached(\n",
    "    \"https://api.mediacloud.org/api/v2/stories_public/list/\",\n",
    "    params={\n",
    "        \"last_processed_stories_id\": 0,\n",
    "        \"rows\": 1000,\n",
    "        \"q\": f\"tags_id_media:{region_tags['hessen']}\",\n",
    "        \"fq\": \"publish_date:[2020-01-01T00:00:00Z TO 2020-02-01T00:00:00Z]\",\n",
    "        \"wc\": 1,\n",
    "        \"key\": environ[\"MEDIACLOUD_API_KEY\"],\n",
    "    },\n",
    "    headers={\"Accept\": \"application/json\"},\n",
    ")\n",
    "result = response.json()\n",
    "{a[\"publish_date\"][:10] for a in result if \"publish_date\" in a and a[\"publish_date\"]}"
   ]
  },
  {
   "cell_type": "code",
   "execution_count": 21,
   "metadata": {},
   "outputs": [
    {
     "data": {
      "text/plain": [
       "{'2020-01-01',\n",
       " '2020-01-02',\n",
       " '2020-01-03',\n",
       " '2020-01-04',\n",
       " '2020-01-05',\n",
       " '2020-01-06',\n",
       " '2020-01-07',\n",
       " '2020-01-08',\n",
       " '2020-01-09',\n",
       " '2020-01-10',\n",
       " '2020-01-11',\n",
       " '2020-01-12',\n",
       " '2020-01-13',\n",
       " '2020-01-14',\n",
       " '2020-01-15',\n",
       " '2020-01-16',\n",
       " '2020-01-17',\n",
       " '2020-01-18',\n",
       " '2020-01-19',\n",
       " '2020-01-20',\n",
       " '2020-01-21',\n",
       " '2020-01-22',\n",
       " '2020-01-23',\n",
       " '2020-01-24',\n",
       " '2020-01-25',\n",
       " '2020-01-26',\n",
       " '2020-01-27',\n",
       " '2020-01-29',\n",
       " '2020-01-30',\n",
       " '2020-01-31',\n",
       " '2020-02-01'}"
      ]
     },
     "execution_count": 21,
     "metadata": {},
     "output_type": "execute_result"
    }
   ],
   "source": [
    "response = get_cached(\n",
    "    \"https://api.mediacloud.org/api/v2/stories_public/list/\",\n",
    "    params={\n",
    "        \"last_processed_stories_id\": 0,\n",
    "        \"rows\": 1000,\n",
    "        \"q\": f\"tags_id_media:{region_tags['baden-württemberg']}\",\n",
    "        \"fq\": \"publish_date:[2020-01-01T00:00:00Z TO 2020-02-01T00:00:00Z]\",\n",
    "        \"wc\": 1,\n",
    "        \"key\": environ[\"MEDIACLOUD_API_KEY\"],\n",
    "    },\n",
    "    headers={\"Accept\": \"application/json\"},\n",
    ")\n",
    "result = response.json()\n",
    "{a[\"publish_date\"][:10] for a in result if \"publish_date\" in a and a[\"publish_date\"]}"
   ]
  },
  {
   "cell_type": "code",
   "execution_count": 22,
   "metadata": {},
   "outputs": [
    {
     "data": {
      "text/plain": [
       "'2022-12-01 07:50:03'"
      ]
     },
     "execution_count": 22,
     "metadata": {},
     "output_type": "execute_result"
    }
   ],
   "source": [
    "response = get_cached(\n",
    "    \"https://api.mediacloud.org/api/v2/stories_public/list/\",\n",
    "    params={\n",
    "        \"last_processed_stories_id\": 0,\n",
    "        \"rows\": 1000,\n",
    "        \"q\": f\"tags_id_media:{region_tags['berlin']}\",\n",
    "        \"fq\": \"publish_date:[2022-12-01T00:00:00Z TO 2023-01-01T00:00:00Z]\",\n",
    "        \"wc\": 1,\n",
    "        \"key\": environ[\"MEDIACLOUD_API_KEY\"],\n",
    "    },\n",
    "    headers={\"Accept\": \"application/json\"},\n",
    ")\n",
    "result = response.json()\n",
    "{a[\"publish_date\"][:10] for a in result if \"publish_date\" in a and a[\"publish_date\"]}\n",
    "max([a[\"publish_date\"] for a in result if \"publish_date\" in a and a[\"publish_date\"]])"
   ]
  },
  {
   "attachments": {},
   "cell_type": "markdown",
   "metadata": {},
   "source": [
    "For some regions, this approach saves a lot of time, for others it's much slower ..."
   ]
  },
  {
   "cell_type": "markdown",
   "metadata": {},
   "source": []
  }
 ],
 "metadata": {
  "kernelspec": {
   "display_name": ".venv",
   "language": "python",
   "name": "python3"
  },
  "language_info": {
   "codemirror_mode": {
    "name": "ipython",
    "version": 3
   },
   "file_extension": ".py",
   "mimetype": "text/x-python",
   "name": "python",
   "nbconvert_exporter": "python",
   "pygments_lexer": "ipython3",
   "version": "3.10.9"
  },
  "orig_nbformat": 4
 },
 "nbformat": 4,
 "nbformat_minor": 2
}
