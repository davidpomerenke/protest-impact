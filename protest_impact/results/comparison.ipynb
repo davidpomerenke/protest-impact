{
 "cells": [
  {
   "cell_type": "code",
   "execution_count": 1,
   "metadata": {},
   "outputs": [],
   "source": [
    "%load_ext autoreload\n",
    "%autoreload complete\n",
    "import matplotlib.pyplot as plt\n",
    "import numpy as np\n",
    "import pandas as pd\n",
    "import seaborn as sns\n",
    "import statsmodels.api as sm\n",
    "from tqdm.notebook import tqdm\n",
    "\n",
    "from protest_impact.util import cache"
   ]
  },
  {
   "cell_type": "code",
   "execution_count": 2,
   "metadata": {},
   "outputs": [],
   "source": [
    "from protest_impact.data.protests import get_climate_protests, get_climate_queries\n",
    "\n",
    "protests = get_climate_protests(groups=[\"fff\"])\n",
    "queries = get_climate_queries()\n",
    "prev_size_cols = [\"size_week_-1\", \"size_week_-2\", \"size_week_-3\", \"size_week_-4\"]\n",
    "exog_cols = [\"sub_event_type\", \"assoc_actor_1\", \"admin1\", \"weekday\"]\n",
    "protests[exog_cols] = protests[exog_cols].astype(\"category\")\n",
    "exog_cols = []  # exog_cols + prev_size_cols"
   ]
  },
  {
   "attachments": {},
   "cell_type": "markdown",
   "metadata": {},
   "source": [
    "## Different causal methods"
   ]
  },
  {
   "attachments": {},
   "cell_type": "markdown",
   "metadata": {},
   "source": [
    "### Observational"
   ]
  },
  {
   "cell_type": "code",
   "execution_count": 3,
   "metadata": {},
   "outputs": [],
   "source": [
    "from protest_impact.instrumental_variables import get_discourse\n",
    "\n",
    "\n",
    "def _get_observational(protests, query):\n",
    "    p = pd.DataFrame()\n",
    "    for day in np.arange(-14, 14):\n",
    "        p[f\"impact_day_{day}\"] = get_discourse(protests, queries[query][0], day)\n",
    "    return p\n",
    "\n",
    "\n",
    "def get_observational(protests, query):\n",
    "    return pd.concat([protests, _get_observational(protests, query)], axis=1)"
   ]
  },
  {
   "attachments": {},
   "cell_type": "markdown",
   "metadata": {},
   "source": [
    "### Instrumental variables"
   ]
  },
  {
   "attachments": {},
   "cell_type": "markdown",
   "metadata": {},
   "source": [
    "#### Checks"
   ]
  },
  {
   "attachments": {},
   "cell_type": "markdown",
   "metadata": {},
   "source": [
    "Rule of thumb (F-statistic > 10):"
   ]
  },
  {
   "cell_type": "code",
   "execution_count": 10,
   "metadata": {},
   "outputs": [
    {
     "name": "stderr",
     "output_type": "stream",
     "text": [
      "MissingValueWarning: \n",
      "Inputs contain missing values. Dropping rows with missing observations.\n"
     ]
    },
    {
     "data": {
      "text/plain": [
       "Model F-statistic\n",
       "H0: All parameters ex. constant are zero\n",
       "Statistic: 17.6641\n",
       "P-value: 0.0001\n",
       "Distributed: chi2(2)\n",
       "WaldTestStatistic, id: 0x2a67dadd0"
      ]
     },
     "execution_count": 10,
     "metadata": {},
     "output_type": "execute_result"
    }
   ],
   "source": [
    "from linearmodels.iv import IV2SLS, IVGMM, IVGMMCUE, IVLIML\n",
    "\n",
    "from protest_impact.instrumental_variables import get_instruments\n",
    "\n",
    "p = protests[protests[\"size\"] > 0]\n",
    "X = get_instruments(p)[[\"stringency_index\", \"pres\"]]\n",
    "X = sm.add_constant(X)\n",
    "res_first = IV2SLS(np.log10(p[\"size\"]), X, None, None).fit()\n",
    "res_first.f_statistic"
   ]
  },
  {
   "cell_type": "code",
   "execution_count": 11,
   "metadata": {},
   "outputs": [
    {
     "data": {
      "text/html": [
       "<table class=\"simpletable\">\n",
       "<caption>OLS Estimation Summary</caption>\n",
       "<tr>\n",
       "  <th>Dep. Variable:</th>          <td>size</td>       <th>  R-squared:         </th> <td>0.0863</td> \n",
       "</tr>\n",
       "<tr>\n",
       "  <th>Estimator:</th>               <td>OLS</td>       <th>  Adj. R-squared:    </th> <td>0.0772</td> \n",
       "</tr>\n",
       "<tr>\n",
       "  <th>No. Observations:</th>        <td>204</td>       <th>  F-statistic:       </th> <td>17.664</td> \n",
       "</tr>\n",
       "<tr>\n",
       "  <th>Date:</th>             <td>Wed, May 31 2023</td> <th>  P-value (F-stat)   </th> <td>0.0001</td> \n",
       "</tr>\n",
       "<tr>\n",
       "  <th>Time:</th>                 <td>16:13:21</td>     <th>  Distribution:      </th> <td>chi2(2)</td>\n",
       "</tr>\n",
       "<tr>\n",
       "  <th>Cov. Estimator:</th>        <td>robust</td>      <th>                     </th>    <td></td>    \n",
       "</tr>\n",
       "<tr>\n",
       "  <th></th>                          <td></td>         <th>                     </th>    <td></td>    \n",
       "</tr>\n",
       "</table>\n",
       "<table class=\"simpletable\">\n",
       "<caption>Parameter Estimates</caption>\n",
       "<tr>\n",
       "          <td></td>         <th>Parameter</th> <th>Std. Err.</th> <th>T-stat</th>  <th>P-value</th> <th>Lower CI</th> <th>Upper CI</th>\n",
       "</tr>\n",
       "<tr>\n",
       "  <th>const</th>             <td>24.244</td>    <td>7.0817</td>   <td>3.4234</td>  <td>0.0006</td>   <td>10.364</td>   <td>38.124</td> \n",
       "</tr>\n",
       "<tr>\n",
       "  <th>stringency_index</th>  <td>-0.7641</td>   <td>0.2061</td>   <td>-3.7081</td> <td>0.0002</td>   <td>-1.1679</td>  <td>-0.3602</td>\n",
       "</tr>\n",
       "<tr>\n",
       "  <th>pres</th>              <td>-0.0211</td>   <td>0.0069</td>   <td>-3.0452</td> <td>0.0023</td>   <td>-0.0346</td>  <td>-0.0075</td>\n",
       "</tr>\n",
       "</table>"
      ],
      "text/plain": [
       "<class 'linearmodels.compat.statsmodels.Summary'>\n",
       "\"\"\"\n",
       "                            OLS Estimation Summary                            \n",
       "==============================================================================\n",
       "Dep. Variable:                   size   R-squared:                      0.0863\n",
       "Estimator:                        OLS   Adj. R-squared:                 0.0772\n",
       "No. Observations:                 204   F-statistic:                    17.664\n",
       "Date:                Wed, May 31 2023   P-value (F-stat)                0.0001\n",
       "Time:                        16:13:21   Distribution:                  chi2(2)\n",
       "Cov. Estimator:                robust                                         \n",
       "                                                                              \n",
       "                                Parameter Estimates                                 \n",
       "====================================================================================\n",
       "                  Parameter  Std. Err.     T-stat    P-value    Lower CI    Upper CI\n",
       "------------------------------------------------------------------------------------\n",
       "const                24.244     7.0817     3.4234     0.0006      10.364      38.124\n",
       "stringency_index    -0.7641     0.2061    -3.7081     0.0002     -1.1679     -0.3602\n",
       "pres                -0.0211     0.0069    -3.0452     0.0023     -0.0346     -0.0075\n",
       "====================================================================================\n",
       "\"\"\""
      ]
     },
     "execution_count": 11,
     "metadata": {},
     "output_type": "execute_result"
    }
   ],
   "source": [
    "res_first.summary"
   ]
  },
  {
   "attachments": {},
   "cell_type": "markdown",
   "metadata": {},
   "source": [
    "Endogeneity:"
   ]
  },
  {
   "cell_type": "code",
   "execution_count": 20,
   "metadata": {},
   "outputs": [
    {
     "name": "stderr",
     "output_type": "stream",
     "text": [
      "MissingValueWarning: \n",
      "Inputs contain missing values. Dropping rows with missing observations.\n"
     ]
    },
    {
     "data": {
      "text/plain": [
       "Wooldridge's regression test of exogeneity\n",
       "H0: Endogenous variables are exogenous\n",
       "Statistic: 0.0578\n",
       "P-value: 0.8101\n",
       "Distributed: chi2(1)\n",
       "WaldTestStatistic, id: 0x2a6a07280"
      ]
     },
     "execution_count": 20,
     "metadata": {},
     "output_type": "execute_result"
    }
   ],
   "source": [
    "instr = get_instruments(p)[[\"stringency_index\", \"pres\"]]\n",
    "endog = np.log10(p[\"size\"])\n",
    "exog = p[exog_cols]\n",
    "exog = sm.add_constant(exog)\n",
    "dep = get_discourse(p, queries[\"climate_and_protest\"][0], 0)\n",
    "res = IV2SLS(dep, exog, endog, instr).fit()\n",
    "res.wooldridge_regression"
   ]
  },
  {
   "cell_type": "code",
   "execution_count": 21,
   "metadata": {},
   "outputs": [
    {
     "data": {
      "text/plain": [
       "Wooldridge's score test of exogeneity\n",
       "H0: Endogenous variables are exogenous\n",
       "Statistic: 0.0577\n",
       "P-value: 0.8102\n",
       "Distributed: chi2(1)\n",
       "WaldTestStatistic, id: 0x2a6a06710"
      ]
     },
     "execution_count": 21,
     "metadata": {},
     "output_type": "execute_result"
    }
   ],
   "source": [
    "res.wooldridge_score"
   ]
  },
  {
   "attachments": {},
   "cell_type": "markdown",
   "metadata": {},
   "source": [
    "Overidentification:"
   ]
  },
  {
   "cell_type": "code",
   "execution_count": 22,
   "metadata": {},
   "outputs": [
    {
     "data": {
      "text/plain": [
       "Wooldridge's score test of overidentification\n",
       "H0: Model is not overidentified.\n",
       "Statistic: 0.1302\n",
       "P-value: 0.7183\n",
       "Distributed: chi2(1)\n",
       "WaldTestStatistic, id: 0x2a6a06ef0"
      ]
     },
     "execution_count": 22,
     "metadata": {},
     "output_type": "execute_result"
    }
   ],
   "source": [
    "res.wooldridge_overid"
   ]
  },
  {
   "attachments": {},
   "cell_type": "markdown",
   "metadata": {},
   "source": [
    "#### Calculate"
   ]
  },
  {
   "cell_type": "code",
   "execution_count": 23,
   "metadata": {},
   "outputs": [],
   "source": [
    "from sklearn.ensemble import RandomForestRegressor\n",
    "from sklearn.linear_model import LinearRegression, QuantileRegressor, RidgeCV\n",
    "\n",
    "from protest_impact.instrumental_variables.auto import AutoRandomForestRegressor"
   ]
  },
  {
   "cell_type": "code",
   "execution_count": 28,
   "metadata": {},
   "outputs": [],
   "source": [
    "import time\n",
    "\n",
    "from protest_impact.instrumental_variables import get_instruments\n",
    "\n",
    "\n",
    "def get_instrumental(protests, query):\n",
    "    t = time.time()\n",
    "    p = protests.copy()\n",
    "    instruments = get_instruments(p)[[\"pres\", \"stringency_index\"]]\n",
    "    if len(exog_cols) > 0:\n",
    "        exog = pd.get_dummies(p[exog_cols], drop_first=True)\n",
    "        X = pd.concat([exog, instruments], axis=1)\n",
    "    else:\n",
    "        X = instruments\n",
    "    y = p[\"size\"]\n",
    "    # model = AutoRandomForestRegressor()\n",
    "    model = RidgeCV()\n",
    "    print(\"fitting model\", time.time() - t)\n",
    "    model.fit(X, y)\n",
    "    print(\"done fitting\", time.time() - t)\n",
    "    p = p.drop(columns=[\"size\"])\n",
    "    p[\"size\"] = model.predict(X)\n",
    "    p = pd.concat([p, _get_observational(p, query)], axis=1)\n",
    "    print(\"done predicting\", time.time() - t)\n",
    "    return p"
   ]
  },
  {
   "attachments": {},
   "cell_type": "markdown",
   "metadata": {},
   "source": [
    "## Impact of size"
   ]
  },
  {
   "cell_type": "code",
   "execution_count": 29,
   "metadata": {},
   "outputs": [],
   "source": [
    "import pandas as pd\n",
    "from sklearn.linear_model import LinearRegression, QuantileRegressor\n",
    "\n",
    "\n",
    "def calc_size_factor(protests):\n",
    "    \"\"\"\n",
    "    protests: must contain both size and impact for each day (`impact_day_0`, ...),\n",
    "        size or impact may or may not be adjusted by some causal method\n",
    "    \"\"\"\n",
    "    p = protests.copy()\n",
    "    p = p[p[\"size\"] > 0]\n",
    "    X = p[exog_cols]\n",
    "    if len(exog_cols) > 0:\n",
    "        X = pd.get_dummies(X, drop_first=True)\n",
    "    X[\"size\"] = np.log10(p[\"size\"] + 1)\n",
    "    assert X.columns[-1] == \"size\"\n",
    "    size_params = dict()\n",
    "    for day in np.arange(-14, 14):\n",
    "        y = p[f\"impact_day_{day}\"]\n",
    "        model = QuantileRegressor(quantile=0.5, alpha=0, solver=\"highs\")\n",
    "        model.fit(X, y)\n",
    "        size_params[day] = model.coef_[-1]\n",
    "    return size_params\n",
    "\n",
    "\n",
    "def calc_size_factor_2sls(protests):\n",
    "    p = protests.copy()\n",
    "    p = p[p[\"size\"] > 0]\n",
    "    exog = p[exog_cols]\n",
    "    exog = sm.add_constant(exog)\n",
    "    endog = np.log10(p[\"size\"])\n",
    "    instr = get_instruments(p)[[\"stringency_index\", \"pres\"]]\n",
    "    size_params = dict()\n",
    "    for day in np.arange(-14, 14):\n",
    "        print(day)\n",
    "        # ols\n",
    "        X = instr\n",
    "        X = sm.add_constant(X)\n",
    "        res_first = IV2SLS(endog, X, None, None).fit()\n",
    "        # iv\n",
    "        dep = get_discourse(p, queries[\"climate_and_protest\"][0], day)\n",
    "        res = IV2SLS(dep, exog, endog, instr).fit()\n",
    "        if res_first.f_statistic.stat < 11:\n",
    "            print(f\"\\tweak instruments: {res_first.f_statistic.stat}\")\n",
    "        elif res.wooldridge_regression.pval > 0.05:\n",
    "            print(\n",
    "                f\"\\tendogenous variables are exogenous: {res.wooldridge_regression.pval}\"\n",
    "            )\n",
    "        elif res.wooldridge_score.pval > 0.05:\n",
    "            print(f\"\\tendogenous variables are exogenous: {res.wooldridge_score.pval}\")\n",
    "        elif res.wooldridge_overid.pval < 0.3:\n",
    "            print(f\"\\tmodel is overidentified: {res.wooldridge_overid.pval}\")\n",
    "        elif res.pvalues[\"size\"] > 0.05:\n",
    "            print(f\"\\tsize param is not significant: {res.pvalues['size']}\")\n",
    "        else:\n",
    "            size_params[day] = (\n",
    "                res.params[\"size\"],\n",
    "                res.conf_int().loc[\"size\", \"lower\"],\n",
    "                res.conf_int().loc[\"size\", \"upper\"],\n",
    "            )\n",
    "    return size_params"
   ]
  },
  {
   "attachments": {},
   "cell_type": "markdown",
   "metadata": {},
   "source": [
    "## Comparison"
   ]
  },
  {
   "cell_type": "code",
   "execution_count": 30,
   "metadata": {},
   "outputs": [
    {
     "name": "stderr",
     "output_type": "stream",
     "text": [
      "SettingWithCopyWarning: \n",
      "A value is trying to be set on a copy of a slice from a DataFrame.\n",
      "Try using .loc[row_indexer,col_indexer] = value instead\n",
      "\n",
      "See the caveats in the documentation: https://pandas.pydata.org/pandas-docs/stable/user_guide/indexing.html#returning-a-view-versus-a-copy\n"
     ]
    }
   ],
   "source": [
    "observational_protests = get_observational(protests, \"climate_and_protest\")\n",
    "observational_factors = calc_size_factor(observational_protests)"
   ]
  },
  {
   "cell_type": "code",
   "execution_count": null,
   "metadata": {},
   "outputs": [],
   "source": [
    "instrumental_protests = get_instrumental(protests, \"climate_and_protest\")\n",
    "instrumental_factors = calc_size_factor(instrumental_protests)"
   ]
  },
  {
   "cell_type": "code",
   "execution_count": null,
   "metadata": {},
   "outputs": [],
   "source": [
    "instrumental_factors_2sls = calc_size_factor_2sls(protests)"
   ]
  },
  {
   "cell_type": "code",
   "execution_count": 23,
   "metadata": {},
   "outputs": [
    {
     "data": {
      "text/plain": [
       "<matplotlib.lines.Line2D at 0x17816ac80>"
      ]
     },
     "execution_count": 23,
     "metadata": {},
     "output_type": "execute_result"
    },
    {
     "data": {
      "image/png": "[encoded data removed]",
      "text/plain": [
       "<Figure size 640x480 with 1 Axes>"
      ]
     },
     "metadata": {},
     "output_type": "display_data"
    }
   ],
   "source": [
    "import matplotlib.pyplot as plt\n",
    "\n",
    "plt.plot(\n",
    "    observational_factors.keys(), observational_factors.values(), label=\"observational\"\n",
    ")\n",
    "plt.plot(\n",
    "    instrumental_factors.keys(), instrumental_factors.values(), label=\"instrumental\"\n",
    ")\n",
    "plt.plot(\n",
    "    instrumental_factors_2sls.keys(),\n",
    "    [a[0] for a in instrumental_factors_2sls.values()],\n",
    "    label=\"instrumental 2sls\",\n",
    ")\n",
    "plt.legend(bbox_to_anchor=(1.05, 1), loc=\"upper left\")\n",
    "plt.axvline(0, color=\"black\", linestyle=\"--\")"
   ]
  }
 ],
 "metadata": {
  "kernelspec": {
   "display_name": ".venv",
   "language": "python",
   "name": "python3"
  },
  "language_info": {
   "codemirror_mode": {
    "name": "ipython",
    "version": 3
   },
   "file_extension": ".py",
   "mimetype": "text/x-python",
   "name": "python",
   "nbconvert_exporter": "python",
   "pygments_lexer": "ipython3",
   "version": "3.10.10"
  },
  "orig_nbformat": 4
 },
 "nbformat": 4,
 "nbformat_minor": 2
}
