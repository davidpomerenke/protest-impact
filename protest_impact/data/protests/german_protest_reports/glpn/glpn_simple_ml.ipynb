{
 "cells": [
  {
   "attachments": {},
   "cell_type": "markdown",
   "metadata": {},
   "source": [
    "# Simple approaches to event detection"
   ]
  },
  {
   "cell_type": "code",
   "execution_count": 2,
   "metadata": {},
   "outputs": [
    {
     "name": "stderr",
     "output_type": "stream",
     "text": [
      "Using custom data configuration default-552cac500ccb144a\n",
      "Found cached dataset csv (/Users/david/.cache/huggingface/datasets/csv/default-552cac500ccb144a/0.0.0/6b34fb8fcf56f7c8ba51dc895bfa2bfbe43546f190a60fcf74bb5e8afdcc2317)\n"
     ]
    },
    {
     "data": {
      "application/vnd.jupyter.widget-view+json": {
       "model_id": "c94df943c6ec4e9693923fca67ae22ee",
       "version_major": 2,
       "version_minor": 0
      },
      "text/plain": [
       "  0%|          | 0/5 [00:00<?, ?it/s]"
      ]
     },
     "metadata": {},
     "output_type": "display_data"
    },
    {
     "name": "stderr",
     "output_type": "stream",
     "text": [
      "Loading cached processed dataset at /Users/david/.cache/huggingface/datasets/csv/default-552cac500ccb144a/0.0.0/6b34fb8fcf56f7c8ba51dc895bfa2bfbe43546f190a60fcf74bb5e8afdcc2317/cache-ceafcab5597f7c17.arrow\n",
      "Loading cached processed dataset at /Users/david/.cache/huggingface/datasets/csv/default-552cac500ccb144a/0.0.0/6b34fb8fcf56f7c8ba51dc895bfa2bfbe43546f190a60fcf74bb5e8afdcc2317/cache-41bc297fe33d9da3.arrow\n",
      "Loading cached processed dataset at /Users/david/.cache/huggingface/datasets/csv/default-552cac500ccb144a/0.0.0/6b34fb8fcf56f7c8ba51dc895bfa2bfbe43546f190a60fcf74bb5e8afdcc2317/cache-201012f13e291afc.arrow\n",
      "Loading cached processed dataset at /Users/david/.cache/huggingface/datasets/csv/default-552cac500ccb144a/0.0.0/6b34fb8fcf56f7c8ba51dc895bfa2bfbe43546f190a60fcf74bb5e8afdcc2317/cache-b939ffa2b84d33a0.arrow\n",
      "Loading cached processed dataset at /Users/david/.cache/huggingface/datasets/csv/default-552cac500ccb144a/0.0.0/6b34fb8fcf56f7c8ba51dc895bfa2bfbe43546f190a60fcf74bb5e8afdcc2317/cache-7a73a9f0937f0e26.arrow\n"
     ]
    }
   ],
   "source": [
    "from protest_impact.data.protests.detection import load_glpn_dataset\n",
    "\n",
    "glpn = load_glpn_dataset()"
   ]
  },
  {
   "cell_type": "code",
   "execution_count": 3,
   "metadata": {},
   "outputs": [
    {
     "data": {
      "text/html": [
       "<style>#sk-container-id-1 {color: black;background-color: white;}#sk-container-id-1 pre{padding: 0;}#sk-container-id-1 div.sk-toggleable {background-color: white;}#sk-container-id-1 label.sk-toggleable__label {cursor: pointer;display: block;width: 100%;margin-bottom: 0;padding: 0.3em;box-sizing: border-box;text-align: center;}#sk-container-id-1 label.sk-toggleable__label-arrow:before {content: \"▸\";float: left;margin-right: 0.25em;color: #696969;}#sk-container-id-1 label.sk-toggleable__label-arrow:hover:before {color: black;}#sk-container-id-1 div.sk-estimator:hover label.sk-toggleable__label-arrow:before {color: black;}#sk-container-id-1 div.sk-toggleable__content {max-height: 0;max-width: 0;overflow: hidden;text-align: left;background-color: #f0f8ff;}#sk-container-id-1 div.sk-toggleable__content pre {margin: 0.2em;color: black;border-radius: 0.25em;background-color: #f0f8ff;}#sk-container-id-1 input.sk-toggleable__control:checked~div.sk-toggleable__content {max-height: 200px;max-width: 100%;overflow: auto;}#sk-container-id-1 input.sk-toggleable__control:checked~label.sk-toggleable__label-arrow:before {content: \"▾\";}#sk-container-id-1 div.sk-estimator input.sk-toggleable__control:checked~label.sk-toggleable__label {background-color: #d4ebff;}#sk-container-id-1 div.sk-label input.sk-toggleable__control:checked~label.sk-toggleable__label {background-color: #d4ebff;}#sk-container-id-1 input.sk-hidden--visually {border: 0;clip: rect(1px 1px 1px 1px);clip: rect(1px, 1px, 1px, 1px);height: 1px;margin: -1px;overflow: hidden;padding: 0;position: absolute;width: 1px;}#sk-container-id-1 div.sk-estimator {font-family: monospace;background-color: #f0f8ff;border: 1px dotted black;border-radius: 0.25em;box-sizing: border-box;margin-bottom: 0.5em;}#sk-container-id-1 div.sk-estimator:hover {background-color: #d4ebff;}#sk-container-id-1 div.sk-parallel-item::after {content: \"\";width: 100%;border-bottom: 1px solid gray;flex-grow: 1;}#sk-container-id-1 div.sk-label:hover label.sk-toggleable__label {background-color: #d4ebff;}#sk-container-id-1 div.sk-serial::before {content: \"\";position: absolute;border-left: 1px solid gray;box-sizing: border-box;top: 0;bottom: 0;left: 50%;z-index: 0;}#sk-container-id-1 div.sk-serial {display: flex;flex-direction: column;align-items: center;background-color: white;padding-right: 0.2em;padding-left: 0.2em;position: relative;}#sk-container-id-1 div.sk-item {position: relative;z-index: 1;}#sk-container-id-1 div.sk-parallel {display: flex;align-items: stretch;justify-content: center;background-color: white;position: relative;}#sk-container-id-1 div.sk-item::before, #sk-container-id-1 div.sk-parallel-item::before {content: \"\";position: absolute;border-left: 1px solid gray;box-sizing: border-box;top: 0;bottom: 0;left: 50%;z-index: -1;}#sk-container-id-1 div.sk-parallel-item {display: flex;flex-direction: column;z-index: 1;position: relative;background-color: white;}#sk-container-id-1 div.sk-parallel-item:first-child::after {align-self: flex-end;width: 50%;}#sk-container-id-1 div.sk-parallel-item:last-child::after {align-self: flex-start;width: 50%;}#sk-container-id-1 div.sk-parallel-item:only-child::after {width: 0;}#sk-container-id-1 div.sk-dashed-wrapped {border: 1px dashed gray;margin: 0 0.4em 0.5em 0.4em;box-sizing: border-box;padding-bottom: 0.4em;background-color: white;}#sk-container-id-1 div.sk-label label {font-family: monospace;font-weight: bold;display: inline-block;line-height: 1.2em;}#sk-container-id-1 div.sk-label-container {text-align: center;}#sk-container-id-1 div.sk-container {/* jupyter's `normalize.less` sets `[hidden] { display: none; }` but bootstrap.min.css set `[hidden] { display: none !important; }` so we also need the `!important` here to be able to override the default hidden behavior on the sphinx rendered scikit-learn.org. See: https://github.com/scikit-learn/scikit-learn/issues/21755 */display: inline-block !important;position: relative;}#sk-container-id-1 div.sk-text-repr-fallback {display: none;}</style><div id=\"sk-container-id-1\" class=\"sk-top-container\"><div class=\"sk-text-repr-fallback\"><pre>TfidfVectorizer(max_df=0.95, max_features=1000, min_df=2, ngram_range=(1, 3))</pre><b>In a Jupyter environment, please rerun this cell to show the HTML representation or trust the notebook. <br />On GitHub, the HTML representation is unable to render, please try loading this page with nbviewer.org.</b></div><div class=\"sk-container\" hidden><div class=\"sk-item\"><div class=\"sk-estimator sk-toggleable\"><input class=\"sk-toggleable__control sk-hidden--visually\" id=\"sk-estimator-id-1\" type=\"checkbox\" checked><label for=\"sk-estimator-id-1\" class=\"sk-toggleable__label sk-toggleable__label-arrow\">TfidfVectorizer</label><div class=\"sk-toggleable__content\"><pre>TfidfVectorizer(max_df=0.95, max_features=1000, min_df=2, ngram_range=(1, 3))</pre></div></div></div></div></div>"
      ],
      "text/plain": [
       "TfidfVectorizer(max_df=0.95, max_features=1000, min_df=2, ngram_range=(1, 3))"
      ]
     },
     "execution_count": 3,
     "metadata": {},
     "output_type": "execute_result"
    }
   ],
   "source": [
    "# create tfidf features\n",
    "from sklearn.feature_extraction.text import TfidfVectorizer\n",
    "\n",
    "tfidf = TfidfVectorizer(\n",
    "    max_df=0.95,\n",
    "    min_df=2,\n",
    "    max_features=1000,\n",
    "    ngram_range=(1, 3),\n",
    ")\n",
    "\n",
    "tfidf.fit(glpn[\"train\"][\"excerpt\"])"
   ]
  },
  {
   "cell_type": "code",
   "execution_count": 4,
   "metadata": {},
   "outputs": [
    {
     "name": "stdout",
     "output_type": "stream",
     "text": [
      "Fitting 5 folds for each of 72 candidates, totalling 360 fits\n"
     ]
    },
    {
     "data": {
      "text/plain": [
       "{'clf__C': 10,\n",
       " 'tfidf__max_df': 0.99,\n",
       " 'tfidf__max_features': 2000,\n",
       " 'tfidf__min_df': 5,\n",
       " 'tfidf__ngram_range': (1, 1)}"
      ]
     },
     "execution_count": 4,
     "metadata": {},
     "output_type": "execute_result"
    }
   ],
   "source": [
    "from sklearn.linear_model import LogisticRegression\n",
    "\n",
    "# make a pipeline\n",
    "from sklearn.pipeline import Pipeline\n",
    "\n",
    "pipe = Pipeline(\n",
    "    [\n",
    "        (\"tfidf\", TfidfVectorizer()),\n",
    "        (\"clf\", LogisticRegression()),\n",
    "    ]\n",
    ")\n",
    "\n",
    "# make a grid search\n",
    "from sklearn.model_selection import GridSearchCV\n",
    "\n",
    "param_grid = {\n",
    "    \"tfidf__max_df\": [0.95, 0.99],\n",
    "    \"tfidf__min_df\": [2, 5],\n",
    "    \"tfidf__max_features\": [1000, 2000],\n",
    "    \"tfidf__ngram_range\": [(1, 1), (1, 2), (1, 3)],\n",
    "    \"clf__C\": [0.1, 1, 10],\n",
    "}\n",
    "\n",
    "grid = GridSearchCV(pipe, param_grid, cv=5, n_jobs=-1, verbose=1)\n",
    "\n",
    "grid.fit(glpn[\"train\"][\"excerpt\"], glpn[\"train\"][\"label\"])\n",
    "\n",
    "# show best parameters\n",
    "grid.best_params_"
   ]
  },
  {
   "cell_type": "code",
   "execution_count": 5,
   "metadata": {},
   "outputs": [
    {
     "data": {
      "text/html": [
       "<div>\n",
       "<style scoped>\n",
       "    .dataframe tbody tr th:only-of-type {\n",
       "        vertical-align: middle;\n",
       "    }\n",
       "\n",
       "    .dataframe tbody tr th {\n",
       "        vertical-align: top;\n",
       "    }\n",
       "\n",
       "    .dataframe thead th {\n",
       "        text-align: right;\n",
       "    }\n",
       "</style>\n",
       "<table border=\"1\" class=\"dataframe\">\n",
       "  <thead>\n",
       "    <tr style=\"text-align: right;\">\n",
       "      <th></th>\n",
       "      <th>0</th>\n",
       "    </tr>\n",
       "  </thead>\n",
       "  <tbody>\n",
       "    <tr>\n",
       "      <th>demonstranten</th>\n",
       "      <td>8.927157</td>\n",
       "    </tr>\n",
       "    <tr>\n",
       "      <th>kundgebung</th>\n",
       "      <td>8.420434</td>\n",
       "    </tr>\n",
       "    <tr>\n",
       "      <th>demonstration</th>\n",
       "      <td>7.042979</td>\n",
       "    </tr>\n",
       "    <tr>\n",
       "      <th>unterschriften</th>\n",
       "      <td>6.819035</td>\n",
       "    </tr>\n",
       "    <tr>\n",
       "      <th>legida</th>\n",
       "      <td>6.692747</td>\n",
       "    </tr>\n",
       "    <tr>\n",
       "      <th>streik</th>\n",
       "      <td>6.616384</td>\n",
       "    </tr>\n",
       "    <tr>\n",
       "      <th>gegen</th>\n",
       "      <td>6.529716</td>\n",
       "    </tr>\n",
       "    <tr>\n",
       "      <th>demo</th>\n",
       "      <td>5.549451</td>\n",
       "    </tr>\n",
       "    <tr>\n",
       "      <th>bürgerbegehren</th>\n",
       "      <td>5.391450</td>\n",
       "    </tr>\n",
       "    <tr>\n",
       "      <th>2011</th>\n",
       "      <td>4.751349</td>\n",
       "    </tr>\n",
       "    <tr>\n",
       "      <th>gegner</th>\n",
       "      <td>4.631204</td>\n",
       "    </tr>\n",
       "    <tr>\n",
       "      <th>pegida</th>\n",
       "      <td>4.327632</td>\n",
       "    </tr>\n",
       "    <tr>\n",
       "      <th>protest</th>\n",
       "      <td>4.281839</td>\n",
       "    </tr>\n",
       "    <tr>\n",
       "      <th>am</th>\n",
       "      <td>4.255427</td>\n",
       "    </tr>\n",
       "    <tr>\n",
       "      <th>demonstrieren</th>\n",
       "      <td>4.244054</td>\n",
       "    </tr>\n",
       "    <tr>\n",
       "      <th>protestaktion</th>\n",
       "      <td>4.062974</td>\n",
       "    </tr>\n",
       "    <tr>\n",
       "      <th>teilnehmer</th>\n",
       "      <td>4.004744</td>\n",
       "    </tr>\n",
       "    <tr>\n",
       "      <th>aufgerufen</th>\n",
       "      <td>3.962476</td>\n",
       "    </tr>\n",
       "    <tr>\n",
       "      <th>gestern</th>\n",
       "      <td>3.942385</td>\n",
       "    </tr>\n",
       "    <tr>\n",
       "      <th>2010</th>\n",
       "      <td>3.773868</td>\n",
       "    </tr>\n",
       "    <tr>\n",
       "      <th>studenten</th>\n",
       "      <td>3.676167</td>\n",
       "    </tr>\n",
       "    <tr>\n",
       "      <th>ausstand</th>\n",
       "      <td>3.658275</td>\n",
       "    </tr>\n",
       "    <tr>\n",
       "      <th>verdi</th>\n",
       "      <td>3.521126</td>\n",
       "    </tr>\n",
       "    <tr>\n",
       "      <th>durch</th>\n",
       "      <td>3.517449</td>\n",
       "    </tr>\n",
       "    <tr>\n",
       "      <th>proteste</th>\n",
       "      <td>3.462706</td>\n",
       "    </tr>\n",
       "    <tr>\n",
       "      <th>lufthansa</th>\n",
       "      <td>3.420655</td>\n",
       "    </tr>\n",
       "    <tr>\n",
       "      <th>veranstaltung</th>\n",
       "      <td>3.400651</td>\n",
       "    </tr>\n",
       "    <tr>\n",
       "      <th>unterschriftensammlung</th>\n",
       "      <td>3.378359</td>\n",
       "    </tr>\n",
       "    <tr>\n",
       "      <th>schlossplatz</th>\n",
       "      <td>3.305758</td>\n",
       "    </tr>\n",
       "    <tr>\n",
       "      <th>lehrer</th>\n",
       "      <td>3.305360</td>\n",
       "    </tr>\n",
       "    <tr>\n",
       "      <th>npd</th>\n",
       "      <td>3.299272</td>\n",
       "    </tr>\n",
       "    <tr>\n",
       "      <th>gruppe</th>\n",
       "      <td>3.269740</td>\n",
       "    </tr>\n",
       "    <tr>\n",
       "      <th>gewerkschaften</th>\n",
       "      <td>3.201831</td>\n",
       "    </tr>\n",
       "    <tr>\n",
       "      <th>2012</th>\n",
       "      <td>3.194531</td>\n",
       "    </tr>\n",
       "    <tr>\n",
       "      <th>aktion</th>\n",
       "      <td>3.185515</td>\n",
       "    </tr>\n",
       "    <tr>\n",
       "      <th>deren</th>\n",
       "      <td>3.144558</td>\n",
       "    </tr>\n",
       "    <tr>\n",
       "      <th>august</th>\n",
       "      <td>3.132134</td>\n",
       "    </tr>\n",
       "    <tr>\n",
       "      <th>personen</th>\n",
       "      <td>3.051787</td>\n",
       "    </tr>\n",
       "    <tr>\n",
       "      <th>beschäftigte</th>\n",
       "      <td>3.009136</td>\n",
       "    </tr>\n",
       "    <tr>\n",
       "      <th>dem</th>\n",
       "      <td>2.979634</td>\n",
       "    </tr>\n",
       "    <tr>\n",
       "      <th>polizei</th>\n",
       "      <td>2.931992</td>\n",
       "    </tr>\n",
       "    <tr>\n",
       "      <th>mobil</th>\n",
       "      <td>2.913354</td>\n",
       "    </tr>\n",
       "    <tr>\n",
       "      <th>aktivisten</th>\n",
       "      <td>2.903365</td>\n",
       "    </tr>\n",
       "    <tr>\n",
       "      <th>montagsdemonstration</th>\n",
       "      <td>2.899504</td>\n",
       "    </tr>\n",
       "    <tr>\n",
       "      <th>studierenden</th>\n",
       "      <td>2.892287</td>\n",
       "    </tr>\n",
       "    <tr>\n",
       "      <th>heute</th>\n",
       "      <td>2.871695</td>\n",
       "    </tr>\n",
       "    <tr>\n",
       "      <th>versammelt</th>\n",
       "      <td>2.869259</td>\n",
       "    </tr>\n",
       "    <tr>\n",
       "      <th>protestmarsch</th>\n",
       "      <td>2.860077</td>\n",
       "    </tr>\n",
       "    <tr>\n",
       "      <th>menschen</th>\n",
       "      <td>2.811678</td>\n",
       "    </tr>\n",
       "    <tr>\n",
       "      <th>einigen</th>\n",
       "      <td>2.808486</td>\n",
       "    </tr>\n",
       "  </tbody>\n",
       "</table>\n",
       "</div>"
      ],
      "text/plain": [
       "                               0\n",
       "demonstranten           8.927157\n",
       "kundgebung              8.420434\n",
       "demonstration           7.042979\n",
       "unterschriften          6.819035\n",
       "legida                  6.692747\n",
       "streik                  6.616384\n",
       "gegen                   6.529716\n",
       "demo                    5.549451\n",
       "bürgerbegehren          5.391450\n",
       "2011                    4.751349\n",
       "gegner                  4.631204\n",
       "pegida                  4.327632\n",
       "protest                 4.281839\n",
       "am                      4.255427\n",
       "demonstrieren           4.244054\n",
       "protestaktion           4.062974\n",
       "teilnehmer              4.004744\n",
       "aufgerufen              3.962476\n",
       "gestern                 3.942385\n",
       "2010                    3.773868\n",
       "studenten               3.676167\n",
       "ausstand                3.658275\n",
       "verdi                   3.521126\n",
       "durch                   3.517449\n",
       "proteste                3.462706\n",
       "lufthansa               3.420655\n",
       "veranstaltung           3.400651\n",
       "unterschriftensammlung  3.378359\n",
       "schlossplatz            3.305758\n",
       "lehrer                  3.305360\n",
       "npd                     3.299272\n",
       "gruppe                  3.269740\n",
       "gewerkschaften          3.201831\n",
       "2012                    3.194531\n",
       "aktion                  3.185515\n",
       "deren                   3.144558\n",
       "august                  3.132134\n",
       "personen                3.051787\n",
       "beschäftigte            3.009136\n",
       "dem                     2.979634\n",
       "polizei                 2.931992\n",
       "mobil                   2.913354\n",
       "aktivisten              2.903365\n",
       "montagsdemonstration    2.899504\n",
       "studierenden            2.892287\n",
       "heute                   2.871695\n",
       "versammelt              2.869259\n",
       "protestmarsch           2.860077\n",
       "menschen                2.811678\n",
       "einigen                 2.808486"
      ]
     },
     "execution_count": 5,
     "metadata": {},
     "output_type": "execute_result"
    }
   ],
   "source": [
    "# show most important features\n",
    "pd.DataFrame(\n",
    "    grid.best_estimator_.named_steps[\"clf\"].coef_,\n",
    "    columns=grid.best_estimator_.named_steps[\"tfidf\"].get_feature_names_out(),\n",
    ").T.sort_values(0, ascending=False).head(50)"
   ]
  },
  {
   "cell_type": "code",
   "execution_count": 6,
   "metadata": {},
   "outputs": [
    {
     "name": "stdout",
     "output_type": "stream",
     "text": [
      "dev\n",
      "              precision    recall  f1-score   support\n",
      "\n",
      "           0       0.81      0.74      0.77       122\n",
      "           1       0.80      0.86      0.83       152\n",
      "\n",
      "    accuracy                           0.81       274\n",
      "   macro avg       0.81      0.80      0.80       274\n",
      "weighted avg       0.81      0.81      0.81       274\n",
      "\n",
      "test\n",
      "              precision    recall  f1-score   support\n",
      "\n",
      "           0       0.81      0.83      0.82       217\n",
      "           1       0.89      0.87      0.88       330\n",
      "\n",
      "    accuracy                           0.85       547\n",
      "   macro avg       0.85      0.85      0.85       547\n",
      "weighted avg       0.85      0.85      0.85       547\n",
      "\n",
      "test.time\n",
      "              precision    recall  f1-score   support\n",
      "\n",
      "           0       0.55      0.77      0.64       217\n",
      "           1       0.89      0.75      0.81       535\n",
      "\n",
      "    accuracy                           0.75       752\n",
      "   macro avg       0.72      0.76      0.73       752\n",
      "weighted avg       0.79      0.75      0.76       752\n",
      "\n",
      "test.loc\n",
      "              precision    recall  f1-score   support\n",
      "\n",
      "           0       0.95      0.79      0.86       395\n",
      "           1       0.46      0.80      0.59        90\n",
      "\n",
      "    accuracy                           0.79       485\n",
      "   macro avg       0.70      0.79      0.72       485\n",
      "weighted avg       0.86      0.79      0.81       485\n",
      "\n"
     ]
    }
   ],
   "source": [
    "# evaluate on dev, test, test.time, test.loc\n",
    "from sklearn.metrics import classification_report\n",
    "\n",
    "for split in [\"dev\", \"test\", \"test.time\", \"test.loc\"]:\n",
    "    print(split)\n",
    "    print(\n",
    "        classification_report(\n",
    "            glpn[split][\"label\"], grid.predict(glpn[split][\"excerpt\"])\n",
    "        )\n",
    "    )"
   ]
  },
  {
   "cell_type": "code",
   "execution_count": 2,
   "metadata": {},
   "outputs": [
    {
     "name": "stderr",
     "output_type": "stream",
     "text": [
      "\u001b[32m[I 2023-02-04 12:50:08,962]\u001b[0m Using an existing study with name 'glpn-3' instead of creating a new one.\u001b[0m\n"
     ]
    }
   ],
   "source": [
    "import optuna\n",
    "\n",
    "from protest_impact.data.protests.detection.simple_classification import objective\n",
    "\n",
    "# create study\n",
    "study = optuna.create_study(\n",
    "    direction=\"maximize\",\n",
    "    storage=\"sqlite:///db.sqlite3\",\n",
    "    study_name=\"glpn-3\",\n",
    "    load_if_exists=True,\n",
    ")\n",
    "# optimize\n",
    "# study.optimize(objective, n_trials=100)"
   ]
  },
  {
   "cell_type": "code",
   "execution_count": 8,
   "metadata": {},
   "outputs": [
    {
     "data": {
      "text/plain": [
       "{'classifier': 'XGBClassifier',\n",
       " 'feature_extraction': 'tfidf',\n",
       " 'max_depth': 32,\n",
       " 'max_features': 702,\n",
       " 'n_estimators': 73,\n",
       " 'ngram_range': 2}"
      ]
     },
     "execution_count": 8,
     "metadata": {},
     "output_type": "execute_result"
    }
   ],
   "source": [
    "# show best parameters\n",
    "study.best_params"
   ]
  },
  {
   "cell_type": "code",
   "execution_count": 9,
   "metadata": {},
   "outputs": [
    {
     "data": {
      "text/plain": [
       "0.8377214235718516"
      ]
     },
     "execution_count": 9,
     "metadata": {},
     "output_type": "execute_result"
    }
   ],
   "source": [
    "# show best score\n",
    "study.best_value"
   ]
  },
  {
   "cell_type": "code",
   "execution_count": 10,
   "metadata": {},
   "outputs": [],
   "source": [
    "model = objective(study.best_trial, return_model=True)"
   ]
  },
  {
   "cell_type": "code",
   "execution_count": 12,
   "metadata": {},
   "outputs": [
    {
     "name": "stdout",
     "output_type": "stream",
     "text": [
      "test\n",
      "              precision    recall  f1-score   support\n",
      "\n",
      "           0       0.81      0.77      0.79       217\n",
      "           1       0.86      0.88      0.87       330\n",
      "\n",
      "    accuracy                           0.84       547\n",
      "   macro avg       0.83      0.83      0.83       547\n",
      "weighted avg       0.84      0.84      0.84       547\n",
      "\n",
      "test.time\n",
      "              precision    recall  f1-score   support\n",
      "\n",
      "           0       0.57      0.83      0.67       217\n",
      "           1       0.91      0.74      0.82       535\n",
      "\n",
      "    accuracy                           0.77       752\n",
      "   macro avg       0.74      0.79      0.75       752\n",
      "weighted avg       0.81      0.77      0.78       752\n",
      "\n",
      "test.loc\n",
      "              precision    recall  f1-score   support\n",
      "\n",
      "           0       0.91      0.90      0.91       395\n",
      "           1       0.59      0.61      0.60        90\n",
      "\n",
      "    accuracy                           0.85       485\n",
      "   macro avg       0.75      0.76      0.75       485\n",
      "weighted avg       0.85      0.85      0.85       485\n",
      "\n"
     ]
    }
   ],
   "source": [
    "# evaluate on test.time, and test.loc set\n",
    "\n",
    "from sklearn.metrics import classification_report\n",
    "\n",
    "for split in [\"test\", \"test.time\", \"test.loc\"]:\n",
    "    print(split)\n",
    "    print(\n",
    "        classification_report(\n",
    "            glpn[split][\"label\"], model.predict(glpn[split][\"excerpt\"])\n",
    "        )\n",
    "    )"
   ]
  },
  {
   "cell_type": "code",
   "execution_count": 13,
   "metadata": {},
   "outputs": [
    {
     "name": "stdout",
     "output_type": "stream",
     "text": [
      "train\n",
      "Counter({'Stuttgarter Zeitung': 1280, 'Leipziger Volkszeitung': 517, 'Weser Kurier': 117})\n",
      "Counter({1: 1117, 0: 797})\n",
      "dev\n",
      "Counter({'Stuttgarter Zeitung': 187, 'Leipziger Volkszeitung': 69, 'Weser Kurier': 18})\n",
      "Counter({1: 152, 0: 122})\n",
      "test\n",
      "Counter({'Stuttgarter Zeitung': 365, 'Leipziger Volkszeitung': 143, 'Weser Kurier': 39})\n",
      "Counter({1: 330, 0: 217})\n",
      "test.time\n",
      "Counter({'Leipziger Volkszeitung': 391, 'Weser Kurier': 361})\n",
      "Counter({1: 535, 0: 217})\n",
      "test.loc\n",
      "Counter({'Sächsische Zeitung': 485})\n",
      "Counter({0: 395, 1: 90})\n"
     ]
    }
   ],
   "source": [
    "from collections import Counter\n",
    "\n",
    "for split in [\"train\", \"dev\", \"test\", \"test.time\", \"test.loc\"]:\n",
    "    print(split)\n",
    "    print(Counter(glpn[split][\"newspaper\"]))\n",
    "    print(Counter(glpn[split][\"label\"]))"
   ]
  },
  {
   "cell_type": "code",
   "execution_count": 19,
   "metadata": {},
   "outputs": [
    {
     "name": "stderr",
     "output_type": "stream",
     "text": [
      "\u001b[32m[I 2023-02-02 16:07:24,297]\u001b[0m Using an existing study with name 'glpn.cv' instead of creating a new one.\u001b[0m\n"
     ]
    }
   ],
   "source": [
    "# use cross validation\n",
    "\n",
    "study = optuna.create_study(\n",
    "    direction=\"maximize\",\n",
    "    storage=\"sqlite:///db.sqlite3\",\n",
    "    study_name=\"glpn.cv\",\n",
    "    load_if_exists=True,\n",
    ")\n",
    "# optimize\n",
    "# study.optimize(partial(objective, eval=\"cv\"), n_trials=100)"
   ]
  },
  {
   "cell_type": "code",
   "execution_count": 20,
   "metadata": {},
   "outputs": [
    {
     "data": {
      "text/plain": [
       "{'C': 4.602833645797326,\n",
       " 'classifier': 'LogisticRegression',\n",
       " 'feature_extraction': 'tfidf',\n",
       " 'max_features': 669,\n",
       " 'ngram_range': 1}"
      ]
     },
     "execution_count": 20,
     "metadata": {},
     "output_type": "execute_result"
    }
   ],
   "source": [
    "# show best parameters\n",
    "study.best_params"
   ]
  },
  {
   "cell_type": "code",
   "execution_count": 21,
   "metadata": {},
   "outputs": [
    {
     "data": {
      "text/plain": [
       "0.7476544079909743"
      ]
     },
     "execution_count": 21,
     "metadata": {},
     "output_type": "execute_result"
    }
   ],
   "source": [
    "# show best score\n",
    "study.best_value"
   ]
  },
  {
   "cell_type": "code",
   "execution_count": 22,
   "metadata": {},
   "outputs": [
    {
     "name": "stdout",
     "output_type": "stream",
     "text": [
      "test\n",
      "              precision    recall  f1-score   support\n",
      "\n",
      "           0       0.81      0.77      0.79       217\n",
      "           1       0.86      0.88      0.87       330\n",
      "\n",
      "    accuracy                           0.84       547\n",
      "   macro avg       0.83      0.83      0.83       547\n",
      "weighted avg       0.84      0.84      0.84       547\n",
      "\n",
      "test.time\n",
      "              precision    recall  f1-score   support\n",
      "\n",
      "           0       0.56      0.78      0.66       217\n",
      "           1       0.90      0.75      0.82       535\n",
      "\n",
      "    accuracy                           0.76       752\n",
      "   macro avg       0.73      0.77      0.74       752\n",
      "weighted avg       0.80      0.76      0.77       752\n",
      "\n",
      "test.loc\n",
      "              precision    recall  f1-score   support\n",
      "\n",
      "           0       0.94      0.75      0.83       395\n",
      "           1       0.42      0.80      0.55        90\n",
      "\n",
      "    accuracy                           0.76       485\n",
      "   macro avg       0.68      0.77      0.69       485\n",
      "weighted avg       0.85      0.76      0.78       485\n",
      "\n"
     ]
    }
   ],
   "source": [
    "# evaluate on test, test.time, and test.loc set\n",
    "\n",
    "model = objective(study.best_trial, return_model=True, eval=\"cv\")\n",
    "\n",
    "for split in [\"test\", \"test.time\", \"test.loc\"]:\n",
    "    print(split)\n",
    "    print(\n",
    "        classification_report(\n",
    "            glpn[split][\"label\"], model.predict(glpn[split][\"excerpt\"])\n",
    "        )\n",
    "    )"
   ]
  },
  {
   "cell_type": "code",
   "execution_count": null,
   "metadata": {},
   "outputs": [],
   "source": []
  }
 ],
 "metadata": {
  "kernelspec": {
   "display_name": ".venv",
   "language": "python",
   "name": "python3"
  },
  "language_info": {
   "codemirror_mode": {
    "name": "ipython",
    "version": 3
   },
   "file_extension": ".py",
   "mimetype": "text/x-python",
   "name": "python",
   "nbconvert_exporter": "python",
   "pygments_lexer": "ipython3",
   "version": "3.10.9"
  },
  "orig_nbformat": 4,
  "vscode": {
   "interpreter": {
    "hash": "e27e7985cfd7a2f05ee384dd2e763b9bd85732f0bd4717d57390031cb93ad33a"
   }
  }
 },
 "nbformat": 4,
 "nbformat_minor": 2
}
