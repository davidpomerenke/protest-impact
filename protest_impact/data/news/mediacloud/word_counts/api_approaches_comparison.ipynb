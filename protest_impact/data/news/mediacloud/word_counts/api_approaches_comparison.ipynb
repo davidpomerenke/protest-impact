{
 "cells": [
  {
   "cell_type": "code",
   "execution_count": 1,
   "metadata": {},
   "outputs": [
    {
     "data": {
      "text/html": [
       "<div>\n",
       "<style scoped>\n",
       "    .dataframe tbody tr th:only-of-type {\n",
       "        vertical-align: middle;\n",
       "    }\n",
       "\n",
       "    .dataframe tbody tr th {\n",
       "        vertical-align: top;\n",
       "    }\n",
       "\n",
       "    .dataframe thead th {\n",
       "        text-align: right;\n",
       "    }\n",
       "</style>\n",
       "<table border=\"1\" class=\"dataframe\">\n",
       "  <thead>\n",
       "    <tr style=\"text-align: right;\">\n",
       "      <th></th>\n",
       "      <th>event_date</th>\n",
       "      <th>sub_event_type</th>\n",
       "      <th>assoc_actor_1</th>\n",
       "      <th>admin1</th>\n",
       "      <th>location</th>\n",
       "      <th>notes</th>\n",
       "      <th>region_code</th>\n",
       "      <th>size</th>\n",
       "    </tr>\n",
       "  </thead>\n",
       "  <tbody>\n",
       "    <tr>\n",
       "      <th>10141</th>\n",
       "      <td>2020-12-04</td>\n",
       "      <td>Peaceful protest</td>\n",
       "      <td>NaN</td>\n",
       "      <td>Nordrhein-Westfalen</td>\n",
       "      <td>Dusseldorf</td>\n",
       "      <td>On 4 December 2020, a protest took place outsi...</td>\n",
       "      <td>NW</td>\n",
       "      <td>NaN</td>\n",
       "    </tr>\n",
       "    <tr>\n",
       "      <th>4309</th>\n",
       "      <td>2022-01-17</td>\n",
       "      <td>Peaceful protest</td>\n",
       "      <td>NaN</td>\n",
       "      <td>Berlin</td>\n",
       "      <td>Berlin - Reinickendorf</td>\n",
       "      <td>On 17 January 2022, in the evening, 900 people...</td>\n",
       "      <td>BE</td>\n",
       "      <td>900.0</td>\n",
       "    </tr>\n",
       "    <tr>\n",
       "      <th>12993</th>\n",
       "      <td>2020-05-16</td>\n",
       "      <td>Peaceful protest</td>\n",
       "      <td>NaN</td>\n",
       "      <td>Sachsen</td>\n",
       "      <td>Dresden</td>\n",
       "      <td>On 16 May 2020, around 200 people protested in...</td>\n",
       "      <td>SN</td>\n",
       "      <td>200.0</td>\n",
       "    </tr>\n",
       "    <tr>\n",
       "      <th>11988</th>\n",
       "      <td>2020-07-22</td>\n",
       "      <td>Peaceful protest</td>\n",
       "      <td>Greenpeace</td>\n",
       "      <td>Berlin</td>\n",
       "      <td>Berlin</td>\n",
       "      <td>On 22 July 2020, around one dozen Greenpeace a...</td>\n",
       "      <td>BE</td>\n",
       "      <td>12.0</td>\n",
       "    </tr>\n",
       "    <tr>\n",
       "      <th>2150</th>\n",
       "      <td>2022-05-13</td>\n",
       "      <td>Peaceful protest</td>\n",
       "      <td>FFF: Fridays for Future; Students (Germany)</td>\n",
       "      <td>Bayern</td>\n",
       "      <td>Wurzburg</td>\n",
       "      <td>On 13 May 2022, FFF members camped in various ...</td>\n",
       "      <td>BY</td>\n",
       "      <td>NaN</td>\n",
       "    </tr>\n",
       "  </tbody>\n",
       "</table>\n",
       "</div>"
      ],
      "text/plain": [
       "      event_date    sub_event_type  \\\n",
       "10141 2020-12-04  Peaceful protest   \n",
       "4309  2022-01-17  Peaceful protest   \n",
       "12993 2020-05-16  Peaceful protest   \n",
       "11988 2020-07-22  Peaceful protest   \n",
       "2150  2022-05-13  Peaceful protest   \n",
       "\n",
       "                                     assoc_actor_1               admin1  \\\n",
       "10141                                          NaN  Nordrhein-Westfalen   \n",
       "4309                                           NaN               Berlin   \n",
       "12993                                          NaN              Sachsen   \n",
       "11988                                   Greenpeace               Berlin   \n",
       "2150   FFF: Fridays for Future; Students (Germany)               Bayern   \n",
       "\n",
       "                     location  \\\n",
       "10141              Dusseldorf   \n",
       "4309   Berlin - Reinickendorf   \n",
       "12993                 Dresden   \n",
       "11988                  Berlin   \n",
       "2150                 Wurzburg   \n",
       "\n",
       "                                                   notes region_code   size  \n",
       "10141  On 4 December 2020, a protest took place outsi...          NW    NaN  \n",
       "4309   On 17 January 2022, in the evening, 900 people...          BE  900.0  \n",
       "12993  On 16 May 2020, around 200 people protested in...          SN  200.0  \n",
       "11988  On 22 July 2020, around one dozen Greenpeace a...          BE   12.0  \n",
       "2150   On 13 May 2022, FFF members camped in various ...          BY    NaN  "
      ]
     },
     "execution_count": 1,
     "metadata": {},
     "output_type": "execute_result"
    }
   ],
   "source": [
    "# load ACLED data\n",
    "\n",
    "from protest_impact.data.protests.sources.acled import load_acled\n",
    "\n",
    "acled = load_acled()"
   ]
  },
  {
   "cell_type": "code",
   "execution_count": 2,
   "metadata": {},
   "outputs": [],
   "source": [
    "# TODO: there is a problem with baden-württemberg and mecklenburg-vorpommern\n",
    "\n",
    "acled = acled[\n",
    "    (acled[\"admin1\"] != \"Baden-Württemberg\")\n",
    "    & (acled[\"admin1\"] != \"Mecklenburg-Vorpommern\")\n",
    "]"
   ]
  },
  {
   "attachments": {},
   "cell_type": "markdown",
   "metadata": {},
   "source": [
    "## Coverage information from Mediacloud"
   ]
  },
  {
   "attachments": {},
   "cell_type": "markdown",
   "metadata": {},
   "source": [
    "### Regions"
   ]
  },
  {
   "cell_type": "code",
   "execution_count": 13,
   "metadata": {},
   "outputs": [
    {
     "data": {
      "text/plain": [
       "{'germany_national': 34412409,\n",
       " 'germany_regional': 38379816,\n",
       " 'baden-württemberg': 262985085,\n",
       " 'bayern': 38379825,\n",
       " 'berlin': 38379823,\n",
       " 'brandenburg': 38379827,\n",
       " 'bremen': 38379829,\n",
       " 'hamburg': 38379819,\n",
       " 'hessen': 38379821,\n",
       " 'mecklenburg-vorpommern': 262985084,\n",
       " 'niedersachsen': 38379831,\n",
       " 'nordrhein-westfalen': 38379817,\n",
       " 'rheinland-pfalz': 38379833,\n",
       " 'saarland': 38379835,\n",
       " 'sachsen': 38379837,\n",
       " 'sachsen-anhalt': 38379839,\n",
       " 'schleswig-holstein': 38379841,\n",
       " 'thüringen': 38379843}"
      ]
     },
     "execution_count": 13,
     "metadata": {},
     "output_type": "execute_result"
    }
   ],
   "source": [
    "from protest_impact.data.news.config import region_tags\n",
    "\n",
    "region_tags"
   ]
  },
  {
   "cell_type": "code",
   "execution_count": 14,
   "metadata": {},
   "outputs": [
    {
     "data": {
      "text/plain": [
       "['niedersachsen', 'nordrhein-westfalen', 'sachsen', 'hamburg']"
      ]
     },
     "execution_count": 14,
     "metadata": {},
     "output_type": "execute_result"
    }
   ],
   "source": [
    "import random\n",
    "\n",
    "random.seed(20230227)\n",
    "ignore = [\n",
    "    \"germany_national\",\n",
    "    \"germany_regional\",\n",
    "    \"baden-württemberg\",\n",
    "    \"mecklenburg-vorpommern\",\n",
    "]\n",
    "sampled_regions = random.sample(sorted(set(region_tags) - set(ignore)), 4)\n",
    "sampled_regions"
   ]
  },
  {
   "attachments": {},
   "cell_type": "markdown",
   "metadata": {},
   "source": [
    "### Approach 1: General word counts for a given period\n",
    "\n",
    "- 👍 relatively fast (13s for vocab of 5000 of a 1000 sentence sample)\n",
    "- ❓ duration does not scale linearly, with vocab size of 5000 we have:\n",
    "  - 1000 sentences: 13s\n",
    "  - 2000 sentences: 34s\n",
    "  - 3000 sentences: 50s\n",
    "  - 4000 sentences: 75s\n",
    "  - 5000 sentences: 75s, but sometimes >120s\n",
    "- 👍 gets counts for a large vocabulary\n",
    "- 👍 can be run multiple times with small sample size (with different seeds) to estimate **uncertainty**\n",
    "- 👎 needs to be called for every event, 1x for the period before, 1x for the period afterwards, and possibly multiple times for multiple time windows\n",
    "- ✅ relevant keywords words need not be pre-specified, **unsupervised** impact estimation possible"
   ]
  },
  {
   "cell_type": "code",
   "execution_count": 15,
   "metadata": {},
   "outputs": [
    {
     "name": "stdout",
     "output_type": "stream",
     "text": [
      "niedersachsen\n",
      "5000\n",
      "518 qui\n",
      "390 ut\n",
      "387 aut\n",
      "385 ejf\n",
      "349 efs\n",
      "345 schon\n",
      "336 est\n",
      "298 dolores\n",
      "278 voluptatem\n",
      "276 quia\n",
      "264 deutschen\n",
      "263 deutschland\n",
      "261 euro\n",
      "259 spielen\n",
      "259 prozent\n",
      "[{'count': 10, 'stem': 'klimaschutz', 'term': 'klimaschutz'},\n",
      " {'count': 7, 'stem': 'klimawandel', 'term': 'klimawandel'},\n",
      " {'count': 7, 'stem': 'klima', 'term': 'klima'}]\n",
      "\n",
      "nordrhein-westfalen\n",
      "5000\n",
      "997 ejf\n",
      "976 efs\n",
      "709 dmbttµ\n",
      "649 voe\n",
      "591 jo\n",
      "460 uhr\n",
      "427 ejw\n",
      "388 efo\n",
      "385 ebt\n",
      "348 schon\n",
      "311 deutschland\n",
      "299 00jnh\n",
      "285 gýs\n",
      "283 00xxx\n",
      "280 ft\n",
      "[{'count': 13, 'stem': 'klimawandel', 'term': 'klimawandel'},\n",
      " {'count': 6, 'stem': 'klimaschutz', 'term': 'klimaschutz'},\n",
      " {'count': 6, 'stem': 'klima', 'term': 'klima'}]\n",
      "\n",
      "sachsen\n",
      "5000\n",
      "439 schon\n",
      "361 spielen\n",
      "356 deutschen\n",
      "306 prozent\n",
      "294 euro\n",
      "275 leipzig\n",
      "273 deutschland\n",
      "266 jährige\n",
      "255 wochen\n",
      "253 fall\n",
      "250 dpa\n",
      "248 alte\n",
      "239 land\n",
      "225 rund\n",
      "219 großen\n",
      "[{'count': 18, 'stem': 'klimawandel', 'term': 'klimawandel'},\n",
      " {'count': 18, 'stem': 'klimaschutz', 'term': 'klimaschutz'},\n",
      " {'count': 6, 'stem': 'klimaziel', 'term': 'klimaziele'},\n",
      " {'count': 6, 'stem': 'klimakris', 'term': 'klimakrise'},\n",
      " {'count': 6, 'stem': 'klima', 'term': 'klima'},\n",
      " {'count': 5, 'stem': 'klimaschad', 'term': 'klimaschädliche'},\n",
      " {'count': 5, 'stem': 'klimanotstand', 'term': 'klimanotstand'}]\n",
      "\n",
      "hamburg\n",
      "5000\n",
      "875 efs\n",
      "826 ejf\n",
      "606 voe\n",
      "543 jo\n",
      "497 dmbttµ\n",
      "425 hamburg\n",
      "374 schon\n",
      "331 ebt\n",
      "325 foto\n",
      "320 efo\n",
      "308 deutschland\n",
      "306 deutschen\n",
      "305 uhr\n",
      "298 nfejb\n",
      "280 euro\n",
      "[{'count': 15, 'stem': 'klimaschutz', 'term': 'klimaschutz'},\n",
      " {'count': 10, 'stem': 'klimawandel', 'term': 'klimawandel'},\n",
      " {'count': 5, 'stem': 'klima', 'term': 'klima'}]\n",
      "\n"
     ]
    }
   ],
   "source": [
    "from os import environ\n",
    "from pprint import pprint\n",
    "\n",
    "from dotenv import load_dotenv\n",
    "\n",
    "from protest_impact.util import get_cached\n",
    "\n",
    "load_dotenv()\n",
    "\n",
    "\n",
    "def get_general_word_counts(region, start_date, end_date):\n",
    "    response = get_cached(\n",
    "        \"https://api.mediacloud.org/api/v2/wc/list/\",\n",
    "        params={\n",
    "            \"q\": f\"tags_id_media:{region_tags[region]}\",\n",
    "            \"fq\": f\"publish_date:[{start_date}T00:00:00Z TO {end_date}T00:00:00Z]\",\n",
    "            \"num_words\": 5000,\n",
    "            \"sample_size\": 4000,\n",
    "            \"key\": environ[\"MEDIACLOUD_API_KEY\"],\n",
    "        },\n",
    "        headers={\"Accept\": \"application/json\"},\n",
    "    )\n",
    "    return response.json()\n",
    "\n",
    "\n",
    "for region in sampled_regions:\n",
    "    print(region)\n",
    "    result = get_general_word_counts(region, \"2020-01-01\", \"2021-01-01\")\n",
    "    print(len(result))\n",
    "    for a in result[:15]:\n",
    "        print(a[\"count\"], a[\"term\"])\n",
    "    pprint([a for a in result if \"klima\" in a[\"term\"]])\n",
    "    print()"
   ]
  },
  {
   "attachments": {},
   "cell_type": "markdown",
   "metadata": {},
   "source": [
    "The Latin words are most likely part of the [Lorem Ipsum](https://www.lipsum.com/) dummy text."
   ]
  },
  {
   "attachments": {},
   "cell_type": "markdown",
   "metadata": {},
   "source": [
    "### Approach 2: Word matrices per story"
   ]
  },
  {
   "cell_type": "code",
   "execution_count": 16,
   "metadata": {},
   "outputs": [
    {
     "name": "stdout",
     "output_type": "stream",
     "text": [
      "1688\n"
     ]
    },
    {
     "data": {
      "image/png": "[encoded data removed]",
      "text/plain": [
       "<Figure size 640x480 with 1 Axes>"
      ]
     },
     "metadata": {},
     "output_type": "display_data"
    }
   ],
   "source": [
    "response = get_cached(\n",
    "    \"https://api.mediacloud.org/api/v2/stories_public/word_matrix/\",\n",
    "    params={\n",
    "        \"q\": \"media_id:69752\",\n",
    "        \"fq\": \"publish_date:[2020-01-01T00:00:00Z TO 2023-01-01T00:00:00Z]\",\n",
    "        \"key\": environ[\"MEDIACLOUD_API_KEY\"],\n",
    "    },\n",
    "    headers={\"Accept\": \"application/json\"},\n",
    ")\n",
    "result = response.json()\n",
    "# list(result[\"word_matrix\"].items())[:2]\n",
    "print(len(result[\"word_matrix\"]))\n",
    "plt.hist([len(a) for a in result[\"word_matrix\"].values()], bins=100)\n",
    "plt.show()"
   ]
  },
  {
   "cell_type": "code",
   "execution_count": 17,
   "metadata": {},
   "outputs": [],
   "source": [
    "word_list = result[\"word_list\"]\n",
    "word_matrix = result[\"word_matrix\"]\n",
    "word_matrix = {\n",
    "    int(k): {word_list[int(k_)][1]: v_ for k_, v_ in v.items()}\n",
    "    for k, v in word_matrix.items()\n",
    "}"
   ]
  },
  {
   "cell_type": "code",
   "execution_count": 18,
   "metadata": {},
   "outputs": [
    {
     "name": "stdout",
     "output_type": "stream",
     "text": [
      "1483914825\n",
      "{'untersagt': 1, 'negativen': 1, 'dramatischen': 1, 'verursacht': 1, 'dpa': 1, 'folgen': 2, 'tierschützer': 1, 'orten': 1, 'tiere': 3, 'deutschen': 1, 'bonn': 1, 'fordern': 1, 'deutsche': 1, 'silvesterfeuerwerk': 2, 'tragödie': 1, 'schutzzonen': 1, 'lebten': 1, 'belege': 1, 'böllerei': 1, 'schrecklich': 1, 'unkontrollierte': 1, 'brückner': 1, 'feuerwerkskörper': 1, 'tierschutzbund': 2, 'zoo': 3, 'sicherheitszonen': 1, 'krefeld': 1, 'private': 1, 'kritisiert': 1, 'landwirtschaftliche': 1, 'james': 1, 'betrieb': 1, 'brand': 2, 'gefordert': 1, 'tierheim': 1, 'min': 1}\n",
      "\n",
      "1483945263\n",
      "{'wenigen': 1, 'person': 2, 'brach': 1, 'eisfläche': 4, 'cm': 1, 'vorsicht': 2, 'eis': 5, 'gewässern': 1, 'erfahren': 1, 'befreien': 1, 'meist': 1, 'passanten': 1, 'stark': 1, 'eintreffen': 1, 'unterkühlung': 1, 'langsam': 1, 'zogen': 1, 'aufmerksam': 1, 'ufer': 2, 'ausrüstung': 1, 'techniken': 1, 'dünne': 1, 'lief': 1, 'eindrucksvoll': 1, 'dauert': 1, 'bewegt': 1, 'übung': 1, 'notruf': 1, 'brüchige': 1, 'wasser': 1, 'verunfallten': 2, 'warnt': 3, 'knacken': 1, 'panik': 1, 'binnen': 1, 'ausreichend': 1, 'mönchsdeggingen': 3, 'mitteilung': 2, 'dünnsten': 1, 'niemals': 1, 'lage': 1, 'minuten': 2, 'hinweis': 1, 'erkennbar': 1, 'flach': 1, 'betreten': 4, 'seil': 1, 'trägt': 2, 'ruhe': 1, 'sofort': 1, 'eisschicht': 1, 'gereicht': 1, 'metern': 1, 'körpergewicht': 1, 'lebensgefahr': 2, 'eisrettungsschlitten': 1, 'rettung': 1, 'verteilt': 1, 'ast': 1, 'dünnen': 1, 'pm': 1, 'silvester': 1, 'äußerst': 1, 'richtung': 1, 'verbleibt': 1, 'tragfähige': 2, 'drohe': 1, 'sicherheit': 1, 'hält': 1, 'sicher': 2, 'misslichen': 1, 'weiher': 1, 'retten': 1, 'überlebensanzug': 1, 'situation': 1, 'letzter': 1, 'bewahren': 1, 'letzte': 1, 'landkreis': 1, 'gesorgt': 1, 'min': 1, 'rettungsschwimmer': 1, 'gelangen': 1, 'frostigen': 1, 'wichtig': 1, 'einzubrechen': 1, 'knistern': 1, 'stelle': 1, 'möglichst': 1, 'entsteht': 1, 'spezielle': 1, 'mindestens': 1, 'schal': 1, 'eisflächen': 1, 'rettungsmittel': 1, 'ausgerüstet': 1, 'eingebrochenen': 2, 'jahres': 1, 'personen': 1, 'abzusetzen': 1, 'dlrg': 4, 'einsatzkräfte': 1, 'eisdecke': 1, 'frost': 1, 'leiter': 1, 'heißt': 1, 'legt': 1, 'wasserretter': 1, 'zeigt': 1, 'vermeiden': 1, 'ausdrücklich': 1, 'speziellen': 1, 'trügerisch': 1}\n",
      "\n",
      "1484398256\n",
      "{'papier': 1, 'bekommen': 1, 'dpa': 1, 'zahlen': 1, 'deutschland': 2, 'preise': 1, 'gekommen': 1, 'genutzt': 1, 'raum': 1, 'städten': 1, 'künftig': 1, 'fordert': 2, 'debatte': 1, 'elemente': 1, 'kommunen': 1, 'öffentliche': 1, 'vor': 1, 'erhöhen': 1, 'min': 1, 'verband': 1, 'autoverband': 1, 'des': 1, 'reform': 2, 'parksystems': 2, 'besserverdienende': 1, 'positionspapier': 1, 'automobilindustrie': 1, 'elektroautos': 1, 'grundlegende': 1, 'zusammengefasst': 1, 'senken': 1, 'parkplätze': 1, 'spielräume': 1, 'bewohnerparkausweise': 1, 'sonderparkplätze': 1, 'vda': 2, 'einbringen': 1}\n",
      "\n"
     ]
    }
   ],
   "source": [
    "for story_id, word_list in list(word_matrix.items())[:3]:\n",
    "    print(story_id)\n",
    "    print(word_list)\n",
    "    [print()]"
   ]
  },
  {
   "attachments": {},
   "cell_type": "markdown",
   "metadata": {},
   "source": [
    "### Approach 3: Daily counts for specific words\n",
    "\n",
    "- 👎 A [data availability issue](https://mediacloud.org/news/2022/11/4/media-cloud-tools-update-for-november-2022#:~:text=trouble%20logging%20in.-,Data%20issues,-Media%20Cloud%20uses) with MediaCloud leads to another data representation issue, but can be worked around"
   ]
  },
  {
   "cell_type": "code",
   "execution_count": 117,
   "metadata": {},
   "outputs": [],
   "source": [
    "from protest_impact.data.news.sources.mediacloud import get_regional_count_df\n",
    "\n",
    "\n",
    "def get_count(\n",
    "    term: str,\n",
    "    region_tag: int,\n",
    "    start_date: str = \"2020-01-01\",\n",
    "    end_date: str = \"2023-02-20\",\n",
    "):\n",
    "    overall_count_df = get_regional_count_df(\"*\", region_tag, start_date, end_date)\n",
    "    overall_count_df = overall_count_df.rename(columns={\"count\": \"overall_count\"})\n",
    "    count_df = get_regional_count_df(term, region_tag, start_date, end_date)\n",
    "    count_df = count_df.rename(columns={\"count\": \"term_count\"})\n",
    "    both_df = overall_count_df.merge(count_df, on=\"date\", how=\"outer\")\n",
    "    both_df[\"term_count\"] = both_df[\"term_count\"].fillna(0)\n",
    "    both_df[\"term_count\"] = both_df[\"term_count\"].astype(int)\n",
    "    both_df[\"term_share\"] = both_df[\"term_count\"] / both_df[\"overall_count\"]\n",
    "    # fill missing dates with 0\n",
    "    both_df = both_df.reindex(\n",
    "        pd.date_range(start=start_date, end=end_date, freq=\"D\"), fill_value=0\n",
    "    )\n",
    "    return both_df"
   ]
  },
  {
   "cell_type": "code",
   "execution_count": 118,
   "metadata": {},
   "outputs": [
    {
     "name": "stdout",
     "output_type": "stream",
     "text": [
      "niedersachsen\n",
      "            overall_count  term_count  term_share\n",
      "2022-07-23           1378          11    0.007983\n",
      "2020-04-30           1719           5    0.002909\n",
      "2021-11-25           3659          63    0.017218\n",
      "2022-08-23           2258          15    0.006643\n",
      "2023-01-06           2369          30    0.012664\n",
      "2023-01-18           2753          22    0.007991\n",
      "2020-05-15           1798          18    0.010011\n",
      "2021-01-30           1704          11    0.006455\n",
      "2020-07-13           2419          15    0.006201\n",
      "2022-09-24           1392           5    0.003592\n",
      "\n",
      "nordrhein-westfalen\n",
      "            overall_count  term_count  term_share\n",
      "2022-07-23           3233          39    0.012063\n",
      "2020-04-30           2653           2    0.000754\n",
      "2021-11-25           3538          61    0.017241\n",
      "2022-08-23           5066          52    0.010265\n",
      "2023-01-06           5098          41    0.008042\n",
      "2023-01-18           5681          37    0.006513\n",
      "2020-05-15           2228           4    0.001795\n",
      "2021-01-30           2010          11    0.005473\n",
      "2020-07-13           3187          21    0.006589\n",
      "2022-09-24           3006          24    0.007984\n",
      "\n",
      "sachsen\n",
      "            overall_count  term_count  term_share\n",
      "2022-07-23            148           1    0.006757\n",
      "2020-04-30            412           2    0.004854\n",
      "2021-11-25            711          17    0.023910\n",
      "2022-08-23            305           3    0.009836\n",
      "2023-01-06            467           7    0.014989\n",
      "2023-01-18            526           7    0.013308\n",
      "2020-05-15            460           3    0.006522\n",
      "2021-01-30            450           3    0.006667\n",
      "2020-07-13            643           2    0.003110\n",
      "2022-09-24            171           3    0.017544\n",
      "\n",
      "hamburg\n",
      "            overall_count  term_count  term_share\n",
      "2022-07-23            614           2    0.003257\n",
      "2020-04-30            422           0    0.000000\n",
      "2021-11-25            785          13    0.016561\n",
      "2022-08-23           1050          10    0.009524\n",
      "2023-01-06            917           9    0.009815\n",
      "2023-01-18           1062          12    0.011299\n",
      "2020-05-15            343           0    0.000000\n",
      "2021-01-30            349           2    0.005731\n",
      "2020-07-13            470           4    0.008511\n",
      "2022-09-24            619           5    0.008078\n",
      "\n"
     ]
    }
   ],
   "source": [
    "for region in sampled_regions:\n",
    "    print(region)\n",
    "    df = get_count(\"klimaschutz\", region_tags[region])\n",
    "    print(df.sample(10, random_state=1))\n",
    "    print()"
   ]
  },
  {
   "cell_type": "code",
   "execution_count": null,
   "metadata": {},
   "outputs": [],
   "source": []
  }
 ],
 "metadata": {
  "kernelspec": {
   "display_name": ".venv",
   "language": "python",
   "name": "python3"
  },
  "language_info": {
   "codemirror_mode": {
    "name": "ipython",
    "version": 3
   },
   "file_extension": ".py",
   "mimetype": "text/x-python",
   "name": "python",
   "nbconvert_exporter": "python",
   "pygments_lexer": "ipython3",
   "version": "3.10.9"
  },
  "orig_nbformat": 4,
  "vscode": {
   "interpreter": {
    "hash": "e27e7985cfd7a2f05ee384dd2e763b9bd85732f0bd4717d57390031cb93ad33a"
   }
  }
 },
 "nbformat": 4,
 "nbformat_minor": 2
}
