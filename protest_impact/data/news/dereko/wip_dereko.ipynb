{
 "cells": [
  {
   "cell_type": "code",
   "execution_count": 31,
   "metadata": {},
   "outputs": [
    {
     "name": "stdout",
     "output_type": "stream",
     "text": [
      "The autoreload extension is already loaded. To reload it, use:\n",
      "  %reload_ext autoreload\n"
     ]
    }
   ],
   "source": [
    "%load_ext autoreload\n",
    "%autoreload complete\n",
    "\n",
    "import matplotlib.pyplot as plt\n",
    "import numpy as np\n",
    "import pandas as pd\n",
    "import seaborn as sns\n",
    "import statsmodels.api as sm\n",
    "from matplotlib_inline.backend_inline import set_matplotlib_formats\n",
    "from tqdm.notebook import tqdm\n",
    "\n",
    "from protest_impact.util import cache, project_root\n",
    "\n",
    "set_matplotlib_formats(\"svg\")"
   ]
  },
  {
   "cell_type": "code",
   "execution_count": 32,
   "metadata": {},
   "outputs": [
    {
     "data": {
      "text/plain": [
       "{'protest': '(klimawandel OR klimaerwärmung OR erderwärmung OR klimaschutz OR klimagerechtigkeit OR klimapolitik OR klimaneutral* OR \"hambacher forst\" OR hambi OR lützerath OR lützi OR klimakrise OR klimakatastrophe OR klimakollaps OR klimanotstand OR klimagerechtigkeit OR klimaneutral* OR klimaziel* OR klimaschutzpaket OR klimaschutzgesetz OR klimaschutzmaßnahmen OR klimaschutzabkommen OR klimaschutzprogramm OR kohleausstieg OR \"erneuerbare energie*\" OR bürgerrat OR bürgerräte OR gesellschaftsrat OR gesellschaftsräte OR tempolimit OR \"tempo 100\" OR 9-euro-ticket OR neun-euro-ticket) AND (*protest* OR *demo OR *demonstr* OR *kundgebung OR *versamm* OR \"soziale bewegung\" OR hausbesetz* OR *streik* OR unterschriften* OR petition OR hasskriminalität OR *unruhen OR *aufruhr OR *aufstand OR *rebell* OR *blockade OR *blockier* OR sitzblock* OR *boykott* OR riot OR *aktivis* OR bürgerinitiative OR bürgerbegehren OR *marsch OR *aufmarsch OR *parade OR mahnwache OR hungerstreik OR \"ziviler ungehorsam\" OR klimabewegung OR klimaaktivis* OR klimastreik* OR klimamontag OR fff OR \"fridays for future\" OR \"friday for future\" OR \"fridays 4 future\" OR \"friday 4 future\" OR \"scientists for future\" OR \"scientists 4 future\" OR \"parents for future\" OR \"parents 4 future\" OR \"extinction rebellion\" OR xr OR \"just stop oil\" OR \"letzte generation\" OR \"aufstand der letzten generation\" OR \"last generation\" OR \"ultima generazione\" OR klimakleb* OR \"ende gelände\" OR \"ende gelaende\" OR \"ende gelande\" OR \"end fossil\" OR greenpeace OR klimaliste OR klimaafterwork)',\n",
       " 'not_protest': '(klimawandel OR klimaerwärmung OR erderwärmung OR klimaschutz OR klimagerechtigkeit OR klimapolitik OR klimaneutral* OR \"hambacher forst\" OR hambi OR lützerath OR lützi OR klimakrise OR klimakatastrophe OR klimakollaps OR klimanotstand OR klimagerechtigkeit OR klimaneutral* OR klimaziel* OR klimaschutzpaket OR klimaschutzgesetz OR klimaschutzmaßnahmen OR klimaschutzabkommen OR klimaschutzprogramm OR kohleausstieg OR \"erneuerbare energie*\" OR bürgerrat OR bürgerräte OR gesellschaftsrat OR gesellschaftsräte OR tempolimit OR \"tempo 100\" OR 9-euro-ticket OR neun-euro-ticket) AND NOT (*protest* OR *demo OR *demonstr* OR *kundgebung OR *versamm* OR \"soziale bewegung\" OR hausbesetz* OR *streik* OR unterschriften* OR petition OR hasskriminalität OR *unruhen OR *aufruhr OR *aufstand OR *rebell* OR *blockade OR *blockier* OR sitzblock* OR *boykott* OR riot OR *aktivis* OR bürgerinitiative OR bürgerbegehren OR *marsch OR *aufmarsch OR *parade OR mahnwache OR hungerstreik OR \"ziviler ungehorsam\" OR klimabewegung OR klimaaktivis* OR klimastreik* OR klimamontag OR fff OR \"fridays for future\" OR \"friday for future\" OR \"fridays 4 future\" OR \"friday 4 future\" OR \"scientists for future\" OR \"scientists 4 future\" OR \"parents for future\" OR \"parents 4 future\" OR \"extinction rebellion\" OR xr OR \"just stop oil\" OR \"letzte generation\" OR \"aufstand der letzten generation\" OR \"last generation\" OR \"ultima generazione\" OR klimakleb* OR \"ende gelände\" OR \"ende gelaende\" OR \"ende gelande\" OR \"end fossil\" OR greenpeace OR klimaliste OR klimaafterwork)',\n",
       " 'framing': '(klimakrise OR klimakatastrophe OR klimakollaps OR klimanotstand OR klimagerechtigkeit) AND (*protest* OR *demo OR *demonstr* OR *kundgebung OR *versamm* OR \"soziale bewegung\" OR hausbesetz* OR *streik* OR unterschriften* OR petition OR hasskriminalität OR *unruhen OR *aufruhr OR *aufstand OR *rebell* OR *blockade OR *blockier* OR sitzblock* OR *boykott* OR riot OR *aktivis* OR bürgerinitiative OR bürgerbegehren OR *marsch OR *aufmarsch OR *parade OR mahnwache OR hungerstreik OR \"ziviler ungehorsam\" OR klimabewegung OR klimaaktivis* OR klimastreik* OR klimamontag OR fff OR \"fridays for future\" OR \"friday for future\" OR \"fridays 4 future\" OR \"friday 4 future\" OR \"scientists for future\" OR \"scientists 4 future\" OR \"parents for future\" OR \"parents 4 future\" OR \"extinction rebellion\" OR xr OR \"just stop oil\" OR \"letzte generation\" OR \"aufstand der letzten generation\" OR \"last generation\" OR \"ultima generazione\" OR klimakleb* OR \"ende gelände\" OR \"ende gelaende\" OR \"ende gelande\" OR \"end fossil\" OR greenpeace OR klimaliste OR klimaafterwork)',\n",
       " 'goal': '(klimaneutral* OR klimaziel* OR klimaschutzpaket OR klimaschutzgesetz OR klimaschutzmaßnahmen OR klimaschutzabkommen OR klimaschutzprogramm OR kohleausstieg OR \"erneuerbare energie*\" OR bürgerrat OR bürgerräte OR gesellschaftsrat OR gesellschaftsräte OR tempolimit OR \"tempo 100\" OR 9-euro-ticket OR neun-euro-ticket) AND (*protest* OR *demo OR *demonstr* OR *kundgebung OR *versamm* OR \"soziale bewegung\" OR hausbesetz* OR *streik* OR unterschriften* OR petition OR hasskriminalität OR *unruhen OR *aufruhr OR *aufstand OR *rebell* OR *blockade OR *blockier* OR sitzblock* OR *boykott* OR riot OR *aktivis* OR bürgerinitiative OR bürgerbegehren OR *marsch OR *aufmarsch OR *parade OR mahnwache OR hungerstreik OR \"ziviler ungehorsam\" OR klimabewegung OR klimaaktivis* OR klimastreik* OR klimamontag OR fff OR \"fridays for future\" OR \"friday for future\" OR \"fridays 4 future\" OR \"friday 4 future\" OR \"scientists for future\" OR \"scientists 4 future\" OR \"parents for future\" OR \"parents 4 future\" OR \"extinction rebellion\" OR xr OR \"just stop oil\" OR \"letzte generation\" OR \"aufstand der letzten generation\" OR \"last generation\" OR \"ultima generazione\" OR klimakleb* OR \"ende gelände\" OR \"ende gelaende\" OR \"ende gelande\" OR \"end fossil\" OR greenpeace OR klimaliste OR klimaafterwork)'}"
      ]
     },
     "execution_count": 32,
     "metadata": {},
     "output_type": "execute_result"
    }
   ],
   "source": [
    "from protest_impact.data.protests.keywords import climate_queries, treatment_keywords\n",
    "\n",
    "climate_queries()"
   ]
  },
  {
   "cell_type": "code",
   "execution_count": 33,
   "metadata": {},
   "outputs": [],
   "source": [
    "# from protest_impact.data.news.dereko.scraping import clickthrough, close, prepare\n",
    "\n",
    "# page, browser = await prepare()"
   ]
  },
  {
   "cell_type": "code",
   "execution_count": null,
   "metadata": {},
   "outputs": [],
   "source": []
  }
 ],
 "metadata": {
  "kernelspec": {
   "display_name": ".venv",
   "language": "python",
   "name": "python3"
  },
  "language_info": {
   "codemirror_mode": {
    "name": "ipython",
    "version": 3
   },
   "file_extension": ".py",
   "mimetype": "text/x-python",
   "name": "python",
   "nbconvert_exporter": "python",
   "pygments_lexer": "ipython3",
   "version": "3.10.10"
  },
  "orig_nbformat": 4
 },
 "nbformat": 4,
 "nbformat_minor": 2
}
