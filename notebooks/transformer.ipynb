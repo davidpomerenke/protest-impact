{
 "cells": [
  {
   "cell_type": "code",
   "execution_count": 3,
   "metadata": {},
   "outputs": [
    {
     "data": {
      "application/vnd.jupyter.widget-view+json": {
       "model_id": "6c4e0ae90b054a79b63ae62f4e3f8e67",
       "version_major": 2,
       "version_minor": 0
      },
      "text/plain": [
       "  0%|          | 0/1065 [00:00<?, ?it/s]"
      ]
     },
     "metadata": {},
     "output_type": "display_data"
    }
   ],
   "source": [
    "import holidays\n",
    "import pandas as pd\n",
    "from tqdm.auto import tqdm\n",
    "\n",
    "from src.data import german_regions\n",
    "from src.features.aggregation import treatment_unaggregated\n",
    "from src.paths import processed_data\n",
    "\n",
    "path = processed_data / \"propensity_scores/nlp/transformer\"\n",
    "path.mkdir(exist_ok=True, parents=True)\n",
    "\n",
    "\n",
    "def get_text_for_dates(start, end, df, region):\n",
    "    region_code = [a.code for a in german_regions if a.name == region][0]\n",
    "    df = df[df[\"region\"] == region]\n",
    "    holi = holidays.Germany(years=range(2018, 2023), subdiv=region_code)\n",
    "    items = []\n",
    "    for date in pd.date_range(start, end):\n",
    "        text = \"\"\n",
    "        text += f\"{region}, \"\n",
    "        protests = df[df[\"date\"] == date]\n",
    "        date_info = (\n",
    "            f\"{date.strftime('%A')}, {date.day}. {date.month_name()} {date.year}\"\n",
    "        )\n",
    "        if date in holi:\n",
    "            date_info += f\", {holi[date]}\"\n",
    "        text += date_info + \"\\n\"\n",
    "        text += \"has protests: \" + (\"yes\" if len(protests) > 0 else \"no\") + \"\\n\"\n",
    "        if len(protests) > 0:\n",
    "            text += \"number of protests: \" + str(len(protests)) + \"\\n\"\n",
    "            for _, protest in protests.iterrows():\n",
    "                text += f\"{protest['actor']}: {protest['notes']}\\n\"\n",
    "        text += \"\\n\"\n",
    "        items.append(text)\n",
    "    return items\n",
    "\n",
    "\n",
    "df = treatment_unaggregated(\"acled\")\n",
    "df = df[df.country == \"Germany\"]\n",
    "protest_group = None\n",
    "if protest_group is not None:\n",
    "    df = df[(df.protest == protest_group)]\n",
    "X = []\n",
    "y = []\n",
    "for region in list(df.region.unique())[:1]:\n",
    "    for date in tqdm(pd.date_range(\"2020-02-01\", \"2022-12-31\")):\n",
    "        start = date - pd.Timedelta(days=30)\n",
    "        items = get_text_for_dates(start, date, df, region)\n",
    "        i = items[-1].index(\"has protests: \") + len(\"has protests: \")\n",
    "        x = \"\\n\".join(items[:-1]) + items[-1][:i]\n",
    "        X.append(x)\n",
    "        y.append(items[-1][i : i + 3].strip())\n",
    "df = pd.DataFrame({\"text\": X, \"label\": y})\n",
    "train_df = df.sample(frac=0.8, random_state=42)\n",
    "test_df = df.drop(train_df.index)\n",
    "# train_df.to_json(path / \"train.jsonl\", orient=\"records\", lines=True)\n",
    "# test_df.to_json(path / \"test.jsonl\", orient=\"records\", lines=True)"
   ]
  },
  {
   "cell_type": "code",
   "execution_count": 8,
   "metadata": {},
   "outputs": [
    {
     "data": {
      "text/plain": [
       "[1353,\n",
       " 934,\n",
       " 1885,\n",
       " 1097,\n",
       " 1155,\n",
       " 1762,\n",
       " 1003,\n",
       " 1005,\n",
       " 871,\n",
       " 1047,\n",
       " 1086,\n",
       " 1330,\n",
       " 998,\n",
       " 1050,\n",
       " 1252,\n",
       " 947,\n",
       " 1293,\n",
       " 1290,\n",
       " 1007,\n",
       " 1634]"
      ]
     },
     "execution_count": 8,
     "metadata": {},
     "output_type": "execute_result"
    }
   ],
   "source": [
    "from transformers import AutoTokenizer\n",
    "\n",
    "model_name = \"NousResearch/Llama-2-7b-hf\"\n",
    "tokenizer = AutoTokenizer.from_pretrained(model_name, trust_remote_code=True)\n",
    "[len(tokenizer.tokenize(a)) for a in train_df[\"text\"].iloc[:20]]"
   ]
  },
  {
   "cell_type": "markdown",
   "metadata": {},
   "source": [
    "The following is copied in large part from https://github.com/mshumer/gpt-llm-trainer/blob/main/One_Prompt___Fine_Tuned_LLaMA_2.ipynb"
   ]
  },
  {
   "cell_type": "code",
   "execution_count": null,
   "metadata": {},
   "outputs": [],
   "source": [
    "%pip install -q accelerate==0.21.0 peft==0.4.0 bitsandbytes==0.40.2 transformers==4.31.0 trl==0.4.7"
   ]
  },
  {
   "cell_type": "code",
   "execution_count": null,
   "metadata": {},
   "outputs": [],
   "source": [
    "import os\n",
    "\n",
    "import torch\n",
    "from datasets import load_dataset\n",
    "from peft import LoraConfig, PeftModel\n",
    "from transformers import (\n",
    "    AutoModelForCausalLM,\n",
    "    AutoTokenizer,\n",
    "    BitsAndBytesConfig,\n",
    "    HfArgumentParser,\n",
    "    TrainingArguments,\n",
    "    logging,\n",
    "    pipeline,\n",
    ")\n",
    "from trl import SFTTrainer"
   ]
  },
  {
   "cell_type": "code",
   "execution_count": null,
   "metadata": {},
   "outputs": [],
   "source": [
    "model_name = \"NousResearch/Llama-2-7b-hf\"\n",
    "dataset_name = \"/content/train.jsonl\"\n",
    "new_model = \"llama-2-7b-custom\"\n",
    "lora_r = 64\n",
    "lora_alpha = 16\n",
    "lora_dropout = 0.1\n",
    "use_4bit = True\n",
    "bnb_4bit_compute_dtype = \"float16\"\n",
    "bnb_4bit_quant_type = \"nf4\"\n",
    "use_nested_quant = False\n",
    "output_dir = \"./results\"\n",
    "num_train_epochs = 1\n",
    "fp16 = False\n",
    "bf16 = False\n",
    "per_device_train_batch_size = 4\n",
    "per_device_eval_batch_size = 4\n",
    "gradient_accumulation_steps = 1\n",
    "gradient_checkpointing = True\n",
    "max_grad_norm = 0.3\n",
    "learning_rate = 2e-4\n",
    "weight_decay = 0.001\n",
    "optim = \"paged_adamw_32bit\"\n",
    "lr_scheduler_type = \"constant\"\n",
    "max_steps = -1\n",
    "warmup_ratio = 0.03\n",
    "group_by_length = True\n",
    "save_steps = 25\n",
    "logging_steps = 5\n",
    "max_seq_length = None\n",
    "packing = False\n",
    "device_map = {\"\": 0}"
   ]
  },
  {
   "cell_type": "code",
   "execution_count": null,
   "metadata": {},
   "outputs": [],
   "source": [
    "compute_dtype = getattr(torch, bnb_4bit_compute_dtype)\n",
    "bnb_config = BitsAndBytesConfig(\n",
    "    load_in_4bit=use_4bit,\n",
    "    bnb_4bit_quant_type=bnb_4bit_quant_type,\n",
    "    bnb_4bit_compute_dtype=compute_dtype,\n",
    "    bnb_4bit_use_double_quant=use_nested_quant,\n",
    ")\n",
    "model = AutoModelForCausalLM.from_pretrained(\n",
    "    model_name, quantization_config=bnb_config, device_map=device_map\n",
    ")\n",
    "model.config.use_cache = False\n",
    "model.config.pretraining_tp = 1"
   ]
  },
  {
   "cell_type": "code",
   "execution_count": null,
   "metadata": {},
   "outputs": [],
   "source": [
    "prompt = \"Hallo\"\n",
    "pipe = pipeline(\n",
    "    task=\"text-generation\", model=model, tokenizer=tokenizer, max_length=200\n",
    ")\n",
    "result = pipe(prompt)"
   ]
  },
  {
   "cell_type": "code",
   "execution_count": null,
   "metadata": {},
   "outputs": [],
   "source": [
    "# Load datasets\n",
    "train_dataset = load_dataset(\"json\", data_files=\"/content/train.jsonl\", split=\"train\")\n",
    "valid_dataset = load_dataset(\"json\", data_files=\"/content/test.jsonl\", split=\"train\")\n",
    "\n",
    "tokenizer = AutoTokenizer.from_pretrained(model_name, trust_remote_code=True)\n",
    "tokenizer.pad_token = tokenizer.eos_token\n",
    "tokenizer.padding_side = \"right\"\n",
    "peft_config = LoraConfig(\n",
    "    lora_alpha=lora_alpha,\n",
    "    lora_dropout=lora_dropout,\n",
    "    r=lora_r,\n",
    "    bias=\"none\",\n",
    "    task_type=\"CAUSAL_LM\",\n",
    ")\n",
    "# Set training parameters\n",
    "training_arguments = TrainingArguments(\n",
    "    output_dir=output_dir,\n",
    "    num_train_epochs=num_train_epochs,\n",
    "    per_device_train_batch_size=per_device_train_batch_size,\n",
    "    gradient_accumulation_steps=gradient_accumulation_steps,\n",
    "    optim=optim,\n",
    "    save_steps=save_steps,\n",
    "    logging_steps=logging_steps,\n",
    "    learning_rate=learning_rate,\n",
    "    weight_decay=weight_decay,\n",
    "    fp16=fp16,\n",
    "    bf16=bf16,\n",
    "    max_grad_norm=max_grad_norm,\n",
    "    max_steps=max_steps,\n",
    "    warmup_ratio=warmup_ratio,\n",
    "    group_by_length=group_by_length,\n",
    "    lr_scheduler_type=lr_scheduler_type,\n",
    "    report_to=\"all\",\n",
    "    evaluation_strategy=\"steps\",\n",
    "    eval_steps=5,  # Evaluate every 20 steps\n",
    ")\n",
    "# Set supervised fine-tuning parameters\n",
    "trainer = SFTTrainer(\n",
    "    model=model,\n",
    "    train_dataset=train_dataset,\n",
    "    eval_dataset=valid_dataset,\n",
    "    peft_config=peft_config,\n",
    "    dataset_text_field=\"text\",\n",
    "    max_seq_length=max_seq_length,\n",
    "    tokenizer=tokenizer,\n",
    "    args=training_arguments,\n",
    "    packing=packing,\n",
    ")\n",
    "trainer.train()\n",
    "trainer.model.save_pretrained(new_model)\n",
    "\n",
    "# Cell 4: Test the model\n",
    "logging.set_verbosity(logging.CRITICAL)\n",
    "prompt = f\"[INST] <>\\n{system_message}\\n<>\\n\\nWrite a function that reverses a string. [/INST]\"  # replace the command here with something relevant to your task\n",
    "pipe = pipeline(\n",
    "    task=\"text-generation\", model=model, tokenizer=tokenizer, max_length=200\n",
    ")\n",
    "result = pipe(prompt)\n",
    "print(result[0][\"generated_text\"])"
   ]
  }
 ],
 "metadata": {
  "kernelspec": {
   "display_name": ".venv",
   "language": "python",
   "name": "python3"
  },
  "language_info": {
   "codemirror_mode": {
    "name": "ipython",
    "version": 3
   },
   "file_extension": ".py",
   "mimetype": "text/x-python",
   "name": "python",
   "nbconvert_exporter": "python",
   "pygments_lexer": "ipython3",
   "version": "3.10.10"
  },
  "orig_nbformat": 4
 },
 "nbformat": 4,
 "nbformat_minor": 2
}
