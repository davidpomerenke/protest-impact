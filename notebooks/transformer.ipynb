{
 "cells": [
  {
   "cell_type": "code",
   "execution_count": 1,
   "metadata": {},
   "outputs": [],
   "source": [
    "# import holidays\n",
    "# import pandas as pd\n",
    "# from tqdm.auto import tqdm\n",
    "\n",
    "# from src.data import german_regions\n",
    "# from src.features.aggregation import treatment_unaggregated\n",
    "# from src.paths import processed_data\n",
    "\n",
    "# path = processed_data / \"propensity_scores/nlp/transformer\"\n",
    "# path.mkdir(exist_ok=True, parents=True)\n",
    "\n",
    "\n",
    "# def get_text_for_dates(start, end, df, region):\n",
    "#     region_code = [a.code for a in german_regions if a.name == region][0]\n",
    "#     df = df[df[\"region\"] == region]\n",
    "#     holi = holidays.Germany(years=range(2018, 2023), subdiv=region_code)\n",
    "#     items = []\n",
    "#     for date in pd.date_range(start, end):\n",
    "#         text = \"\"\n",
    "#         text += f\"{region}, \"\n",
    "#         protests = df[df[\"date\"] == date]\n",
    "#         date_info = (\n",
    "#             f\"{date.strftime('%A')}, {date.day}. {date.month_name()} {date.year}\"\n",
    "#         )\n",
    "#         if date in holi:\n",
    "#             date_info += f\", {holi[date]}\"\n",
    "#         text += date_info + \"\\n\"\n",
    "#         text += \"has protests: \" + (\"yes\" if len(protests) > 0 else \"no\") + \"\\n\"\n",
    "#         if len(protests) > 0:\n",
    "#             text += \"number of protests: \" + str(len(protests)) + \"\\n\"\n",
    "#             for _, protest in protests.iterrows():\n",
    "#                 text += f\"{protest['actor']}: {protest['notes']}\\n\"\n",
    "#         text += \"\\n\"\n",
    "#         items.append(text)\n",
    "#     return items\n",
    "\n",
    "\n",
    "# df = treatment_unaggregated(\"acled\")\n",
    "# df = df[df.country == \"Germany\"]\n",
    "# protest_group = None\n",
    "# if protest_group is not None:\n",
    "#     df = df[(df.protest == protest_group)]\n",
    "# X = []\n",
    "# y = []\n",
    "# for region in list(df.region.unique())[:1]:\n",
    "#     for date in tqdm(pd.date_range(\"2020-02-01\", \"2022-12-31\")):\n",
    "#         start = date - pd.Timedelta(days=30)\n",
    "#         items = get_text_for_dates(start, date, df, region)\n",
    "#         i = items[-1].index(\"has protests: \") + len(\"has protests: \")\n",
    "#         x = \"\\n\".join(items[:-1]) + items[-1][:i]\n",
    "#         X.append(x)\n",
    "#         y.append(items[-1][i : i + 3].strip())\n",
    "# df = pd.DataFrame({\"text\": X, \"label\": y})\n",
    "# train_df = df.sample(frac=0.8, random_state=42)\n",
    "# test_df = df.drop(train_df.index)\n",
    "# # train_df.to_json(path / \"train.jsonl\", orient=\"records\", lines=True)\n",
    "# # test_df.to_json(path / \"test.jsonl\", orient=\"records\", lines=True)"
   ]
  },
  {
   "cell_type": "markdown",
   "metadata": {},
   "source": [
    "Sources:\n",
    "\n",
    "- Llama 2 https://ai.meta.com/research/publications/llama-2-open-foundation-and-fine-tuned-chat-models/\n",
    "    - https://huggingface.co/meta-llama/Llama-2-7b-chat-hf\n",
    "- QLoRA https://arxiv.org/abs/2305.14314\n",
    "    - https://huggingface.co/docs/transformers/v4.32.0/perf_train_gpu_one\n",
    "    - https://huggingface.co/blog/4bit-transformers-bitsandbytes\n",
    "    - https://colab.research.google.com/drive/1VoYNfYDKcKRQRor98Zbf2-9VQTtGJ24k?usp=sharing#scrollTo=jq0nX33BmfaC\n",
    "    - https://blog.ovhcloud.com/fine-tuning-llama-2-models-using-a-single-gpu-qlora-and-ai-notebooks/\n",
    "    - https://huggingface.co/docs/transformers/main/main_classes/trainer"
   ]
  },
  {
   "cell_type": "code",
   "execution_count": 2,
   "metadata": {},
   "outputs": [],
   "source": [
    "# %pip install -q accelerate==0.21.0 peft==0.4.0 bitsandbytes==0.40.2 transformers==4.31.0 trl==0.4.7 scikit-learn scipy xformers evaluate"
   ]
  },
  {
   "cell_type": "code",
   "execution_count": 3,
   "metadata": {},
   "outputs": [],
   "source": [
    "import os\n",
    "\n",
    "import torch\n",
    "from datasets import load_dataset\n",
    "from peft import LoraConfig, PeftModel, get_peft_model\n",
    "from transformers import (\n",
    "    AutoModelForCausalLM,\n",
    "    AutoTokenizer,\n",
    "    BitsAndBytesConfig,\n",
    "    HfArgumentParser,\n",
    "    TrainingArguments,\n",
    "    Trainer,\n",
    "    logging,\n",
    "    pipeline,\n",
    "    AutoModelForSequenceClassification\n",
    ")\n",
    "from trl import SFTTrainer"
   ]
  },
  {
   "cell_type": "code",
   "execution_count": 4,
   "metadata": {},
   "outputs": [],
   "source": [
    "model_name = \"meta-llama/Llama-2-7b-chat-hf\"\n",
    "new_model = \"llama-2-7b-custom\"\n",
    "max_seq_length = 1024"
   ]
  },
  {
   "cell_type": "code",
   "execution_count": 5,
   "metadata": {},
   "outputs": [],
   "source": [
    "from transformers import AutoTokenizer\n",
    "\n",
    "tokenizer = AutoTokenizer.from_pretrained(model_name, trust_remote_code=True)\n",
    "tokenizer.pad_token = tokenizer.eos_token\n",
    "tokenizer.padding_side = \"left\"\n",
    "tokenizer.truncation_side = \"left\""
   ]
  },
  {
   "cell_type": "code",
   "execution_count": 6,
   "metadata": {},
   "outputs": [
    {
     "data": {
      "application/vnd.jupyter.widget-view+json": {
       "model_id": "de88876a50d743dcb47996c348bf69fe",
       "version_major": 2,
       "version_minor": 0
      },
      "text/plain": [
       "Map:   0%|          | 0/13632 [00:00<?, ? examples/s]"
      ]
     },
     "metadata": {},
     "output_type": "display_data"
    },
    {
     "data": {
      "application/vnd.jupyter.widget-view+json": {
       "model_id": "99784bb2c1274fbba2ce1b5db78de5f5",
       "version_major": 2,
       "version_minor": 0
      },
      "text/plain": [
       "Map:   0%|          | 0/3408 [00:00<?, ? examples/s]"
      ]
     },
     "metadata": {},
     "output_type": "display_data"
    },
    {
     "data": {
      "text/plain": [
       "Dataset({\n",
       "    features: ['label', 'input_ids', 'attention_mask'],\n",
       "    num_rows: 13632\n",
       "})"
      ]
     },
     "execution_count": 6,
     "metadata": {},
     "output_type": "execute_result"
    }
   ],
   "source": [
    "path = \"../data/processed/propensity_scores/nlp/transformer/\"\n",
    "train_dataset = load_dataset(\"json\", data_files=path+\"train.jsonl\", split=\"train\").shuffle(seed=100)\n",
    "valid_dataset = load_dataset(\"json\", data_files=path+\"test.jsonl\", split=\"train\").shuffle(seed=100)\n",
    "\n",
    "def mapper(examples):\n",
    "    return {'text': examples[\"X\"], \"label\": [int(y == \"yes\") for y in examples[\"y\"]]}\n",
    "\n",
    "train_dataset = train_dataset.map(mapper, batched=True, remove_columns=[\"X\", \"y\"])\n",
    "valid_dataset = valid_dataset.map(mapper, batched=True, remove_columns=[\"X\", \"y\"])\n",
    "\n",
    "def tokenize_(examples):\n",
    "    return tokenizer(examples[\"text\"], padding=\"max_length\", truncation=True, max_length=max_seq_length)\n",
    "\n",
    "train_tokenized = train_dataset.map(tokenize_, batched=True, remove_columns=[\"text\"])\n",
    "valid_tokenized = valid_dataset.map(tokenize_, batched=True, remove_columns=[\"text\"])\n",
    "train_tokenized\n",
    "# train_tokenized[\"decoder_input_ids\"] = train_tokenized[\"input_ids\"].copy()\n"
   ]
  },
  {
   "cell_type": "code",
   "execution_count": 7,
   "metadata": {},
   "outputs": [
    {
     "data": {
      "application/vnd.jupyter.widget-view+json": {
       "model_id": "4e1c0fff08e54ce484b3f556dd860355",
       "version_major": 2,
       "version_minor": 0
      },
      "text/plain": [
       "Loading checkpoint shards:   0%|          | 0/2 [00:00<?, ?it/s]"
      ]
     },
     "metadata": {},
     "output_type": "display_data"
    },
    {
     "name": "stderr",
     "output_type": "stream",
     "text": [
      "Some weights of LlamaForSequenceClassification were not initialized from the model checkpoint at meta-llama/Llama-2-7b-chat-hf and are newly initialized: ['score.weight']\n",
      "You should probably TRAIN this model on a down-stream task to be able to use it for predictions and inference.\n"
     ]
    }
   ],
   "source": [
    "bnb_config = BitsAndBytesConfig(\n",
    "    load_in_4bit=True,\n",
    "    bnb_4bit_use_double_quant=True,\n",
    "    bnb_4bit_quant_type=\"nf4\",\n",
    "    bnb_4bit_compute_dtype=torch.bfloat16\n",
    ")\n",
    "\n",
    "model = AutoModelForSequenceClassification.from_pretrained(model_name, quantization_config=bnb_config, device_map={\"\": 0}) # max_memory={0: \"24564MB\"}\n",
    "model.config.use_cache = False\n",
    "model.config.pretraining_tp = 1"
   ]
  },
  {
   "cell_type": "code",
   "execution_count": 8,
   "metadata": {},
   "outputs": [],
   "source": [
    "from peft import prepare_model_for_kbit_training\n",
    "\n",
    "model.gradient_checkpointing_enable()\n",
    "model = prepare_model_for_kbit_training(model)"
   ]
  },
  {
   "cell_type": "code",
   "execution_count": 9,
   "metadata": {},
   "outputs": [],
   "source": [
    "def print_trainable_parameters(model):\n",
    "    \"\"\"\n",
    "    Prints the number of trainable parameters in the model.\n",
    "    \"\"\"\n",
    "    trainable_params = 0\n",
    "    all_param = 0\n",
    "    for _, param in model.named_parameters():\n",
    "        all_param += param.numel()\n",
    "        if param.requires_grad:\n",
    "            trainable_params += param.numel()\n",
    "    print(\n",
    "        f\"trainable params: {trainable_params} || all params: {all_param} || trainable%: {100 * trainable_params / all_param}\"\n",
    "    )"
   ]
  },
  {
   "cell_type": "code",
   "execution_count": 10,
   "metadata": {},
   "outputs": [
    {
     "data": {
      "text/plain": [
       "['o_proj', 'down_proj', 'q_proj', 'gate_proj', 'k_proj', 'v_proj', 'up_proj']"
      ]
     },
     "execution_count": 10,
     "metadata": {},
     "output_type": "execute_result"
    }
   ],
   "source": [
    "import bitsandbytes as bnb\n",
    "\n",
    "def find_all_linear_names(model):\n",
    "    cls = bnb.nn.Linear4bit #if args.bits == 4 else (bnb.nn.Linear8bitLt if args.bits == 8 else torch.nn.Linear)\n",
    "    lora_module_names = set()\n",
    "    for name, module in model.named_modules():\n",
    "        if isinstance(module, cls):\n",
    "            names = name.split('.')\n",
    "            lora_module_names.add(names[0] if len(names) == 1 else names[-1])\n",
    "\n",
    "    if 'lm_head' in lora_module_names:  # needed for 16-bit\n",
    "        lora_module_names.remove('lm_head')\n",
    "    return list(lora_module_names)\n",
    "\n",
    "modules = find_all_linear_names(model)\n",
    "modules"
   ]
  },
  {
   "cell_type": "code",
   "execution_count": 11,
   "metadata": {},
   "outputs": [
    {
     "name": "stdout",
     "output_type": "stream",
     "text": [
      "trainable params: 2113536 || all params: 3371454464 || trainable%: 0.06268914566600535\n"
     ]
    }
   ],
   "source": [
    "from peft import LoraConfig, get_peft_model\n",
    "\n",
    "config = LoraConfig(\n",
    "    r=4, \n",
    "    lora_alpha=1, \n",
    "    # target_modules=modules,\n",
    "    lora_dropout=0.05, \n",
    "    bias=\"none\", \n",
    "    task_type=\"SEQ_CLS\"\n",
    ")\n",
    "\n",
    "model_ = get_peft_model(model, config)\n",
    "print_trainable_parameters(model_)"
   ]
  },
  {
   "cell_type": "code",
   "execution_count": 12,
   "metadata": {},
   "outputs": [],
   "source": [
    "# from sklearn.metrics import f1_score\n",
    "# from tqdm.auto import tqdm\n",
    "\n",
    "# def classify(prompt):\n",
    "#     pipe = pipeline(task=\"text-classification\", model=model, tokenizer=tokenizer)\n",
    "#     return pipe(prompt)[0][\"label\"] == \"LABEL_1\"\n",
    "\n",
    "# n = 100\n",
    "# y_pred = [classify(x) for x in tqdm(train_dataset[\"text\"][:n])]\n",
    "# f1_score(train_dataset[\"label\"][:n], y_pred)"
   ]
  },
  {
   "cell_type": "code",
   "execution_count": 28,
   "metadata": {},
   "outputs": [],
   "source": [
    "import evaluate\n",
    "import numpy as np\n",
    "\n",
    "metric = evaluate.load(\"f1\")\n",
    "\n",
    "\n",
    "def compute_metrics(eval_pred):\n",
    "    logits, labels = eval_pred\n",
    "    predictions = np.argmax(logits, axis=-1)\n",
    "    return metric.compute(predictions=predictions, references=labels)\n",
    "\n",
    "from torch import nn, tensor\n",
    "from transformers import Trainer\n",
    "\n",
    "class CustomTrainer(Trainer):\n",
    "    def compute_loss(self, model, inputs, return_outputs=False):\n",
    "        # adapted from https://huggingface.co/docs/transformers/main/main_classes/trainer\n",
    "        labels = inputs.pop(\"labels\")\n",
    "        # forward pass\n",
    "        outputs = model(**inputs)\n",
    "        logits = outputs.get(\"logits\")\n",
    "        # compute custom loss (class 0 has 95% of the samples and class 1 has 5% of the samples)\n",
    "        weights = tensor([1/0.95, 1/0.05], device=model.device)\n",
    "        loss_fct = nn.CrossEntropyLoss(weight=weights)\n",
    "        loss = loss_fct(logits.view(-1, self.model.config.num_labels), labels.view(-1))\n",
    "        return (loss, outputs) if return_outputs else loss\n"
   ]
  },
  {
   "cell_type": "code",
   "execution_count": 31,
   "metadata": {},
   "outputs": [
    {
     "name": "stderr",
     "output_type": "stream",
     "text": [
      "Found safetensors installation, but --save_safetensors=False. Safetensors should be a preferred weights saving format due to security and performance reasons. If your model cannot be saved by safetensors please feel free to open an issue at https://github.com/huggingface/safetensors!\n",
      "PyTorch: setting up devices\n",
      "You have loaded a model on multiple GPUs. `is_model_parallel` attribute will be force-set to `True` to avoid any unexpected behavior such as device placement mismatching.\n",
      "The model is loaded in 8-bit precision. To train this model you need to add additional modules inside the model such as adapters using `peft` library and freeze the model weights. Please check  the examples in https://github.com/huggingface/peft for more details.\n"
     ]
    }
   ],
   "source": [
    "training_arguments = TrainingArguments(\n",
    "    output_dir=\"./results\",\n",
    "    num_train_epochs=1,\n",
    "    log_level=\"info\",\n",
    "    evaluation_strategy=\"steps\",\n",
    "    eval_steps=10,\n",
    "    logging_steps=10,\n",
    "    # save_steps=500,\n",
    "    per_device_train_batch_size=8,\n",
    "    per_device_eval_batch_size=8,\n",
    "    gradient_accumulation_steps=4,\n",
    "    gradient_checkpointing=True,\n",
    "    warmup_steps=2,\n",
    "    # max_steps=10,\n",
    "    learning_rate=2e-4,\n",
    "    fp16=True,\n",
    "    optim=\"paged_adamw_8bit\",\n",
    "    report_to=\"none\",\n",
    ")\n",
    "model.config.use_cache = False\n",
    "trainer = CustomTrainer(\n",
    "    model=model,\n",
    "    args=training_arguments,\n",
    "    train_dataset=train_tokenized,\n",
    "    eval_dataset=valid_tokenized.select(range(256)),\n",
    "    compute_metrics=compute_metrics,\n",
    ")"
   ]
  },
  {
   "cell_type": "code",
   "execution_count": 32,
   "metadata": {},
   "outputs": [
    {
     "name": "stderr",
     "output_type": "stream",
     "text": [
      "***** Running training *****\n",
      "  Num examples = 13,632\n",
      "  Num Epochs = 1\n",
      "  Instantaneous batch size per device = 8\n",
      "  Total train batch size (w. parallel, distributed & accumulation) = 16\n",
      "  Gradient Accumulation steps = 2\n",
      "  Total optimization steps = 852\n",
      "  Number of trainable parameters = 2,113,536\n"
     ]
    },
    {
     "data": {
      "text/html": [
       "\n",
       "    <div>\n",
       "      \n",
       "      <progress value='91' max='852' style='width:300px; height:20px; vertical-align: middle;'></progress>\n",
       "      [ 91/852 19:43 < 2:48:37, 0.08 it/s, Epoch 0.11/1]\n",
       "    </div>\n",
       "    <table border=\"1\" class=\"dataframe\">\n",
       "  <thead>\n",
       " <tr style=\"text-align: left;\">\n",
       "      <th>Step</th>\n",
       "      <th>Training Loss</th>\n",
       "      <th>Validation Loss</th>\n",
       "      <th>F1</th>\n",
       "    </tr>\n",
       "  </thead>\n",
       "  <tbody>\n",
       "    <tr>\n",
       "      <td>10</td>\n",
       "      <td>133.078700</td>\n",
       "      <td>93.179977</td>\n",
       "      <td>0.000000</td>\n",
       "    </tr>\n",
       "    <tr>\n",
       "      <td>20</td>\n",
       "      <td>148.012300</td>\n",
       "      <td>162.130783</td>\n",
       "      <td>0.104265</td>\n",
       "    </tr>\n",
       "    <tr>\n",
       "      <td>30</td>\n",
       "      <td>154.558700</td>\n",
       "      <td>365.400543</td>\n",
       "      <td>0.000000</td>\n",
       "    </tr>\n",
       "    <tr>\n",
       "      <td>40</td>\n",
       "      <td>307.485900</td>\n",
       "      <td>247.945389</td>\n",
       "      <td>0.104265</td>\n",
       "    </tr>\n",
       "    <tr>\n",
       "      <td>50</td>\n",
       "      <td>122.129800</td>\n",
       "      <td>205.260468</td>\n",
       "      <td>0.104265</td>\n",
       "    </tr>\n",
       "    <tr>\n",
       "      <td>60</td>\n",
       "      <td>171.998300</td>\n",
       "      <td>61.229492</td>\n",
       "      <td>0.000000</td>\n",
       "    </tr>\n",
       "    <tr>\n",
       "      <td>70</td>\n",
       "      <td>96.102700</td>\n",
       "      <td>60.192383</td>\n",
       "      <td>0.000000</td>\n",
       "    </tr>\n",
       "    <tr>\n",
       "      <td>80</td>\n",
       "      <td>65.846100</td>\n",
       "      <td>279.961365</td>\n",
       "      <td>0.000000</td>\n",
       "    </tr>\n",
       "  </tbody>\n",
       "</table><p>\n",
       "    <div>\n",
       "      \n",
       "      <progress value='3' max='25' style='width:300px; height:20px; vertical-align: middle;'></progress>\n",
       "      [ 3/25 00:02 < 00:32, 0.67 it/s]\n",
       "    </div>\n",
       "    "
      ],
      "text/plain": [
       "<IPython.core.display.HTML object>"
      ]
     },
     "metadata": {},
     "output_type": "display_data"
    },
    {
     "name": "stderr",
     "output_type": "stream",
     "text": [
      "***** Running Evaluation *****\n",
      "  Num examples = 200\n",
      "  Batch size = 8\n",
      "***** Running Evaluation *****\n",
      "  Num examples = 200\n",
      "  Batch size = 8\n",
      "***** Running Evaluation *****\n",
      "  Num examples = 200\n",
      "  Batch size = 8\n",
      "***** Running Evaluation *****\n",
      "  Num examples = 200\n",
      "  Batch size = 8\n",
      "***** Running Evaluation *****\n",
      "  Num examples = 200\n",
      "  Batch size = 8\n",
      "***** Running Evaluation *****\n",
      "  Num examples = 200\n",
      "  Batch size = 8\n",
      "***** Running Evaluation *****\n",
      "  Num examples = 200\n",
      "  Batch size = 8\n",
      "***** Running Evaluation *****\n",
      "  Num examples = 200\n",
      "  Batch size = 8\n",
      "***** Running Evaluation *****\n",
      "  Num examples = 200\n",
      "  Batch size = 8\n"
     ]
    }
   ],
   "source": [
    "trainer.train()\n",
    "# trainer.model.save_pretrained(new_model)"
   ]
  },
  {
   "cell_type": "code",
   "execution_count": null,
   "metadata": {},
   "outputs": [],
   "source": []
  }
 ],
 "metadata": {
  "kernelspec": {
   "display_name": ".venv",
   "language": "python",
   "name": "python3"
  },
  "language_info": {
   "codemirror_mode": {
    "name": "ipython",
    "version": 3
   },
   "file_extension": ".py",
   "mimetype": "text/x-python",
   "name": "python",
   "nbconvert_exporter": "python",
   "pygments_lexer": "ipython3",
   "version": "3.10.11"
  },
  "orig_nbformat": 4
 },
 "nbformat": 4,
 "nbformat_minor": 2
}
