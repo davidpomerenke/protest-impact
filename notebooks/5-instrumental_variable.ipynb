{
 "cells": [
  {
   "cell_type": "code",
   "execution_count": 1,
   "metadata": {},
   "outputs": [],
   "source": [
    "%load_ext autoreload\n",
    "%autoreload complete\n",
    "\n",
    "import matplotlib.pyplot as plt\n",
    "import numpy as np\n",
    "import pandas as pd\n",
    "import seaborn as sns\n",
    "import statsmodels.api as sm\n",
    "from matplotlib_inline.backend_inline import set_matplotlib_formats\n",
    "from tqdm.notebook import tqdm\n",
    "\n",
    "from src.cache import cache\n",
    "\n",
    "set_matplotlib_formats(\"svg\")"
   ]
  },
  {
   "cell_type": "code",
   "execution_count": 1,
   "metadata": {},
   "outputs": [
    {
     "ename": "ModuleNotFoundError",
     "evalue": "No module named 'src.models.statsmodels'",
     "output_type": "error",
     "traceback": [
      "\u001b[0;31m---------------------------------------------------------------------------\u001b[0m",
      "\u001b[0;31mModuleNotFoundError\u001b[0m                       Traceback (most recent call last)",
      "Cell \u001b[0;32mIn[1], line 6\u001b[0m\n\u001b[1;32m      4\u001b[0m \u001b[39mfrom\u001b[39;00m \u001b[39msrc\u001b[39;00m\u001b[39m.\u001b[39;00m\u001b[39mfeatures\u001b[39;00m\u001b[39m.\u001b[39;00m\u001b[39maggregation\u001b[39;00m \u001b[39mimport\u001b[39;00m instruments, naive_one_region\n\u001b[1;32m      5\u001b[0m \u001b[39mfrom\u001b[39;00m \u001b[39msrc\u001b[39;00m\u001b[39m.\u001b[39;00m\u001b[39mfeatures\u001b[39;00m\u001b[39m.\u001b[39;00m\u001b[39mtime_series\u001b[39;00m\u001b[39m.\u001b[39;00m\u001b[39mlagged_impact\u001b[39;00m \u001b[39mimport\u001b[39;00m plot_lagged_impact\n\u001b[0;32m----> 6\u001b[0m \u001b[39mfrom\u001b[39;00m \u001b[39msrc\u001b[39;00m\u001b[39m.\u001b[39;00m\u001b[39mmodels\u001b[39;00m\u001b[39m.\u001b[39;00m\u001b[39mstatsmodels\u001b[39;00m \u001b[39mimport\u001b[39;00m LMWrapper\n\u001b[1;32m      8\u001b[0m region \u001b[39m=\u001b[39m \u001b[39m\"\u001b[39m\u001b[39mBayern\u001b[39m\u001b[39m\"\u001b[39m\n\u001b[1;32m      9\u001b[0m var \u001b[39m=\u001b[39m \u001b[39m\"\u001b[39m\u001b[39mocc_FFF\u001b[39m\u001b[39m\"\u001b[39m\n",
      "\u001b[0;31mModuleNotFoundError\u001b[0m: No module named 'src.models.statsmodels'"
     ]
    }
   ],
   "source": [
    "from linearmodels.iv import IV2SLS, IVGMM, IVLIML, compare\n",
    "\n",
    "from src.data import german_region_names\n",
    "from src.features.aggregation import instruments, naive_one_region\n",
    "from src.features.time_series.lagged_impact import plot_lagged_impact\n",
    "from src.models.statsmodels import LMWrapper\n",
    "\n",
    "region = \"Bayern\"\n",
    "var = \"occ_FFF\"\n",
    "df, vars = naive_one_region(region)\n",
    "weather = instruments(region)\n",
    "df[\"prcp\"] = (weather[\"prcp\"] > 0).astype(int)\n",
    "df[\"media_protest\"] = df[\"media_protest\"] / df[\"media_protest\"].mean()\n",
    "df = df[[\"prcp\", var, \"media_protest\"]]\n",
    "\n",
    "lags = {\n",
    "    (0, 0): [\"prcp\", var],\n",
    "}\n",
    "\n",
    "model = LMWrapper(\n",
    "    IVLIML,\n",
    "    fit_intercept=True,\n",
    "    iv_cols=dict(\n",
    "        dependent=[\"media_protest\"],\n",
    "        exog=[\"is_holiday\", \"media_protest\"],\n",
    "        endog=[var],\n",
    "        instruments=[\"prcp\"],\n",
    "    ),\n",
    ")\n",
    "# res = model.fit(df.drop(columns=vars.y), df[[\"media_protest\"]])\n",
    "models, results = lagged_impact(\n",
    "    [df], y_cols=[\"media_protest\"], lags=lags, regressor=model\n",
    ")\n",
    "display(results)\n",
    "plot_lagged_impact(results, \"prcp\")\n",
    "plt.show()"
   ]
  },
  {
   "cell_type": "markdown",
   "metadata": {},
   "source": [
    "PROBLEM : The wrong variable coefficients are contained!"
   ]
  },
  {
   "cell_type": "code",
   "execution_count": 3,
   "metadata": {},
   "outputs": [
    {
     "ename": "NameError",
     "evalue": "name 'res' is not defined",
     "output_type": "error",
     "traceback": [
      "\u001b[0;31m---------------------------------------------------------------------------\u001b[0m",
      "\u001b[0;31mNameError\u001b[0m                                 Traceback (most recent call last)",
      "Cell \u001b[0;32mIn[3], line 1\u001b[0m\n\u001b[0;32m----> 1\u001b[0m res\u001b[39m.\u001b[39mresults_\u001b[39m.\u001b[39mparams[\u001b[39m1\u001b[39m:]\n",
      "\u001b[0;31mNameError\u001b[0m: name 'res' is not defined"
     ]
    }
   ],
   "source": [
    "res.results_.params[1:]"
   ]
  },
  {
   "cell_type": "code",
   "execution_count": null,
   "metadata": {},
   "outputs": [],
   "source": []
  }
 ],
 "metadata": {
  "kernelspec": {
   "display_name": ".venv",
   "language": "python",
   "name": "python3"
  },
  "language_info": {
   "codemirror_mode": {
    "name": "ipython",
    "version": 3
   },
   "file_extension": ".py",
   "mimetype": "text/x-python",
   "name": "python",
   "nbconvert_exporter": "python",
   "pygments_lexer": "ipython3",
   "version": "3.10.10"
  },
  "orig_nbformat": 4
 },
 "nbformat": 4,
 "nbformat_minor": 2
}
