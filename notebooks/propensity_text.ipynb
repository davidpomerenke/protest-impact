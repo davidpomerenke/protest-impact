{
 "cells": [
  {
   "cell_type": "code",
   "execution_count": 1,
   "metadata": {},
   "outputs": [],
   "source": [
    "%load_ext autoreload\n",
    "%autoreload complete\n",
    "\n",
    "import matplotlib.pyplot as plt\n",
    "import numpy as np\n",
    "import pandas as pd\n",
    "import seaborn as sns\n",
    "import statsmodels.api as sm\n",
    "from matplotlib_inline.backend_inline import set_matplotlib_formats\n",
    "from tqdm.notebook import tqdm\n",
    "\n",
    "from src.cache import cache\n",
    "\n",
    "set_matplotlib_formats(\"svg\")"
   ]
  },
  {
   "cell_type": "code",
   "execution_count": null,
   "metadata": {},
   "outputs": [],
   "source": [
    "from pprint import pprint\n",
    "\n",
    "from src.models.propensity_scores.text import get_data\n",
    "\n",
    "pprint(d._X_text[\"text_lag0\"].sample(10).to_list())"
   ]
  },
  {
   "cell_type": "code",
   "execution_count": null,
   "metadata": {},
   "outputs": [],
   "source": [
    "from transformers import BertTokenizer\n",
    "\n",
    "tokenizer = BertTokenizer.from_pretrained(\"bert-base-german-cased\")"
   ]
  },
  {
   "cell_type": "code",
   "execution_count": 23,
   "metadata": {},
   "outputs": [
    {
     "data": {
      "text/plain": [
       "<Axes: >"
      ]
     },
     "execution_count": 23,
     "metadata": {},
     "output_type": "execute_result"
    },
    {
     "data": {
      "image/png": "[encoded data removed]",
      "text/plain": [
       "<Figure size 640x480 with 1 Axes>"
      ]
     },
     "metadata": {},
     "output_type": "display_data"
    }
   ],
   "source": [
    "d = get_data(cutoff=500)\n",
    "texts = d._X_text[\"text_lag0\"]\n",
    "texts.sample(1000).apply(lambda x: len(tokenizer.tokenize(x))).clip(0, 4096).hist(\n",
    "    bins=20\n",
    ")"
   ]
  },
  {
   "cell_type": "code",
   "execution_count": 1,
   "metadata": {},
   "outputs": [
    {
     "name": "stdout",
     "output_type": "stream",
     "text": [
      "Cross-validated F1 score: 0.185 +/- 0.060\n",
      "Cross-validated F1 score: 0.157 +/- 0.060\n"
     ]
    }
   ],
   "source": [
    "from src.models.propensity_scores.text import f1_augmented, f1_combi, f1_text, f1_ts\n",
    "\n",
    "f1_ts()\n",
    "f1_text(cutoff=1000)\n",
    "# f1_combi(cutoff=1000)\n",
    "# f1_augmented(cutoff=1000)"
   ]
  },
  {
   "cell_type": "code",
   "execution_count": 8,
   "metadata": {},
   "outputs": [
    {
     "data": {
      "image/png": "[encoded data removed]",
      "text/plain": [
       "<Figure size 640x480 with 1 Axes>"
      ]
     },
     "metadata": {},
     "output_type": "display_data"
    }
   ],
   "source": [
    "import matplotlib.pyplot as plt\n",
    "\n",
    "from src.models.propensity_scores.text import get_text_probas\n",
    "\n",
    "X_text_proba = get_text_probas(cutoff=500)\n",
    "plt.hist(X_text_proba[:, 1], bins=100)\n",
    "plt.show()"
   ]
  },
  {
   "cell_type": "code",
   "execution_count": 13,
   "metadata": {},
   "outputs": [
    {
     "data": {
      "image/png": "[encoded data removed]",
      "text/latex": [
       "$\\displaystyle 0.165501165501166$"
      ],
      "text/plain": [
       "0.1655011655011655"
      ]
     },
     "execution_count": 13,
     "metadata": {},
     "output_type": "execute_result"
    }
   ],
   "source": [
    "proba = X_text_proba[:, 0]\n",
    "sum((proba < 0.95) & (proba > 0.5)) / len(proba)"
   ]
  },
  {
   "cell_type": "code",
   "execution_count": null,
   "metadata": {},
   "outputs": [
    {
     "data": {
      "text/plain": [
       "count    14157.000000\n",
       "mean      2054.008264\n",
       "std       1394.894754\n",
       "min          0.000000\n",
       "25%        873.000000\n",
       "50%       2008.000000\n",
       "75%       2954.000000\n",
       "max       7889.000000\n",
       "Name: text_lag-1, dtype: float64"
      ]
     },
     "execution_count": 4,
     "metadata": {},
     "output_type": "execute_result"
    }
   ],
   "source": [
    "df[\"text_lag-1\"].str.split().str.len().describe()"
   ]
  },
  {
   "cell_type": "markdown",
   "metadata": {},
   "source": [
    "input lenghts:\n",
    "\n",
    "- electra: 128 tokens\n",
    "- bert: 512 tokens\n",
    "- llama 2: 4096 tokens"
   ]
  }
 ],
 "metadata": {
  "kernelspec": {
   "display_name": ".venv",
   "language": "python",
   "name": "python3"
  },
  "language_info": {
   "codemirror_mode": {
    "name": "ipython",
    "version": 3
   },
   "file_extension": ".py",
   "mimetype": "text/x-python",
   "name": "python",
   "nbconvert_exporter": "python",
   "pygments_lexer": "ipython3",
   "version": "3.10.10"
  },
  "orig_nbformat": 4
 },
 "nbformat": 4,
 "nbformat_minor": 2
}
