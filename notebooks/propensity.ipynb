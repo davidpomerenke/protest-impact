{
 "cells": [
  {
   "cell_type": "code",
   "execution_count": 1,
   "metadata": {},
   "outputs": [],
   "source": [
    "%load_ext autoreload\n",
    "%autoreload complete\n",
    "\n",
    "import matplotlib.pyplot as plt\n",
    "import numpy as np\n",
    "import pandas as pd\n",
    "import seaborn as sns\n",
    "import statsmodels.api as sm\n",
    "from matplotlib_inline.backend_inline import set_matplotlib_formats\n",
    "from tqdm.notebook import tqdm\n",
    "\n",
    "set_matplotlib_formats(\"svg\")"
   ]
  },
  {
   "cell_type": "code",
   "execution_count": 5,
   "metadata": {},
   "outputs": [
    {
     "data": {
      "application/vnd.jupyter.widget-view+json": {
       "model_id": "8a3f1641e1414db3a0a71bc0f1604a5c",
       "version_major": 2,
       "version_minor": 0
      },
      "text/plain": [
       "  0%|          | 0/16 [00:00<?, ?it/s]"
      ]
     },
     "metadata": {},
     "output_type": "display_data"
    },
    {
     "name": "stdout",
     "output_type": "stream",
     "text": [
      "*** Causal Estimate ***\n",
      "\n",
      "## Identified estimand\n",
      "Estimand type: EstimandType.NONPARAMETRIC_ATE\n",
      "\n",
      "## Realized estimand\n",
      "b: media_online_protest~occ_FFF+is_holiday+weekday_Saturday+weekday_Wednesday+weekday_Thursday+weekday_Tuesday+weekday_Monday+weekday_Sunday\n",
      "Target units: att\n",
      "\n",
      "## Estimate\n",
      "Mean value: 9.724385510260781\n",
      "\n"
     ]
    }
   ],
   "source": [
    "from dowhy import CausalModel\n",
    "from dowhy.causal_estimators.propensity_score_weighting_estimator import (\n",
    "    PropensityScoreWeightingEstimator,\n",
    ")\n",
    "from sklearn.linear_model import LogisticRegression\n",
    "\n",
    "from src.features.aggregation import naive_all_regions\n",
    "\n",
    "data = naive_all_regions()\n",
    "w_col = \"occ_FFF\"\n",
    "y_col = \"media_online_protest\"\n",
    "y = data.y[0][[y_col]]\n",
    "x_col = [\"is_holiday\"] + [c for c in data.x[0].columns if c.startswith(\"weekday\")]\n",
    "X = data.x[0][[w_col] + x_col]\n",
    "df = y.join(X)\n",
    "model = CausalModel(\n",
    "    data=df,\n",
    "    treatment=w_col,\n",
    "    outcome=y_col,\n",
    "    graph=None,\n",
    "    common_causes=x_col,\n",
    ")\n",
    "estimand = model.identify_effect()\n",
    "estimator = PropensityScoreWeightingEstimator(\n",
    "    estimand, propensity_score_model=LogisticRegression()\n",
    ")\n",
    "\n",
    "estimator = estimator.fit(df)\n",
    "estimate = estimator.estimate_effect(data=df, target_units=\"att\")\n",
    "print(estimate)"
   ]
  },
  {
   "cell_type": "code",
   "execution_count": 50,
   "metadata": {},
   "outputs": [
    {
     "name": "stderr",
     "output_type": "stream",
     "text": [
      "[autoreload of src.models.propensity_scores failed: Traceback (most recent call last):\n",
      "  File \"/Users/david/Repositories/protest-impact/.venv/lib/python3.10/site-packages/IPython/extensions/autoreload.py\", line 274, in check\n",
      "    superreload(m, reload, self.old_objects, self.shell)\n",
      "  File \"/Users/david/Repositories/protest-impact/.venv/lib/python3.10/site-packages/IPython/extensions/autoreload.py\", line 500, in superreload\n",
      "    update_generic(old_obj, new_obj)\n",
      "  File \"/Users/david/Repositories/protest-impact/.venv/lib/python3.10/site-packages/IPython/extensions/autoreload.py\", line 397, in update_generic\n",
      "    update(a, b)\n",
      "  File \"/Users/david/Repositories/protest-impact/.venv/lib/python3.10/site-packages/IPython/extensions/autoreload.py\", line 365, in update_class\n",
      "    update_instances(old, new)\n",
      "  File \"/Users/david/Repositories/protest-impact/.venv/lib/python3.10/site-packages/IPython/extensions/autoreload.py\", line 323, in update_instances\n",
      "    object.__setattr__(ref, \"__class__\", new)\n",
      "TypeError: __class__ assignment only supported for mutable types or ModuleType subclasses\n",
      "]\n"
     ]
    },
    {
     "data": {
      "application/vnd.jupyter.widget-view+json": {
       "model_id": "859a42b68f3b4c4b9231b898d97c2c01",
       "version_major": 2,
       "version_minor": 0
      },
      "text/plain": [
       "  0%|          | 0/16 [00:00<?, ?it/s]"
      ]
     },
     "metadata": {},
     "output_type": "display_data"
    },
    {
     "name": "stderr",
     "output_type": "stream",
     "text": [
      "ConvergenceWarning: lbfgs failed to converge (status=1):\n",
      "STOP: TOTAL NO. of ITERATIONS REACHED LIMIT.\n",
      "\n",
      "Increase the number of iterations (max_iter) or scale the data as shown in:\n",
      "    https://scikit-learn.org/stable/modules/preprocessing.html\n",
      "Please also refer to the documentation for alternative solver options:\n",
      "    https://scikit-learn.org/stable/modules/linear_model.html#logistic-regression\n"
     ]
    }
   ],
   "source": [
    "from sklearn.linear_model import LinearRegression\n",
    "\n",
    "from src.models.propensity_scores import DowhyWrapper, propensity\n",
    "\n",
    "model_ = DowhyWrapper(df, y_col, w_col, x_col)\n",
    "# model_ = LinearRegression()\n",
    "ts_model = propensity(lags=1, model=model_)"
   ]
  },
  {
   "cell_type": "code",
   "execution_count": 54,
   "metadata": {},
   "outputs": [
    {
     "name": "stdout",
     "output_type": "stream",
     "text": [
      "*** Causal Estimate ***\n",
      "\n",
      "## Identified estimand\n",
      "Estimand type: EstimandType.NONPARAMETRIC_ATE\n",
      "\n",
      "## Realized estimand\n",
      "b: media_online_protest~occ_FFF_futcov_lag0+occ_GP_futcov_lag0+occ_GP_futcov_lag-1+weekday_Thursday_futcov_lag-1+occ_EG_futcov_lag0+weekday_Wednesday_futcov_lag-1+SERIES8_statcov_target_media_online_protest+occ_OTHER_CLIMATE_ORG_futcov_lag0+SERIES9_statcov_target_media_online_protest+SERIES6_statcov_target_media_online_protest+weekday_Saturday_futcov_lag0+weekday_Thursday_futcov_lag0+occ_EG_futcov_lag-1+weekday_Wednesday_futcov_lag0+SERIES12_statcov_target_media_online_protest+occ_FFFX_futcov_lag-1+weekday_Monday_futcov_lag-1+occ_FFF_futcov_lag-1+SERIES5_statcov_target_media_online_protest+weekday_Monday_futcov_lag0+SERIES2_statcov_target_media_online_protest+is_holiday_futcov_lag0+occ_XR_futcov_lag-1+weekday_Tuesday_futcov_lag-1+SERIES11_statcov_target_media_online_protest+SERIES7_statcov_target_media_online_protest+occ_FFFX_futcov_lag0+SERIES1_statcov_target_media_online_protest+weekday_Tuesday_futcov_lag0+SERIES0_statcov_target_media_online_protest+SERIES3_statcov_target_media_online_protest+weekday_Saturday_futcov_lag-1+occ_OTHER_CLIMATE_ORG_futcov_lag-1+weekday_Sunday_futcov_lag-1+is_holiday_futcov_lag-1+SERIES10_statcov_target_media_online_protest+occ_XR_futcov_lag0+weekday_Sunday_futcov_lag0+occ_ALG_futcov_lag0+media_online_protest_target_lag-1+SERIES4_statcov_target_media_online_protest+occ_ALG_futcov_lag-1\n",
      "Target units: att\n",
      "\n",
      "## Estimate\n",
      "Mean value: 8.025490875394755\n",
      "\n"
     ]
    }
   ],
   "source": [
    "print(\n",
    "    ts_model.model.estimator.estimate_effect(data=ts_model.model.df, target_units=\"att\")\n",
    ")"
   ]
  },
  {
   "cell_type": "code",
   "execution_count": null,
   "metadata": {},
   "outputs": [],
   "source": []
  }
 ],
 "metadata": {
  "kernelspec": {
   "display_name": ".venv",
   "language": "python",
   "name": "python3"
  },
  "language_info": {
   "codemirror_mode": {
    "name": "ipython",
    "version": 3
   },
   "file_extension": ".py",
   "mimetype": "text/x-python",
   "name": "python",
   "nbconvert_exporter": "python",
   "pygments_lexer": "ipython3",
   "version": "3.10.10"
  },
  "orig_nbformat": 4
 },
 "nbformat": 4,
 "nbformat_minor": 2
}
