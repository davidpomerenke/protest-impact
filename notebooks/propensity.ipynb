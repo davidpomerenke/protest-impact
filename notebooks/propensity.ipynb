{
 "cells": [
  {
   "cell_type": "code",
   "execution_count": 1,
   "metadata": {},
   "outputs": [],
   "source": [
    "%load_ext autoreload\n",
    "%autoreload complete\n",
    "\n",
    "import matplotlib.pyplot as plt\n",
    "import numpy as np\n",
    "import pandas as pd\n",
    "import seaborn as sns\n",
    "import statsmodels.api as sm\n",
    "from matplotlib_inline.backend_inline import set_matplotlib_formats\n",
    "from tqdm.notebook import tqdm\n",
    "\n",
    "set_matplotlib_formats(\"svg\")"
   ]
  },
  {
   "cell_type": "code",
   "execution_count": 27,
   "metadata": {},
   "outputs": [
    {
     "data": {
      "application/vnd.jupyter.widget-view+json": {
       "model_id": "0ff241d4eafd4e81a91958eadb69ca9a",
       "version_major": 2,
       "version_minor": 0
      },
      "text/plain": [
       "  0%|          | 0/16 [00:00<?, ?it/s]"
      ]
     },
     "metadata": {},
     "output_type": "display_data"
    },
    {
     "name": "stdout",
     "output_type": "stream",
     "text": [
      "*** Causal Estimate ***\n",
      "\n",
      "## Identified estimand\n",
      "Estimand type: EstimandType.NONPARAMETRIC_ATE\n",
      "\n",
      "## Realized estimand\n",
      "b: media_protest~occ_FFF+is_holiday+weekday_Sunday+weekday_Thursday+weekday_Tuesday+weekday_Wednesday+weekday_Saturday+weekday_Monday\n",
      "Target units: att\n",
      "\n",
      "## Estimate\n",
      "Mean value: 9.724385510260781\n",
      "\n"
     ]
    }
   ],
   "source": [
    "from dowhy import CausalModel\n",
    "from dowhy.causal_estimators.propensity_score_weighting_estimator import (\n",
    "    PropensityScoreWeightingEstimator,\n",
    ")\n",
    "from sklearn.linear_model import LogisticRegression\n",
    "\n",
    "from src.features.aggregation import naive_all_regions\n",
    "\n",
    "data = naive_all_regions()\n",
    "y = data.y[0][[\"media_protest\"]]\n",
    "common_causes = [\"is_holiday\"] + [\n",
    "    c for c in data.x[0].columns if c.startswith(\"weekday\")\n",
    "]\n",
    "X = data.x[0][[\"occ_FFF\"] + common_causes]\n",
    "df = y.join(X)\n",
    "model = CausalModel(\n",
    "    data=df,\n",
    "    treatment=\"occ_FFF\",\n",
    "    outcome=\"media_protest\",\n",
    "    graph=None,\n",
    "    common_causes=common_causes,\n",
    ")\n",
    "estimand = model.identify_effect()\n",
    "estimator = PropensityScoreWeightingEstimator(\n",
    "    estimand, propensity_score_model=LogisticRegression()\n",
    ").fit(df)\n",
    "estimate = estimator.estimate_effect(data=df, target_units=\"att\")\n",
    "print(estimate)"
   ]
  },
  {
   "cell_type": "code",
   "execution_count": null,
   "metadata": {},
   "outputs": [],
   "source": []
  }
 ],
 "metadata": {
  "kernelspec": {
   "display_name": ".venv",
   "language": "python",
   "name": "python3"
  },
  "language_info": {
   "codemirror_mode": {
    "name": "ipython",
    "version": 3
   },
   "file_extension": ".py",
   "mimetype": "text/x-python",
   "name": "python",
   "nbconvert_exporter": "python",
   "pygments_lexer": "ipython3",
   "version": "3.10.10"
  },
  "orig_nbformat": 4
 },
 "nbformat": 4,
 "nbformat_minor": 2
}
