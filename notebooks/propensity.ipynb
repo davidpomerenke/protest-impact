{
 "cells": [
  {
   "cell_type": "code",
   "execution_count": 1,
   "metadata": {},
   "outputs": [],
   "source": [
    "%load_ext autoreload\n",
    "%autoreload complete\n",
    "\n",
    "import matplotlib.pyplot as plt\n",
    "import numpy as np\n",
    "import pandas as pd\n",
    "import seaborn as sns\n",
    "import statsmodels.api as sm\n",
    "from matplotlib_inline.backend_inline import set_matplotlib_formats\n",
    "from tqdm.notebook import tqdm\n",
    "\n",
    "set_matplotlib_formats(\"svg\")"
   ]
  },
  {
   "cell_type": "code",
   "execution_count": null,
   "metadata": {},
   "outputs": [],
   "source": [
    "from dowhy import CausalModel\n",
    "from dowhy.causal_estimators.propensity_score_weighting_estimator import (\n",
    "    PropensityScoreWeightingEstimator,\n",
    ")\n",
    "from sklearn.linear_model import LogisticRegression\n",
    "\n",
    "from src.features.aggregation import naive_all_regions\n",
    "\n",
    "data = naive_all_regions()\n",
    "w_col = \"occ_FFF\"\n",
    "y_col = \"media_online_protest\"\n",
    "y = data.y[0][[y_col]]\n",
    "x_col = [\"is_holiday\"] + [c for c in data.x[0].columns if c.startswith(\"weekday\")]\n",
    "X = data.x[0][[w_col] + x_col]\n",
    "df = y.join(X)\n",
    "model = CausalModel(\n",
    "    data=df,\n",
    "    treatment=w_col,\n",
    "    outcome=y_col,\n",
    "    graph=None,\n",
    "    common_causes=x_col,\n",
    ")\n",
    "estimand = model.identify_effect()\n",
    "estimator = PropensityScoreWeightingEstimator(\n",
    "    estimand, propensity_score_model=LogisticRegression()\n",
    ")\n",
    "\n",
    "estimator = estimator.fit(df)\n",
    "estimate = estimator.estimate_effect(data=df, target_units=\"att\")\n",
    "print(estimate)"
   ]
  },
  {
   "cell_type": "code",
   "execution_count": 2,
   "metadata": {},
   "outputs": [
    {
     "data": {
      "application/vnd.jupyter.widget-view+json": {
       "model_id": "41e6ccb4f28a4cf0991552f2c1b9c7b5",
       "version_major": 2,
       "version_minor": 0
      },
      "text/plain": [
       "  0%|          | 0/16 [00:00<?, ?it/s]"
      ]
     },
     "metadata": {},
     "output_type": "display_data"
    },
    {
     "name": "stderr",
     "output_type": "stream",
     "text": [
      "ERROR:tornado.general:SEND Error: Host unreachable\n"
     ]
    },
    {
     "ename": "ValueError",
     "evalue": "The truth value of a Index is ambiguous. Use a.empty, a.bool(), a.item(), a.any() or a.all().",
     "output_type": "error",
     "traceback": [
      "\u001b[0;31m---------------------------------------------------------------------------\u001b[0m",
      "\u001b[0;31mValueError\u001b[0m                                Traceback (most recent call last)",
      "Cell \u001b[0;32mIn[2], line 5\u001b[0m\n\u001b[1;32m      1\u001b[0m \u001b[39mfrom\u001b[39;00m \u001b[39msklearn\u001b[39;00m\u001b[39m.\u001b[39;00m\u001b[39mlinear_model\u001b[39;00m \u001b[39mimport\u001b[39;00m LinearRegression\n\u001b[1;32m      3\u001b[0m \u001b[39mfrom\u001b[39;00m \u001b[39msrc\u001b[39;00m\u001b[39m.\u001b[39;00m\u001b[39mmodels\u001b[39;00m\u001b[39m.\u001b[39;00m\u001b[39mpropensity_scores\u001b[39;00m \u001b[39mimport\u001b[39;00m propensity\n\u001b[0;32m----> 5\u001b[0m ts_model \u001b[39m=\u001b[39m propensity(w\u001b[39m=\u001b[39;49m\u001b[39m\"\u001b[39;49m\u001b[39mocc_FFF\u001b[39;49m\u001b[39m\"\u001b[39;49m, lags\u001b[39m=\u001b[39;49m\u001b[39m1\u001b[39;49m)\n",
      "File \u001b[0;32m~/Repositories/protest-impact/src/models/propensity_scores/__init__.py:91\u001b[0m, in \u001b[0;36mpropensity\u001b[0;34m(w, lags, steps)\u001b[0m\n\u001b[1;32m     84\u001b[0m propensity_model \u001b[39m=\u001b[39m DowhyWrapper(\n\u001b[1;32m     85\u001b[0m     df\u001b[39m=\u001b[39mpd\u001b[39m.\u001b[39mDataFrame(),\n\u001b[1;32m     86\u001b[0m     y\u001b[39m=\u001b[39my[\u001b[39m0\u001b[39m]\u001b[39m.\u001b[39mcolumns,\n\u001b[1;32m     87\u001b[0m     w\u001b[39m=\u001b[39mw \u001b[39m+\u001b[39m \u001b[39m\"\u001b[39m\u001b[39m_futcov_lag0\u001b[39m\u001b[39m\"\u001b[39m,\n\u001b[1;32m     88\u001b[0m     x\u001b[39m=\u001b[39mfeature_names,\n\u001b[1;32m     89\u001b[0m )\n\u001b[1;32m     90\u001b[0m ts_model \u001b[39m=\u001b[39m RegressionModel(model\u001b[39m=\u001b[39mpropensity_model, \u001b[39m*\u001b[39m\u001b[39m*\u001b[39mmodel_args)\n\u001b[0;32m---> 91\u001b[0m ts_model\u001b[39m.\u001b[39;49mfit(\u001b[39m*\u001b[39;49m\u001b[39m*\u001b[39;49mfit_args)\n\u001b[1;32m     92\u001b[0m \u001b[39mreturn\u001b[39;00m ts_model\n",
      "File \u001b[0;32m~/Repositories/protest-impact/.venv/lib/python3.10/site-packages/darts/models/forecasting/regression_model.py:540\u001b[0m, in \u001b[0;36mRegressionModel.fit\u001b[0;34m(self, series, past_covariates, future_covariates, max_samples_per_ts, n_jobs_multioutput_wrapper, **kwargs)\u001b[0m\n\u001b[1;32m    532\u001b[0m     logger\u001b[39m.\u001b[39mwarning(\u001b[39m\"\u001b[39m\u001b[39mProvided `n_jobs_multioutput_wrapper` wasn\u001b[39m\u001b[39m'\u001b[39m\u001b[39mt used.\u001b[39m\u001b[39m\"\u001b[39m)\n\u001b[1;32m    534\u001b[0m \u001b[39msuper\u001b[39m()\u001b[39m.\u001b[39mfit(\n\u001b[1;32m    535\u001b[0m     series\u001b[39m=\u001b[39mseq2series(series),\n\u001b[1;32m    536\u001b[0m     past_covariates\u001b[39m=\u001b[39mseq2series(past_covariates),\n\u001b[1;32m    537\u001b[0m     future_covariates\u001b[39m=\u001b[39mseq2series(future_covariates),\n\u001b[1;32m    538\u001b[0m )\n\u001b[0;32m--> 540\u001b[0m \u001b[39mself\u001b[39;49m\u001b[39m.\u001b[39;49m_fit_model(\n\u001b[1;32m    541\u001b[0m     series, past_covariates, future_covariates, max_samples_per_ts, \u001b[39m*\u001b[39;49m\u001b[39m*\u001b[39;49mkwargs\n\u001b[1;32m    542\u001b[0m )\n\u001b[1;32m    544\u001b[0m \u001b[39mreturn\u001b[39;00m \u001b[39mself\u001b[39m\n",
      "File \u001b[0;32m~/Repositories/protest-impact/.venv/lib/python3.10/site-packages/darts/models/forecasting/regression_model.py:410\u001b[0m, in \u001b[0;36mRegressionModel._fit_model\u001b[0;34m(self, target_series, past_covariates, future_covariates, max_samples_per_ts, **kwargs)\u001b[0m\n\u001b[1;32m    408\u001b[0m \u001b[39mif\u001b[39;00m \u001b[39mlen\u001b[39m(training_labels\u001b[39m.\u001b[39mshape) \u001b[39m==\u001b[39m \u001b[39m2\u001b[39m \u001b[39mand\u001b[39;00m training_labels\u001b[39m.\u001b[39mshape[\u001b[39m1\u001b[39m] \u001b[39m==\u001b[39m \u001b[39m1\u001b[39m:\n\u001b[1;32m    409\u001b[0m     training_labels \u001b[39m=\u001b[39m training_labels\u001b[39m.\u001b[39mravel()\n\u001b[0;32m--> 410\u001b[0m \u001b[39mself\u001b[39;49m\u001b[39m.\u001b[39;49mmodel\u001b[39m.\u001b[39;49mfit(training_samples, training_labels, \u001b[39m*\u001b[39;49m\u001b[39m*\u001b[39;49mkwargs)\n\u001b[1;32m    412\u001b[0m \u001b[39m# generate and store the lagged components names (for feature importance analysis)\u001b[39;00m\n\u001b[1;32m    413\u001b[0m \u001b[39mself\u001b[39m\u001b[39m.\u001b[39m_lagged_feature_names, _ \u001b[39m=\u001b[39m create_lagged_component_names(\n\u001b[1;32m    414\u001b[0m     target_series\u001b[39m=\u001b[39mtarget_series,\n\u001b[1;32m    415\u001b[0m     past_covariates\u001b[39m=\u001b[39mpast_covariates,\n\u001b[0;32m   (...)\u001b[0m\n\u001b[1;32m    422\u001b[0m     use_static_covariates\u001b[39m=\u001b[39m\u001b[39mself\u001b[39m\u001b[39m.\u001b[39muses_static_covariates,\n\u001b[1;32m    423\u001b[0m )\n",
      "File \u001b[0;32m~/Repositories/protest-impact/src/models/propensity_scores/__init__.py:46\u001b[0m, in \u001b[0;36mDowhyWrapper.fit\u001b[0;34m(self, X, y)\u001b[0m\n\u001b[1;32m     44\u001b[0m df \u001b[39m=\u001b[39m y\u001b[39m.\u001b[39mjoin(X)\n\u001b[1;32m     45\u001b[0m \u001b[39mself\u001b[39m\u001b[39m.\u001b[39mdf \u001b[39m=\u001b[39m df\n\u001b[0;32m---> 46\u001b[0m \u001b[39mself\u001b[39m\u001b[39m.\u001b[39mcausal_model \u001b[39m=\u001b[39m CausalModel(\n\u001b[1;32m     47\u001b[0m     data\u001b[39m=\u001b[39;49mdf,\n\u001b[1;32m     48\u001b[0m     treatment\u001b[39m=\u001b[39;49m\u001b[39mself\u001b[39;49m\u001b[39m.\u001b[39;49mw,\n\u001b[1;32m     49\u001b[0m     outcome\u001b[39m=\u001b[39;49m\u001b[39mself\u001b[39;49m\u001b[39m.\u001b[39;49my,\n\u001b[1;32m     50\u001b[0m     common_causes\u001b[39m=\u001b[39;49m[c \u001b[39mfor\u001b[39;49;00m c \u001b[39min\u001b[39;49;00m \u001b[39mself\u001b[39;49m\u001b[39m.\u001b[39;49mx \u001b[39mif\u001b[39;49;00m c \u001b[39m!=\u001b[39;49m \u001b[39mself\u001b[39;49m\u001b[39m.\u001b[39;49mw],\n\u001b[1;32m     51\u001b[0m     graph\u001b[39m=\u001b[39;49m\u001b[39mNone\u001b[39;49;00m,\n\u001b[1;32m     52\u001b[0m )\n\u001b[1;32m     53\u001b[0m \u001b[39mself\u001b[39m\u001b[39m.\u001b[39mestimand \u001b[39m=\u001b[39m \u001b[39mself\u001b[39m\u001b[39m.\u001b[39mcausal_model\u001b[39m.\u001b[39midentify_effect()\n\u001b[1;32m     54\u001b[0m \u001b[39mself\u001b[39m\u001b[39m.\u001b[39mestimator \u001b[39m=\u001b[39m PropensityScoreWeightingEstimator(\n\u001b[1;32m     55\u001b[0m     \u001b[39mself\u001b[39m\u001b[39m.\u001b[39mestimand, propensity_score_model\u001b[39m=\u001b[39mLogisticRegression()\n\u001b[1;32m     56\u001b[0m )\u001b[39m.\u001b[39mfit(df, \u001b[39m*\u001b[39m\u001b[39m*\u001b[39m\u001b[39mself\u001b[39m\u001b[39m.\u001b[39mfit_args)\n",
      "File \u001b[0;32m~/Repositories/protest-impact/.venv/lib/python3.10/site-packages/dowhy/causal_model.py:69\u001b[0m, in \u001b[0;36mCausalModel.__init__\u001b[0;34m(self, data, treatment, outcome, graph, common_causes, instruments, effect_modifiers, estimand_type, proceed_when_unidentifiable, missing_nodes_as_confounders, identify_vars, **kwargs)\u001b[0m\n\u001b[1;32m     67\u001b[0m \u001b[39mself\u001b[39m\u001b[39m.\u001b[39m_data \u001b[39m=\u001b[39m data\n\u001b[1;32m     68\u001b[0m \u001b[39mself\u001b[39m\u001b[39m.\u001b[39m_treatment \u001b[39m=\u001b[39m parse_state(treatment)\n\u001b[0;32m---> 69\u001b[0m \u001b[39mself\u001b[39m\u001b[39m.\u001b[39m_outcome \u001b[39m=\u001b[39m parse_state(outcome)\n\u001b[1;32m     70\u001b[0m \u001b[39mself\u001b[39m\u001b[39m.\u001b[39m_effect_modifiers \u001b[39m=\u001b[39m parse_state(effect_modifiers)\n\u001b[1;32m     71\u001b[0m \u001b[39mself\u001b[39m\u001b[39m.\u001b[39m_estimand_type \u001b[39m=\u001b[39m estimand_type\n",
      "File \u001b[0;32m~/Repositories/protest-impact/.venv/lib/python3.10/site-packages/dowhy/utils/api.py:8\u001b[0m, in \u001b[0;36mparse_state\u001b[0;34m(state)\u001b[0m\n\u001b[1;32m      6\u001b[0m \u001b[39mif\u001b[39;00m \u001b[39misinstance\u001b[39m(state, \u001b[39mdict\u001b[39m):\n\u001b[1;32m      7\u001b[0m     \u001b[39mreturn\u001b[39;00m [xi \u001b[39mfor\u001b[39;00m xi \u001b[39min\u001b[39;00m state\u001b[39m.\u001b[39mkeys()]\n\u001b[0;32m----> 8\u001b[0m \u001b[39mif\u001b[39;00m \u001b[39mnot\u001b[39;00m state:\n\u001b[1;32m      9\u001b[0m     \u001b[39mreturn\u001b[39;00m []\n\u001b[1;32m     10\u001b[0m \u001b[39mraise\u001b[39;00m \u001b[39mException\u001b[39;00m(\u001b[39m\"\u001b[39m\u001b[39mInput format for \u001b[39m\u001b[39m{}\u001b[39;00m\u001b[39m not recognized: \u001b[39m\u001b[39m{}\u001b[39;00m\u001b[39m\"\u001b[39m\u001b[39m.\u001b[39mformat(state, \u001b[39mtype\u001b[39m(state)))\n",
      "File \u001b[0;32m~/Repositories/protest-impact/.venv/lib/python3.10/site-packages/pandas/core/indexes/base.py:3188\u001b[0m, in \u001b[0;36mIndex.__nonzero__\u001b[0;34m(self)\u001b[0m\n\u001b[1;32m   3186\u001b[0m \u001b[39m@final\u001b[39m\n\u001b[1;32m   3187\u001b[0m \u001b[39mdef\u001b[39;00m \u001b[39m__nonzero__\u001b[39m(\u001b[39mself\u001b[39m) \u001b[39m-\u001b[39m\u001b[39m>\u001b[39m NoReturn:\n\u001b[0;32m-> 3188\u001b[0m     \u001b[39mraise\u001b[39;00m \u001b[39mValueError\u001b[39;00m(\n\u001b[1;32m   3189\u001b[0m         \u001b[39mf\u001b[39m\u001b[39m\"\u001b[39m\u001b[39mThe truth value of a \u001b[39m\u001b[39m{\u001b[39;00m\u001b[39mtype\u001b[39m(\u001b[39mself\u001b[39m)\u001b[39m.\u001b[39m\u001b[39m__name__\u001b[39m\u001b[39m}\u001b[39;00m\u001b[39m is ambiguous. \u001b[39m\u001b[39m\"\u001b[39m\n\u001b[1;32m   3190\u001b[0m         \u001b[39m\"\u001b[39m\u001b[39mUse a.empty, a.bool(), a.item(), a.any() or a.all().\u001b[39m\u001b[39m\"\u001b[39m\n\u001b[1;32m   3191\u001b[0m     )\n",
      "\u001b[0;31mValueError\u001b[0m: The truth value of a Index is ambiguous. Use a.empty, a.bool(), a.item(), a.any() or a.all()."
     ]
    }
   ],
   "source": [
    "from sklearn.linear_model import LinearRegression\n",
    "\n",
    "from src.models.propensity_scores import propensity\n",
    "\n",
    "ts_model = propensity(w=\"occ_FFF\", lags=1)"
   ]
  },
  {
   "cell_type": "code",
   "execution_count": 54,
   "metadata": {},
   "outputs": [
    {
     "name": "stdout",
     "output_type": "stream",
     "text": [
      "*** Causal Estimate ***\n",
      "\n",
      "## Identified estimand\n",
      "Estimand type: EstimandType.NONPARAMETRIC_ATE\n",
      "\n",
      "## Realized estimand\n",
      "b: media_online_protest~occ_FFF_futcov_lag0+occ_GP_futcov_lag0+occ_GP_futcov_lag-1+weekday_Thursday_futcov_lag-1+occ_EG_futcov_lag0+weekday_Wednesday_futcov_lag-1+SERIES8_statcov_target_media_online_protest+occ_OTHER_CLIMATE_ORG_futcov_lag0+SERIES9_statcov_target_media_online_protest+SERIES6_statcov_target_media_online_protest+weekday_Saturday_futcov_lag0+weekday_Thursday_futcov_lag0+occ_EG_futcov_lag-1+weekday_Wednesday_futcov_lag0+SERIES12_statcov_target_media_online_protest+occ_FFFX_futcov_lag-1+weekday_Monday_futcov_lag-1+occ_FFF_futcov_lag-1+SERIES5_statcov_target_media_online_protest+weekday_Monday_futcov_lag0+SERIES2_statcov_target_media_online_protest+is_holiday_futcov_lag0+occ_XR_futcov_lag-1+weekday_Tuesday_futcov_lag-1+SERIES11_statcov_target_media_online_protest+SERIES7_statcov_target_media_online_protest+occ_FFFX_futcov_lag0+SERIES1_statcov_target_media_online_protest+weekday_Tuesday_futcov_lag0+SERIES0_statcov_target_media_online_protest+SERIES3_statcov_target_media_online_protest+weekday_Saturday_futcov_lag-1+occ_OTHER_CLIMATE_ORG_futcov_lag-1+weekday_Sunday_futcov_lag-1+is_holiday_futcov_lag-1+SERIES10_statcov_target_media_online_protest+occ_XR_futcov_lag0+weekday_Sunday_futcov_lag0+occ_ALG_futcov_lag0+media_online_protest_target_lag-1+SERIES4_statcov_target_media_online_protest+occ_ALG_futcov_lag-1\n",
      "Target units: att\n",
      "\n",
      "## Estimate\n",
      "Mean value: 8.025490875394755\n",
      "\n"
     ]
    }
   ],
   "source": [
    "print(\n",
    "    ts_model.model.estimator.estimate_effect(data=ts_model.model.df, target_units=\"att\")\n",
    ")"
   ]
  },
  {
   "cell_type": "code",
   "execution_count": null,
   "metadata": {},
   "outputs": [],
   "source": [
    "ts_model.model"
   ]
  }
 ],
 "metadata": {
  "kernelspec": {
   "display_name": ".venv",
   "language": "python",
   "name": "python3"
  },
  "language_info": {
   "codemirror_mode": {
    "name": "ipython",
    "version": 3
   },
   "file_extension": ".py",
   "mimetype": "text/x-python",
   "name": "python",
   "nbconvert_exporter": "python",
   "pygments_lexer": "ipython3",
   "version": "3.10.10"
  },
  "orig_nbformat": 4
 },
 "nbformat": 4,
 "nbformat_minor": 2
}
