{
 "cells": [
  {
   "cell_type": "raw",
   "metadata": {},
   "source": [
    "---\n",
    "execute:\n",
    "  freeze: true\n",
    "---"
   ],
   "id": "fd8b91c8"
  },
  {
   "cell_type": "markdown",
   "metadata": {},
   "source": [
    "<!--\n",
    "\n",
    "Analysis of the results with graphics like bargraphs and boxplots has been made. Statistical methods have been employed to compare different results. AUCs have been obtained. Minimal verification.\n",
    "+ Attention has been paid to the distribution of the data. Verification has been carried out. Attention is paid to overfitting.\n",
    "+ Results have been analysed with proper statistics. Model assumptions of statistical methods are verified or methods that do not make assumptions were employed for non-Gaussian data. Checks were made to avoid hidden overfitting.\n",
    "+ Best approach for obtaining significant results was taken while refraining from p-value hacking.\n",
    "\n",
    " -->\n",
    "\n",
    "## Results\n",
    "\n",
    "### Evaluation of methods\n",
    "\n",
    "#### Regression {#sec-res-reg}\n",
    "\n",
    "| Model          | Hyp. opt. obj. | RMSE          | Bias         |\n",
    "| -------------- | -------------- | ------------- | ------------ |\n",
    "| OLS            | min RMSE       | 110.6 ± 24.2  | -18.8 ± 10.4 |\n",
    "| OLS            | min bias       | 130.9 ± 21.5  | -14.3 ± 10.1 |\n",
    "| BayesianRidge  | min bias       | 119.7 ± 23.4  | -3.85 ± 15.2 |\n",
    "| LassoLarsIC    | min bias       | 118.9 ± 24.5  | -2.89 ± 15.7 |\n",
    "\n",
    ": Using 5-fold time-series split. (Results for using conventional cross-validation split are approximately unbiased (bias < 0.02).) {#tbl-reg-hypopt}\n",
    "\n",
    "Hyperparameter optimization shows that the best OLS regression model uses 7 time-series lags of all variables and no additional features. On 5 time-series cross-validation splits, it achieves a predictive performance with a root mean squared error (RMSE) of 36.5±6.2 and a (cross-validated) R² of 0.88±0.02. (The dimension is the sum of the number of climate articles published within a given date and the following day.) This is almost identical to a similarly tuned Bayesian Ridge regression model, which achieves an RMSE of 36.5±6.3 and the same R² value. A detailed regression table for the best OLS model can be found in @sec-app1-reg.\n"
   ],
   "id": "ab3b1e8d"
  },
  {
   "cell_type": "code",
   "metadata": {},
   "source": [
    "# | echo: False\n",
    "\n",
    "from src.models.regression.hyperopt import best_regression\n",
    "\n",
    "r = best_regression(ignore_group=True)\n",
    "t = \"occ_protest_lag0\"\n",
    "results = r.params[t], tuple(r.conf_int().loc[t]), r.pvalues[t]\n",
    "results"
   ],
   "id": "48ef184e",
   "execution_count": null,
   "outputs": []
  },
  {
   "cell_type": "markdown",
   "metadata": {},
   "source": [
    "The coefficients for the protest variables are equivalent to the ATT (see @sec-app2-reg). Statistically significant at p=0.05 are only protest events by Fridays for Future, Letzte Generation, and groups that are coded as \"other\" groups. All protest coefficients are positive except for Ende Gelände and Fridays for Future + X, with negative coefficients at p-values of 0.89 and 0.18 respectively. For the aggregated protest occurrence variable (which does not consider the organizing protest group) the estimate is +5.79 additional articles in the first two days, with a confidence interval [+2.67, +8.92] and a p-value of 0.0003. More estimates are displayed in @sec-res-est.\n",
    "\n",
    "<!-- MSE generalizability -->\n",
    "\n",
    "#### Instrumental variables\n",
    "\n",
    "Out of the 15 potential instrumental variables, 5 pandemic instruments and 4 weather instruments have a statistically significant impact on protest occurrence (see @fig-iv-basic), but when using them in a combined regression the coefficients are much less significant. Precipitation is not among the significant variables.\n",
    "\n",
    "Automatically binarizing the variables based on an optimally chosen threshold does not generally increase the coefficients and siginificances, and decreases them slightly in most cases. This is also true for precipiation: The optimal threshold for maximizing the covariance with protest occurrence is at prcp > 0, which is consistent with the choice in most related work (see @sec-weatherlit). I find that such binarization is not systematically better or worse than using the continuous value. (For the single regression, it slightly decreases the coefficient, and for the combined regression with other variables it slightly increases the coefficient.)\n"
   ],
   "id": "6aa9b37d"
  },
  {
   "cell_type": "code",
   "metadata": {
    "fig-label": "fig-iv-pc"
   },
   "source": [
    "# | echo: false\n",
    "# | fig-cap: Principal components of the\n",
    "from src.models.instrumental_variable import pc_vis\n",
    "\n",
    "pc_vis(\"pc_weather_covid\", numbers=[0, 7, 11])"
   ],
   "id": "475d44c1",
   "execution_count": null,
   "outputs": []
  },
  {
   "cell_type": "markdown",
   "metadata": {},
   "source": [
    "<!-- pc_0 at p=0.0005, pc_7 at p=0.007, and pc_11 at p=0.008 -->\n",
    "\n",
    "Principal component decomposition isolates three very significant components with p<0.01, while the other components have p>0.05.^[This is without adjusting for multiple testing since no hypothesis tests or thresholds are used, but the analysis is rather exploratory.] The three components are displayed in terms of the original variables in @fig-iv-pc.\n"
   ],
   "id": "3dd998bd"
  },
  {
   "cell_type": "code",
   "metadata": {
    "fig-label": "fig-iv-pc-deseasoned"
   },
   "source": [
    "# | echo: false\n",
    "# | fig-cap: Principal components of the\n",
    "from src.models.instrumental_variable import pc_vis\n",
    "\n",
    "pc_vis(\"pc_weather_covid_season\", numbers=[9, 8, 11], dfs=slice(1, 2))"
   ],
   "id": "0fab9b0b",
   "execution_count": null,
   "outputs": []
  },
  {
   "cell_type": "markdown",
   "metadata": {},
   "source": [
    "Deseasoning the original variables and then performing separate principle component analyses on seasonal and residual parts shows that most of the significant variables are seasonal in nature; but there is also one very significant residual variable pc_resid_9 at p=0.0005 and two somewhat significant residual variables pc_resid_8 at p=0.05 and pc_resid_11 at p=0.07, while all other residual components have p>0.15 (without adjusting for multiple testing). The more significant components are broken down in @fig-iv-pc-deseasoned. The first-stage f-statistic for pc_resid_9 is f=33.82; f=2.08 for pc_resid_8; and f=2.02. According to the \"rule of thumb\" (@InstrumentalVariablesEstimation2023) the threshold for weak instruments is around f=10, so pc_resid_9 would be a strong instrument but the other ones would all be weak. The combined f-statistic of the three mentioned components is f=38.74.\n",
    "\n",
    "Placebo tests for the first stage (the impact of the instrument on the treatment) are given in @fig-iv-1-placebo. From day 3 after the protest date there is no longer a significant impact of the instrument on the treatment\n"
   ],
   "id": "6dbf6c34"
  },
  {
   "cell_type": "code",
   "metadata": {
    "fig-label": "fig-iv-1-placebo"
   },
   "source": [
    "import matplotlib.pyplot as plt\n",
    "\n",
    "# | fig-cap: First stage placebo tests for using the principal component pc_resid_9 to instrument protest occurrence. Values for the instrument from after the protest date are used. These values cannot have an impact on protest occurrence if the instrument is valid.\n",
    "# | echo: false\n",
    "from src.models.time_series import instrumental_variable_liml\n",
    "\n",
    "results = instrumental_variable_liml(\n",
    "    target=\"media_combined_protest\",\n",
    "    treatment=\"occ_protest\",\n",
    "    instruments=\"pc_weather_covid_season\",\n",
    "    iv_instruments=[\"pc_resid_9\"],\n",
    "    lags=range(-7, 1),\n",
    "    ignore_group=True,\n",
    "    ignore_medium=True,\n",
    "    cumulative=False,\n",
    "    steps=range(-7, 29),\n",
    "    shift_instruments=True,\n",
    "    show_progress=False,\n",
    ")\n",
    "fig, ax = plt.subplots(figsize=(6, 3))\n",
    "ax.plot(results.step, results.first_stage_coef, marker=\".\")\n",
    "ax.fill_between(\n",
    "    results.step,\n",
    "    results.first_stage_ci_lower,\n",
    "    results.first_stage_ci_upper,\n",
    "    alpha=0.2,\n",
    "    color=\"C0\",\n",
    ")\n",
    "ax.axhline(0, color=\"k\", linewidth=0.5)\n",
    "ax.axvline(0, color=\"k\", linestyle=\"--\")\n",
    "ax.set_xlabel(\"Day of instrument (relative to protest)\")\n",
    "ax.set_ylabel(\"First stage coefficient\")\n",
    "ax.set_title(\n",
    "    \"First stage placebo tests with shifted outcome: Impact of pc_resid_9 on protest occurrence\"\n",
    ")\n",
    "plt.tight_layout()\n",
    "plt.show()"
   ],
   "id": "38a56338",
   "execution_count": null,
   "outputs": []
  },
  {
   "cell_type": "markdown",
   "metadata": {},
   "source": [
    "#### Synthetic control\n",
    "\n",
    "180 lags\n",
    "rmse 65.8+-2.40\n",
    "bias\n",
    "-0.330+-1.13\n"
   ],
   "id": "955fa0d8"
  },
  {
   "cell_type": "code",
   "metadata": {},
   "source": [
    "# | echo: false\n",
    "\n",
    "import matplotlib.pyplot as plt\n",
    "\n",
    "from src.models.synthetic_control.hyperopt import hyperopt\n",
    "\n",
    "results, _ = hyperopt(show_progress=False)\n",
    "fig, ax = plt.subplots(figsize=(5, 2))\n",
    "ax.plot([abs(r[\"lags\"][0]) for r in results], [r[\"bias\"] for r in results], marker=\".\")\n",
    "plt.fill_between(\n",
    "    [abs(r[\"lags\"][0]) for r in results],\n",
    "    [r[\"bias\"] - r[\"bias_std\"] for r in results],\n",
    "    [r[\"bias\"] + r[\"bias_std\"] for r in results],\n",
    "    alpha=0.2,\n",
    ")\n",
    "ax.axhline(0, color=\"black\", linewidth=0.5)\n",
    "ax.set_xlabel(\"Pre-period length\")\n",
    "ax.set_ylabel(\"Bias\")\n",
    "ax.set_title(\"Bias vs. pre-period length\")\n",
    "ax.set_xticks([abs(r[\"lags\"][0]) for r in results])\n",
    "plt.tight_layout()\n",
    "plt.show()"
   ],
   "id": "b3ce7b66",
   "execution_count": null,
   "outputs": []
  },
  {
   "cell_type": "code",
   "metadata": {},
   "source": [
    "# | echo: false\n",
    "import matplotlib.pyplot as plt\n",
    "\n",
    "from src.models.synthetic_control import sc_plot\n",
    "\n",
    "titlenames = [\n",
    "    (\"articles mentioning protest\", \"media_combined_protest\"),\n",
    "    (\"articles NOT mentioning protest\", \"media_combined_not_protest\"),\n",
    "]\n",
    "for t, n in titlenames:\n",
    "    fig, ax = sc_plot(t, n, scale=\"demean\", pre_period=22, post_period=22)\n",
    "    ax.set_xlim(-25, 25)\n",
    "    plt.show()"
   ],
   "id": "82830e13",
   "execution_count": null,
   "outputs": []
  },
  {
   "cell_type": "code",
   "metadata": {},
   "source": [
    "# | echo: false\n",
    "# | fig-cap: with 7-day rolling average\n",
    "\n",
    "for t, n in titlenames:\n",
    "    fig, ax = sc_plot(\n",
    "        t, n, scale=\"demean\", rolling=7, pre_period=365, post_period=3 * 28\n",
    "    )\n",
    "    plt.show()"
   ],
   "id": "3dd743e2",
   "execution_count": null,
   "outputs": []
  },
  {
   "cell_type": "markdown",
   "metadata": {},
   "source": [
    "Difficulties with large protest events: plot size vs #regions\n",
    "\n",
    "#### Propensity scores\n",
    "\n",
    "hypopt n lags, ewm, diffs, log sizes\n",
    "\n",
    "predicting all positive: 0.118\n",
    "\n",
    "logistic regression unbalanced with diffs, ewms, sizes, 4 lags\n",
    "\n",
    "F1: 0.233±0.044\n",
    "balanced: 0.213+-0.017\n",
    "\n",
    "### Placebo tests\n",
    "\n",
    "#### Placebo outcome\n"
   ],
   "id": "ef50d841"
  },
  {
   "cell_type": "code",
   "metadata": {},
   "source": [
    "# | column: page\n",
    "# | echo: false\n",
    "import matplotlib.pyplot as plt\n",
    "\n",
    "from src.visualization.impacts import plot_trends\n",
    "\n",
    "fig, axes = plot_trends(cumulative=False, steps=range(-28, 8), show_progress=False)\n",
    "fig.suptitle(\"Placebo test: estimating the causal impact on outcomes before the event\")\n",
    "axes[0].set_xticks(range(-28, 8, 7))\n",
    "axes[0].set_ylim(-30, 30)\n",
    "axes[1].set_ylim(-30, 30)\n",
    "axes[2].set_ylim(-5, 5)\n",
    "axes[3].set_ylim(-5, 5)\n",
    "axes[4].set_ylim(-300, 300)\n",
    "plt.tight_layout()\n",
    "plt.show()"
   ],
   "id": "cfae14ad",
   "execution_count": null,
   "outputs": []
  },
  {
   "cell_type": "markdown",
   "metadata": {},
   "source": [
    "#### Placebo treatment\n"
   ],
   "id": "34e49139"
  },
  {
   "cell_type": "code",
   "metadata": {},
   "source": [
    "# | column: page\n",
    "# | echo: false\n",
    "import matplotlib.pyplot as plt\n",
    "\n",
    "from src.visualization.impacts import plot_trends\n",
    "\n",
    "fig, axes = plot_trends(\n",
    "    cumulative=False,\n",
    "    steps=range(-15, 15),\n",
    "    random_treatment_global=56,\n",
    "    show_progress=False,\n",
    ")\n",
    "fig.suptitle(\"Placebo test: estimating the causal impact of random events\")\n",
    "# axes[0].set_ylim(-3, 5)\n",
    "axes[0].set_xticks(range(-14, 15, 7))\n",
    "axes[0].set_ylim(-5, 5)\n",
    "axes[1].set_ylim(-5, 5)\n",
    "axes[2].set_ylim(-5, 5)\n",
    "axes[3].set_ylim(-5, 5)\n",
    "axes[4].set_ylim(-1000, 1000)\n",
    "plt.tight_layout()\n",
    "plt.show()"
   ],
   "id": "dc8394e9",
   "execution_count": null,
   "outputs": []
  },
  {
   "cell_type": "code",
   "metadata": {},
   "source": [
    "# | column: page\n",
    "# | echo: false\n",
    "import matplotlib.pyplot as plt\n",
    "\n",
    "from src.visualization.impacts import plot_trends\n",
    "\n",
    "fig, axes = plot_trends(\n",
    "    cumulative=False,\n",
    "    steps=range(-15, 15),\n",
    "    random_treatment_regional=25,\n",
    "    show_progress=False,\n",
    ")\n",
    "fig.suptitle(\"Placebo test: estimating the causal impact of random events\")\n",
    "# axes[0].set_ylim(-3, 5)\n",
    "axes[0].set_xticks(range(-14, 14, 7))\n",
    "axes[0].set_ylim(-30, 30)\n",
    "axes[1].set_ylim(-30, 30)\n",
    "axes[2].set_ylim(-5, 5)\n",
    "axes[3].set_ylim(-5, 5)\n",
    "axes[4].set_ylim(-3000, 3000)\n",
    "plt.tight_layout()\n",
    "plt.show()"
   ],
   "id": "c17feda8",
   "execution_count": null,
   "outputs": []
  },
  {
   "cell_type": "code",
   "metadata": {
    "fig-caption": "Error bars are 95% confidence intervals."
   },
   "source": [
    "# | column: page\n",
    "# | echo: false\n",
    "\n",
    "# Does this even make so much sense, placebo for protest groups? maybe leave out.\n",
    "\n",
    "# import altair as alt\n",
    "# from src.visualization.impacts import plot_groups\n",
    "\n",
    "# alt.renderers.enable(\"altair_saver\", fmts=[\"html\", \"svg\"])\n",
    "# plot_groups(kind=\"methods\", step=1, random_treatment_global=True)\n",
    "# axes[0].set_ylim(-5, 5)\n",
    "# axes[1].set_ylim(-5, 5)\n",
    "# axes[2].set_ylim(-5, 5)\n",
    "# axes[3].set_ylim(-5, 5)\n",
    "# axes[4].set_ylim(-5, 5)"
   ],
   "id": "12a18762",
   "execution_count": null,
   "outputs": []
  },
  {
   "cell_type": "markdown",
   "metadata": {},
   "source": [
    "### Causal impact estimates {#sec-res-est}\n",
    "\n",
    "#### Time series\n"
   ],
   "id": "a5018610"
  },
  {
   "cell_type": "code",
   "metadata": {},
   "source": [
    "# | fig-cap: Note that the y-axes are shared between some of the plots, but the instrumental variable plot has a much larger y-axis.\n",
    "# | column: page\n",
    "# | echo: false\n",
    "import matplotlib.pyplot as plt\n",
    "\n",
    "from src.visualization.impacts import plot_trends\n",
    "\n",
    "fig, axes = plot_trends(cumulative=False, show_progress=False)\n",
    "fig.suptitle(\"Time series of the causal impact by method and coverage dimension\")\n",
    "axes[0].set_ylim(-30, 30)\n",
    "axes[1].set_ylim(-30, 30)\n",
    "axes[2].set_ylim(-5, 5)\n",
    "axes[3].set_ylim(-5, 5)\n",
    "axes[4].set_ylim(-300, 300)\n",
    "plt.tight_layout()\n",
    "plt.show()"
   ],
   "id": "b0459828",
   "execution_count": null,
   "outputs": []
  },
  {
   "cell_type": "markdown",
   "metadata": {},
   "source": [
    "#### Cumulative impact\n"
   ],
   "id": "1a74b949"
  },
  {
   "cell_type": "code",
   "metadata": {},
   "source": [
    "# | fig-cap: Note that the y-axes are shared between some of the plots, but the instrumental variable plot has a much larger y-axis.\n",
    "# | column: page\n",
    "# | echo: false\n",
    "import matplotlib.pyplot as plt\n",
    "\n",
    "from src.visualization.impacts import plot_trends\n",
    "\n",
    "fig, axes = plot_trends(cumulative=True, show_progress=False)\n",
    "fig.suptitle(\n",
    "    \"Cumulative time series of the causal impact by method and coverage dimension\"\n",
    ")\n",
    "axes[0].set_ylim(-100, 300)\n",
    "axes[1].set_ylim(-100, 300)\n",
    "axes[2].set_ylim(-10, 30)\n",
    "axes[3].set_ylim(-10, 30)\n",
    "axes[4].set_ylim(-500, 1500)\n",
    "plt.tight_layout()\n",
    "plt.show()"
   ],
   "id": "172d29e2",
   "execution_count": null,
   "outputs": []
  },
  {
   "cell_type": "markdown",
   "metadata": {},
   "source": [
    "#### Protest groups\n",
    "\n",
    "Causal effects for the individual protest groups differ substantially between regression and inverse propensity weighting and are not statistically significant at p=0.05 for the doubly robust estimator.\n"
   ],
   "id": "c4523f9c"
  },
  {
   "cell_type": "code",
   "metadata": {
    "fig-caption": "Error bars are 95% confidence intervals."
   },
   "source": [
    "# | column: page\n",
    "# | echo: false\n",
    "\n",
    "import altair as alt\n",
    "\n",
    "from src.visualization.impacts import plot_groups\n",
    "\n",
    "alt.renderers.enable(\"altair_saver\", fmts=[\"html\", \"svg\"])\n",
    "plot_groups(kind=\"groups\", step=1)"
   ],
   "id": "20c26183",
   "execution_count": null,
   "outputs": []
  },
  {
   "cell_type": "code",
   "metadata": {
    "fig-caption": "Error bars are 95% confidence intervals."
   },
   "source": [
    "# | column: page\n",
    "# | echo: false\n",
    "\n",
    "import altair as alt\n",
    "\n",
    "from src.visualization.impacts import plot_groups\n",
    "\n",
    "alt.renderers.enable(\"altair_saver\", fmts=[\"html\", \"svg\"])\n",
    "plot_groups(kind=\"groups\", step=6)"
   ],
   "id": "37ef6064",
   "execution_count": null,
   "outputs": []
  },
  {
   "cell_type": "code",
   "metadata": {
    "fig-caption": "Error bars are 95% confidence intervals."
   },
   "source": [
    "# | column: page\n",
    "# | echo: false\n",
    "\n",
    "# problem: y axis visualization; maybe switch to matplotlib\n",
    "import altair as alt\n",
    "\n",
    "from src.visualization.impacts import plot_groups\n",
    "\n",
    "alt.renderers.enable(\"altair_saver\", fmts=[\"html\", \"svg\"])\n",
    "plot_groups(kind=\"methods\", step=6)"
   ],
   "id": "d879f9c8",
   "execution_count": null,
   "outputs": []
  },
  {
   "cell_type": "markdown",
   "metadata": {},
   "source": [
    "#### Newspaper sources\n",
    "\n",
    "#### Protest event sources\n",
    "\n",
    "TODO"
   ],
   "id": "8397fabe"
  }
 ],
 "metadata": {
  "kernelspec": {
   "name": "python3",
   "language": "python",
   "display_name": "Python 3 (ipykernel)"
  }
 },
 "nbformat": 4,
 "nbformat_minor": 5
}
