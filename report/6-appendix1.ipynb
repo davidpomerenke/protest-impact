{
 "cells": [
  {
   "cell_type": "markdown",
   "metadata": {},
   "source": [
    "## Appendix 1: Supplementary tables and figures\n",
    "\n",
    "### Data\n",
    "\n",
    "#### The German protest registrations dataset\n"
   ],
   "id": "f3260895"
  },
  {
   "cell_type": "code",
   "metadata": {},
   "source": [
    "# | echo: False\n",
    "\n",
    "from IPython.display import Markdown\n",
    "\n",
    "from src.data.protests.german_protest_registrations.data_description import (\n",
    "    pretty_overview_table,\n",
    ")\n",
    "from src.paths import tables\n",
    "\n",
    "df = pretty_overview_table(symbol=\"x\")\n",
    "# Markdown(df.to_markdown(index=False))\n",
    "df.to_csv(tables / \"gpreg-overview.csv\", sep=\";\")"
   ],
   "id": "086437d3",
   "execution_count": null,
   "outputs": []
  },
  {
   "cell_type": "markdown",
   "metadata": {},
   "source": [
    ":::{.column-page}\n",
    "\\begingroup\n",
    "\\scriptsize\\selectfont\n",
    "\\csvautobooktabular[separator=semicolon,respect sharp=true]{/Users/david/Repositories/protest-impact/report/tables/gpreg-overview.csv}\n",
    "\\endgroup\n",
    ":::\n",
    "\n",
    "Table: Overview of the German Protest Registrations (GPReg) dataset. _kpop_ = population in 1000; _cap?_ = whether the city is the political capital of its region; _reg?_ = whether the number of registered protesters (as per the organizers) is available; _obs?_ = whether the number of observed protesters (as per the police) is available; _incl?_ = whether the data is used in this thesis.\n",
    "\n",
    "#### Queries for retrieving article counts {#sec-app-queries}\n"
   ],
   "id": "cae61556"
  },
  {
   "cell_type": "code",
   "metadata": {},
   "source": [
    "# | echo: False\n",
    "\n",
    "from IPython.display import Markdown\n",
    "\n",
    "from src.data.protests.keywords import climate_query_table\n",
    "from src.paths import tables\n",
    "\n",
    "df = climate_query_table()\n",
    "# Markdown(df.to_markdown(index=False))\n",
    "df.to_csv(tables / \"queries.csv\", index=False)"
   ],
   "id": "63bdc018",
   "execution_count": null,
   "outputs": []
  },
  {
   "cell_type": "markdown",
   "metadata": {},
   "source": [
    ":::{.column-page}\n",
    "\\begingroup\n",
    "\\footnotesize\\selectfont\n",
    "\\csvautobooktabular[separator=comma,respect all]{/Users/david/Repositories/protest-impact/report/tables/queries.csv}\n",
    "\\endgroup\n",
    ":::\n",
    "\n",
    "Table: Queries for retrieving article counts from online and print newspapers. The words for each category are joined by `OR` operators, and the resulting sub-queries are further combined as described in @sec-data-discourse. The query for the protest events is adapted from @wiedemannGeneralizedApproachProtest2022.\n",
    "\n",
    "### Results\n",
    "\n",
    "#### Regression {#sec-app1-reg}\n",
    "\n",
    "\\begingroup\n",
    "\\footnotesize\\selectfont\n"
   ],
   "id": "c4802b10"
  },
  {
   "cell_type": "code",
   "metadata": {},
   "source": [
    "# | label: fig-reg-details\n",
    "# | fig-cap: 'Detailed results for the best regression model from @sec-res-reg. Dependent variable is the absolute number of articles mentioning climate change from the treatment date and the following day. Due to including time series lags there are overall 140 parameters plus a constant term, so only the 20 parameters with lowest p-values are displayed. Note that for the weekday dummies the first value (Friday) is dropped and the other dummies are to be interpreted in relation to it.'\n",
    "# | echo: false\n",
    "\n",
    "import warnings\n",
    "\n",
    "import pandas as pd\n",
    "from IPython.display import display\n",
    "\n",
    "from src.models.regression.hyperopt import best_regression\n",
    "\n",
    "warnings.simplefilter(action=\"ignore\", category=FutureWarning)\n",
    "\n",
    "tables = best_regression().summary().tables\n",
    "display(tables[0])\n",
    "results_as_html = tables[1].as_html()\n",
    "df = pd.read_html(results_as_html, header=0, index_col=0)[0]\n",
    "display(df.sort_values(\"P>|z|\").head(20).sort_index())"
   ],
   "id": "fig-reg-details",
   "execution_count": null,
   "outputs": []
  },
  {
   "cell_type": "markdown",
   "metadata": {},
   "source": [
    "\\endgroup\n",
    "\n",
    "\\begingroup\n",
    "\\footnotesize\\selectfont\n"
   ],
   "id": "789770e8"
  },
  {
   "cell_type": "code",
   "metadata": {},
   "source": [
    "# | fig-cap: Part 2 of the previous figure (some rendering issue TODO)\n",
    "# | echo: False\n",
    "\n",
    "import warnings\n",
    "\n",
    "import pandas as pd\n",
    "from IPython.display import display\n",
    "\n",
    "from src.models.regression.hyperopt import best_regression\n",
    "\n",
    "warnings.simplefilter(action=\"ignore\", category=FutureWarning)\n",
    "\n",
    "tables = best_regression().summary().tables\n",
    "results_as_html = tables[1].as_html()\n",
    "df = pd.read_html(results_as_html, header=0, index_col=0)[0]\n",
    "display(df.sort_values(\"P>|z|\").head(20).sort_index())"
   ],
   "id": "2381026c",
   "execution_count": null,
   "outputs": []
  },
  {
   "cell_type": "markdown",
   "metadata": {},
   "source": [
    "\\endgroup\n",
    "\n",
    "\\begingroup\n",
    "\\footnotesize\\selectfont\n"
   ],
   "id": "578ba44d"
  },
  {
   "cell_type": "code",
   "metadata": {},
   "source": [
    "# | label: fig-reg-details-occ\n",
    "# | fig-cap: 'Detailed results for the best regression model from @sec-res-reg: Coefficients for the occurrence of a protest.'\n",
    "# | echo: false\n",
    "display(\n",
    "    df[(df.index.str.startswith(\"occ\") & df.index.str.endswith(\"lag0\"))].sort_index()\n",
    ")"
   ],
   "id": "fig-reg-details-occ",
   "execution_count": null,
   "outputs": []
  },
  {
   "cell_type": "markdown",
   "metadata": {},
   "source": [
    "\\endgroup"
   ],
   "id": "b7910225"
  }
 ],
 "metadata": {
  "kernelspec": {
   "name": "python3",
   "language": "python",
   "display_name": "Python 3 (ipykernel)"
  }
 },
 "nbformat": 4,
 "nbformat_minor": 5
}
